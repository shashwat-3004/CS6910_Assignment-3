{
  "nbformat": 4,
  "nbformat_minor": 0,
  "metadata": {
    "colab": {
      "provenance": []
    },
    "kernelspec": {
      "name": "python3",
      "display_name": "Python 3"
    },
    "language_info": {
      "name": "python"
    },
    "accelerator": "GPU",
    "gpuClass": "standard",
    "widgets": {
      "application/vnd.jupyter.widget-state+json": {
        "47b763c65ea948029b17023f447b7a1d": {
          "model_module": "@jupyter-widgets/controls",
          "model_name": "VBoxModel",
          "model_module_version": "1.5.0",
          "state": {
            "_dom_classes": [],
            "_model_module": "@jupyter-widgets/controls",
            "_model_module_version": "1.5.0",
            "_model_name": "VBoxModel",
            "_view_count": null,
            "_view_module": "@jupyter-widgets/controls",
            "_view_module_version": "1.5.0",
            "_view_name": "VBoxView",
            "box_style": "",
            "children": [
              "IPY_MODEL_2f72cab6ad4346bf8224bf42ee90849e",
              "IPY_MODEL_d88a4fa18b9144f28479ac1bd099bc8b"
            ],
            "layout": "IPY_MODEL_f5818868145e43258b027534cf6fb3e3"
          }
        },
        "2f72cab6ad4346bf8224bf42ee90849e": {
          "model_module": "@jupyter-widgets/controls",
          "model_name": "LabelModel",
          "model_module_version": "1.5.0",
          "state": {
            "_dom_classes": [],
            "_model_module": "@jupyter-widgets/controls",
            "_model_module_version": "1.5.0",
            "_model_name": "LabelModel",
            "_view_count": null,
            "_view_module": "@jupyter-widgets/controls",
            "_view_module_version": "1.5.0",
            "_view_name": "LabelView",
            "description": "",
            "description_tooltip": null,
            "layout": "IPY_MODEL_4af37bc2359441f086f2507b17de3932",
            "placeholder": "​",
            "style": "IPY_MODEL_20faeeb0b9e940bb9c61786bd592c9ec",
            "value": "0.001 MB of 0.003 MB uploaded (0.000 MB deduped)\r"
          }
        },
        "d88a4fa18b9144f28479ac1bd099bc8b": {
          "model_module": "@jupyter-widgets/controls",
          "model_name": "FloatProgressModel",
          "model_module_version": "1.5.0",
          "state": {
            "_dom_classes": [],
            "_model_module": "@jupyter-widgets/controls",
            "_model_module_version": "1.5.0",
            "_model_name": "FloatProgressModel",
            "_view_count": null,
            "_view_module": "@jupyter-widgets/controls",
            "_view_module_version": "1.5.0",
            "_view_name": "ProgressView",
            "bar_style": "",
            "description": "",
            "description_tooltip": null,
            "layout": "IPY_MODEL_9e9b163ed4e04a7fa9cdedf5c10f2d28",
            "max": 1,
            "min": 0,
            "orientation": "horizontal",
            "style": "IPY_MODEL_a7223bd4b826422e9bff59ebb2c01c70",
            "value": 0.4052173913043478
          }
        },
        "f5818868145e43258b027534cf6fb3e3": {
          "model_module": "@jupyter-widgets/base",
          "model_name": "LayoutModel",
          "model_module_version": "1.2.0",
          "state": {
            "_model_module": "@jupyter-widgets/base",
            "_model_module_version": "1.2.0",
            "_model_name": "LayoutModel",
            "_view_count": null,
            "_view_module": "@jupyter-widgets/base",
            "_view_module_version": "1.2.0",
            "_view_name": "LayoutView",
            "align_content": null,
            "align_items": null,
            "align_self": null,
            "border": null,
            "bottom": null,
            "display": null,
            "flex": null,
            "flex_flow": null,
            "grid_area": null,
            "grid_auto_columns": null,
            "grid_auto_flow": null,
            "grid_auto_rows": null,
            "grid_column": null,
            "grid_gap": null,
            "grid_row": null,
            "grid_template_areas": null,
            "grid_template_columns": null,
            "grid_template_rows": null,
            "height": null,
            "justify_content": null,
            "justify_items": null,
            "left": null,
            "margin": null,
            "max_height": null,
            "max_width": null,
            "min_height": null,
            "min_width": null,
            "object_fit": null,
            "object_position": null,
            "order": null,
            "overflow": null,
            "overflow_x": null,
            "overflow_y": null,
            "padding": null,
            "right": null,
            "top": null,
            "visibility": null,
            "width": null
          }
        },
        "4af37bc2359441f086f2507b17de3932": {
          "model_module": "@jupyter-widgets/base",
          "model_name": "LayoutModel",
          "model_module_version": "1.2.0",
          "state": {
            "_model_module": "@jupyter-widgets/base",
            "_model_module_version": "1.2.0",
            "_model_name": "LayoutModel",
            "_view_count": null,
            "_view_module": "@jupyter-widgets/base",
            "_view_module_version": "1.2.0",
            "_view_name": "LayoutView",
            "align_content": null,
            "align_items": null,
            "align_self": null,
            "border": null,
            "bottom": null,
            "display": null,
            "flex": null,
            "flex_flow": null,
            "grid_area": null,
            "grid_auto_columns": null,
            "grid_auto_flow": null,
            "grid_auto_rows": null,
            "grid_column": null,
            "grid_gap": null,
            "grid_row": null,
            "grid_template_areas": null,
            "grid_template_columns": null,
            "grid_template_rows": null,
            "height": null,
            "justify_content": null,
            "justify_items": null,
            "left": null,
            "margin": null,
            "max_height": null,
            "max_width": null,
            "min_height": null,
            "min_width": null,
            "object_fit": null,
            "object_position": null,
            "order": null,
            "overflow": null,
            "overflow_x": null,
            "overflow_y": null,
            "padding": null,
            "right": null,
            "top": null,
            "visibility": null,
            "width": null
          }
        },
        "20faeeb0b9e940bb9c61786bd592c9ec": {
          "model_module": "@jupyter-widgets/controls",
          "model_name": "DescriptionStyleModel",
          "model_module_version": "1.5.0",
          "state": {
            "_model_module": "@jupyter-widgets/controls",
            "_model_module_version": "1.5.0",
            "_model_name": "DescriptionStyleModel",
            "_view_count": null,
            "_view_module": "@jupyter-widgets/base",
            "_view_module_version": "1.2.0",
            "_view_name": "StyleView",
            "description_width": ""
          }
        },
        "9e9b163ed4e04a7fa9cdedf5c10f2d28": {
          "model_module": "@jupyter-widgets/base",
          "model_name": "LayoutModel",
          "model_module_version": "1.2.0",
          "state": {
            "_model_module": "@jupyter-widgets/base",
            "_model_module_version": "1.2.0",
            "_model_name": "LayoutModel",
            "_view_count": null,
            "_view_module": "@jupyter-widgets/base",
            "_view_module_version": "1.2.0",
            "_view_name": "LayoutView",
            "align_content": null,
            "align_items": null,
            "align_self": null,
            "border": null,
            "bottom": null,
            "display": null,
            "flex": null,
            "flex_flow": null,
            "grid_area": null,
            "grid_auto_columns": null,
            "grid_auto_flow": null,
            "grid_auto_rows": null,
            "grid_column": null,
            "grid_gap": null,
            "grid_row": null,
            "grid_template_areas": null,
            "grid_template_columns": null,
            "grid_template_rows": null,
            "height": null,
            "justify_content": null,
            "justify_items": null,
            "left": null,
            "margin": null,
            "max_height": null,
            "max_width": null,
            "min_height": null,
            "min_width": null,
            "object_fit": null,
            "object_position": null,
            "order": null,
            "overflow": null,
            "overflow_x": null,
            "overflow_y": null,
            "padding": null,
            "right": null,
            "top": null,
            "visibility": null,
            "width": null
          }
        },
        "a7223bd4b826422e9bff59ebb2c01c70": {
          "model_module": "@jupyter-widgets/controls",
          "model_name": "ProgressStyleModel",
          "model_module_version": "1.5.0",
          "state": {
            "_model_module": "@jupyter-widgets/controls",
            "_model_module_version": "1.5.0",
            "_model_name": "ProgressStyleModel",
            "_view_count": null,
            "_view_module": "@jupyter-widgets/base",
            "_view_module_version": "1.2.0",
            "_view_name": "StyleView",
            "bar_color": null,
            "description_width": ""
          }
        },
        "6b6104ebb4b64dfe8639b5529eb5ec3a": {
          "model_module": "@jupyter-widgets/controls",
          "model_name": "VBoxModel",
          "model_module_version": "1.5.0",
          "state": {
            "_dom_classes": [],
            "_model_module": "@jupyter-widgets/controls",
            "_model_module_version": "1.5.0",
            "_model_name": "VBoxModel",
            "_view_count": null,
            "_view_module": "@jupyter-widgets/controls",
            "_view_module_version": "1.5.0",
            "_view_name": "VBoxView",
            "box_style": "",
            "children": [
              "IPY_MODEL_828347b5caeb4b0185635029fc749bd2",
              "IPY_MODEL_a9c7d4770d014105b6824fd45fb96e4a"
            ],
            "layout": "IPY_MODEL_337bfa730ccb473e82259d714dc13c82"
          }
        },
        "828347b5caeb4b0185635029fc749bd2": {
          "model_module": "@jupyter-widgets/controls",
          "model_name": "LabelModel",
          "model_module_version": "1.5.0",
          "state": {
            "_dom_classes": [],
            "_model_module": "@jupyter-widgets/controls",
            "_model_module_version": "1.5.0",
            "_model_name": "LabelModel",
            "_view_count": null,
            "_view_module": "@jupyter-widgets/controls",
            "_view_module_version": "1.5.0",
            "_view_name": "LabelView",
            "description": "",
            "description_tooltip": null,
            "layout": "IPY_MODEL_971d4b2862a441e4b8c46c692048361a",
            "placeholder": "​",
            "style": "IPY_MODEL_47103cb37e5042328f9610a0d8421c9c",
            "value": "Waiting for wandb.init()...\r"
          }
        },
        "a9c7d4770d014105b6824fd45fb96e4a": {
          "model_module": "@jupyter-widgets/controls",
          "model_name": "FloatProgressModel",
          "model_module_version": "1.5.0",
          "state": {
            "_dom_classes": [],
            "_model_module": "@jupyter-widgets/controls",
            "_model_module_version": "1.5.0",
            "_model_name": "FloatProgressModel",
            "_view_count": null,
            "_view_module": "@jupyter-widgets/controls",
            "_view_module_version": "1.5.0",
            "_view_name": "ProgressView",
            "bar_style": "",
            "description": "",
            "description_tooltip": null,
            "layout": "IPY_MODEL_0f9322f08f9045fb9625c3a597d27eea",
            "max": 1,
            "min": 0,
            "orientation": "horizontal",
            "style": "IPY_MODEL_83d94b40ce704f038c337b17e4e1578c",
            "value": 1
          }
        },
        "337bfa730ccb473e82259d714dc13c82": {
          "model_module": "@jupyter-widgets/base",
          "model_name": "LayoutModel",
          "model_module_version": "1.2.0",
          "state": {
            "_model_module": "@jupyter-widgets/base",
            "_model_module_version": "1.2.0",
            "_model_name": "LayoutModel",
            "_view_count": null,
            "_view_module": "@jupyter-widgets/base",
            "_view_module_version": "1.2.0",
            "_view_name": "LayoutView",
            "align_content": null,
            "align_items": null,
            "align_self": null,
            "border": null,
            "bottom": null,
            "display": null,
            "flex": null,
            "flex_flow": null,
            "grid_area": null,
            "grid_auto_columns": null,
            "grid_auto_flow": null,
            "grid_auto_rows": null,
            "grid_column": null,
            "grid_gap": null,
            "grid_row": null,
            "grid_template_areas": null,
            "grid_template_columns": null,
            "grid_template_rows": null,
            "height": null,
            "justify_content": null,
            "justify_items": null,
            "left": null,
            "margin": null,
            "max_height": null,
            "max_width": null,
            "min_height": null,
            "min_width": null,
            "object_fit": null,
            "object_position": null,
            "order": null,
            "overflow": null,
            "overflow_x": null,
            "overflow_y": null,
            "padding": null,
            "right": null,
            "top": null,
            "visibility": null,
            "width": null
          }
        },
        "971d4b2862a441e4b8c46c692048361a": {
          "model_module": "@jupyter-widgets/base",
          "model_name": "LayoutModel",
          "model_module_version": "1.2.0",
          "state": {
            "_model_module": "@jupyter-widgets/base",
            "_model_module_version": "1.2.0",
            "_model_name": "LayoutModel",
            "_view_count": null,
            "_view_module": "@jupyter-widgets/base",
            "_view_module_version": "1.2.0",
            "_view_name": "LayoutView",
            "align_content": null,
            "align_items": null,
            "align_self": null,
            "border": null,
            "bottom": null,
            "display": null,
            "flex": null,
            "flex_flow": null,
            "grid_area": null,
            "grid_auto_columns": null,
            "grid_auto_flow": null,
            "grid_auto_rows": null,
            "grid_column": null,
            "grid_gap": null,
            "grid_row": null,
            "grid_template_areas": null,
            "grid_template_columns": null,
            "grid_template_rows": null,
            "height": null,
            "justify_content": null,
            "justify_items": null,
            "left": null,
            "margin": null,
            "max_height": null,
            "max_width": null,
            "min_height": null,
            "min_width": null,
            "object_fit": null,
            "object_position": null,
            "order": null,
            "overflow": null,
            "overflow_x": null,
            "overflow_y": null,
            "padding": null,
            "right": null,
            "top": null,
            "visibility": null,
            "width": null
          }
        },
        "47103cb37e5042328f9610a0d8421c9c": {
          "model_module": "@jupyter-widgets/controls",
          "model_name": "DescriptionStyleModel",
          "model_module_version": "1.5.0",
          "state": {
            "_model_module": "@jupyter-widgets/controls",
            "_model_module_version": "1.5.0",
            "_model_name": "DescriptionStyleModel",
            "_view_count": null,
            "_view_module": "@jupyter-widgets/base",
            "_view_module_version": "1.2.0",
            "_view_name": "StyleView",
            "description_width": ""
          }
        },
        "0f9322f08f9045fb9625c3a597d27eea": {
          "model_module": "@jupyter-widgets/base",
          "model_name": "LayoutModel",
          "model_module_version": "1.2.0",
          "state": {
            "_model_module": "@jupyter-widgets/base",
            "_model_module_version": "1.2.0",
            "_model_name": "LayoutModel",
            "_view_count": null,
            "_view_module": "@jupyter-widgets/base",
            "_view_module_version": "1.2.0",
            "_view_name": "LayoutView",
            "align_content": null,
            "align_items": null,
            "align_self": null,
            "border": null,
            "bottom": null,
            "display": null,
            "flex": null,
            "flex_flow": null,
            "grid_area": null,
            "grid_auto_columns": null,
            "grid_auto_flow": null,
            "grid_auto_rows": null,
            "grid_column": null,
            "grid_gap": null,
            "grid_row": null,
            "grid_template_areas": null,
            "grid_template_columns": null,
            "grid_template_rows": null,
            "height": null,
            "justify_content": null,
            "justify_items": null,
            "left": null,
            "margin": null,
            "max_height": null,
            "max_width": null,
            "min_height": null,
            "min_width": null,
            "object_fit": null,
            "object_position": null,
            "order": null,
            "overflow": null,
            "overflow_x": null,
            "overflow_y": null,
            "padding": null,
            "right": null,
            "top": null,
            "visibility": null,
            "width": null
          }
        },
        "83d94b40ce704f038c337b17e4e1578c": {
          "model_module": "@jupyter-widgets/controls",
          "model_name": "ProgressStyleModel",
          "model_module_version": "1.5.0",
          "state": {
            "_model_module": "@jupyter-widgets/controls",
            "_model_module_version": "1.5.0",
            "_model_name": "ProgressStyleModel",
            "_view_count": null,
            "_view_module": "@jupyter-widgets/base",
            "_view_module_version": "1.2.0",
            "_view_name": "StyleView",
            "bar_color": null,
            "description_width": ""
          }
        },
        "0b2698d64eda4049af7b56b79db01afa": {
          "model_module": "@jupyter-widgets/controls",
          "model_name": "VBoxModel",
          "model_module_version": "1.5.0",
          "state": {
            "_dom_classes": [],
            "_model_module": "@jupyter-widgets/controls",
            "_model_module_version": "1.5.0",
            "_model_name": "VBoxModel",
            "_view_count": null,
            "_view_module": "@jupyter-widgets/controls",
            "_view_module_version": "1.5.0",
            "_view_name": "VBoxView",
            "box_style": "",
            "children": [
              "IPY_MODEL_6d6062222d6c4db59a3660f5c002e5f3",
              "IPY_MODEL_4d2afacc28754904888e3a1094bb868a"
            ],
            "layout": "IPY_MODEL_d3bf113d9fca41ce96741237dc078e4c"
          }
        },
        "6d6062222d6c4db59a3660f5c002e5f3": {
          "model_module": "@jupyter-widgets/controls",
          "model_name": "LabelModel",
          "model_module_version": "1.5.0",
          "state": {
            "_dom_classes": [],
            "_model_module": "@jupyter-widgets/controls",
            "_model_module_version": "1.5.0",
            "_model_name": "LabelModel",
            "_view_count": null,
            "_view_module": "@jupyter-widgets/controls",
            "_view_module_version": "1.5.0",
            "_view_name": "LabelView",
            "description": "",
            "description_tooltip": null,
            "layout": "IPY_MODEL_8b99f95983ad4908b942ca8dcfd7ab35",
            "placeholder": "​",
            "style": "IPY_MODEL_9f3e8bb2ce5c4d3c93420b130db7289a",
            "value": "0.001 MB of 0.010 MB uploaded (0.000 MB deduped)\r"
          }
        },
        "4d2afacc28754904888e3a1094bb868a": {
          "model_module": "@jupyter-widgets/controls",
          "model_name": "FloatProgressModel",
          "model_module_version": "1.5.0",
          "state": {
            "_dom_classes": [],
            "_model_module": "@jupyter-widgets/controls",
            "_model_module_version": "1.5.0",
            "_model_name": "FloatProgressModel",
            "_view_count": null,
            "_view_module": "@jupyter-widgets/controls",
            "_view_module_version": "1.5.0",
            "_view_name": "ProgressView",
            "bar_style": "",
            "description": "",
            "description_tooltip": null,
            "layout": "IPY_MODEL_2261163626ae4bc387c6bf16f50647a3",
            "max": 1,
            "min": 0,
            "orientation": "horizontal",
            "style": "IPY_MODEL_0551a21a5a6c4f2fa13435f9d0b9a5ce",
            "value": 0.11115355233002291
          }
        },
        "d3bf113d9fca41ce96741237dc078e4c": {
          "model_module": "@jupyter-widgets/base",
          "model_name": "LayoutModel",
          "model_module_version": "1.2.0",
          "state": {
            "_model_module": "@jupyter-widgets/base",
            "_model_module_version": "1.2.0",
            "_model_name": "LayoutModel",
            "_view_count": null,
            "_view_module": "@jupyter-widgets/base",
            "_view_module_version": "1.2.0",
            "_view_name": "LayoutView",
            "align_content": null,
            "align_items": null,
            "align_self": null,
            "border": null,
            "bottom": null,
            "display": null,
            "flex": null,
            "flex_flow": null,
            "grid_area": null,
            "grid_auto_columns": null,
            "grid_auto_flow": null,
            "grid_auto_rows": null,
            "grid_column": null,
            "grid_gap": null,
            "grid_row": null,
            "grid_template_areas": null,
            "grid_template_columns": null,
            "grid_template_rows": null,
            "height": null,
            "justify_content": null,
            "justify_items": null,
            "left": null,
            "margin": null,
            "max_height": null,
            "max_width": null,
            "min_height": null,
            "min_width": null,
            "object_fit": null,
            "object_position": null,
            "order": null,
            "overflow": null,
            "overflow_x": null,
            "overflow_y": null,
            "padding": null,
            "right": null,
            "top": null,
            "visibility": null,
            "width": null
          }
        },
        "8b99f95983ad4908b942ca8dcfd7ab35": {
          "model_module": "@jupyter-widgets/base",
          "model_name": "LayoutModel",
          "model_module_version": "1.2.0",
          "state": {
            "_model_module": "@jupyter-widgets/base",
            "_model_module_version": "1.2.0",
            "_model_name": "LayoutModel",
            "_view_count": null,
            "_view_module": "@jupyter-widgets/base",
            "_view_module_version": "1.2.0",
            "_view_name": "LayoutView",
            "align_content": null,
            "align_items": null,
            "align_self": null,
            "border": null,
            "bottom": null,
            "display": null,
            "flex": null,
            "flex_flow": null,
            "grid_area": null,
            "grid_auto_columns": null,
            "grid_auto_flow": null,
            "grid_auto_rows": null,
            "grid_column": null,
            "grid_gap": null,
            "grid_row": null,
            "grid_template_areas": null,
            "grid_template_columns": null,
            "grid_template_rows": null,
            "height": null,
            "justify_content": null,
            "justify_items": null,
            "left": null,
            "margin": null,
            "max_height": null,
            "max_width": null,
            "min_height": null,
            "min_width": null,
            "object_fit": null,
            "object_position": null,
            "order": null,
            "overflow": null,
            "overflow_x": null,
            "overflow_y": null,
            "padding": null,
            "right": null,
            "top": null,
            "visibility": null,
            "width": null
          }
        },
        "9f3e8bb2ce5c4d3c93420b130db7289a": {
          "model_module": "@jupyter-widgets/controls",
          "model_name": "DescriptionStyleModel",
          "model_module_version": "1.5.0",
          "state": {
            "_model_module": "@jupyter-widgets/controls",
            "_model_module_version": "1.5.0",
            "_model_name": "DescriptionStyleModel",
            "_view_count": null,
            "_view_module": "@jupyter-widgets/base",
            "_view_module_version": "1.2.0",
            "_view_name": "StyleView",
            "description_width": ""
          }
        },
        "2261163626ae4bc387c6bf16f50647a3": {
          "model_module": "@jupyter-widgets/base",
          "model_name": "LayoutModel",
          "model_module_version": "1.2.0",
          "state": {
            "_model_module": "@jupyter-widgets/base",
            "_model_module_version": "1.2.0",
            "_model_name": "LayoutModel",
            "_view_count": null,
            "_view_module": "@jupyter-widgets/base",
            "_view_module_version": "1.2.0",
            "_view_name": "LayoutView",
            "align_content": null,
            "align_items": null,
            "align_self": null,
            "border": null,
            "bottom": null,
            "display": null,
            "flex": null,
            "flex_flow": null,
            "grid_area": null,
            "grid_auto_columns": null,
            "grid_auto_flow": null,
            "grid_auto_rows": null,
            "grid_column": null,
            "grid_gap": null,
            "grid_row": null,
            "grid_template_areas": null,
            "grid_template_columns": null,
            "grid_template_rows": null,
            "height": null,
            "justify_content": null,
            "justify_items": null,
            "left": null,
            "margin": null,
            "max_height": null,
            "max_width": null,
            "min_height": null,
            "min_width": null,
            "object_fit": null,
            "object_position": null,
            "order": null,
            "overflow": null,
            "overflow_x": null,
            "overflow_y": null,
            "padding": null,
            "right": null,
            "top": null,
            "visibility": null,
            "width": null
          }
        },
        "0551a21a5a6c4f2fa13435f9d0b9a5ce": {
          "model_module": "@jupyter-widgets/controls",
          "model_name": "ProgressStyleModel",
          "model_module_version": "1.5.0",
          "state": {
            "_model_module": "@jupyter-widgets/controls",
            "_model_module_version": "1.5.0",
            "_model_name": "ProgressStyleModel",
            "_view_count": null,
            "_view_module": "@jupyter-widgets/base",
            "_view_module_version": "1.2.0",
            "_view_name": "StyleView",
            "bar_color": null,
            "description_width": ""
          }
        },
        "1b318471cd534f1c9af0a8ed57a1a008": {
          "model_module": "@jupyter-widgets/controls",
          "model_name": "VBoxModel",
          "model_module_version": "1.5.0",
          "state": {
            "_dom_classes": [],
            "_model_module": "@jupyter-widgets/controls",
            "_model_module_version": "1.5.0",
            "_model_name": "VBoxModel",
            "_view_count": null,
            "_view_module": "@jupyter-widgets/controls",
            "_view_module_version": "1.5.0",
            "_view_name": "VBoxView",
            "box_style": "",
            "children": [
              "IPY_MODEL_465a7f7a89a54b76942e932595f85150",
              "IPY_MODEL_4cde28dd620c435dab0c310b5f618b03"
            ],
            "layout": "IPY_MODEL_af641836e9fb4d248d2814ed818e4c00"
          }
        },
        "465a7f7a89a54b76942e932595f85150": {
          "model_module": "@jupyter-widgets/controls",
          "model_name": "LabelModel",
          "model_module_version": "1.5.0",
          "state": {
            "_dom_classes": [],
            "_model_module": "@jupyter-widgets/controls",
            "_model_module_version": "1.5.0",
            "_model_name": "LabelModel",
            "_view_count": null,
            "_view_module": "@jupyter-widgets/controls",
            "_view_module_version": "1.5.0",
            "_view_name": "LabelView",
            "description": "",
            "description_tooltip": null,
            "layout": "IPY_MODEL_5549c49256154d8dafc9812856d4f2cd",
            "placeholder": "​",
            "style": "IPY_MODEL_9e1618756d104f79b3cf874628e7670b",
            "value": "0.001 MB of 0.001 MB uploaded (0.000 MB deduped)\r"
          }
        },
        "4cde28dd620c435dab0c310b5f618b03": {
          "model_module": "@jupyter-widgets/controls",
          "model_name": "FloatProgressModel",
          "model_module_version": "1.5.0",
          "state": {
            "_dom_classes": [],
            "_model_module": "@jupyter-widgets/controls",
            "_model_module_version": "1.5.0",
            "_model_name": "FloatProgressModel",
            "_view_count": null,
            "_view_module": "@jupyter-widgets/controls",
            "_view_module_version": "1.5.0",
            "_view_name": "ProgressView",
            "bar_style": "",
            "description": "",
            "description_tooltip": null,
            "layout": "IPY_MODEL_72f3a2bf436b4b879aeb19295c3c5def",
            "max": 1,
            "min": 0,
            "orientation": "horizontal",
            "style": "IPY_MODEL_73f45c7e881a4db68b1831955ef63b76",
            "value": 1
          }
        },
        "af641836e9fb4d248d2814ed818e4c00": {
          "model_module": "@jupyter-widgets/base",
          "model_name": "LayoutModel",
          "model_module_version": "1.2.0",
          "state": {
            "_model_module": "@jupyter-widgets/base",
            "_model_module_version": "1.2.0",
            "_model_name": "LayoutModel",
            "_view_count": null,
            "_view_module": "@jupyter-widgets/base",
            "_view_module_version": "1.2.0",
            "_view_name": "LayoutView",
            "align_content": null,
            "align_items": null,
            "align_self": null,
            "border": null,
            "bottom": null,
            "display": null,
            "flex": null,
            "flex_flow": null,
            "grid_area": null,
            "grid_auto_columns": null,
            "grid_auto_flow": null,
            "grid_auto_rows": null,
            "grid_column": null,
            "grid_gap": null,
            "grid_row": null,
            "grid_template_areas": null,
            "grid_template_columns": null,
            "grid_template_rows": null,
            "height": null,
            "justify_content": null,
            "justify_items": null,
            "left": null,
            "margin": null,
            "max_height": null,
            "max_width": null,
            "min_height": null,
            "min_width": null,
            "object_fit": null,
            "object_position": null,
            "order": null,
            "overflow": null,
            "overflow_x": null,
            "overflow_y": null,
            "padding": null,
            "right": null,
            "top": null,
            "visibility": null,
            "width": null
          }
        },
        "5549c49256154d8dafc9812856d4f2cd": {
          "model_module": "@jupyter-widgets/base",
          "model_name": "LayoutModel",
          "model_module_version": "1.2.0",
          "state": {
            "_model_module": "@jupyter-widgets/base",
            "_model_module_version": "1.2.0",
            "_model_name": "LayoutModel",
            "_view_count": null,
            "_view_module": "@jupyter-widgets/base",
            "_view_module_version": "1.2.0",
            "_view_name": "LayoutView",
            "align_content": null,
            "align_items": null,
            "align_self": null,
            "border": null,
            "bottom": null,
            "display": null,
            "flex": null,
            "flex_flow": null,
            "grid_area": null,
            "grid_auto_columns": null,
            "grid_auto_flow": null,
            "grid_auto_rows": null,
            "grid_column": null,
            "grid_gap": null,
            "grid_row": null,
            "grid_template_areas": null,
            "grid_template_columns": null,
            "grid_template_rows": null,
            "height": null,
            "justify_content": null,
            "justify_items": null,
            "left": null,
            "margin": null,
            "max_height": null,
            "max_width": null,
            "min_height": null,
            "min_width": null,
            "object_fit": null,
            "object_position": null,
            "order": null,
            "overflow": null,
            "overflow_x": null,
            "overflow_y": null,
            "padding": null,
            "right": null,
            "top": null,
            "visibility": null,
            "width": null
          }
        },
        "9e1618756d104f79b3cf874628e7670b": {
          "model_module": "@jupyter-widgets/controls",
          "model_name": "DescriptionStyleModel",
          "model_module_version": "1.5.0",
          "state": {
            "_model_module": "@jupyter-widgets/controls",
            "_model_module_version": "1.5.0",
            "_model_name": "DescriptionStyleModel",
            "_view_count": null,
            "_view_module": "@jupyter-widgets/base",
            "_view_module_version": "1.2.0",
            "_view_name": "StyleView",
            "description_width": ""
          }
        },
        "72f3a2bf436b4b879aeb19295c3c5def": {
          "model_module": "@jupyter-widgets/base",
          "model_name": "LayoutModel",
          "model_module_version": "1.2.0",
          "state": {
            "_model_module": "@jupyter-widgets/base",
            "_model_module_version": "1.2.0",
            "_model_name": "LayoutModel",
            "_view_count": null,
            "_view_module": "@jupyter-widgets/base",
            "_view_module_version": "1.2.0",
            "_view_name": "LayoutView",
            "align_content": null,
            "align_items": null,
            "align_self": null,
            "border": null,
            "bottom": null,
            "display": null,
            "flex": null,
            "flex_flow": null,
            "grid_area": null,
            "grid_auto_columns": null,
            "grid_auto_flow": null,
            "grid_auto_rows": null,
            "grid_column": null,
            "grid_gap": null,
            "grid_row": null,
            "grid_template_areas": null,
            "grid_template_columns": null,
            "grid_template_rows": null,
            "height": null,
            "justify_content": null,
            "justify_items": null,
            "left": null,
            "margin": null,
            "max_height": null,
            "max_width": null,
            "min_height": null,
            "min_width": null,
            "object_fit": null,
            "object_position": null,
            "order": null,
            "overflow": null,
            "overflow_x": null,
            "overflow_y": null,
            "padding": null,
            "right": null,
            "top": null,
            "visibility": null,
            "width": null
          }
        },
        "73f45c7e881a4db68b1831955ef63b76": {
          "model_module": "@jupyter-widgets/controls",
          "model_name": "ProgressStyleModel",
          "model_module_version": "1.5.0",
          "state": {
            "_model_module": "@jupyter-widgets/controls",
            "_model_module_version": "1.5.0",
            "_model_name": "ProgressStyleModel",
            "_view_count": null,
            "_view_module": "@jupyter-widgets/base",
            "_view_module_version": "1.2.0",
            "_view_name": "StyleView",
            "bar_color": null,
            "description_width": ""
          }
        }
      }
    }
  },
  "cells": [
    {
      "cell_type": "code",
      "source": [
        "!pip install wandb"
      ],
      "metadata": {
        "colab": {
          "base_uri": "https://localhost:8080/"
        },
        "id": "Bo4kCU8HrwLK",
        "outputId": "acae2668-bd38-4bf4-f60a-d11a090e2c98"
      },
      "execution_count": null,
      "outputs": [
        {
          "output_type": "stream",
          "name": "stdout",
          "text": [
            "Looking in indexes: https://pypi.org/simple, https://us-python.pkg.dev/colab-wheels/public/simple/\n",
            "Collecting wandb\n",
            "  Downloading wandb-0.15.1-py3-none-any.whl (2.0 MB)\n",
            "\u001b[2K     \u001b[90m━━━━━━━━━━━━━━━━━━━━━━━━━━━━━━━━━━━━━━━━\u001b[0m \u001b[32m2.0/2.0 MB\u001b[0m \u001b[31m25.0 MB/s\u001b[0m eta \u001b[36m0:00:00\u001b[0m\n",
            "\u001b[?25hCollecting pathtools\n",
            "  Downloading pathtools-0.1.2.tar.gz (11 kB)\n",
            "  Preparing metadata (setup.py) ... \u001b[?25l\u001b[?25hdone\n",
            "Requirement already satisfied: psutil>=5.0.0 in /usr/local/lib/python3.10/dist-packages (from wandb) (5.9.5)\n",
            "Requirement already satisfied: setuptools in /usr/local/lib/python3.10/dist-packages (from wandb) (67.7.2)\n",
            "Requirement already satisfied: protobuf!=4.21.0,<5,>=3.19.0 in /usr/local/lib/python3.10/dist-packages (from wandb) (3.20.3)\n",
            "Requirement already satisfied: requests<3,>=2.0.0 in /usr/local/lib/python3.10/dist-packages (from wandb) (2.27.1)\n",
            "Requirement already satisfied: Click!=8.0.0,>=7.0 in /usr/local/lib/python3.10/dist-packages (from wandb) (8.1.3)\n",
            "Collecting docker-pycreds>=0.4.0\n",
            "  Downloading docker_pycreds-0.4.0-py2.py3-none-any.whl (9.0 kB)\n",
            "Collecting setproctitle\n",
            "  Downloading setproctitle-1.3.2-cp310-cp310-manylinux_2_5_x86_64.manylinux1_x86_64.manylinux_2_17_x86_64.manylinux2014_x86_64.whl (30 kB)\n",
            "Requirement already satisfied: appdirs>=1.4.3 in /usr/local/lib/python3.10/dist-packages (from wandb) (1.4.4)\n",
            "Collecting GitPython!=3.1.29,>=1.0.0\n",
            "  Downloading GitPython-3.1.31-py3-none-any.whl (184 kB)\n",
            "\u001b[2K     \u001b[90m━━━━━━━━━━━━━━━━━━━━━━━━━━━━━━━━━━━━━━\u001b[0m \u001b[32m184.3/184.3 kB\u001b[0m \u001b[31m10.7 MB/s\u001b[0m eta \u001b[36m0:00:00\u001b[0m\n",
            "\u001b[?25hCollecting sentry-sdk>=1.0.0\n",
            "  Downloading sentry_sdk-1.21.1-py2.py3-none-any.whl (201 kB)\n",
            "\u001b[2K     \u001b[90m━━━━━━━━━━━━━━━━━━━━━━━━━━━━━━━━━━━━━━\u001b[0m \u001b[32m201.7/201.7 kB\u001b[0m \u001b[31m16.4 MB/s\u001b[0m eta \u001b[36m0:00:00\u001b[0m\n",
            "\u001b[?25hRequirement already satisfied: PyYAML in /usr/local/lib/python3.10/dist-packages (from wandb) (6.0)\n",
            "Requirement already satisfied: six>=1.4.0 in /usr/local/lib/python3.10/dist-packages (from docker-pycreds>=0.4.0->wandb) (1.16.0)\n",
            "Collecting gitdb<5,>=4.0.1\n",
            "  Downloading gitdb-4.0.10-py3-none-any.whl (62 kB)\n",
            "\u001b[2K     \u001b[90m━━━━━━━━━━━━━━━━━━━━━━━━━━━━━━━━━━━━━━━━\u001b[0m \u001b[32m62.7/62.7 kB\u001b[0m \u001b[31m5.8 MB/s\u001b[0m eta \u001b[36m0:00:00\u001b[0m\n",
            "\u001b[?25hRequirement already satisfied: idna<4,>=2.5 in /usr/local/lib/python3.10/dist-packages (from requests<3,>=2.0.0->wandb) (3.4)\n",
            "Requirement already satisfied: urllib3<1.27,>=1.21.1 in /usr/local/lib/python3.10/dist-packages (from requests<3,>=2.0.0->wandb) (1.26.15)\n",
            "Requirement already satisfied: certifi>=2017.4.17 in /usr/local/lib/python3.10/dist-packages (from requests<3,>=2.0.0->wandb) (2022.12.7)\n",
            "Requirement already satisfied: charset-normalizer~=2.0.0 in /usr/local/lib/python3.10/dist-packages (from requests<3,>=2.0.0->wandb) (2.0.12)\n",
            "Collecting smmap<6,>=3.0.1\n",
            "  Downloading smmap-5.0.0-py3-none-any.whl (24 kB)\n",
            "Building wheels for collected packages: pathtools\n",
            "  Building wheel for pathtools (setup.py) ... \u001b[?25l\u001b[?25hdone\n",
            "  Created wheel for pathtools: filename=pathtools-0.1.2-py3-none-any.whl size=8807 sha256=4c0f05300f5313ce02d33a1311f52a8ac6fb13d443c4ccf875892e4a3d6d1c3a\n",
            "  Stored in directory: /root/.cache/pip/wheels/e7/f3/22/152153d6eb222ee7a56ff8617d80ee5207207a8c00a7aab794\n",
            "Successfully built pathtools\n",
            "Installing collected packages: pathtools, smmap, setproctitle, sentry-sdk, docker-pycreds, gitdb, GitPython, wandb\n",
            "Successfully installed GitPython-3.1.31 docker-pycreds-0.4.0 gitdb-4.0.10 pathtools-0.1.2 sentry-sdk-1.21.1 setproctitle-1.3.2 smmap-5.0.0 wandb-0.15.1\n"
          ]
        }
      ]
    },
    {
      "cell_type": "code",
      "execution_count": null,
      "metadata": {
        "id": "ics3j36iJnkP"
      },
      "outputs": [],
      "source": [
        "import pandas as pd\n",
        "import torchtext\n",
        "import numpy as np\n",
        "import torch\n",
        "import torch.nn as nn\n",
        "import random\n",
        "import torch.optim as optim\n",
        "from torch.utils.data import Dataset, DataLoader\n"
      ]
    },
    {
      "cell_type": "code",
      "source": [
        "from google.colab import drive\n",
        "drive.mount('/content/drive')"
      ],
      "metadata": {
        "id": "e7dutNAPKXGm",
        "colab": {
          "base_uri": "https://localhost:8080/"
        },
        "outputId": "11561cf4-1e7b-407e-b5d9-f3a6005cc3f7"
      },
      "execution_count": null,
      "outputs": [
        {
          "output_type": "stream",
          "name": "stdout",
          "text": [
            "Mounted at /content/drive\n"
          ]
        }
      ]
    },
    {
      "cell_type": "code",
      "source": [
        "zip_path = \"/content/drive/MyDrive/aksharantar_sampled.zip\"\n",
        "!cp \"{zip_path}\" .\n",
        "!unzip -q aksharantar_sampled.zip\n",
        "!rm aksharantar_sampled.zip "
      ],
      "metadata": {
        "id": "zqABTx8UR758"
      },
      "execution_count": null,
      "outputs": []
    },
    {
      "cell_type": "code",
      "source": [
        "def get_data(lang):\n",
        "  train_csv=f\"aksharantar_sampled/{lang}/{lang}_train.csv\"\n",
        "  test_csv=f\"aksharantar_sampled/{lang}/{lang}_test.csv\"\n",
        "  val_csv=f\"aksharantar_sampled/{lang}/{lang}_valid.csv\"\n",
        "  \n",
        "  return train_csv,test_csv,val_csv\n",
        "\n"
      ],
      "metadata": {
        "id": "TBMwatTpRChq"
      },
      "execution_count": null,
      "outputs": []
    },
    {
      "cell_type": "code",
      "source": [
        "train,test,val=get_data(\"hin\")"
      ],
      "metadata": {
        "id": "WQnUvhEvU8lb"
      },
      "execution_count": null,
      "outputs": []
    },
    {
      "cell_type": "code",
      "source": [
        "### For train\n",
        "input_texts = []\n",
        "target_texts = []\n",
        "\n",
        "train_df = pd.read_csv(train, header=None, names=[\"1\", \"2\"]).astype(str)\n",
        "\n",
        "# Add all the input and target texts with start sequence and end sequence added to target \n",
        "for index, row in train_df.iterrows():\n",
        "      input_text = row['1']\n",
        "      target_text = row['2']\n",
        "      if target_text == '' or input_text == '':\n",
        "          continue\n",
        "      target_text = \"\\t\" + target_text + \"\\n\"\n",
        "      input_texts.append(input_text)\n",
        "      target_texts.append(target_text)\n",
        "\n",
        "english_tokens = set()\n",
        "hindi_tokens = set()\n",
        "\n",
        "for x,y in zip(input_texts,target_texts):\n",
        "    for ch in x:\n",
        "        english_tokens.add(ch)\n",
        "    for ch in y:\n",
        "        hindi_tokens.add(ch)\n",
        "    \n",
        "english_tokens = sorted(list(english_tokens))\n",
        "hindi_tokens = sorted(list(hindi_tokens))\n",
        "\n",
        "eng_token_map = dict([(ch,i+1) for i,ch in enumerate(english_tokens)])\n",
        "hin_token_map = dict([(ch,i+1) for i,ch in enumerate(hindi_tokens)])\n",
        "\n",
        "eng_token_map[\"<UNK>\"]=len(english_tokens)+1\n",
        "hin_token_map[\"<UNK>\"]=len(hindi_tokens)+1\n",
        "eng_token_map['<PAD>']=0\n",
        "hin_token_map['<PAD>']=0\n",
        "\n",
        "max_eng_len = max([len(i) for i in input_texts])\n",
        "max_hin_len = max([len(i) for i in target_texts])"
      ],
      "metadata": {
        "id": "JiRzLeNWjgJN"
      },
      "execution_count": null,
      "outputs": []
    },
    {
      "cell_type": "code",
      "source": [
        "def pre_process(data):\n",
        "    \n",
        "    input_texts = []\n",
        "    target_texts = []\n",
        "    \n",
        "    df = pd.read_csv(data, header=None, names=[\"1\", \"2\"]).astype(str)\n",
        "\n",
        "    for index, row in df.iterrows():\n",
        "      input_text = row['1']\n",
        "      target_text = row['2']\n",
        "      if target_text == '' or input_text == '':\n",
        "          continue\n",
        "      target_text = \"\\t\" + target_text + \"\\n\"\n",
        "      input_texts.append(input_text)\n",
        "      target_texts.append(target_text)\n",
        "\n",
        "    \n",
        "    a = np.zeros((len(input_texts),max_eng_len+2),dtype=\"float32\")\n",
        "    b = np.zeros((len(target_texts),max_hin_len+2),dtype=\"float32\")\n",
        "    \n",
        "    \n",
        "    for i,(x,y) in enumerate(zip(input_texts,target_texts)):\n",
        "        for j,ch in enumerate(x):\n",
        "            a[i,j] = eng_token_map.get(ch,eng_token_map[\"<UNK>\"])\n",
        "\n",
        "        for j,ch in enumerate(y):\n",
        "            b[i,j] = hin_token_map.get(ch,hin_token_map[\"<UNK>\"])\n",
        "        \n",
        "      \n",
        "    return a,b"
      ],
      "metadata": {
        "id": "D7R6D14QTeog"
      },
      "execution_count": null,
      "outputs": []
    },
    {
      "cell_type": "code",
      "source": [
        "trainx, trainy= pre_process(train)\n",
        "valx, valy= pre_process(val)\n",
        "testx,testy,= pre_process(test)"
      ],
      "metadata": {
        "id": "BFstJB1r0hDa"
      },
      "execution_count": null,
      "outputs": []
    },
    {
      "cell_type": "code",
      "source": [
        "reverse_eng_map = dict([(i,char) for char,i in eng_token_map.items()])\n",
        "reverse_hin_map = dict([(i,char) for char,i in hin_token_map.items()])"
      ],
      "metadata": {
        "id": "QRLNQFIE-Oao"
      },
      "execution_count": null,
      "outputs": []
    },
    {
      "cell_type": "code",
      "source": [
        "\n",
        "class CustomDataset(Dataset):\n",
        "    def __init__(self, input_data, target_data):\n",
        "        self.input_data = input_data\n",
        "        self.target_data = target_data\n",
        "    \n",
        "\n",
        "    def __len__(self):\n",
        "        return len(self.input_data)\n",
        "\n",
        "    def __getitem__(self, idx):\n",
        "        input_seq = self.input_data[idx]\n",
        "        target_seq = self.target_data[idx]\n",
        "\n",
        "        return input_seq, target_seq\n",
        "\n",
        "def custom_collate(batch):\n",
        "    input_seqs, target_seqs= zip(*batch)\n",
        "    input_seqs = torch.from_numpy(np.stack(input_seqs, axis=1))\n",
        "    target_seqs = torch.from_numpy(np.stack(target_seqs, axis=1))\n",
        "\n",
        "    return input_seqs, target_seqs\n",
        "\n",
        "\n",
        "train_dataset = CustomDataset(trainx, trainy)\n",
        "#train_dataloader = DataLoader(train_dataset, batch_size=8, shuffle=True, collate_fn=custom_collate)\n",
        "\n",
        "val_dataset = CustomDataset(valx, valy)\n",
        "#val_dataloader = DataLoader(val_dataset, batch_size=8, shuffle=False, collate_fn=custom_collate)\n",
        "\n",
        "test_dataset = CustomDataset(testx, testy)\n",
        "test_dataloader = DataLoader(test_dataset, batch_size=8, shuffle=False, collate_fn=custom_collate)\n",
        "\n"
      ],
      "metadata": {
        "id": "1TgNeOJqxFAW"
      },
      "execution_count": null,
      "outputs": []
    },
    {
      "cell_type": "code",
      "source": [
        "a,b= next(iter(test_dataloader))\n",
        "\n"
      ],
      "metadata": {
        "id": "3zTUKnee5CDF"
      },
      "execution_count": null,
      "outputs": []
    },
    {
      "cell_type": "code",
      "source": [
        "a[:,0]"
      ],
      "metadata": {
        "colab": {
          "base_uri": "https://localhost:8080/"
        },
        "id": "9T_l8jxlX4kx",
        "outputId": "53067cd0-12a0-4e70-b653-9c82ca96aeb4"
      },
      "execution_count": null,
      "outputs": [
        {
          "output_type": "execute_result",
          "data": {
            "text/plain": [
              "tensor([20.,  8.,  5., 18., 13.,  1., 24.,  0.,  0.,  0.,  0.,  0.,  0.,  0.,\n",
              "         0.,  0.,  0.,  0.,  0.,  0.,  0.,  0.,  0.,  0.,  0.,  0.])"
            ]
          },
          "metadata": {},
          "execution_count": 26
        }
      ]
    },
    {
      "cell_type": "code",
      "source": [
        "b[:,0]"
      ],
      "metadata": {
        "colab": {
          "base_uri": "https://localhost:8080/"
        },
        "id": "N9DPx31UJMtn",
        "outputId": "7a792ebe-14b1-4c79-d92c-6db7e3e89536"
      },
      "execution_count": null,
      "outputs": [
        {
          "output_type": "execute_result",
          "data": {
            "text/plain": [
              "tensor([ 1., 34., 44., 42., 62., 18., 66., 50.,  2.,  0.,  0.,  0.,  0.,  0.,\n",
              "         0.,  0.,  0.,  0.,  0.,  0.,  0.,  0.,  0.,  0.])"
            ]
          },
          "metadata": {},
          "execution_count": 27
        }
      ]
    },
    {
      "cell_type": "code",
      "source": [
        "device = 'cuda' if torch.cuda.is_available() else 'cpu'\n",
        "\n",
        "\n",
        "class Encoder(nn.Module):\n",
        "    def __init__(self, input_size, embed_dim, hidden_size, num_layers, dropout,cell_type):\n",
        "        super(Encoder, self).__init__()\n",
        "        self.hidden_size = hidden_size\n",
        "        self.embedding = nn.Embedding(input_size, embed_dim,padding_idx=0)\n",
        "        self.dropout = nn.Dropout(dropout)\n",
        "        self.cell_type=cell_type\n",
        "\n",
        "        if cell_type==\"LSTM\":\n",
        "          self.rnn = nn.LSTM(embed_dim, hidden_size, num_layers, dropout=dropout)\n",
        "        elif cell_type==\"GRU\":\n",
        "          self.rnn=nn.GRU(embed_dim,hidden_size,num_layers,dropout=dropout)\n",
        "        else:\n",
        "          self.rnn=nn.RNN(embed_dim,hidden_size,num_layers,dropout=dropout)\n",
        "    \n",
        "    def forward(self, x):\n",
        "        embedded = self.dropout(self.embedding(x))\n",
        "\n",
        "        if self.cell_type==\"LSTM\":\n",
        "          output, (hidden, cell) = self.rnn(embedded)\n",
        "          return hidden, cell\n",
        "        \n",
        "        elif self.cell_type==\"GRU\":\n",
        "          output, hidden = self.rnn(embedded)\n",
        "\n",
        "          return output, hidden\n",
        "        \n",
        "        else:\n",
        "          output, hidden = self.rnn(embedded)\n",
        "\n",
        "          return output,hidden\n",
        "\n",
        "\n",
        "\n",
        "class Decoder(nn.Module):\n",
        "    def __init__(self, output_size, embed_dim, hidden_size, num_layers, dropout,cell_type):\n",
        "        super(Decoder, self).__init__()\n",
        "        self.hidden_size = hidden_size\n",
        "        self.cell_type=cell_type\n",
        "        self.embedding = nn.Embedding(output_size, embed_dim,padding_idx=0)\n",
        "        if cell_type==\"LSTM\":\n",
        "          self.rnn = nn.LSTM(embed_dim, hidden_size, num_layers,  dropout=dropout)\n",
        "        elif cell_type==\"GRU\":\n",
        "          self.rnn=nn.GRU(embed_dim,hidden_size,num_layers,dropout=dropout)\n",
        "        else:\n",
        "          self.rnn=nn.RNN(embed_dim,hidden_size,num_layers,dropout=dropout)\n",
        "\n",
        "        self.fc = nn.Linear(hidden_size, output_size)\n",
        "        self.dropout=nn.Dropout(dropout)\n",
        "        self.softmax = nn.LogSoftmax(dim=1)\n",
        "\n",
        "    def forward(self, x, hidden, cell):\n",
        "        x = x.unsqueeze(0)\n",
        "        embedded = self.dropout(self.embedding(x))\n",
        "        if self.cell_type==\"LSTM\":\n",
        "          output, (hidden, cell) = self.rnn(embedded, (hidden, cell))\n",
        "          output= self.fc(output)\n",
        "          output = output.squeeze(0)\n",
        "          return output, hidden, cell\n",
        "        \n",
        "        elif self.cell_type==\"GRU\":\n",
        "          output, hidden=self.rnn(embedded,hidden)\n",
        "          output=self.fc(output)\n",
        "          output=output.squeeze(0)\n",
        "          return output, hidden\n",
        "        \n",
        "        else:\n",
        "          output, hidden=self.rnn(embedded,hidden)\n",
        "          output=self.fc(output)\n",
        "          output = output.squeeze(0)\n",
        "          return output, hidden\n",
        "\n",
        "class Seq2Seq(nn.Module):\n",
        "    def __init__(self, encoder, decoder):\n",
        "        super(Seq2Seq, self).__init__()\n",
        "        self.encoder = encoder\n",
        "        self.decoder = decoder\n",
        "    \n",
        "       \n",
        "    def forward(self, source, target, teacher_forcing_ratio=0.5):\n",
        "        batch_size = source.shape[1]\n",
        "        target_len = target.shape[0]\n",
        "        target_vocab_size = len(hin_token_map)\n",
        "\n",
        "        outputs = torch.zeros(target_len,batch_size, target_vocab_size).to(device)\n",
        "        if self.encoder.cell_type==\"LSTM\":\n",
        "          hidden, cell = self.encoder(source)\n",
        "\n",
        "          x = target[0]\n",
        "\n",
        "          for t in range(1, target_len):\n",
        "              output, hidden, cell = self.decoder(x, hidden, cell)\n",
        "              outputs[t] = output\n",
        "              top1 = output.argmax(1)\n",
        "              if random.random() < teacher_forcing_ratio:\n",
        "                  x = target[t]\n",
        "              else:\n",
        "                  x = top1\n",
        "\n",
        "          return outputs\n",
        "        \n",
        "        elif self.encoder.cell_type==\"GRU\":\n",
        "          enc_output,hidden = self.encoder(source)\n",
        "\n",
        "          x = target[0]\n",
        "\n",
        "          for t in range(1, target_len):\n",
        "              output,hidden=self.decoder(x,hidden,None)\n",
        "              outputs[t] = output\n",
        "              top1= output.argmax(1)\n",
        "              if random.random() < teacher_forcing_ratio:\n",
        "                  x = target[t]\n",
        "              else:\n",
        "                  x = top1\n",
        "          return outputs\n",
        "        \n",
        "        else:\n",
        "          enc_output,hidden = self.encoder(source)\n",
        "\n",
        "          x = target[0]\n",
        "\n",
        "          for t in range(1, target_len):\n",
        "              output,hidden=self.decoder(x,hidden,None)\n",
        "              outputs[t] = output\n",
        "              top1= output.argmax(1)\n",
        "              if random.random() < teacher_forcing_ratio:\n",
        "                  x = target[t]\n",
        "              else:\n",
        "                  x = top1\n",
        "          return outputs\n",
        "\n",
        "\n",
        "def build_model(cell = \"LSTM\",nunits = 64, enc_dec_layers = 2,embed_dim = 128,dense_size=128,dropout=0):\n",
        "    encoder = Encoder(input_size=len(eng_token_map), embed_dim=embed_dim, hidden_size=nunits, num_layers=enc_dec_layers, dropout=dropout,cell_type=cell)\n",
        "    decoder = Decoder(output_size=len(hin_token_map), embed_dim=embed_dim, hidden_size=nunits, num_layers=enc_dec_layers, dropout=dropout,cell_type=cell)\n",
        "    model = Seq2Seq(encoder, decoder)\n",
        "    return model\n"
      ],
      "metadata": {
        "id": "BjtIzuCJ-jI3"
      },
      "execution_count": null,
      "outputs": []
    },
    {
      "cell_type": "code",
      "source": [
        "a,b=next(iter(train_dataloader))"
      ],
      "metadata": {
        "id": "GueyVF7Kkffy"
      },
      "execution_count": null,
      "outputs": []
    },
    {
      "cell_type": "code",
      "source": [
        "encoder = Encoder(len(eng_token_map), 32, 128,2, 0.1,\"GRU\")\n",
        "outputs, hidden = encoder(a.long())\n",
        "outputs.shape, hidden.shape"
      ],
      "metadata": {
        "colab": {
          "base_uri": "https://localhost:8080/"
        },
        "id": "fXqLQtjPkKRr",
        "outputId": "1374d202-d21f-4cc5-e9b7-4d3ccbe8eb3a"
      },
      "execution_count": null,
      "outputs": [
        {
          "output_type": "execute_result",
          "data": {
            "text/plain": [
              "(torch.Size([26, 8, 128]), torch.Size([2, 8, 128]))"
            ]
          },
          "metadata": {},
          "execution_count": 61
        }
      ]
    },
    {
      "cell_type": "code",
      "source": [
        "decoder = Decoder(len(hin_token_map), 32, 128,2, 0.1,\"GRU\")\n",
        "outputs, hidden = decoder(b.long()[0],hidden,None)\n",
        "outputs.shape, hidden.shape"
      ],
      "metadata": {
        "colab": {
          "base_uri": "https://localhost:8080/"
        },
        "id": "F4X5RpVXyLiA",
        "outputId": "91154cd7-42dc-4291-ea41-ec4994924f00"
      },
      "execution_count": null,
      "outputs": [
        {
          "output_type": "execute_result",
          "data": {
            "text/plain": [
              "(torch.Size([8, 68]), torch.Size([2, 8, 128]))"
            ]
          },
          "metadata": {},
          "execution_count": 64
        }
      ]
    },
    {
      "cell_type": "code",
      "source": [
        "print(device)"
      ],
      "metadata": {
        "colab": {
          "base_uri": "https://localhost:8080/"
        },
        "id": "8izNCevJAbpd",
        "outputId": "15045fca-7f3e-4467-b3ad-3f67f17d1667"
      },
      "execution_count": null,
      "outputs": [
        {
          "output_type": "stream",
          "name": "stdout",
          "text": [
            "cuda\n"
          ]
        }
      ]
    },
    {
      "cell_type": "code",
      "source": [
        "model(a.int(),b.int()).shape"
      ],
      "metadata": {
        "colab": {
          "base_uri": "https://localhost:8080/"
        },
        "id": "8ow49ZOWXFyn",
        "outputId": "ac047117-aed5-40ef-efbe-ea12ddb72aae"
      },
      "execution_count": null,
      "outputs": [
        {
          "output_type": "execute_result",
          "data": {
            "text/plain": [
              "torch.Size([24, 16, 68])"
            ]
          },
          "metadata": {},
          "execution_count": 44
        }
      ]
    },
    {
      "cell_type": "code",
      "source": [
        "\n",
        "\n",
        "def train(model, dataloader, criterion, optimizer, device):\n",
        "    model.train()\n",
        "    total_loss = 0.0\n",
        "    total_chars = 0\n",
        "    correct_chars = 0\n",
        "\n",
        "    for i, (input_seq, target_seq) in enumerate(dataloader):\n",
        "        input_seq = input_seq.long().to(device)\n",
        "        target_seq = target_seq.long().to(device)\n",
        "\n",
        "        optimizer.zero_grad()\n",
        "\n",
        "        output = model(input_seq, target_seq)\n",
        "        _, predicted = torch.max(output, dim=2)\n",
        "\n",
        "\n",
        "        for j in range(predicted.shape[1]):\n",
        "              predicted_seq = predicted[:, j]\n",
        "              targets_seq = target_seq[:, j]\n",
        "\n",
        "              # Find the index of the first EOS token in the sequence (for character & word-level accuracy)\n",
        "              eos_idx = (targets_seq == hin_token_map[\"\\n\"]).nonzero()\n",
        "              if eos_idx.numel() > 0:\n",
        "                  eos_idx = eos_idx[0][0]\n",
        "                  predicted_seq = predicted_seq[:eos_idx]\n",
        "                  targets_seq = targets_seq[:eos_idx]\n",
        "        \n",
        "        # reshape for cross-entropy loss\n",
        "        output_flatten = output[1:].view(-1, output.shape[-1])\n",
        "        trg_flatten = target_seq[1:].view(-1)\n",
        "\n",
        "        loss = criterion(output_flatten, trg_flatten)\n",
        "        loss.backward()\n",
        "        optimizer.step()\n",
        "\n",
        "        total_loss += loss.item()\n",
        "\n",
        "        predicted_seq=predicted_seq[1:].view(-1)\n",
        "        targets_seq=targets_seq[1:].view(-1)\n",
        "     \n",
        "        correct_chars += torch.sum(predicted_seq == targets_seq).item()\n",
        "        total_chars += targets_seq.numel()\n",
        "\n",
        "\n",
        "    return total_loss / len(dataloader), correct_chars/total_chars"
      ],
      "metadata": {
        "id": "AjLwzA4ugQ89"
      },
      "execution_count": null,
      "outputs": []
    },
    {
      "cell_type": "code",
      "source": [
        "hin_token_map['\\n']"
      ],
      "metadata": {
        "colab": {
          "base_uri": "https://localhost:8080/"
        },
        "id": "b7srjNlwaDqf",
        "outputId": "c981791d-ff4a-4328-b3f5-c2bf2370785c"
      },
      "execution_count": null,
      "outputs": [
        {
          "output_type": "execute_result",
          "data": {
            "text/plain": [
              "2"
            ]
          },
          "metadata": {},
          "execution_count": 54
        }
      ]
    },
    {
      "cell_type": "code",
      "source": [
        "\n",
        "def evaluate(model, dataloader, criterion, device):\n",
        "    model.eval()\n",
        "    total_loss = 0.0\n",
        "\n",
        "    total_chars = 0\n",
        "    correct_chars = 0\n",
        "\n",
        "    with torch.no_grad():\n",
        "        for i, (input_seq, target_seq) in enumerate(dataloader):\n",
        "            input_seq = input_seq.long().to(device)\n",
        "            target_seq = target_seq.long().to(device)\n",
        "\n",
        "            output = model(input_seq, target_seq,0)\n",
        "            _, predicted = torch.max(output, dim=2)\n",
        "\n",
        "\n",
        "            for j in range(predicted.shape[1]):\n",
        "                predicted_seq = predicted[:, j]\n",
        "                targets_seq = target_seq[:, j]\n",
        "\n",
        "                # Find the index of the first EOS token in the sequence\n",
        "                eos_idx = (targets_seq == hin_token_map[\"\\n\"]).nonzero()\n",
        "                if eos_idx.numel() > 0:\n",
        "                    eos_idx = eos_idx[0][0]\n",
        "                    predicted_seq = predicted_seq[:eos_idx]\n",
        "                    targets_seq = targets_seq[:eos_idx]\n",
        "\n",
        "\n",
        "            # reshape for cross-entropy loss\n",
        "            output_flatten = output[1:].view(-1, output.shape[-1])\n",
        "            trg_flatten = target_seq[1:].view(-1)\n",
        "\n",
        "            loss = criterion(output_flatten, trg_flatten)\n",
        "\n",
        "            total_loss += loss.item()\n",
        "\n",
        "            predicted_seq=predicted_seq[1:].view(-1)\n",
        "            targets_seq=targets_seq[1:].view(-1)\n",
        "     \n",
        "            correct_chars += torch.sum(predicted_seq == targets_seq).item()\n",
        "            total_chars += targets_seq.numel()\n",
        "\n",
        "    return total_loss / len(dataloader), correct_chars/total_chars"
      ],
      "metadata": {
        "id": "rq70mS_2UdgV"
      },
      "execution_count": null,
      "outputs": []
    },
    {
      "cell_type": "code",
      "source": [
        "import torch\n",
        "import torch.nn.functional as F\n",
        "\n",
        "def beam_search_decoder(model, input_seq, beam_size, max_len, device):\n",
        "    \"\"\"\n",
        "    Beam search decoding algorithm for seq2seq models.\n",
        "    \n",
        "    Args:\n",
        "        model: seq2seq model\n",
        "        input_seq: tensor of shape (seq_len, batch_size)\n",
        "        beam_size: size of the beam\n",
        "        max_len: maximum length of the output sequence\n",
        "        device: torch device\n",
        "    \n",
        "    Returns:\n",
        "        top_k: list of k most likely output sequences, each represented as a tensor of shape (seq_len, 1)\n",
        "        scores: list of k scores corresponding to the top k output sequences\n",
        "    \"\"\"\n",
        "    # Set model to evaluation mode\n",
        "    model.eval()\n",
        "\n",
        "    # Initialize candidate sequences with the start-of-sequence token\n",
        "    start_token = torch.tensor([hin_token_map[\"\\t\"]], dtype=torch.long, device=device)\n",
        "    candidates = [(start_token, 0)]\n",
        "\n",
        "    # Iterate until all candidate sequences have reached the end-of-sequence token or max_len is reached\n",
        "    for i in range(max_len):\n",
        "        new_candidates = []\n",
        "\n",
        "        # Iterate over each candidate sequence\n",
        "        for seq, score in candidates:\n",
        "            # Pad sequence to match input_seq length\n",
        "            padded_seq = F.pad(seq, (0, input_seq.shape[0]-seq.shape[0]), value=hin_token_map[\"<PAD>\"])\n",
        "\n",
        "            # Make predictions for next token\n",
        "            output = model(input_seq, padded_seq.unsqueeze(1))\n",
        "            log_probs = F.log_softmax(output[-1], dim=1)\n",
        "\n",
        "            # Select top k candidates and add to new_candidates\n",
        "            for j in range(beam_size):\n",
        "                token_idx = log_probs.argmax().item()\n",
        "                token_score = log_probs[0, token_idx].item()\n",
        "                new_seq = torch.cat([seq, torch.tensor([token_idx], dtype=torch.long, device=device)], dim=0)\n",
        "                new_score = score + token_score\n",
        "                new_candidates.append((new_seq, new_score))\n",
        "                log_probs[0, token_idx] = float('-inf')\n",
        "\n",
        "        # Select top k candidates and update candidate set\n",
        "        candidates = sorted(new_candidates, key=lambda x: x[1], reverse=True)[:beam_size]\n",
        "\n",
        "        # Check if all candidate sequences have reached the end-of-sequence token\n",
        "        eos_count = sum([seq[-1] == hin_token_map[\"\\n\"] for seq, score in candidates])\n",
        "        if eos_count == beam_size:\n",
        "            break\n",
        "\n",
        "    # Extract top k candidates and scores\n",
        "    top_k = [seq.unsqueeze(1) for seq, score in candidates]\n",
        "    scores = [score for seq, score in candidates]\n",
        "\n",
        "    return top_k, scores\n"
      ],
      "metadata": {
        "id": "Dp8cur6dRXyt"
      },
      "execution_count": null,
      "outputs": []
    },
    {
      "cell_type": "code",
      "source": [
        "a,b=next(iter(test_dataloader))"
      ],
      "metadata": {
        "id": "qPTXSB9hSHzd"
      },
      "execution_count": null,
      "outputs": []
    },
    {
      "cell_type": "code",
      "source": [
        "model.load_state_dict(torch.load('tut1-model.pt'))\n",
        "\n",
        "\n",
        "beam_search_decoder(model,a[:,5:6].long(),5,50,device)"
      ],
      "metadata": {
        "colab": {
          "base_uri": "https://localhost:8080/"
        },
        "id": "upN-L7STRn1d",
        "outputId": "740dfb39-fd5f-44f1-855e-e91a32d50a30"
      },
      "execution_count": null,
      "outputs": [
        {
          "output_type": "execute_result",
          "data": {
            "text/plain": [
              "([tensor([[1],\n",
              "          [2],\n",
              "          [2]]),\n",
              "  tensor([[ 1],\n",
              "          [23],\n",
              "          [ 2]]),\n",
              "  tensor([[ 1],\n",
              "          [56],\n",
              "          [ 2]]),\n",
              "  tensor([[ 1],\n",
              "          [66],\n",
              "          [ 2]]),\n",
              "  tensor([[ 1],\n",
              "          [58],\n",
              "          [ 2]])],\n",
              " [-1.059869259595871,\n",
              "  -1.633980818092823,\n",
              "  -2.0424399971961975,\n",
              "  -3.086896002292633,\n",
              "  -3.77677720785141])"
            ]
          },
          "metadata": {},
          "execution_count": 37
        }
      ]
    },
    {
      "cell_type": "code",
      "source": [
        "model=build_model(cell=\"GRU\")"
      ],
      "metadata": {
        "id": "aFa30JPyz6P4"
      },
      "execution_count": null,
      "outputs": []
    },
    {
      "cell_type": "code",
      "source": [
        "print(model)"
      ],
      "metadata": {
        "colab": {
          "base_uri": "https://localhost:8080/"
        },
        "id": "LHOJhN-yiQh-",
        "outputId": "0b0fa025-c2b5-4a11-ed32-320d3a49b8ba"
      },
      "execution_count": null,
      "outputs": [
        {
          "output_type": "stream",
          "name": "stdout",
          "text": [
            "Seq2Seq(\n",
            "  (encoder): Encoder(\n",
            "    (embedding): Embedding(28, 128, padding_idx=0)\n",
            "    (dropout): Dropout(p=0, inplace=False)\n",
            "    (rnn): GRU(128, 64, num_layers=2)\n",
            "  )\n",
            "  (decoder): Decoder(\n",
            "    (embedding): Embedding(68, 128, padding_idx=0)\n",
            "    (rnn): GRU(128, 64, num_layers=2)\n",
            "    (fc): Linear(in_features=64, out_features=68, bias=True)\n",
            "    (dropout): Dropout(p=0, inplace=False)\n",
            "  )\n",
            ")\n"
          ]
        }
      ]
    },
    {
      "cell_type": "code",
      "source": [
        "N_EPOCHS = 1\n",
        "best_valid_loss = float('inf')\n",
        "device = torch.device(\"cuda\" if torch.cuda.is_available() else \"cpu\")\n",
        "train_dataloader = DataLoader(train_dataset, batch_size=8, shuffle=True, collate_fn=custom_collate)\n",
        "\n",
        "val_dataloader = DataLoader(val_dataset, batch_size=8, shuffle=False, collate_fn=custom_collate)\n",
        "model=model.to(device)\n",
        "criterion = nn.CrossEntropyLoss(ignore_index=hin_token_map[\"<PAD>\"]) # ignore padding index\n",
        "optimizer = optim.Adam(model.parameters(), lr=1e-3)\n",
        "for epoch in range(N_EPOCHS):    \n",
        "    train_loss,acc = train(model=model, dataloader=train_dataloader, optimizer=optimizer, criterion=criterion,device=device)\n",
        "    valid_loss,ch = evaluate(model, val_dataloader, criterion,device)\n",
        "\n",
        "\n",
        "    if valid_loss < best_valid_loss:\n",
        "        best_valid_loss = valid_loss\n",
        "        torch.save(model.state_dict(), 'tut1-model.pt')\n",
        "\n",
        "    # it's easier to see a change in perplexity between epoch as it's an exponential\n",
        "    # of the loss, hence the scale of the measure is much bigger\n",
        "    print(f'Epoch: {epoch+1}')\n",
        "    print(f'\\tTrain Loss: {train_loss}')\n",
        "    print(f'\\t Val. Loss: {valid_loss}')\n",
        "    print(ch)\n",
        "    print(acc)"
      ],
      "metadata": {
        "colab": {
          "base_uri": "https://localhost:8080/"
        },
        "id": "MzKzlqZiZSLh",
        "outputId": "f72aae8e-ad59-447b-bcb1-ec7facc9bb53"
      },
      "execution_count": null,
      "outputs": [
        {
          "output_type": "stream",
          "name": "stdout",
          "text": [
            "Epoch: 1\n",
            "\tTrain Loss: 2.890680533964187\n",
            "\t Val. Loss: 2.3192018535919487\n",
            "0.3226397800183318\n",
            "0.18977003652125055\n"
          ]
        }
      ]
    },
    {
      "cell_type": "code",
      "source": [
        "import wandb\n",
        "def wandb_sweeps():\n",
        "  config_defaults = {\n",
        "        'cell': \"LSTM\",\n",
        "        'hidden_units': 64,\n",
        "        'enc_dec_layers': 2,\n",
        "        'embed_dim': 128,\n",
        "        'dense_size':128,\n",
        "        'lr':1e-4,\n",
        "        'dropout':0.1,\n",
        "        'epochs':20,\n",
        "        'batch_size':8\n",
        "  }\n",
        "  \n",
        "  wandb.init(config=config_defaults)\n",
        "\n",
        "  config = wandb.config\n",
        "\n",
        "  \n",
        "  cell=config.cell\n",
        "  hidden_units=config.hidden_units\n",
        "  enc_dec_layers=config.enc_dec_layers\n",
        "  embed_dim=config.embed_dim\n",
        "  dense_size=config.dense_size\n",
        "  lr=config.lr\n",
        "  epochs=config.epochs\n",
        "  dropout=config.dropout\n",
        "  batch_size=config.batch_size\n",
        "\n",
        "\n",
        "  run_name = f\"cell_{cell}_hunit_{hidden_units}_embed_dim_{embed_dim}_dense_{dense_size}_lr_{lr}_ep_{epochs}_enc_dec_layer_{enc_dec_layers}_dropout_{dropout}_bs{batch_size}\"\n",
        "  print(run_name)\n",
        "\n",
        "  train_dataloader = DataLoader(train_dataset, batch_size=batch_size, shuffle=True, collate_fn=custom_collate)\n",
        "\n",
        "  val_dataloader = DataLoader(val_dataset, batch_size=batch_size, shuffle=False, collate_fn=custom_collate)\n",
        "\n",
        "\n",
        "  model=build_model(cell = cell,nunits = hidden_units, enc_dec_layers =enc_dec_layers,embed_dim = embed_dim,dense_size=dense_size,dropout=dropout)\n",
        "  \n",
        "  device = 'cuda' if torch.cuda.is_available() else 'cpu'\n",
        "\n",
        "  model=model.to(device)\n",
        "\n",
        "  \n",
        "  criterion = nn.CrossEntropyLoss(ignore_index=hin_token_map[\"<PAD>\"]) # ignore padding index\n",
        "  optimizer = optim.Adam(model.parameters(), lr=lr)\n",
        "\n",
        "  N_EPOCHS = epochs\n",
        " \n",
        "  for epoch in range(N_EPOCHS):    \n",
        "    train_loss,train_acc = train(model=model, dataloader=train_dataloader, optimizer=optimizer, criterion=criterion,device=device)\n",
        "    valid_loss,val_acc = evaluate(model, val_dataloader, criterion,device)\n",
        "    \n",
        "    wandb.log({\"training_acc\": train_acc, \"validation_accuracy\": val_acc, \"training_loss\": train_loss, \"validation_loss\": valid_loss, \"Epoch\": epoch+1})\n",
        "\n",
        "    print('Epoch: {} \\tTraining Loss: {:.6f} \\tValidation Loss: {:.6f} \\tTraining Accuracy: {:.6f} \\tValidation Accuracy: {:.6f}'.format(\n",
        "        epoch+1, train_loss, valid_loss, train_acc, val_acc))\n",
        "  \n",
        "  wandb.run.name = run_name\n",
        "  wandb.run.save()\n",
        "  wandb.run.finish()\n",
        "\n",
        "\n",
        "\n",
        "\n",
        "  \n",
        "\n",
        "\n",
        "  \n",
        "\n",
        "\n",
        "  \n"
      ],
      "metadata": {
        "id": "ee3VJ6cQTWu4"
      },
      "execution_count": null,
      "outputs": []
    },
    {
      "cell_type": "code",
      "source": [
        "sweep_config = {\n",
        "  \"name\": \"Bayesian Sweep\",\n",
        "  \"method\": \"bayes\",\n",
        "  \"metric\":{\n",
        "  \"name\": \"validation_accuracy\",\n",
        "  \"goal\": \"maximize\"\n",
        "  },\n",
        "  'early_terminate': {\n",
        "        'type':'hyperband',\n",
        "        'min_iter': 5,\n",
        "        's': 2\n",
        "  },\n",
        "  \"parameters\": {\n",
        "        \"cell\": {\n",
        "            \"values\": [ \"LSTM\", \"GRU\", \"RNN\"]\n",
        "        },\n",
        "        \"hidden_units\": {\n",
        "            \"values\": [32,64,256,512]\n",
        "        },\n",
        "        \"enc_dec_layers\": {\n",
        "            \"values\": [1,2,3,4]\n",
        "        },\n",
        "        \"embed_dim\": {\n",
        "            \"values\": [32,64,128,256]\n",
        "        }, \n",
        "        \"dense_size\": {\n",
        "            \"values\": [128,256,512]\n",
        "        },\n",
        "        \"lr\": {\n",
        "            \"values\": [1e-5,1e-4,1e-3]\n",
        "        },\n",
        "        \"epochs\": {\n",
        "            \"values\": [20,30]\n",
        "        },\n",
        "        \"dropout\": {\n",
        "            \"values\": [0,0.1,0.2]\n",
        "        },\n",
        "        \"batch_size\": {\n",
        "            \"values\": [8,16,32,64]\n",
        "        }     \n",
        "    }\n",
        "}\n",
        "\n",
        "sweep_id = wandb.sweep(sweep_config,  entity=\"shashwat_mm19b053\", project=\"Assignment-3\")\n",
        "wandb.agent(sweep_id,project='Assignment-3', function=wandb_sweeps, count=90)"
      ],
      "metadata": {
        "colab": {
          "base_uri": "https://localhost:8080/",
          "height": 1000,
          "referenced_widgets": [
            "47b763c65ea948029b17023f447b7a1d",
            "2f72cab6ad4346bf8224bf42ee90849e",
            "d88a4fa18b9144f28479ac1bd099bc8b",
            "f5818868145e43258b027534cf6fb3e3",
            "4af37bc2359441f086f2507b17de3932",
            "20faeeb0b9e940bb9c61786bd592c9ec",
            "9e9b163ed4e04a7fa9cdedf5c10f2d28",
            "a7223bd4b826422e9bff59ebb2c01c70",
            "6b6104ebb4b64dfe8639b5529eb5ec3a",
            "828347b5caeb4b0185635029fc749bd2",
            "a9c7d4770d014105b6824fd45fb96e4a",
            "337bfa730ccb473e82259d714dc13c82",
            "971d4b2862a441e4b8c46c692048361a",
            "47103cb37e5042328f9610a0d8421c9c",
            "0f9322f08f9045fb9625c3a597d27eea",
            "83d94b40ce704f038c337b17e4e1578c",
            "0b2698d64eda4049af7b56b79db01afa",
            "6d6062222d6c4db59a3660f5c002e5f3",
            "4d2afacc28754904888e3a1094bb868a",
            "d3bf113d9fca41ce96741237dc078e4c",
            "8b99f95983ad4908b942ca8dcfd7ab35",
            "9f3e8bb2ce5c4d3c93420b130db7289a",
            "2261163626ae4bc387c6bf16f50647a3",
            "0551a21a5a6c4f2fa13435f9d0b9a5ce",
            "1b318471cd534f1c9af0a8ed57a1a008",
            "465a7f7a89a54b76942e932595f85150",
            "4cde28dd620c435dab0c310b5f618b03",
            "af641836e9fb4d248d2814ed818e4c00",
            "5549c49256154d8dafc9812856d4f2cd",
            "9e1618756d104f79b3cf874628e7670b",
            "72f3a2bf436b4b879aeb19295c3c5def",
            "73f45c7e881a4db68b1831955ef63b76"
          ]
        },
        "id": "eL1gN5V6nyWj",
        "outputId": "a1a006c6-6077-4ef3-f4f7-b61e94d07e2d"
      },
      "execution_count": null,
      "outputs": [
        {
          "output_type": "display_data",
          "data": {
            "text/plain": [
              "<IPython.core.display.Javascript object>"
            ],
            "application/javascript": [
              "\n",
              "        window._wandbApiKey = new Promise((resolve, reject) => {\n",
              "            function loadScript(url) {\n",
              "            return new Promise(function(resolve, reject) {\n",
              "                let newScript = document.createElement(\"script\");\n",
              "                newScript.onerror = reject;\n",
              "                newScript.onload = resolve;\n",
              "                document.body.appendChild(newScript);\n",
              "                newScript.src = url;\n",
              "            });\n",
              "            }\n",
              "            loadScript(\"https://cdn.jsdelivr.net/npm/postmate/build/postmate.min.js\").then(() => {\n",
              "            const iframe = document.createElement('iframe')\n",
              "            iframe.style.cssText = \"width:0;height:0;border:none\"\n",
              "            document.body.appendChild(iframe)\n",
              "            const handshake = new Postmate({\n",
              "                container: iframe,\n",
              "                url: 'https://wandb.ai/authorize'\n",
              "            });\n",
              "            const timeout = setTimeout(() => reject(\"Couldn't auto authenticate\"), 5000)\n",
              "            handshake.then(function(child) {\n",
              "                child.on('authorize', data => {\n",
              "                    clearTimeout(timeout)\n",
              "                    resolve(data)\n",
              "                });\n",
              "            });\n",
              "            })\n",
              "        });\n",
              "    "
            ]
          },
          "metadata": {}
        },
        {
          "output_type": "stream",
          "name": "stderr",
          "text": [
            "\u001b[34m\u001b[1mwandb\u001b[0m: Appending key for api.wandb.ai to your netrc file: /root/.netrc\n"
          ]
        },
        {
          "output_type": "stream",
          "name": "stdout",
          "text": [
            "Create sweep with ID: lo1gzlng\n",
            "Sweep URL: https://wandb.ai/shashwat_mm19b053/Assignment-3/sweeps/lo1gzlng\n"
          ]
        },
        {
          "output_type": "stream",
          "name": "stderr",
          "text": [
            "\u001b[34m\u001b[1mwandb\u001b[0m: Agent Starting Run: k981czvb with config:\n",
            "\u001b[34m\u001b[1mwandb\u001b[0m: \tbatch_size: 8\n",
            "\u001b[34m\u001b[1mwandb\u001b[0m: \tcell: GRU\n",
            "\u001b[34m\u001b[1mwandb\u001b[0m: \tdense_size: 256\n",
            "\u001b[34m\u001b[1mwandb\u001b[0m: \tdropout: 0.1\n",
            "\u001b[34m\u001b[1mwandb\u001b[0m: \tembed_dim: 256\n",
            "\u001b[34m\u001b[1mwandb\u001b[0m: \tenc_dec_layers: 4\n",
            "\u001b[34m\u001b[1mwandb\u001b[0m: \tepochs: 30\n",
            "\u001b[34m\u001b[1mwandb\u001b[0m: \thidden_units: 512\n",
            "\u001b[34m\u001b[1mwandb\u001b[0m: \tlr: 1e-05\n",
            "\u001b[34m\u001b[1mwandb\u001b[0m: Currently logged in as: \u001b[33mmm19b053\u001b[0m (\u001b[33mshashwat_mm19b053\u001b[0m). Use \u001b[1m`wandb login --relogin`\u001b[0m to force relogin\n"
          ]
        },
        {
          "output_type": "display_data",
          "data": {
            "text/plain": [
              "<IPython.core.display.HTML object>"
            ],
            "text/html": [
              "Tracking run with wandb version 0.15.1"
            ]
          },
          "metadata": {}
        },
        {
          "output_type": "display_data",
          "data": {
            "text/plain": [
              "<IPython.core.display.HTML object>"
            ],
            "text/html": [
              "Run data is saved locally in <code>/content/wandb/run-20230504_130702-k981czvb</code>"
            ]
          },
          "metadata": {}
        },
        {
          "output_type": "display_data",
          "data": {
            "text/plain": [
              "<IPython.core.display.HTML object>"
            ],
            "text/html": [
              "Syncing run <strong><a href='https://wandb.ai/shashwat_mm19b053/Assignment-3/runs/k981czvb' target=\"_blank\">deep-sweep-1</a></strong> to <a href='https://wandb.ai/shashwat_mm19b053/Assignment-3' target=\"_blank\">Weights & Biases</a> (<a href='https://wandb.me/run' target=\"_blank\">docs</a>)<br/>Sweep page: <a href='https://wandb.ai/shashwat_mm19b053/Assignment-3/sweeps/lo1gzlng' target=\"_blank\">https://wandb.ai/shashwat_mm19b053/Assignment-3/sweeps/lo1gzlng</a>"
            ]
          },
          "metadata": {}
        },
        {
          "output_type": "display_data",
          "data": {
            "text/plain": [
              "<IPython.core.display.HTML object>"
            ],
            "text/html": [
              " View project at <a href='https://wandb.ai/shashwat_mm19b053/Assignment-3' target=\"_blank\">https://wandb.ai/shashwat_mm19b053/Assignment-3</a>"
            ]
          },
          "metadata": {}
        },
        {
          "output_type": "display_data",
          "data": {
            "text/plain": [
              "<IPython.core.display.HTML object>"
            ],
            "text/html": [
              " View sweep at <a href='https://wandb.ai/shashwat_mm19b053/Assignment-3/sweeps/lo1gzlng' target=\"_blank\">https://wandb.ai/shashwat_mm19b053/Assignment-3/sweeps/lo1gzlng</a>"
            ]
          },
          "metadata": {}
        },
        {
          "output_type": "display_data",
          "data": {
            "text/plain": [
              "<IPython.core.display.HTML object>"
            ],
            "text/html": [
              " View run at <a href='https://wandb.ai/shashwat_mm19b053/Assignment-3/runs/k981czvb' target=\"_blank\">https://wandb.ai/shashwat_mm19b053/Assignment-3/runs/k981czvb</a>"
            ]
          },
          "metadata": {}
        },
        {
          "output_type": "stream",
          "name": "stdout",
          "text": [
            "cell_GRU_hunit_512_embed_dim_256_dense_256_lr_1e-05_ep_30_enc_dec_layer_4_dropout_0.1_bs8\n",
            "Epoch: 1 \tTraining Loss: 3.182387 \tValidation Loss: 3.047473 \tTraining Accuracy: 0.088441 \tValidation Accuracy: 0.108158\n",
            "Epoch: 2 \tTraining Loss: 2.950160 \tValidation Loss: 2.720938 \tTraining Accuracy: 0.143284 \tValidation Accuracy: 0.206538\n",
            "Epoch: 3 \tTraining Loss: 2.655846 \tValidation Loss: 2.446026 \tTraining Accuracy: 0.223948 \tValidation Accuracy: 0.296670\n",
            "Epoch: 4 \tTraining Loss: 2.416054 \tValidation Loss: 2.176892 \tTraining Accuracy: 0.281528 \tValidation Accuracy: 0.346777\n",
            "Epoch: 5 \tTraining Loss: 2.197863 \tValidation Loss: 1.954270 \tTraining Accuracy: 0.334476 \tValidation Accuracy: 0.409105\n",
            "Epoch: 6 \tTraining Loss: 1.990990 \tValidation Loss: 1.733113 \tTraining Accuracy: 0.389452 \tValidation Accuracy: 0.457379\n",
            "Epoch: 7 \tTraining Loss: 1.786775 \tValidation Loss: 1.523024 \tTraining Accuracy: 0.438936 \tValidation Accuracy: 0.517568\n",
            "Epoch: 8 \tTraining Loss: 1.587908 \tValidation Loss: 1.340072 \tTraining Accuracy: 0.495684 \tValidation Accuracy: 0.567675\n",
            "Epoch: 9 \tTraining Loss: 1.426317 \tValidation Loss: 1.205560 \tTraining Accuracy: 0.539183 \tValidation Accuracy: 0.606172\n",
            "Epoch: 10 \tTraining Loss: 1.297535 \tValidation Loss: 1.105176 \tTraining Accuracy: 0.578531 \tValidation Accuracy: 0.637641\n",
            "Epoch: 11 \tTraining Loss: 1.203204 \tValidation Loss: 1.028890 \tTraining Accuracy: 0.604718 \tValidation Accuracy: 0.664528\n",
            "Epoch: 12 \tTraining Loss: 1.130364 \tValidation Loss: 0.971259 \tTraining Accuracy: 0.628009 \tValidation Accuracy: 0.675527\n",
            "Epoch: 13 \tTraining Loss: 1.066009 \tValidation Loss: 0.925190 \tTraining Accuracy: 0.648063 \tValidation Accuracy: 0.696609\n",
            "Epoch: 14 \tTraining Loss: 1.013334 \tValidation Loss: 0.889219 \tTraining Accuracy: 0.667629 \tValidation Accuracy: 0.702719\n",
            "Epoch: 15 \tTraining Loss: 0.962650 \tValidation Loss: 0.850850 \tTraining Accuracy: 0.680313 \tValidation Accuracy: 0.716163\n",
            "Epoch: 16 \tTraining Loss: 0.925805 \tValidation Loss: 0.833677 \tTraining Accuracy: 0.690030 \tValidation Accuracy: 0.731134\n",
            "Epoch: 17 \tTraining Loss: 0.889386 \tValidation Loss: 0.815774 \tTraining Accuracy: 0.703713 \tValidation Accuracy: 0.731134\n",
            "Epoch: 18 \tTraining Loss: 0.860701 \tValidation Loss: 0.792332 \tTraining Accuracy: 0.708049 \tValidation Accuracy: 0.718301\n",
            "Epoch: 19 \tTraining Loss: 0.832614 \tValidation Loss: 0.760312 \tTraining Accuracy: 0.724258 \tValidation Accuracy: 0.751604\n",
            "Epoch: 20 \tTraining Loss: 0.804586 \tValidation Loss: 0.751812 \tTraining Accuracy: 0.727408 \tValidation Accuracy: 0.749160\n",
            "Epoch: 21 \tTraining Loss: 0.783837 \tValidation Loss: 0.738601 \tTraining Accuracy: 0.737612 \tValidation Accuracy: 0.754048\n",
            "Epoch: 22 \tTraining Loss: 0.761162 \tValidation Loss: 0.723370 \tTraining Accuracy: 0.740325 \tValidation Accuracy: 0.761075\n",
            "Epoch: 23 \tTraining Loss: 0.741926 \tValidation Loss: 0.723396 \tTraining Accuracy: 0.753226 \tValidation Accuracy: 0.761075\n",
            "Epoch: 24 \tTraining Loss: 0.723717 \tValidation Loss: 0.699669 \tTraining Accuracy: 0.760233 \tValidation Accuracy: 0.763520\n",
            "Epoch: 25 \tTraining Loss: 0.704595 \tValidation Loss: 0.689858 \tTraining Accuracy: 0.759225 \tValidation Accuracy: 0.759242\n",
            "Epoch: 26 \tTraining Loss: 0.688864 \tValidation Loss: 0.683153 \tTraining Accuracy: 0.772785 \tValidation Accuracy: 0.771769\n",
            "Epoch: 27 \tTraining Loss: 0.670616 \tValidation Loss: 0.700145 \tTraining Accuracy: 0.778818 \tValidation Accuracy: 0.776658\n",
            "Epoch: 28 \tTraining Loss: 0.659997 \tValidation Loss: 0.667208 \tTraining Accuracy: 0.777161 \tValidation Accuracy: 0.783379\n",
            "Epoch: 29 \tTraining Loss: 0.640487 \tValidation Loss: 0.658378 \tTraining Accuracy: 0.783382 \tValidation Accuracy: 0.787046\n"
          ]
        },
        {
          "output_type": "stream",
          "name": "stderr",
          "text": [
            "\u001b[34m\u001b[1mwandb\u001b[0m: \u001b[33mWARNING\u001b[0m Calling wandb.run.save without any arguments is deprecated.Changes to attributes are automatically persisted.\n"
          ]
        },
        {
          "output_type": "stream",
          "name": "stdout",
          "text": [
            "Epoch: 30 \tTraining Loss: 0.627202 \tValidation Loss: 0.663365 \tTraining Accuracy: 0.791777 \tValidation Accuracy: 0.779713\n"
          ]
        },
        {
          "output_type": "display_data",
          "data": {
            "text/plain": [
              "<IPython.core.display.HTML object>"
            ],
            "text/html": [
              "Waiting for W&B process to finish... <strong style=\"color:green\">(success).</strong>"
            ]
          },
          "metadata": {}
        },
        {
          "output_type": "display_data",
          "data": {
            "text/plain": [
              "<IPython.core.display.HTML object>"
            ],
            "text/html": [
              "<style>\n",
              "    table.wandb td:nth-child(1) { padding: 0 10px; text-align: left ; width: auto;} td:nth-child(2) {text-align: left ; width: 100%}\n",
              "    .wandb-row { display: flex; flex-direction: row; flex-wrap: wrap; justify-content: flex-start; width: 100% }\n",
              "    .wandb-col { display: flex; flex-direction: column; flex-basis: 100%; flex: 1; padding: 10px; }\n",
              "    </style>\n",
              "<div class=\"wandb-row\"><div class=\"wandb-col\"><h3>Run history:</h3><br/><table class=\"wandb\"><tr><td>Epoch</td><td>▁▁▁▂▂▂▂▃▃▃▃▄▄▄▄▅▅▅▅▆▆▆▆▇▇▇▇███</td></tr><tr><td>training_acc</td><td>▁▂▂▃▃▄▄▅▅▆▆▆▇▇▇▇▇▇▇▇▇▇████████</td></tr><tr><td>training_loss</td><td>█▇▇▆▅▅▄▄▃▃▃▂▂▂▂▂▂▂▂▁▁▁▁▁▁▁▁▁▁▁</td></tr><tr><td>validation_accuracy</td><td>▁▂▃▃▄▅▅▆▆▆▇▇▇▇▇▇▇▇████████████</td></tr><tr><td>validation_loss</td><td>█▇▆▅▅▄▄▃▃▂▂▂▂▂▂▂▁▁▁▁▁▁▁▁▁▁▁▁▁▁</td></tr></table><br/></div><div class=\"wandb-col\"><h3>Run summary:</h3><br/><table class=\"wandb\"><tr><td>Epoch</td><td>30</td></tr><tr><td>training_acc</td><td>0.79178</td></tr><tr><td>training_loss</td><td>0.6272</td></tr><tr><td>validation_accuracy</td><td>0.77971</td></tr><tr><td>validation_loss</td><td>0.66336</td></tr></table><br/></div></div>"
            ]
          },
          "metadata": {}
        },
        {
          "output_type": "display_data",
          "data": {
            "text/plain": [
              "<IPython.core.display.HTML object>"
            ],
            "text/html": [
              " View run <strong style=\"color:#cdcd00\">deep-sweep-1</strong> at: <a href='https://wandb.ai/shashwat_mm19b053/Assignment-3/runs/k981czvb' target=\"_blank\">https://wandb.ai/shashwat_mm19b053/Assignment-3/runs/k981czvb</a><br/>Synced 5 W&B file(s), 0 media file(s), 0 artifact file(s) and 0 other file(s)"
            ]
          },
          "metadata": {}
        },
        {
          "output_type": "display_data",
          "data": {
            "text/plain": [
              "<IPython.core.display.HTML object>"
            ],
            "text/html": [
              "Find logs at: <code>./wandb/run-20230504_130702-k981czvb/logs</code>"
            ]
          },
          "metadata": {}
        },
        {
          "output_type": "stream",
          "name": "stderr",
          "text": [
            "\u001b[34m\u001b[1mwandb\u001b[0m: Agent Starting Run: mtv63y2g with config:\n",
            "\u001b[34m\u001b[1mwandb\u001b[0m: \tbatch_size: 16\n",
            "\u001b[34m\u001b[1mwandb\u001b[0m: \tcell: GRU\n",
            "\u001b[34m\u001b[1mwandb\u001b[0m: \tdense_size: 256\n",
            "\u001b[34m\u001b[1mwandb\u001b[0m: \tdropout: 0.2\n",
            "\u001b[34m\u001b[1mwandb\u001b[0m: \tembed_dim: 128\n",
            "\u001b[34m\u001b[1mwandb\u001b[0m: \tenc_dec_layers: 2\n",
            "\u001b[34m\u001b[1mwandb\u001b[0m: \tepochs: 20\n",
            "\u001b[34m\u001b[1mwandb\u001b[0m: \thidden_units: 64\n",
            "\u001b[34m\u001b[1mwandb\u001b[0m: \tlr: 0.0001\n"
          ]
        },
        {
          "output_type": "display_data",
          "data": {
            "text/plain": [
              "<IPython.core.display.HTML object>"
            ],
            "text/html": [
              "Tracking run with wandb version 0.15.1"
            ]
          },
          "metadata": {}
        },
        {
          "output_type": "display_data",
          "data": {
            "text/plain": [
              "<IPython.core.display.HTML object>"
            ],
            "text/html": [
              "Run data is saved locally in <code>/content/wandb/run-20230504_155237-mtv63y2g</code>"
            ]
          },
          "metadata": {}
        },
        {
          "output_type": "display_data",
          "data": {
            "text/plain": [
              "<IPython.core.display.HTML object>"
            ],
            "text/html": [
              "Syncing run <strong><a href='https://wandb.ai/shashwat_mm19b053/Assignment-3/runs/mtv63y2g' target=\"_blank\">driven-sweep-2</a></strong> to <a href='https://wandb.ai/shashwat_mm19b053/Assignment-3' target=\"_blank\">Weights & Biases</a> (<a href='https://wandb.me/run' target=\"_blank\">docs</a>)<br/>Sweep page: <a href='https://wandb.ai/shashwat_mm19b053/Assignment-3/sweeps/lo1gzlng' target=\"_blank\">https://wandb.ai/shashwat_mm19b053/Assignment-3/sweeps/lo1gzlng</a>"
            ]
          },
          "metadata": {}
        },
        {
          "output_type": "display_data",
          "data": {
            "text/plain": [
              "<IPython.core.display.HTML object>"
            ],
            "text/html": [
              " View project at <a href='https://wandb.ai/shashwat_mm19b053/Assignment-3' target=\"_blank\">https://wandb.ai/shashwat_mm19b053/Assignment-3</a>"
            ]
          },
          "metadata": {}
        },
        {
          "output_type": "display_data",
          "data": {
            "text/plain": [
              "<IPython.core.display.HTML object>"
            ],
            "text/html": [
              " View sweep at <a href='https://wandb.ai/shashwat_mm19b053/Assignment-3/sweeps/lo1gzlng' target=\"_blank\">https://wandb.ai/shashwat_mm19b053/Assignment-3/sweeps/lo1gzlng</a>"
            ]
          },
          "metadata": {}
        },
        {
          "output_type": "display_data",
          "data": {
            "text/plain": [
              "<IPython.core.display.HTML object>"
            ],
            "text/html": [
              " View run at <a href='https://wandb.ai/shashwat_mm19b053/Assignment-3/runs/mtv63y2g' target=\"_blank\">https://wandb.ai/shashwat_mm19b053/Assignment-3/runs/mtv63y2g</a>"
            ]
          },
          "metadata": {}
        },
        {
          "output_type": "stream",
          "name": "stdout",
          "text": [
            "cell_GRU_hunit_64_embed_dim_128_dense_256_lr_0.0001_ep_20_enc_dec_layer_2_dropout_0.2_bs16\n",
            "Epoch: 1 \tTraining Loss: 3.205958 \tValidation Loss: 2.837578 \tTraining Accuracy: 0.097885 \tValidation Accuracy: 0.186316\n",
            "Epoch: 2 \tTraining Loss: 2.747694 \tValidation Loss: 2.503124 \tTraining Accuracy: 0.199457 \tValidation Accuracy: 0.258400\n",
            "Epoch: 3 \tTraining Loss: 2.504544 \tValidation Loss: 2.240152 \tTraining Accuracy: 0.242237 \tValidation Accuracy: 0.315211\n",
            "Epoch: 4 \tTraining Loss: 2.294982 \tValidation Loss: 2.038148 \tTraining Accuracy: 0.290404 \tValidation Accuracy: 0.370189\n",
            "Epoch: 5 \tTraining Loss: 2.130679 \tValidation Loss: 1.866962 \tTraining Accuracy: 0.331403 \tValidation Accuracy: 0.400122\n"
          ]
        },
        {
          "output_type": "display_data",
          "data": {
            "text/plain": [
              "<IPython.core.display.HTML object>"
            ],
            "text/html": [
              "Waiting for W&B process to finish... <strong style=\"color:red\">(failed 1).</strong> Press Control-C to abort syncing."
            ]
          },
          "metadata": {}
        },
        {
          "output_type": "display_data",
          "data": {
            "text/plain": [
              "VBox(children=(Label(value='0.001 MB of 0.003 MB uploaded (0.000 MB deduped)\\r'), FloatProgress(value=0.405217…"
            ],
            "application/vnd.jupyter.widget-view+json": {
              "version_major": 2,
              "version_minor": 0,
              "model_id": "47b763c65ea948029b17023f447b7a1d"
            }
          },
          "metadata": {}
        },
        {
          "output_type": "display_data",
          "data": {
            "text/plain": [
              "<IPython.core.display.HTML object>"
            ],
            "text/html": [
              "<style>\n",
              "    table.wandb td:nth-child(1) { padding: 0 10px; text-align: left ; width: auto;} td:nth-child(2) {text-align: left ; width: 100%}\n",
              "    .wandb-row { display: flex; flex-direction: row; flex-wrap: wrap; justify-content: flex-start; width: 100% }\n",
              "    .wandb-col { display: flex; flex-direction: column; flex-basis: 100%; flex: 1; padding: 10px; }\n",
              "    </style>\n",
              "<div class=\"wandb-row\"><div class=\"wandb-col\"><h3>Run history:</h3><br/><table class=\"wandb\"><tr><td>Epoch</td><td>▁▃▅▆█</td></tr><tr><td>training_acc</td><td>▁▄▅▇█</td></tr><tr><td>training_loss</td><td>█▅▃▂▁</td></tr><tr><td>validation_accuracy</td><td>▁▃▅▇█</td></tr><tr><td>validation_loss</td><td>█▆▄▂▁</td></tr></table><br/></div><div class=\"wandb-col\"><h3>Run summary:</h3><br/><table class=\"wandb\"><tr><td>Epoch</td><td>5</td></tr><tr><td>training_acc</td><td>0.3314</td></tr><tr><td>training_loss</td><td>2.13068</td></tr><tr><td>validation_accuracy</td><td>0.40012</td></tr><tr><td>validation_loss</td><td>1.86696</td></tr></table><br/></div></div>"
            ]
          },
          "metadata": {}
        },
        {
          "output_type": "display_data",
          "data": {
            "text/plain": [
              "<IPython.core.display.HTML object>"
            ],
            "text/html": [
              " View run <strong style=\"color:#cdcd00\">driven-sweep-2</strong> at: <a href='https://wandb.ai/shashwat_mm19b053/Assignment-3/runs/mtv63y2g' target=\"_blank\">https://wandb.ai/shashwat_mm19b053/Assignment-3/runs/mtv63y2g</a><br/>Synced 5 W&B file(s), 0 media file(s), 0 artifact file(s) and 0 other file(s)"
            ]
          },
          "metadata": {}
        },
        {
          "output_type": "display_data",
          "data": {
            "text/plain": [
              "<IPython.core.display.HTML object>"
            ],
            "text/html": [
              "Find logs at: <code>./wandb/run-20230504_155237-mtv63y2g/logs</code>"
            ]
          },
          "metadata": {}
        },
        {
          "output_type": "stream",
          "name": "stderr",
          "text": [
            "\u001b[34m\u001b[1mwandb\u001b[0m: Agent Starting Run: zpe5r9t1 with config:\n",
            "\u001b[34m\u001b[1mwandb\u001b[0m: \tbatch_size: 32\n",
            "\u001b[34m\u001b[1mwandb\u001b[0m: \tcell: LSTM\n",
            "\u001b[34m\u001b[1mwandb\u001b[0m: \tdense_size: 128\n",
            "\u001b[34m\u001b[1mwandb\u001b[0m: \tdropout: 0.1\n",
            "\u001b[34m\u001b[1mwandb\u001b[0m: \tembed_dim: 256\n",
            "\u001b[34m\u001b[1mwandb\u001b[0m: \tenc_dec_layers: 1\n",
            "\u001b[34m\u001b[1mwandb\u001b[0m: \tepochs: 30\n",
            "\u001b[34m\u001b[1mwandb\u001b[0m: \thidden_units: 256\n",
            "\u001b[34m\u001b[1mwandb\u001b[0m: \tlr: 1e-05\n"
          ]
        },
        {
          "output_type": "display_data",
          "data": {
            "text/plain": [
              "<IPython.core.display.HTML object>"
            ],
            "text/html": [
              "Tracking run with wandb version 0.15.1"
            ]
          },
          "metadata": {}
        },
        {
          "output_type": "display_data",
          "data": {
            "text/plain": [
              "<IPython.core.display.HTML object>"
            ],
            "text/html": [
              "Run data is saved locally in <code>/content/wandb/run-20230504_160116-zpe5r9t1</code>"
            ]
          },
          "metadata": {}
        },
        {
          "output_type": "display_data",
          "data": {
            "text/plain": [
              "<IPython.core.display.HTML object>"
            ],
            "text/html": [
              "Syncing run <strong><a href='https://wandb.ai/shashwat_mm19b053/Assignment-3/runs/zpe5r9t1' target=\"_blank\">honest-sweep-3</a></strong> to <a href='https://wandb.ai/shashwat_mm19b053/Assignment-3' target=\"_blank\">Weights & Biases</a> (<a href='https://wandb.me/run' target=\"_blank\">docs</a>)<br/>Sweep page: <a href='https://wandb.ai/shashwat_mm19b053/Assignment-3/sweeps/lo1gzlng' target=\"_blank\">https://wandb.ai/shashwat_mm19b053/Assignment-3/sweeps/lo1gzlng</a>"
            ]
          },
          "metadata": {}
        },
        {
          "output_type": "display_data",
          "data": {
            "text/plain": [
              "<IPython.core.display.HTML object>"
            ],
            "text/html": [
              " View project at <a href='https://wandb.ai/shashwat_mm19b053/Assignment-3' target=\"_blank\">https://wandb.ai/shashwat_mm19b053/Assignment-3</a>"
            ]
          },
          "metadata": {}
        },
        {
          "output_type": "display_data",
          "data": {
            "text/plain": [
              "<IPython.core.display.HTML object>"
            ],
            "text/html": [
              " View sweep at <a href='https://wandb.ai/shashwat_mm19b053/Assignment-3/sweeps/lo1gzlng' target=\"_blank\">https://wandb.ai/shashwat_mm19b053/Assignment-3/sweeps/lo1gzlng</a>"
            ]
          },
          "metadata": {}
        },
        {
          "output_type": "display_data",
          "data": {
            "text/plain": [
              "<IPython.core.display.HTML object>"
            ],
            "text/html": [
              " View run at <a href='https://wandb.ai/shashwat_mm19b053/Assignment-3/runs/zpe5r9t1' target=\"_blank\">https://wandb.ai/shashwat_mm19b053/Assignment-3/runs/zpe5r9t1</a>"
            ]
          },
          "metadata": {}
        },
        {
          "output_type": "stream",
          "name": "stdout",
          "text": [
            "cell_LSTM_hunit_256_embed_dim_256_dense_128_lr_1e-05_ep_30_enc_dec_layer_1_dropout_0.1_bs32\n"
          ]
        },
        {
          "output_type": "stream",
          "name": "stderr",
          "text": [
            "/usr/local/lib/python3.10/dist-packages/torch/nn/modules/rnn.py:71: UserWarning: dropout option adds dropout after all but last recurrent layer, so non-zero dropout expects num_layers greater than 1, but got dropout=0.1 and num_layers=1\n",
            "  warnings.warn(\"dropout option adds dropout after all but last \"\n"
          ]
        },
        {
          "output_type": "stream",
          "name": "stdout",
          "text": [
            "Epoch: 1 \tTraining Loss: 3.562024 \tValidation Loss: 3.234492 \tTraining Accuracy: 0.062455 \tValidation Accuracy: 0.106599\n",
            "Epoch: 2 \tTraining Loss: 3.147462 \tValidation Loss: 3.034097 \tTraining Accuracy: 0.104650 \tValidation Accuracy: 0.116751\n",
            "Epoch: 3 \tTraining Loss: 3.008401 \tValidation Loss: 2.904694 \tTraining Accuracy: 0.136860 \tValidation Accuracy: 0.144670\n",
            "Epoch: 4 \tTraining Loss: 2.892285 \tValidation Loss: 2.791108 \tTraining Accuracy: 0.164973 \tValidation Accuracy: 0.172589\n",
            "Epoch: 5 \tTraining Loss: 2.798315 \tValidation Loss: 2.695712 \tTraining Accuracy: 0.180947 \tValidation Accuracy: 0.189086\n",
            "Epoch: 6 \tTraining Loss: 2.716187 \tValidation Loss: 2.620044 \tTraining Accuracy: 0.193716 \tValidation Accuracy: 0.210660\n"
          ]
        },
        {
          "output_type": "display_data",
          "data": {
            "text/plain": [
              "<IPython.core.display.HTML object>"
            ],
            "text/html": [
              "Waiting for W&B process to finish... <strong style=\"color:red\">(failed 1).</strong> Press Control-C to abort syncing."
            ]
          },
          "metadata": {}
        },
        {
          "output_type": "display_data",
          "data": {
            "text/plain": [
              "<IPython.core.display.HTML object>"
            ],
            "text/html": [
              "<style>\n",
              "    table.wandb td:nth-child(1) { padding: 0 10px; text-align: left ; width: auto;} td:nth-child(2) {text-align: left ; width: 100%}\n",
              "    .wandb-row { display: flex; flex-direction: row; flex-wrap: wrap; justify-content: flex-start; width: 100% }\n",
              "    .wandb-col { display: flex; flex-direction: column; flex-basis: 100%; flex: 1; padding: 10px; }\n",
              "    </style>\n",
              "<div class=\"wandb-row\"><div class=\"wandb-col\"><h3>Run history:</h3><br/><table class=\"wandb\"><tr><td>Epoch</td><td>▁▂▄▅▇█</td></tr><tr><td>training_acc</td><td>▁▃▅▆▇█</td></tr><tr><td>training_loss</td><td>█▅▃▂▂▁</td></tr><tr><td>validation_accuracy</td><td>▁▂▄▅▇█</td></tr><tr><td>validation_loss</td><td>█▆▄▃▂▁</td></tr></table><br/></div><div class=\"wandb-col\"><h3>Run summary:</h3><br/><table class=\"wandb\"><tr><td>Epoch</td><td>6</td></tr><tr><td>training_acc</td><td>0.19372</td></tr><tr><td>training_loss</td><td>2.71619</td></tr><tr><td>validation_accuracy</td><td>0.21066</td></tr><tr><td>validation_loss</td><td>2.62004</td></tr></table><br/></div></div>"
            ]
          },
          "metadata": {}
        },
        {
          "output_type": "display_data",
          "data": {
            "text/plain": [
              "<IPython.core.display.HTML object>"
            ],
            "text/html": [
              " View run <strong style=\"color:#cdcd00\">honest-sweep-3</strong> at: <a href='https://wandb.ai/shashwat_mm19b053/Assignment-3/runs/zpe5r9t1' target=\"_blank\">https://wandb.ai/shashwat_mm19b053/Assignment-3/runs/zpe5r9t1</a><br/>Synced 5 W&B file(s), 0 media file(s), 0 artifact file(s) and 0 other file(s)"
            ]
          },
          "metadata": {}
        },
        {
          "output_type": "display_data",
          "data": {
            "text/plain": [
              "<IPython.core.display.HTML object>"
            ],
            "text/html": [
              "Find logs at: <code>./wandb/run-20230504_160116-zpe5r9t1/logs</code>"
            ]
          },
          "metadata": {}
        },
        {
          "output_type": "stream",
          "name": "stderr",
          "text": [
            "\u001b[34m\u001b[1mwandb\u001b[0m: Agent Starting Run: nu3byuqt with config:\n",
            "\u001b[34m\u001b[1mwandb\u001b[0m: \tbatch_size: 32\n",
            "\u001b[34m\u001b[1mwandb\u001b[0m: \tcell: GRU\n",
            "\u001b[34m\u001b[1mwandb\u001b[0m: \tdense_size: 128\n",
            "\u001b[34m\u001b[1mwandb\u001b[0m: \tdropout: 0.2\n",
            "\u001b[34m\u001b[1mwandb\u001b[0m: \tembed_dim: 32\n",
            "\u001b[34m\u001b[1mwandb\u001b[0m: \tenc_dec_layers: 1\n",
            "\u001b[34m\u001b[1mwandb\u001b[0m: \tepochs: 20\n",
            "\u001b[34m\u001b[1mwandb\u001b[0m: \thidden_units: 512\n",
            "\u001b[34m\u001b[1mwandb\u001b[0m: \tlr: 0.0001\n"
          ]
        },
        {
          "output_type": "display_data",
          "data": {
            "text/plain": [
              "<IPython.core.display.HTML object>"
            ],
            "text/html": [
              "Tracking run with wandb version 0.15.1"
            ]
          },
          "metadata": {}
        },
        {
          "output_type": "display_data",
          "data": {
            "text/plain": [
              "<IPython.core.display.HTML object>"
            ],
            "text/html": [
              "Run data is saved locally in <code>/content/wandb/run-20230504_160618-nu3byuqt</code>"
            ]
          },
          "metadata": {}
        },
        {
          "output_type": "display_data",
          "data": {
            "text/plain": [
              "<IPython.core.display.HTML object>"
            ],
            "text/html": [
              "Syncing run <strong><a href='https://wandb.ai/shashwat_mm19b053/Assignment-3/runs/nu3byuqt' target=\"_blank\">zesty-sweep-4</a></strong> to <a href='https://wandb.ai/shashwat_mm19b053/Assignment-3' target=\"_blank\">Weights & Biases</a> (<a href='https://wandb.me/run' target=\"_blank\">docs</a>)<br/>Sweep page: <a href='https://wandb.ai/shashwat_mm19b053/Assignment-3/sweeps/lo1gzlng' target=\"_blank\">https://wandb.ai/shashwat_mm19b053/Assignment-3/sweeps/lo1gzlng</a>"
            ]
          },
          "metadata": {}
        },
        {
          "output_type": "display_data",
          "data": {
            "text/plain": [
              "<IPython.core.display.HTML object>"
            ],
            "text/html": [
              " View project at <a href='https://wandb.ai/shashwat_mm19b053/Assignment-3' target=\"_blank\">https://wandb.ai/shashwat_mm19b053/Assignment-3</a>"
            ]
          },
          "metadata": {}
        },
        {
          "output_type": "display_data",
          "data": {
            "text/plain": [
              "<IPython.core.display.HTML object>"
            ],
            "text/html": [
              " View sweep at <a href='https://wandb.ai/shashwat_mm19b053/Assignment-3/sweeps/lo1gzlng' target=\"_blank\">https://wandb.ai/shashwat_mm19b053/Assignment-3/sweeps/lo1gzlng</a>"
            ]
          },
          "metadata": {}
        },
        {
          "output_type": "display_data",
          "data": {
            "text/plain": [
              "<IPython.core.display.HTML object>"
            ],
            "text/html": [
              " View run at <a href='https://wandb.ai/shashwat_mm19b053/Assignment-3/runs/nu3byuqt' target=\"_blank\">https://wandb.ai/shashwat_mm19b053/Assignment-3/runs/nu3byuqt</a>"
            ]
          },
          "metadata": {}
        },
        {
          "output_type": "stream",
          "name": "stdout",
          "text": [
            "cell_GRU_hunit_512_embed_dim_32_dense_128_lr_0.0001_ep_20_enc_dec_layer_1_dropout_0.2_bs32\n"
          ]
        },
        {
          "output_type": "stream",
          "name": "stderr",
          "text": [
            "/usr/local/lib/python3.10/dist-packages/torch/nn/modules/rnn.py:71: UserWarning: dropout option adds dropout after all but last recurrent layer, so non-zero dropout expects num_layers greater than 1, but got dropout=0.2 and num_layers=1\n",
            "  warnings.warn(\"dropout option adds dropout after all but last \"\n"
          ]
        },
        {
          "output_type": "stream",
          "name": "stdout",
          "text": [
            "Epoch: 1 \tTraining Loss: 3.091116 \tValidation Loss: 2.736837 \tTraining Accuracy: 0.110053 \tValidation Accuracy: 0.176396\n",
            "Epoch: 2 \tTraining Loss: 2.710880 \tValidation Loss: 2.447178 \tTraining Accuracy: 0.187005 \tValidation Accuracy: 0.243655\n",
            "Epoch: 3 \tTraining Loss: 2.457617 \tValidation Loss: 2.167317 \tTraining Accuracy: 0.256243 \tValidation Accuracy: 0.303299\n",
            "Epoch: 4 \tTraining Loss: 2.203920 \tValidation Loss: 1.862911 \tTraining Accuracy: 0.307961 \tValidation Accuracy: 0.411168\n",
            "Epoch: 5 \tTraining Loss: 1.936242 \tValidation Loss: 1.599136 \tTraining Accuracy: 0.384319 \tValidation Accuracy: 0.480964\n",
            "Epoch: 6 \tTraining Loss: 1.702969 \tValidation Loss: 1.414605 \tTraining Accuracy: 0.438725 \tValidation Accuracy: 0.540609\n",
            "Epoch: 7 \tTraining Loss: 1.535864 \tValidation Loss: 1.270909 \tTraining Accuracy: 0.493544 \tValidation Accuracy: 0.592640\n",
            "Epoch: 8 \tTraining Loss: 1.408239 \tValidation Loss: 1.157280 \tTraining Accuracy: 0.525668 \tValidation Accuracy: 0.626904\n",
            "Epoch: 9 \tTraining Loss: 1.309964 \tValidation Loss: 1.101997 \tTraining Accuracy: 0.564720 \tValidation Accuracy: 0.675127\n",
            "Epoch: 10 \tTraining Loss: 1.227957 \tValidation Loss: 1.041530 \tTraining Accuracy: 0.585486 \tValidation Accuracy: 0.648477\n",
            "Epoch: 11 \tTraining Loss: 1.157210 \tValidation Loss: 0.966454 \tTraining Accuracy: 0.606218 \tValidation Accuracy: 0.678934\n",
            "Epoch: 12 \tTraining Loss: 1.095428 \tValidation Loss: 0.933959 \tTraining Accuracy: 0.626291 \tValidation Accuracy: 0.705584\n",
            "Epoch: 13 \tTraining Loss: 1.034947 \tValidation Loss: 0.901647 \tTraining Accuracy: 0.652959 \tValidation Accuracy: 0.709391\n",
            "Epoch: 14 \tTraining Loss: 0.989088 \tValidation Loss: 0.864912 \tTraining Accuracy: 0.658623 \tValidation Accuracy: 0.734772\n",
            "Epoch: 15 \tTraining Loss: 0.946613 \tValidation Loss: 0.828776 \tTraining Accuracy: 0.690549 \tValidation Accuracy: 0.748731\n",
            "Epoch: 16 \tTraining Loss: 0.913256 \tValidation Loss: 0.811663 \tTraining Accuracy: 0.689531 \tValidation Accuracy: 0.732234\n",
            "Epoch: 17 \tTraining Loss: 0.875107 \tValidation Loss: 0.817879 \tTraining Accuracy: 0.702097 \tValidation Accuracy: 0.748731\n",
            "Epoch: 18 \tTraining Loss: 0.847886 \tValidation Loss: 0.788135 \tTraining Accuracy: 0.719091 \tValidation Accuracy: 0.761421\n",
            "Epoch: 19 \tTraining Loss: 0.817159 \tValidation Loss: 0.777914 \tTraining Accuracy: 0.729914 \tValidation Accuracy: 0.780457\n",
            "Epoch: 20 \tTraining Loss: 0.792716 \tValidation Loss: 0.774309 \tTraining Accuracy: 0.728533 \tValidation Accuracy: 0.750000\n"
          ]
        },
        {
          "output_type": "display_data",
          "data": {
            "text/plain": [
              "<IPython.core.display.HTML object>"
            ],
            "text/html": [
              "Waiting for W&B process to finish... <strong style=\"color:green\">(success).</strong>"
            ]
          },
          "metadata": {}
        },
        {
          "output_type": "display_data",
          "data": {
            "text/plain": [
              "<IPython.core.display.HTML object>"
            ],
            "text/html": [
              "<style>\n",
              "    table.wandb td:nth-child(1) { padding: 0 10px; text-align: left ; width: auto;} td:nth-child(2) {text-align: left ; width: 100%}\n",
              "    .wandb-row { display: flex; flex-direction: row; flex-wrap: wrap; justify-content: flex-start; width: 100% }\n",
              "    .wandb-col { display: flex; flex-direction: column; flex-basis: 100%; flex: 1; padding: 10px; }\n",
              "    </style>\n",
              "<div class=\"wandb-row\"><div class=\"wandb-col\"><h3>Run history:</h3><br/><table class=\"wandb\"><tr><td>Epoch</td><td>▁▁▂▂▂▃▃▄▄▄▅▅▅▆▆▇▇▇██</td></tr><tr><td>training_acc</td><td>▁▂▃▃▄▅▅▆▆▆▇▇▇▇██████</td></tr><tr><td>training_loss</td><td>█▇▆▅▄▄▃▃▃▂▂▂▂▂▁▁▁▁▁▁</td></tr><tr><td>validation_accuracy</td><td>▁▂▂▄▅▅▆▆▇▆▇▇▇▇█▇████</td></tr><tr><td>validation_loss</td><td>█▇▆▅▄▃▃▂▂▂▂▂▁▁▁▁▁▁▁▁</td></tr></table><br/></div><div class=\"wandb-col\"><h3>Run summary:</h3><br/><table class=\"wandb\"><tr><td>Epoch</td><td>20</td></tr><tr><td>training_acc</td><td>0.72853</td></tr><tr><td>training_loss</td><td>0.79272</td></tr><tr><td>validation_accuracy</td><td>0.75</td></tr><tr><td>validation_loss</td><td>0.77431</td></tr></table><br/></div></div>"
            ]
          },
          "metadata": {}
        },
        {
          "output_type": "display_data",
          "data": {
            "text/plain": [
              "<IPython.core.display.HTML object>"
            ],
            "text/html": [
              " View run <strong style=\"color:#cdcd00\">zesty-sweep-4</strong> at: <a href='https://wandb.ai/shashwat_mm19b053/Assignment-3/runs/nu3byuqt' target=\"_blank\">https://wandb.ai/shashwat_mm19b053/Assignment-3/runs/nu3byuqt</a><br/>Synced 5 W&B file(s), 0 media file(s), 0 artifact file(s) and 0 other file(s)"
            ]
          },
          "metadata": {}
        },
        {
          "output_type": "display_data",
          "data": {
            "text/plain": [
              "<IPython.core.display.HTML object>"
            ],
            "text/html": [
              "Find logs at: <code>./wandb/run-20230504_160618-nu3byuqt/logs</code>"
            ]
          },
          "metadata": {}
        },
        {
          "output_type": "stream",
          "name": "stderr",
          "text": [
            "\u001b[34m\u001b[1mwandb\u001b[0m: Sweep Agent: Waiting for job.\n",
            "\u001b[34m\u001b[1mwandb\u001b[0m: Job received.\n",
            "\u001b[34m\u001b[1mwandb\u001b[0m: Agent Starting Run: 53lbq0m1 with config:\n",
            "\u001b[34m\u001b[1mwandb\u001b[0m: \tbatch_size: 32\n",
            "\u001b[34m\u001b[1mwandb\u001b[0m: \tcell: GRU\n",
            "\u001b[34m\u001b[1mwandb\u001b[0m: \tdense_size: 512\n",
            "\u001b[34m\u001b[1mwandb\u001b[0m: \tdropout: 0\n",
            "\u001b[34m\u001b[1mwandb\u001b[0m: \tembed_dim: 128\n",
            "\u001b[34m\u001b[1mwandb\u001b[0m: \tenc_dec_layers: 2\n",
            "\u001b[34m\u001b[1mwandb\u001b[0m: \tepochs: 30\n",
            "\u001b[34m\u001b[1mwandb\u001b[0m: \thidden_units: 64\n",
            "\u001b[34m\u001b[1mwandb\u001b[0m: \tlr: 1e-05\n"
          ]
        },
        {
          "output_type": "display_data",
          "data": {
            "text/plain": [
              "VBox(children=(Label(value='Waiting for wandb.init()...\\r'), FloatProgress(value=0.016669651949996478, max=1.0…"
            ],
            "application/vnd.jupyter.widget-view+json": {
              "version_major": 2,
              "version_minor": 0,
              "model_id": "6b6104ebb4b64dfe8639b5529eb5ec3a"
            }
          },
          "metadata": {}
        },
        {
          "output_type": "display_data",
          "data": {
            "text/plain": [
              "<IPython.core.display.HTML object>"
            ],
            "text/html": [
              "Tracking run with wandb version 0.15.1"
            ]
          },
          "metadata": {}
        },
        {
          "output_type": "display_data",
          "data": {
            "text/plain": [
              "<IPython.core.display.HTML object>"
            ],
            "text/html": [
              "Run data is saved locally in <code>/content/wandb/run-20230504_162221-53lbq0m1</code>"
            ]
          },
          "metadata": {}
        },
        {
          "output_type": "display_data",
          "data": {
            "text/plain": [
              "<IPython.core.display.HTML object>"
            ],
            "text/html": [
              "Syncing run <strong><a href='https://wandb.ai/shashwat_mm19b053/Assignment-3/runs/53lbq0m1' target=\"_blank\">chocolate-sweep-5</a></strong> to <a href='https://wandb.ai/shashwat_mm19b053/Assignment-3' target=\"_blank\">Weights & Biases</a> (<a href='https://wandb.me/run' target=\"_blank\">docs</a>)<br/>Sweep page: <a href='https://wandb.ai/shashwat_mm19b053/Assignment-3/sweeps/lo1gzlng' target=\"_blank\">https://wandb.ai/shashwat_mm19b053/Assignment-3/sweeps/lo1gzlng</a>"
            ]
          },
          "metadata": {}
        },
        {
          "output_type": "display_data",
          "data": {
            "text/plain": [
              "<IPython.core.display.HTML object>"
            ],
            "text/html": [
              " View project at <a href='https://wandb.ai/shashwat_mm19b053/Assignment-3' target=\"_blank\">https://wandb.ai/shashwat_mm19b053/Assignment-3</a>"
            ]
          },
          "metadata": {}
        },
        {
          "output_type": "display_data",
          "data": {
            "text/plain": [
              "<IPython.core.display.HTML object>"
            ],
            "text/html": [
              " View sweep at <a href='https://wandb.ai/shashwat_mm19b053/Assignment-3/sweeps/lo1gzlng' target=\"_blank\">https://wandb.ai/shashwat_mm19b053/Assignment-3/sweeps/lo1gzlng</a>"
            ]
          },
          "metadata": {}
        },
        {
          "output_type": "display_data",
          "data": {
            "text/plain": [
              "<IPython.core.display.HTML object>"
            ],
            "text/html": [
              " View run at <a href='https://wandb.ai/shashwat_mm19b053/Assignment-3/runs/53lbq0m1' target=\"_blank\">https://wandb.ai/shashwat_mm19b053/Assignment-3/runs/53lbq0m1</a>"
            ]
          },
          "metadata": {}
        },
        {
          "output_type": "stream",
          "name": "stdout",
          "text": [
            "cell_GRU_hunit_64_embed_dim_128_dense_512_lr_1e-05_ep_30_enc_dec_layer_2_dropout_0_bs32\n",
            "Epoch: 1 \tTraining Loss: 3.903835 \tValidation Loss: 3.494086 \tTraining Accuracy: 0.039197 \tValidation Accuracy: 0.044416\n",
            "Epoch: 2 \tTraining Loss: 3.417401 \tValidation Loss: 3.350960 \tTraining Accuracy: 0.040160 \tValidation Accuracy: 0.081218\n",
            "Epoch: 3 \tTraining Loss: 3.339759 \tValidation Loss: 3.308464 \tTraining Accuracy: 0.061152 \tValidation Accuracy: 0.091371\n",
            "Epoch: 4 \tTraining Loss: 3.304999 \tValidation Loss: 3.282990 \tTraining Accuracy: 0.072296 \tValidation Accuracy: 0.102792\n",
            "Epoch: 5 \tTraining Loss: 3.278496 \tValidation Loss: 3.256522 \tTraining Accuracy: 0.087009 \tValidation Accuracy: 0.118020\n"
          ]
        },
        {
          "output_type": "display_data",
          "data": {
            "text/plain": [
              "<IPython.core.display.HTML object>"
            ],
            "text/html": [
              "Waiting for W&B process to finish... <strong style=\"color:red\">(failed 1).</strong> Press Control-C to abort syncing."
            ]
          },
          "metadata": {}
        },
        {
          "output_type": "display_data",
          "data": {
            "text/plain": [
              "VBox(children=(Label(value='0.001 MB of 0.010 MB uploaded (0.000 MB deduped)\\r'), FloatProgress(value=0.111153…"
            ],
            "application/vnd.jupyter.widget-view+json": {
              "version_major": 2,
              "version_minor": 0,
              "model_id": "0b2698d64eda4049af7b56b79db01afa"
            }
          },
          "metadata": {}
        },
        {
          "output_type": "display_data",
          "data": {
            "text/plain": [
              "<IPython.core.display.HTML object>"
            ],
            "text/html": [
              "<style>\n",
              "    table.wandb td:nth-child(1) { padding: 0 10px; text-align: left ; width: auto;} td:nth-child(2) {text-align: left ; width: 100%}\n",
              "    .wandb-row { display: flex; flex-direction: row; flex-wrap: wrap; justify-content: flex-start; width: 100% }\n",
              "    .wandb-col { display: flex; flex-direction: column; flex-basis: 100%; flex: 1; padding: 10px; }\n",
              "    </style>\n",
              "<div class=\"wandb-row\"><div class=\"wandb-col\"><h3>Run history:</h3><br/><table class=\"wandb\"><tr><td>Epoch</td><td>▁▃▅▆█</td></tr><tr><td>training_acc</td><td>▁▁▄▆█</td></tr><tr><td>training_loss</td><td>█▃▂▁▁</td></tr><tr><td>validation_accuracy</td><td>▁▄▅▇█</td></tr><tr><td>validation_loss</td><td>█▄▃▂▁</td></tr></table><br/></div><div class=\"wandb-col\"><h3>Run summary:</h3><br/><table class=\"wandb\"><tr><td>Epoch</td><td>5</td></tr><tr><td>training_acc</td><td>0.08701</td></tr><tr><td>training_loss</td><td>3.2785</td></tr><tr><td>validation_accuracy</td><td>0.11802</td></tr><tr><td>validation_loss</td><td>3.25652</td></tr></table><br/></div></div>"
            ]
          },
          "metadata": {}
        },
        {
          "output_type": "display_data",
          "data": {
            "text/plain": [
              "<IPython.core.display.HTML object>"
            ],
            "text/html": [
              " View run <strong style=\"color:#cdcd00\">chocolate-sweep-5</strong> at: <a href='https://wandb.ai/shashwat_mm19b053/Assignment-3/runs/53lbq0m1' target=\"_blank\">https://wandb.ai/shashwat_mm19b053/Assignment-3/runs/53lbq0m1</a><br/>Synced 5 W&B file(s), 0 media file(s), 0 artifact file(s) and 0 other file(s)"
            ]
          },
          "metadata": {}
        },
        {
          "output_type": "display_data",
          "data": {
            "text/plain": [
              "<IPython.core.display.HTML object>"
            ],
            "text/html": [
              "Find logs at: <code>./wandb/run-20230504_162221-53lbq0m1/logs</code>"
            ]
          },
          "metadata": {}
        },
        {
          "output_type": "stream",
          "name": "stderr",
          "text": [
            "\u001b[34m\u001b[1mwandb\u001b[0m: Agent Starting Run: 0h2spg65 with config:\n",
            "\u001b[34m\u001b[1mwandb\u001b[0m: \tbatch_size: 64\n",
            "\u001b[34m\u001b[1mwandb\u001b[0m: \tcell: GRU\n",
            "\u001b[34m\u001b[1mwandb\u001b[0m: \tdense_size: 256\n",
            "\u001b[34m\u001b[1mwandb\u001b[0m: \tdropout: 0\n",
            "\u001b[34m\u001b[1mwandb\u001b[0m: \tembed_dim: 128\n",
            "\u001b[34m\u001b[1mwandb\u001b[0m: \tenc_dec_layers: 4\n",
            "\u001b[34m\u001b[1mwandb\u001b[0m: \tepochs: 30\n",
            "\u001b[34m\u001b[1mwandb\u001b[0m: \thidden_units: 64\n",
            "\u001b[34m\u001b[1mwandb\u001b[0m: \tlr: 0.001\n"
          ]
        },
        {
          "output_type": "display_data",
          "data": {
            "text/plain": [
              "<IPython.core.display.HTML object>"
            ],
            "text/html": [
              "Tracking run with wandb version 0.15.1"
            ]
          },
          "metadata": {}
        },
        {
          "output_type": "display_data",
          "data": {
            "text/plain": [
              "<IPython.core.display.HTML object>"
            ],
            "text/html": [
              "Run data is saved locally in <code>/content/wandb/run-20230504_162622-0h2spg65</code>"
            ]
          },
          "metadata": {}
        },
        {
          "output_type": "display_data",
          "data": {
            "text/plain": [
              "<IPython.core.display.HTML object>"
            ],
            "text/html": [
              "Syncing run <strong><a href='https://wandb.ai/shashwat_mm19b053/Assignment-3/runs/0h2spg65' target=\"_blank\">atomic-sweep-6</a></strong> to <a href='https://wandb.ai/shashwat_mm19b053/Assignment-3' target=\"_blank\">Weights & Biases</a> (<a href='https://wandb.me/run' target=\"_blank\">docs</a>)<br/>Sweep page: <a href='https://wandb.ai/shashwat_mm19b053/Assignment-3/sweeps/lo1gzlng' target=\"_blank\">https://wandb.ai/shashwat_mm19b053/Assignment-3/sweeps/lo1gzlng</a>"
            ]
          },
          "metadata": {}
        },
        {
          "output_type": "display_data",
          "data": {
            "text/plain": [
              "<IPython.core.display.HTML object>"
            ],
            "text/html": [
              " View project at <a href='https://wandb.ai/shashwat_mm19b053/Assignment-3' target=\"_blank\">https://wandb.ai/shashwat_mm19b053/Assignment-3</a>"
            ]
          },
          "metadata": {}
        },
        {
          "output_type": "display_data",
          "data": {
            "text/plain": [
              "<IPython.core.display.HTML object>"
            ],
            "text/html": [
              " View sweep at <a href='https://wandb.ai/shashwat_mm19b053/Assignment-3/sweeps/lo1gzlng' target=\"_blank\">https://wandb.ai/shashwat_mm19b053/Assignment-3/sweeps/lo1gzlng</a>"
            ]
          },
          "metadata": {}
        },
        {
          "output_type": "display_data",
          "data": {
            "text/plain": [
              "<IPython.core.display.HTML object>"
            ],
            "text/html": [
              " View run at <a href='https://wandb.ai/shashwat_mm19b053/Assignment-3/runs/0h2spg65' target=\"_blank\">https://wandb.ai/shashwat_mm19b053/Assignment-3/runs/0h2spg65</a>"
            ]
          },
          "metadata": {}
        },
        {
          "output_type": "stream",
          "name": "stdout",
          "text": [
            "cell_GRU_hunit_64_embed_dim_128_dense_256_lr_0.001_ep_30_enc_dec_layer_4_dropout_0_bs64\n",
            "Epoch: 1 \tTraining Loss: 3.009610 \tValidation Loss: 2.591196 \tTraining Accuracy: 0.128239 \tValidation Accuracy: 0.208543\n",
            "Epoch: 2 \tTraining Loss: 2.434342 \tValidation Loss: 2.087399 \tTraining Accuracy: 0.267684 \tValidation Accuracy: 0.356784\n",
            "Epoch: 3 \tTraining Loss: 1.924770 \tValidation Loss: 1.505431 \tTraining Accuracy: 0.409245 \tValidation Accuracy: 0.547739\n",
            "Epoch: 4 \tTraining Loss: 1.468483 \tValidation Loss: 1.205120 \tTraining Accuracy: 0.553485 \tValidation Accuracy: 0.630653\n",
            "Epoch: 5 \tTraining Loss: 1.234476 \tValidation Loss: 1.062509 \tTraining Accuracy: 0.616080 \tValidation Accuracy: 0.663317\n",
            "Epoch: 6 \tTraining Loss: 1.096001 \tValidation Loss: 0.970916 \tTraining Accuracy: 0.631270 \tValidation Accuracy: 0.746231\n",
            "Epoch: 7 \tTraining Loss: 1.029311 \tValidation Loss: 0.934955 \tTraining Accuracy: 0.658037 \tValidation Accuracy: 0.693467\n",
            "Epoch: 8 \tTraining Loss: 0.963560 \tValidation Loss: 0.882538 \tTraining Accuracy: 0.686415 \tValidation Accuracy: 0.796482\n",
            "Epoch: 9 \tTraining Loss: 0.916872 \tValidation Loss: 0.849384 \tTraining Accuracy: 0.685150 \tValidation Accuracy: 0.778894\n",
            "Epoch: 10 \tTraining Loss: 0.875625 \tValidation Loss: 0.831478 \tTraining Accuracy: 0.715997 \tValidation Accuracy: 0.761307\n",
            "Epoch: 11 \tTraining Loss: 0.843017 \tValidation Loss: 0.847325 \tTraining Accuracy: 0.723094 \tValidation Accuracy: 0.751256\n",
            "Epoch: 12 \tTraining Loss: 0.819044 \tValidation Loss: 0.793523 \tTraining Accuracy: 0.730696 \tValidation Accuracy: 0.766332\n",
            "Epoch: 13 \tTraining Loss: 0.791761 \tValidation Loss: 0.785818 \tTraining Accuracy: 0.744324 \tValidation Accuracy: 0.771357\n",
            "Epoch: 14 \tTraining Loss: 0.783982 \tValidation Loss: 0.791501 \tTraining Accuracy: 0.739501 \tValidation Accuracy: 0.768844\n",
            "Epoch: 15 \tTraining Loss: 0.766391 \tValidation Loss: 0.775727 \tTraining Accuracy: 0.757546 \tValidation Accuracy: 0.783920\n",
            "Epoch: 16 \tTraining Loss: 0.739519 \tValidation Loss: 0.778074 \tTraining Accuracy: 0.765615 \tValidation Accuracy: 0.781407\n",
            "Epoch: 17 \tTraining Loss: 0.728499 \tValidation Loss: 0.734742 \tTraining Accuracy: 0.767119 \tValidation Accuracy: 0.801508\n",
            "Epoch: 18 \tTraining Loss: 0.709528 \tValidation Loss: 0.799125 \tTraining Accuracy: 0.763036 \tValidation Accuracy: 0.753769\n",
            "Epoch: 19 \tTraining Loss: 0.697844 \tValidation Loss: 0.758740 \tTraining Accuracy: 0.767145 \tValidation Accuracy: 0.788945\n",
            "Epoch: 20 \tTraining Loss: 0.689171 \tValidation Loss: 0.780348 \tTraining Accuracy: 0.763532 \tValidation Accuracy: 0.796482\n",
            "Epoch: 21 \tTraining Loss: 0.678308 \tValidation Loss: 0.766069 \tTraining Accuracy: 0.780570 \tValidation Accuracy: 0.806533\n",
            "Epoch: 22 \tTraining Loss: 0.676031 \tValidation Loss: 0.752071 \tTraining Accuracy: 0.788533 \tValidation Accuracy: 0.796482\n",
            "Epoch: 23 \tTraining Loss: 0.657553 \tValidation Loss: 0.729839 \tTraining Accuracy: 0.769522 \tValidation Accuracy: 0.793970\n",
            "Epoch: 24 \tTraining Loss: 0.654089 \tValidation Loss: 0.739900 \tTraining Accuracy: 0.785192 \tValidation Accuracy: 0.809045\n",
            "Epoch: 25 \tTraining Loss: 0.636640 \tValidation Loss: 0.747281 \tTraining Accuracy: 0.795853 \tValidation Accuracy: 0.801508\n",
            "Epoch: 26 \tTraining Loss: 0.628526 \tValidation Loss: 0.729280 \tTraining Accuracy: 0.797812 \tValidation Accuracy: 0.806533\n",
            "Epoch: 27 \tTraining Loss: 0.628986 \tValidation Loss: 0.753873 \tTraining Accuracy: 0.786261 \tValidation Accuracy: 0.791457\n",
            "Epoch: 28 \tTraining Loss: 0.618255 \tValidation Loss: 0.722363 \tTraining Accuracy: 0.798780 \tValidation Accuracy: 0.841709\n",
            "Epoch: 29 \tTraining Loss: 0.614304 \tValidation Loss: 0.750187 \tTraining Accuracy: 0.805694 \tValidation Accuracy: 0.816583\n",
            "Epoch: 30 \tTraining Loss: 0.607466 \tValidation Loss: 0.734286 \tTraining Accuracy: 0.791465 \tValidation Accuracy: 0.811558\n"
          ]
        },
        {
          "output_type": "display_data",
          "data": {
            "text/plain": [
              "<IPython.core.display.HTML object>"
            ],
            "text/html": [
              "Waiting for W&B process to finish... <strong style=\"color:green\">(success).</strong>"
            ]
          },
          "metadata": {}
        },
        {
          "output_type": "display_data",
          "data": {
            "text/plain": [
              "VBox(children=(Label(value='0.001 MB of 0.001 MB uploaded (0.000 MB deduped)\\r'), FloatProgress(value=1.0, max…"
            ],
            "application/vnd.jupyter.widget-view+json": {
              "version_major": 2,
              "version_minor": 0,
              "model_id": "1b318471cd534f1c9af0a8ed57a1a008"
            }
          },
          "metadata": {}
        },
        {
          "output_type": "display_data",
          "data": {
            "text/plain": [
              "<IPython.core.display.HTML object>"
            ],
            "text/html": [
              "<style>\n",
              "    table.wandb td:nth-child(1) { padding: 0 10px; text-align: left ; width: auto;} td:nth-child(2) {text-align: left ; width: 100%}\n",
              "    .wandb-row { display: flex; flex-direction: row; flex-wrap: wrap; justify-content: flex-start; width: 100% }\n",
              "    .wandb-col { display: flex; flex-direction: column; flex-basis: 100%; flex: 1; padding: 10px; }\n",
              "    </style>\n",
              "<div class=\"wandb-row\"><div class=\"wandb-col\"><h3>Run history:</h3><br/><table class=\"wandb\"><tr><td>Epoch</td><td>▁▁▁▂▂▂▂▃▃▃▃▄▄▄▄▅▅▅▅▆▆▆▆▇▇▇▇███</td></tr><tr><td>training_acc</td><td>▁▂▄▅▆▆▆▇▇▇▇▇▇▇████████████████</td></tr><tr><td>training_loss</td><td>█▆▅▄▃▂▂▂▂▂▂▂▂▂▁▁▁▁▁▁▁▁▁▁▁▁▁▁▁▁</td></tr><tr><td>validation_accuracy</td><td>▁▃▅▆▆▇▆▇▇▇▇▇▇▇▇▇█▇▇▇█▇▇███▇███</td></tr><tr><td>validation_loss</td><td>█▆▄▃▂▂▂▂▁▁▁▁▁▁▁▁▁▁▁▁▁▁▁▁▁▁▁▁▁▁</td></tr></table><br/></div><div class=\"wandb-col\"><h3>Run summary:</h3><br/><table class=\"wandb\"><tr><td>Epoch</td><td>30</td></tr><tr><td>training_acc</td><td>0.79146</td></tr><tr><td>training_loss</td><td>0.60747</td></tr><tr><td>validation_accuracy</td><td>0.81156</td></tr><tr><td>validation_loss</td><td>0.73429</td></tr></table><br/></div></div>"
            ]
          },
          "metadata": {}
        },
        {
          "output_type": "display_data",
          "data": {
            "text/plain": [
              "<IPython.core.display.HTML object>"
            ],
            "text/html": [
              " View run <strong style=\"color:#cdcd00\">atomic-sweep-6</strong> at: <a href='https://wandb.ai/shashwat_mm19b053/Assignment-3/runs/0h2spg65' target=\"_blank\">https://wandb.ai/shashwat_mm19b053/Assignment-3/runs/0h2spg65</a><br/>Synced 5 W&B file(s), 0 media file(s), 0 artifact file(s) and 0 other file(s)"
            ]
          },
          "metadata": {}
        },
        {
          "output_type": "display_data",
          "data": {
            "text/plain": [
              "<IPython.core.display.HTML object>"
            ],
            "text/html": [
              "Find logs at: <code>./wandb/run-20230504_162622-0h2spg65/logs</code>"
            ]
          },
          "metadata": {}
        },
        {
          "output_type": "stream",
          "name": "stderr",
          "text": [
            "\u001b[34m\u001b[1mwandb\u001b[0m: Agent Starting Run: z7n9ayg8 with config:\n",
            "\u001b[34m\u001b[1mwandb\u001b[0m: \tbatch_size: 8\n",
            "\u001b[34m\u001b[1mwandb\u001b[0m: \tcell: RNN\n",
            "\u001b[34m\u001b[1mwandb\u001b[0m: \tdense_size: 128\n",
            "\u001b[34m\u001b[1mwandb\u001b[0m: \tdropout: 0\n",
            "\u001b[34m\u001b[1mwandb\u001b[0m: \tembed_dim: 64\n",
            "\u001b[34m\u001b[1mwandb\u001b[0m: \tenc_dec_layers: 4\n",
            "\u001b[34m\u001b[1mwandb\u001b[0m: \tepochs: 30\n",
            "\u001b[34m\u001b[1mwandb\u001b[0m: \thidden_units: 256\n",
            "\u001b[34m\u001b[1mwandb\u001b[0m: \tlr: 0.0001\n"
          ]
        },
        {
          "output_type": "display_data",
          "data": {
            "text/plain": [
              "<IPython.core.display.HTML object>"
            ],
            "text/html": [
              "Tracking run with wandb version 0.15.1"
            ]
          },
          "metadata": {}
        },
        {
          "output_type": "display_data",
          "data": {
            "text/plain": [
              "<IPython.core.display.HTML object>"
            ],
            "text/html": [
              "Run data is saved locally in <code>/content/wandb/run-20230504_164100-z7n9ayg8</code>"
            ]
          },
          "metadata": {}
        },
        {
          "output_type": "display_data",
          "data": {
            "text/plain": [
              "<IPython.core.display.HTML object>"
            ],
            "text/html": [
              "Syncing run <strong><a href='https://wandb.ai/shashwat_mm19b053/Assignment-3/runs/z7n9ayg8' target=\"_blank\">autumn-sweep-7</a></strong> to <a href='https://wandb.ai/shashwat_mm19b053/Assignment-3' target=\"_blank\">Weights & Biases</a> (<a href='https://wandb.me/run' target=\"_blank\">docs</a>)<br/>Sweep page: <a href='https://wandb.ai/shashwat_mm19b053/Assignment-3/sweeps/lo1gzlng' target=\"_blank\">https://wandb.ai/shashwat_mm19b053/Assignment-3/sweeps/lo1gzlng</a>"
            ]
          },
          "metadata": {}
        },
        {
          "output_type": "display_data",
          "data": {
            "text/plain": [
              "<IPython.core.display.HTML object>"
            ],
            "text/html": [
              " View project at <a href='https://wandb.ai/shashwat_mm19b053/Assignment-3' target=\"_blank\">https://wandb.ai/shashwat_mm19b053/Assignment-3</a>"
            ]
          },
          "metadata": {}
        },
        {
          "output_type": "display_data",
          "data": {
            "text/plain": [
              "<IPython.core.display.HTML object>"
            ],
            "text/html": [
              " View sweep at <a href='https://wandb.ai/shashwat_mm19b053/Assignment-3/sweeps/lo1gzlng' target=\"_blank\">https://wandb.ai/shashwat_mm19b053/Assignment-3/sweeps/lo1gzlng</a>"
            ]
          },
          "metadata": {}
        },
        {
          "output_type": "display_data",
          "data": {
            "text/plain": [
              "<IPython.core.display.HTML object>"
            ],
            "text/html": [
              " View run at <a href='https://wandb.ai/shashwat_mm19b053/Assignment-3/runs/z7n9ayg8' target=\"_blank\">https://wandb.ai/shashwat_mm19b053/Assignment-3/runs/z7n9ayg8</a>"
            ]
          },
          "metadata": {}
        },
        {
          "output_type": "stream",
          "name": "stdout",
          "text": [
            "cell_RNN_hunit_256_embed_dim_64_dense_128_lr_0.0001_ep_30_enc_dec_layer_4_dropout_0_bs8\n",
            "Epoch: 1 \tTraining Loss: 3.085120 \tValidation Loss: 3.031897 \tTraining Accuracy: 0.107736 \tValidation Accuracy: 0.127101\n"
          ]
        }
      ]
    },
    {
      "cell_type": "code",
      "source": [
        "model"
      ],
      "metadata": {
        "colab": {
          "base_uri": "https://localhost:8080/"
        },
        "id": "IAPQkaD7-DkA",
        "outputId": "33add3a4-a05b-478a-b658-a3005a63e2b8"
      },
      "execution_count": null,
      "outputs": [
        {
          "output_type": "execute_result",
          "data": {
            "text/plain": [
              "Seq2Seq(\n",
              "  (encoder): Encoder(\n",
              "    (embedding): Embedding(28, 32, padding_idx=0)\n",
              "    (rnn): LSTM(32, 16, num_layers=2)\n",
              "  )\n",
              "  (decoder): Decoder(\n",
              "    (embedding): Embedding(68, 32, padding_idx=0)\n",
              "    (rnn): LSTM(32, 16, num_layers=2)\n",
              "    (fc): Linear(in_features=16, out_features=68, bias=True)\n",
              "  )\n",
              ")"
            ]
          },
          "metadata": {},
          "execution_count": 149
        }
      ]
    },
    {
      "cell_type": "code",
      "source": [
        "model.load_state_dict(torch.load('tut1-model.pt'))\n",
        "\n",
        "test_loss,ch = evaluate(model, test_dataloader, criterion,device)\n",
        "print(f'Test Loss: {test_loss:.9f}')\n",
        "print(f'Acc: {ch:.6f}')"
      ],
      "metadata": {
        "colab": {
          "base_uri": "https://localhost:8080/"
        },
        "id": "qE-flbl-mx0h",
        "outputId": "255979ab-1009-4df5-dd3f-540ec66d0a52"
      },
      "execution_count": null,
      "outputs": [
        {
          "output_type": "stream",
          "name": "stdout",
          "text": [
            "Test Loss: 0.884725921\n",
            "Acc: 0.723820\n"
          ]
        }
      ]
    },
    {
      "cell_type": "code",
      "source": [
        "target_texts"
      ],
      "metadata": {
        "colab": {
          "base_uri": "https://localhost:8080/"
        },
        "id": "jRTlSpYTnm4M",
        "outputId": "cfd31db4-0e67-405d-f9b0-d8f5d86c0be3"
      },
      "execution_count": null,
      "outputs": [
        {
          "output_type": "execute_result",
          "data": {
            "text/plain": [
              "['\\tशस्त्रागार\\n',\n",
              " '\\tबिन्द्या\\n',\n",
              " '\\tकिरणकांत\\n',\n",
              " '\\tयज्ञोपवीत\\n',\n",
              " '\\tरटानिया\\n',\n",
              " '\\tवागण्याचे\\n',\n",
              " '\\tदेशभरामध्ये\\n',\n",
              " '\\tसुघड़पन\\n',\n",
              " '\\tमोहीवाल\\n',\n",
              " '\\tसर्वसंग्रह\\n',\n",
              " '\\tबसेको\\n',\n",
              " '\\tतुमच्यापैकी\\n',\n",
              " '\\tकान्यकुब्ज\\n',\n",
              " '\\tइनटॉक्सिनेशन\\n',\n",
              " '\\tमेच्यूरिटी\\n',\n",
              " '\\tअगरी\\n',\n",
              " '\\tअनुक्रमानुपात\\n',\n",
              " '\\tधूलचन्द\\n',\n",
              " '\\tअवलेह\\n',\n",
              " '\\tएबरोर्ड\\n',\n",
              " '\\tबैलर्स\\n',\n",
              " '\\tबार्गली\\n',\n",
              " '\\tपंक्चर्ड\\n',\n",
              " '\\tहैंकर्स\\n',\n",
              " '\\tजवानोंके\\n',\n",
              " '\\tपौंकी\\n',\n",
              " '\\tजगनधाम\\n',\n",
              " '\\tपोन्नियम\\n',\n",
              " '\\tआईएनबीए\\n',\n",
              " '\\tवेदलम\\n',\n",
              " '\\tचिनवास\\n',\n",
              " '\\tमारवाड़ा\\n',\n",
              " '\\tअनसमझा\\n',\n",
              " '\\tइस्टूडेंट\\n',\n",
              " '\\tदुःखीत\\n',\n",
              " '\\tसिघांची\\n',\n",
              " '\\tशिक्षेचे\\n',\n",
              " '\\tउज्वलतम\\n',\n",
              " '\\tआपट्टन\\n',\n",
              " '\\tअम्बिकावन\\n',\n",
              " '\\tखगनी\\n',\n",
              " '\\tथियामिन\\n',\n",
              " '\\tसोशियोलाजिकल\\n',\n",
              " '\\tएप\\n',\n",
              " '\\tभाजपाको\\n',\n",
              " '\\tइस्तिथि\\n',\n",
              " '\\tछायाटांड\\n',\n",
              " '\\tतोपवाल\\n',\n",
              " '\\tगुदवाते\\n',\n",
              " '\\tविसलेरी\\n',\n",
              " '\\tथर्मलपावर\\n',\n",
              " '\\tसांचे\\n',\n",
              " '\\tपिंटिया\\n',\n",
              " '\\tकैंटाबिल\\n',\n",
              " '\\tअरेंजिंग\\n',\n",
              " '\\tवाहिन्यांसाठी\\n',\n",
              " '\\tआईटीपीए\\n',\n",
              " '\\tपिक्सलमेटर\\n',\n",
              " '\\tपहनायूंगा\\n',\n",
              " '\\tमेडसन\\n',\n",
              " '\\tविदयापीठ\\n',\n",
              " '\\tरुपयेची\\n',\n",
              " '\\tनजरबन्दी\\n',\n",
              " '\\tक्रीचन\\n',\n",
              " '\\tपेशनधारियों\\n',\n",
              " '\\tदेखलूँ\\n',\n",
              " '\\tमैकलेड\\n',\n",
              " '\\tलोकरचनाओं\\n',\n",
              " '\\tगोविंदापुरा\\n',\n",
              " '\\tआईएफएन\\n',\n",
              " '\\tरॉटवीलर\\n',\n",
              " '\\tईश्वरपुर\\n',\n",
              " '\\tचारित्र्य\\n',\n",
              " '\\tएक्सप्लोशन\\n',\n",
              " '\\tयास्मिनला\\n',\n",
              " '\\tत्रिकाकरा\\n',\n",
              " '\\tसतनाजा\\n',\n",
              " '\\tपूछें\\n',\n",
              " '\\tधनसंकट\\n',\n",
              " '\\tकाइपरनिक\\n',\n",
              " '\\tतेजस्वीय\\n',\n",
              " '\\tश्नाइडर\\n',\n",
              " '\\tबन्हुक\\n',\n",
              " '\\tबयानकिया\\n',\n",
              " '\\tमधुमोम\\n',\n",
              " '\\tसु\\n',\n",
              " '\\tग्लूज़\\n',\n",
              " '\\tचिल्लाकर\\n',\n",
              " '\\tजीआईटीएएम\\n',\n",
              " '\\tश्रीकला\\n',\n",
              " '\\tलैम्पों\\n',\n",
              " '\\tअपायल\\n',\n",
              " '\\tनेफियू\\n',\n",
              " '\\tएंक्लेव\\n',\n",
              " '\\tभुलानपुर\\n',\n",
              " '\\tविकेंद्री\\n',\n",
              " '\\tइंफेंट\\n',\n",
              " '\\tलाठियाँ\\n',\n",
              " '\\tढाऊँगा\\n',\n",
              " '\\tकिमैट्रिक\\n',\n",
              " '\\tगौतमाचे\\n',\n",
              " '\\tफरोटका\\n',\n",
              " '\\tआमय\\n',\n",
              " '\\tचंदनहारी\\n',\n",
              " '\\tडेकाथॉन\\n',\n",
              " '\\tएग्रेट\\n',\n",
              " '\\tपुरखवा\\n',\n",
              " '\\tहाइपोग्लाइसीन\\n',\n",
              " '\\tमहवा\\n',\n",
              " '\\tदूभ\\n',\n",
              " '\\tअरजिन्द्र\\n',\n",
              " '\\tशातिनिकेतन\\n',\n",
              " '\\tअमरगुन\\n',\n",
              " '\\tभावपुर\\n',\n",
              " '\\tट्रांसक्रिप्टेज़\\n',\n",
              " '\\tगंतिविधियों\\n',\n",
              " '\\tमरुकांतर\\n',\n",
              " '\\tहोमबलियों\\n',\n",
              " '\\tकुरुक्षत्रे\\n',\n",
              " '\\tउन्नतीची\\n',\n",
              " '\\tवेटलिफ़्टिंग\\n',\n",
              " '\\tनादरू\\n',\n",
              " '\\tपालयेकर\\n',\n",
              " '\\tनिक्षेपित\\n',\n",
              " '\\tशासनाबद्दल\\n',\n",
              " '\\tकोल्लू\\n',\n",
              " '\\tइलेक्ट्रली\\n',\n",
              " '\\tकंटेट्स\\n',\n",
              " '\\tकिम्बली\\n',\n",
              " '\\tबेसाख\\n',\n",
              " '\\tआविष्कारको\\n',\n",
              " '\\tशिविक\\n',\n",
              " '\\tयेमुल\\n',\n",
              " '\\tशोरेल\\n',\n",
              " '\\tसुरपद्मा\\n',\n",
              " '\\tजयदेवसिंह\\n',\n",
              " '\\tकॉम्पैक्चरेशन\\n',\n",
              " '\\tहरमुज\\n',\n",
              " '\\tएप्प\\n',\n",
              " '\\tअलेसा\\n',\n",
              " '\\tजखल्ला\\n',\n",
              " '\\tगतिशून्यता\\n',\n",
              " '\\tपापकृत\\n',\n",
              " '\\tरेजीम्स\\n',\n",
              " '\\tकलमस्सेरी\\n',\n",
              " '\\tबारोला\\n',\n",
              " '\\tपाटलिपुत्र\\n',\n",
              " '\\tउत्पादनाशी\\n',\n",
              " '\\tकुर्रूभाट\\n',\n",
              " '\\tजीवाश्मित\\n',\n",
              " '\\tउपलघु\\n',\n",
              " '\\tजनेश्वरी\\n',\n",
              " '\\tअमलदरामत\\n',\n",
              " '\\tपिसाल\\n',\n",
              " '\\tरुग्णसेवेस\\n',\n",
              " '\\tसंचाय\\n',\n",
              " '\\tकरामतुल्लाह\\n',\n",
              " '\\tढींगचा\\n',\n",
              " '\\tतीसागर\\n',\n",
              " '\\tगॉग\\n',\n",
              " '\\tविनयपत्रिक\\n',\n",
              " '\\tभांडाराने\\n',\n",
              " '\\tजीएनएलए\\n',\n",
              " '\\tपंडितों\\n',\n",
              " '\\tरॉचवेल\\n',\n",
              " '\\tनदीमुल\\n',\n",
              " '\\tसर्वसम्पत्ति\\n',\n",
              " '\\tपेंकते\\n',\n",
              " '\\tनिकलेला\\n',\n",
              " '\\tचिन्तयते\\n',\n",
              " '\\tआत्मविज्ञापन\\n',\n",
              " '\\tब्रीवीक\\n',\n",
              " '\\tग्रहित\\n',\n",
              " '\\tविश्वरविद्यालय\\n',\n",
              " '\\tएनआईपीई\\n',\n",
              " '\\tटेहुना\\n',\n",
              " '\\tडायमेंशियल\\n',\n",
              " '\\tशहराकडून\\n',\n",
              " '\\tन्यूट्ररेशन\\n',\n",
              " '\\tसेगमें\\n',\n",
              " '\\tहडियोल\\n',\n",
              " '\\tकैमरामैनी\\n',\n",
              " '\\tतेरके\\n',\n",
              " '\\tप्रश्नपत्रों\\n',\n",
              " '\\tकंफ्लूएंस\\n',\n",
              " '\\tबांकुला\\n',\n",
              " '\\tहोलैंड\\n',\n",
              " '\\tओविस\\n',\n",
              " '\\tआत्मोसर्ग\\n',\n",
              " '\\tतैलधारावत\\n',\n",
              " '\\tमखौड़ा\\n',\n",
              " '\\tपेक्योंग\\n',\n",
              " '\\tलघुग्रंथ\\n',\n",
              " '\\tउरोमा\\n',\n",
              " '\\tशोथ\\n',\n",
              " '\\tएकभाई\\n',\n",
              " '\\tअंगत\\n',\n",
              " '\\tजुरिडिक्शन\\n',\n",
              " '\\tविजयानंद\\n',\n",
              " '\\tताराकुरा\\n',\n",
              " '\\tडिफेंंस\\n',\n",
              " '\\tपोट्रिले\\n',\n",
              " '\\tथलरुद्ध\\n',\n",
              " '\\tट्रेज़ेडी\\n',\n",
              " '\\tसरपत\\n',\n",
              " '\\tकिहें\\n',\n",
              " '\\tरमेंद्र\\n',\n",
              " '\\tहंसाते\\n',\n",
              " '\\tमेरिटेशन\\n',\n",
              " '\\tनिपाणीसह\\n',\n",
              " '\\tरिहायतें\\n',\n",
              " '\\tझांगर\\n',\n",
              " '\\tमुंबईकरीब\\n',\n",
              " '\\tहैदरशाह\\n',\n",
              " '\\tनेरूबेल\\n',\n",
              " '\\tसंस्थानात\\n',\n",
              " '\\tलोकाचारे\\n',\n",
              " '\\tकेम्मनगुंडी\\n',\n",
              " '\\tसंतोषनी\\n',\n",
              " '\\tसंकेतबद्धता\\n',\n",
              " '\\tपुरुषाय\\n',\n",
              " '\\tबैठालकर\\n',\n",
              " '\\tचन्द्रहरी\\n',\n",
              " '\\tजैमी\\n',\n",
              " '\\tलेटाला\\n',\n",
              " '\\tविश्वजनीनता\\n',\n",
              " '\\tछोटके\\n',\n",
              " '\\tबरवादाग\\n',\n",
              " '\\tउखाड़ते\\n',\n",
              " '\\tफलासक्ति\\n',\n",
              " '\\tशरोजिनि\\n',\n",
              " '\\tएसजेए\\n',\n",
              " '\\tबांदकपुर\\n',\n",
              " '\\tसब्क्राइबर\\n',\n",
              " '\\tस्थानिकांचीच\\n',\n",
              " '\\tपागलमाता\\n',\n",
              " '\\tसुदैल\\n',\n",
              " '\\tपॉलिमिड\\n',\n",
              " '\\tशुकदेवा\\n',\n",
              " '\\tक्रोमसेट\\n',\n",
              " '\\tप्रवासीलाल\\n',\n",
              " '\\tफिलमेंट\\n',\n",
              " '\\tहार्टलेड\\n',\n",
              " '\\tएबीआईएन\\n',\n",
              " '\\tइकबालजोत\\n',\n",
              " '\\tसानंदों\\n',\n",
              " '\\tपार्लीमैंटरी\\n',\n",
              " '\\tमिनिकिट\\n',\n",
              " '\\tअरनाला\\n',\n",
              " '\\tफणीश्वर\\n',\n",
              " '\\tइनारितू\\n',\n",
              " '\\tजाही\\n',\n",
              " '\\tयाप्रकरणीचा\\n',\n",
              " '\\tपैदाशीसाठी\\n',\n",
              " '\\tसंगदिलों\\n',\n",
              " '\\tबापूला\\n',\n",
              " '\\tटाकीच्या\\n',\n",
              " '\\tसेंटेंजेलो\\n',\n",
              " '\\tसीताभोग\\n',\n",
              " '\\tमजीदगंज\\n',\n",
              " '\\tसिल्ही\\n',\n",
              " '\\tतनमय\\n',\n",
              " '\\tरूपमात्र\\n',\n",
              " '\\tतेलीकोटा\\n',\n",
              " '\\tबेहाशी\\n',\n",
              " '\\tफॉर्मडिहाइड\\n',\n",
              " '\\tमानुषिक\\n',\n",
              " '\\tट्रेजर\\n',\n",
              " '\\tदीकरोंग\\n',\n",
              " '\\tगरमपुरा\\n',\n",
              " '\\tभोगना\\n',\n",
              " '\\tटूर्मलाइन\\n',\n",
              " '\\tपरीक्षेचेही\\n',\n",
              " '\\tखेमाबाजी\\n',\n",
              " '\\tनागेश्वर\\n',\n",
              " '\\tफुपन\\n',\n",
              " '\\tगिलहरियां\\n',\n",
              " '\\tअमें\\n',\n",
              " '\\tसलसलादी\\n',\n",
              " '\\tटेलकॉन\\n',\n",
              " '\\tज़ब्तशुदा\\n',\n",
              " '\\tकॉलिट्ज\\n',\n",
              " '\\tहिनोटी\\n',\n",
              " '\\tघीसूलालजी\\n',\n",
              " '\\tस्ट्रक्चरल\\n',\n",
              " '\\tकैप्लेन\\n',\n",
              " '\\tस्ट्रैंथलिफटिंग\\n',\n",
              " '\\tदर्शपौर्ण\\n',\n",
              " '\\tआईपार्कस्मार्ट\\n',\n",
              " '\\tएंटीनेशनल\\n',\n",
              " '\\tउपस्वनों\\n',\n",
              " '\\tएलामी\\n',\n",
              " '\\tगैरव्यवहाराचा\\n',\n",
              " '\\tअविष्कारशीलता\\n',\n",
              " '\\tमुस्लेमिन\\n',\n",
              " '\\tसोरबाजार\\n',\n",
              " '\\tसहपाठी\\n',\n",
              " '\\tसोईधार\\n',\n",
              " '\\tपर्वती\\n',\n",
              " '\\tलोखंडाला\\n',\n",
              " '\\tनरसंहारी\\n',\n",
              " '\\tजन्मेगा\\n',\n",
              " '\\tखोतकरांची\\n',\n",
              " '\\tविजुअलाइज़र\\n',\n",
              " '\\tबसेसमधून\\n',\n",
              " '\\tस्वायतता\\n',\n",
              " '\\tविमर्शादि\\n',\n",
              " '\\tमिकमाश\\n',\n",
              " '\\tशैतानफ़िश\\n',\n",
              " '\\tमादेह\\n',\n",
              " '\\tचैतन्य\\n',\n",
              " '\\tबत्तरा\\n',\n",
              " '\\tमोडस्ली\\n',\n",
              " '\\tफफूदनाशक\\n',\n",
              " '\\tसौंदर्यीकृत\\n',\n",
              " '\\tपूँजीगत\\n',\n",
              " '\\tचेल्लामेश्वर\\n',\n",
              " '\\tवेप्स\\n',\n",
              " '\\tमारगुएराइट\\n',\n",
              " '\\tहाइपोथार्मिया\\n',\n",
              " '\\tक्यामत\\n',\n",
              " '\\tकरनेकहा\\n',\n",
              " '\\tसंशोधनक्रिया\\n',\n",
              " '\\tस्कोपैरियस\\n',\n",
              " '\\tमुविया\\n',\n",
              " '\\tबेलिन\\n',\n",
              " '\\tमहापल्ली\\n',\n",
              " '\\tअन्तर्दृष्टिसे\\n',\n",
              " '\\tपालिकांतर्गत\\n',\n",
              " '\\tबढ़ौनी\\n',\n",
              " '\\tओलंबा\\n',\n",
              " '\\tघरकुलाच्या\\n',\n",
              " '\\tरुद्राराजू\\n',\n",
              " '\\tआंगोल\\n',\n",
              " '\\tआरतीय\\n',\n",
              " '\\tपार्लेकियन\\n',\n",
              " '\\tमीतू\\n',\n",
              " '\\tवेसपोली\\n',\n",
              " '\\tएनसीईआरबी\\n',\n",
              " '\\tलिपो\\n',\n",
              " '\\tरंकजी\\n',\n",
              " '\\tनॉस्ट्रो\\n',\n",
              " '\\tमैपल\\n',\n",
              " '\\tरतौंदी\\n',\n",
              " '\\tभोंसड़ी\\n',\n",
              " '\\tवीडियोग्राम\\n',\n",
              " '\\tट्रैकर्स\\n',\n",
              " '\\tश्रीशर\\n',\n",
              " '\\tकरपीछे\\n',\n",
              " '\\tनिमिक\\n',\n",
              " '\\tएनवायरमेन्टल\\n',\n",
              " '\\tढुलते\\n',\n",
              " '\\tदेवराडा\\n',\n",
              " '\\tशॉलट्स\\n',\n",
              " '\\tबुधारामजी\\n',\n",
              " '\\tश्रीवैद्य\\n',\n",
              " '\\tवॉटरटन\\n',\n",
              " '\\tश्रेयसर\\n',\n",
              " '\\tसिद्धसागर\\n',\n",
              " '\\tसदिग्धो\\n',\n",
              " '\\tबायोग्राफ़र\\n',\n",
              " '\\tनीदरलैण्ड\\n',\n",
              " '\\tवनगाँव\\n',\n",
              " '\\tकट्टीघरों\\n',\n",
              " '\\tबाजुवाले\\n',\n",
              " '\\tछत्सीगढ़\\n',\n",
              " '\\tचमेट\\n',\n",
              " '\\tधर्त\\n',\n",
              " '\\tलोहियाँ\\n',\n",
              " '\\tहथिबद\\n',\n",
              " '\\tतरुणांबद्दल\\n',\n",
              " '\\tएनसीसीपीए\\n',\n",
              " '\\tडेविन\\n',\n",
              " '\\tझुरीवाला\\n',\n",
              " '\\tमुद्याकडे\\n',\n",
              " '\\tगठकरी\\n',\n",
              " '\\tअनुयायियोंमें\\n',\n",
              " '\\tसंभोक्ता\\n',\n",
              " '\\tगुम्म\\n',\n",
              " '\\tटंकारों\\n',\n",
              " '\\tगावाच्या\\n',\n",
              " '\\tजर्मनजीत\\n',\n",
              " '\\tमल्लावोलु\\n',\n",
              " '\\tवैभवता\\n',\n",
              " '\\tसनग्रेस\\n',\n",
              " '\\tसीपीआईबी\\n',\n",
              " '\\tचूँची\\n',\n",
              " '\\tलेखीपत्राद्वारे\\n',\n",
              " '\\tकीचडयुक्त\\n',\n",
              " '\\tसिरहन\\n',\n",
              " '\\tकटारियो\\n',\n",
              " '\\tसमर्धक\\n',\n",
              " '\\tसोपसिंग\\n',\n",
              " '\\tपुसदरकर\\n',\n",
              " '\\tईसोफेजियल\\n',\n",
              " '\\tरवींद्रची\\n',\n",
              " '\\tउत्तर्जन\\n',\n",
              " '\\tस्पेक्टोमीटर\\n',\n",
              " '\\tचांदीपाटी\\n',\n",
              " '\\tनटू\\n',\n",
              " '\\tनुइया\\n',\n",
              " '\\tसेलेबी\\n',\n",
              " '\\tअच्छो\\n',\n",
              " '\\tघुटका\\n',\n",
              " '\\tबारामाही\\n',\n",
              " '\\tगुणसे\\n',\n",
              " '\\tअनुनासिकता\\n',\n",
              " '\\tहरपन\\n',\n",
              " '\\tयॉनहॉप\\n',\n",
              " '\\tउपदेशसे\\n',\n",
              " '\\tवेटेकर\\n',\n",
              " '\\tकेव्यापार\\n',\n",
              " '\\tआश्चर्यबोधक\\n',\n",
              " '\\tमानवतला\\n',\n",
              " '\\tवर्तवणुकीवरून\\n',\n",
              " '\\tमलयज\\n',\n",
              " '\\tनोटीफ़िकेशन\\n',\n",
              " '\\tकार्यदमन\\n',\n",
              " '\\tहशीद\\n',\n",
              " '\\tफेज़ेण्ट\\n',\n",
              " '\\tसुंदरवती\\n',\n",
              " '\\tगद्धारी\\n',\n",
              " '\\tकानफिडेंट\\n',\n",
              " '\\tफर्मनु\\n',\n",
              " '\\tझोंकती\\n',\n",
              " '\\tताज़दार\\n',\n",
              " '\\tस्मेरत\\n',\n",
              " '\\tचंडीताला\\n',\n",
              " '\\tसंच्चियाय\\n',\n",
              " '\\tजुनूल\\n',\n",
              " '\\tआपसास\\n',\n",
              " '\\tआयोगासाठी\\n',\n",
              " '\\tस्कयर्ड\\n',\n",
              " '\\tजोडप्यां\\n',\n",
              " '\\tविहक्ष\\n',\n",
              " '\\tस्वप्नात\\n',\n",
              " '\\tबिशोफ़\\n',\n",
              " '\\tब्रह्मचर्यधर्म\\n',\n",
              " '\\tएड्रियनोपल\\n',\n",
              " '\\tसूफियां\\n',\n",
              " '\\tश्रीमंतीची\\n',\n",
              " '\\tपौष\\n',\n",
              " '\\tपसलवार\\n',\n",
              " '\\tकंफर्मिटी\\n',\n",
              " '\\tएरिथिमेटस\\n',\n",
              " '\\tकार्यप्रणालीबाबत\\n',\n",
              " '\\tसुबाह्य\\n',\n",
              " '\\tव्रतोपवास\\n',\n",
              " '\\tस्वेंक\\n',\n",
              " '\\tहैंग्लू\\n',\n",
              " '\\tकालके\\n',\n",
              " '\\tअर्जनु\\n',\n",
              " '\\tएसपीडीटी\\n',\n",
              " '\\tआसपासा\\n',\n",
              " '\\tजिनमेइयो\\n',\n",
              " '\\tजलौत्रा\\n',\n",
              " '\\tसीवर्स\\n',\n",
              " '\\tअभिप्रेरणा\\n',\n",
              " '\\tथोबडे\\n',\n",
              " '\\tसंचमान्यता\\n',\n",
              " '\\tसंघर्षाने\\n',\n",
              " '\\tबिसकोहर\\n',\n",
              " '\\tशिवराजु\\n',\n",
              " '\\tप्रनाथी\\n',\n",
              " '\\tनीयक\\n',\n",
              " '\\tसिगेरू\\n',\n",
              " '\\tकिनारा\\n',\n",
              " '\\tपासस\\n',\n",
              " '\\tटीजेएसी\\n',\n",
              " '\\tनफ्फा\\n',\n",
              " '\\tगिंदे\\n',\n",
              " '\\tपोपटवाड़ी\\n',\n",
              " '\\tहिंजिलिकट\\n',\n",
              " '\\tआवर्तनाचे\\n',\n",
              " '\\tसबलपुरा\\n',\n",
              " '\\tस्टौब्ली\\n',\n",
              " '\\tबालामुरूकन\\n',\n",
              " '\\tएस्कैप\\n',\n",
              " '\\tभोरंजवासी\\n',\n",
              " '\\tसाम्बूरा\\n',\n",
              " '\\tसुधारणेमध्ये\\n',\n",
              " '\\tकैटलबाउंड\\n',\n",
              " '\\tफ्रेसिंग\\n',\n",
              " '\\tकेंडेला\\n',\n",
              " '\\tसुबहान\\n',\n",
              " '\\tकिरणमल\\n',\n",
              " '\\tसोग्या\\n',\n",
              " '\\tज्वेलथीप\\n',\n",
              " '\\tएल्डा\\n',\n",
              " '\\tमुसारी\\n',\n",
              " '\\tखूनप्रकरणी\\n',\n",
              " '\\tलोहाखेड़ा\\n',\n",
              " '\\tबाजूगंज\\n',\n",
              " '\\tगीजर\\n',\n",
              " '\\tअाईआरडीए\\n',\n",
              " '\\tउपायाध्यक्ष\\n',\n",
              " '\\tडूस\\n',\n",
              " '\\tबोधिचर्यावतार\\n',\n",
              " '\\tभोगयुक्त\\n',\n",
              " '\\tसुब्बनघाट\\n',\n",
              " '\\tगंधसे\\n',\n",
              " '\\tसत्यकिरण\\n',\n",
              " '\\tमोर्गों\\n',\n",
              " '\\tपूंजीपति\\n',\n",
              " '\\tउनकेगलत\\n',\n",
              " '\\tपिट्ठी\\n',\n",
              " '\\tगोरामंगर\\n',\n",
              " '\\tब्रिस्केट\\n',\n",
              " '\\tबायसायकिल\\n',\n",
              " '\\tभाषाभेद\\n',\n",
              " '\\tसाधतील\\n',\n",
              " '\\tमोदली\\n',\n",
              " '\\tसपरक्षा\\n',\n",
              " '\\tपन्नवाला\\n',\n",
              " '\\tकर्मनशाह\\n',\n",
              " '\\tत्यांच्यासारखा\\n',\n",
              " '\\tअंतरस्कूल\\n',\n",
              " '\\tशेशी\\n',\n",
              " '\\tपकोड़ियाँ\\n',\n",
              " '\\tपोर्टबेलो\\n',\n",
              " '\\tहिलिग\\n',\n",
              " '\\tहार्टीकल्चर\\n',\n",
              " '\\tदोड्डबल्लापुर\\n',\n",
              " '\\tकूचे\\n',\n",
              " '\\tचेलपिल्ला\\n',\n",
              " '\\tखपिल्\\n',\n",
              " '\\tअप्रसन्न\\n',\n",
              " '\\tमुख्यपीठ\\n',\n",
              " '\\tथकल\\n',\n",
              " '\\tउदासीनतेने\\n',\n",
              " '\\tरागनियाँ\\n',\n",
              " '\\tगोदामियत\\n',\n",
              " '\\tबैचने\\n',\n",
              " '\\tगुणवत्ताप्राप्त\\n',\n",
              " '\\tहेस्सा\\n',\n",
              " '\\tलोरटा\\n',\n",
              " '\\tविद्मान\\n',\n",
              " '\\tसाथियें\\n',\n",
              " '\\tलटकलेली\\n',\n",
              " '\\tपालिथीन\\n',\n",
              " '\\tरामचन्द्रसूरि\\n',\n",
              " '\\tबोनेटा\\n',\n",
              " '\\tफिरतरत\\n',\n",
              " '\\tझोंटवाड़ा\\n',\n",
              " '\\tभामिदपति\\n',\n",
              " '\\tसमोर्ट\\n',\n",
              " '\\tवृक्षाबन्धन\\n',\n",
              " '\\tटूलूज\\n',\n",
              " '\\tदियाब\\n',\n",
              " '\\tडिप्टेश्वर\\n',\n",
              " '\\tसर्वबीज\\n',\n",
              " '\\tहैपनिंग्स\\n',\n",
              " '\\tद्रव्यराशि\\n',\n",
              " '\\tफर्रुखाबाज\\n',\n",
              " '\\tएमएसडी\\n',\n",
              " '\\tअध्यनशील\\n',\n",
              " '\\tगलकम्बल\\n',\n",
              " '\\tसुहासजी\\n',\n",
              " '\\tक्षीणक\\n',\n",
              " '\\tमिकेलजॉन\\n',\n",
              " '\\tमैकिलोड\\n',\n",
              " '\\tलोकपर्व\\n',\n",
              " '\\tओलिवियरा\\n',\n",
              " '\\tनॉयपाल\\n',\n",
              " '\\tसाहित्यरत्न\\n',\n",
              " '\\tघोषणेसह\\n',\n",
              " '\\tबाचेगौडा\\n',\n",
              " '\\tगुमानपुर\\n',\n",
              " '\\tपोपडे\\n',\n",
              " '\\tपरिष्कृतता\\n',\n",
              " '\\tएनपीटीआई\\n',\n",
              " '\\tजामिनाची\\n',\n",
              " '\\tनकरात्मक\\n',\n",
              " '\\tप्रतिद्वंतिता\\n',\n",
              " '\\tटिफिनवाला\\n',\n",
              " '\\tव्लाइंड\\n',\n",
              " '\\tप्रक्रियेवरून\\n',\n",
              " '\\tमार्मेलोस\\n',\n",
              " '\\tगपाड़ा\\n',\n",
              " '\\tअफसरनुमा\\n',\n",
              " '\\tआर्को\\n',\n",
              " '\\tछैलू\\n',\n",
              " '\\tतरोहला\\n',\n",
              " '\\tचुक्विन\\n',\n",
              " '\\tफिरूनी\\n',\n",
              " '\\tअंडरपाथों\\n',\n",
              " '\\tअभियाचित\\n',\n",
              " '\\tक्रेयों\\n',\n",
              " '\\tगुराड़ियामाना\\n',\n",
              " '\\tक्षेत्रज्ञविभागयोग\\n',\n",
              " '\\tद्विध्रुवी\\n',\n",
              " '\\tविवेकनिधि\\n',\n",
              " '\\tशमिति\\n',\n",
              " '\\tमेनम\\n',\n",
              " '\\tप्रतिक्रान्तियों\\n',\n",
              " '\\tदरूपयोग\\n',\n",
              " '\\tबाज़ारबाद\\n',\n",
              " '\\tशरातियों\\n',\n",
              " '\\tइन्डेन\\n',\n",
              " '\\tजोएर्ग\\n',\n",
              " '\\tदुरस\\n',\n",
              " '\\tसाथजीना\\n',\n",
              " '\\tकार्यांची\\n',\n",
              " '\\tखुरपेंचियां\\n',\n",
              " '\\tएनआरडीसी\\n',\n",
              " '\\tन्यूज़ोम\\n',\n",
              " '\\tजीर्णोद्धार\\n',\n",
              " '\\tकेटकीपिंग\\n',\n",
              " '\\tरिश्वतखोरी\\n',\n",
              " '\\tनाकाटा\\n',\n",
              " '\\tप्रातमिकता\\n',\n",
              " '\\tतालातोड़\\n',\n",
              " '\\tकरुंगली\\n',\n",
              " '\\tकरारासाठी\\n',\n",
              " '\\tधोखाखाए\\n',\n",
              " '\\tकोराटाला\\n',\n",
              " '\\tरंतना\\n',\n",
              " '\\tसाधनातीत\\n',\n",
              " '\\tलेकाने\\n',\n",
              " '\\tकलुंगू\\n',\n",
              " '\\tमेंडोंसा\\n',\n",
              " '\\tप्लेटीनियम\\n',\n",
              " '\\tएनोनाइजिंग\\n',\n",
              " '\\tविचलिच\\n',\n",
              " '\\tस्टीवन\\n',\n",
              " '\\tजिंजली\\n',\n",
              " '\\tपशुपतीश्वर\\n',\n",
              " '\\tऐशमुकाम\\n',\n",
              " '\\tचोरकोल\\n',\n",
              " '\\tनाता\\n',\n",
              " '\\tतज़रुबा\\n',\n",
              " '\\tमैटिसेक\\n',\n",
              " '\\tमेडिंस\\n',\n",
              " '\\tवालिन\\n',\n",
              " '\\tकंजोलिया\\n',\n",
              " '\\tकलुवास\\n',\n",
              " '\\tसकल्पना\\n',\n",
              " '\\tवाचिकरूपेण\\n',\n",
              " '\\tधोखाघडी\\n',\n",
              " '\\tपीसीटीसी\\n',\n",
              " '\\tडिविजन\\n',\n",
              " '\\tअगरधत्त\\n',\n",
              " '\\tसम्प्रेषण\\n',\n",
              " '\\tएफ्लिएट\\n',\n",
              " '\\tकोकनस्थ\\n',\n",
              " '\\tपेचकश\\n',\n",
              " '\\tनरेन्द्रगिरि\\n',\n",
              " '\\tकम्प्लिशन\\n',\n",
              " '\\tपार्थशास्त्री\\n',\n",
              " '\\tजॉर्स\\n',\n",
              " '\\tड्यूटेरोस्टोमिया\\n',\n",
              " '\\tबालाबख्श\\n',\n",
              " '\\tदौऱ्याप्रसंगी\\n',\n",
              " '\\tसन्हौला\\n',\n",
              " '\\tकेदाह\\n',\n",
              " '\\tघठित\\n',\n",
              " '\\tअभित्र\\n',\n",
              " '\\tरायसिह\\n',\n",
              " '\\tउठग्या\\n',\n",
              " '\\tक्विंगडाओ\\n',\n",
              " '\\tलक्ष्मीवीरा\\n',\n",
              " '\\tमहासंदेश\\n',\n",
              " '\\tबेलामे\\n',\n",
              " '\\tस्टीफ़न\\n',\n",
              " '\\tकेकारण\\n',\n",
              " '\\tशिकल\\n',\n",
              " '\\tलेमर\\n',\n",
              " '\\tबंदूकवाला\\n',\n",
              " '\\tमोनोपाइल\\n',\n",
              " '\\tधन्वन्तरि\\n',\n",
              " '\\tजगन्धा\\n',\n",
              " '\\tभूराखान\\n',\n",
              " '\\tवेइकी\\n',\n",
              " '\\tउबोह\\n',\n",
              " '\\tएक्सट्रेमेली\\n',\n",
              " '\\tप्रभावदेवी\\n',\n",
              " '\\tटेलिया\\n',\n",
              " '\\tलनिला\\n',\n",
              " '\\tअमूम\\n',\n",
              " '\\tवापरावयाचे\\n',\n",
              " '\\tभरवाये\\n',\n",
              " '\\tउपबन्ध\\n',\n",
              " '\\tवुमेनस\\n',\n",
              " '\\tदराय\\n',\n",
              " '\\tरेनिल\\n',\n",
              " '\\tबिठोबा\\n',\n",
              " '\\tस्कीफ्लेरिया\\n',\n",
              " '\\tआीएमएक्स\\n',\n",
              " '\\tतगाते\\n',\n",
              " '\\tसम्मानत\\n',\n",
              " '\\tशिब\\n',\n",
              " '\\tपर्वतारोहण\\n',\n",
              " '\\tनिर्व्रत\\n',\n",
              " '\\tसिटीज\\n',\n",
              " '\\tजीनपुरा\\n',\n",
              " '\\tएडियंट\\n',\n",
              " '\\tमवेशियों\\n',\n",
              " '\\tमेहमाने\\n',\n",
              " '\\tयथाआवश्यक\\n',\n",
              " '\\tभ्रचक्र\\n',\n",
              " '\\tशक्लोसूरत\\n',\n",
              " '\\tनवमुख\\n',\n",
              " '\\tघेरण्याचा\\n',\n",
              " '\\tसंक्षिप्तभावार्थ\\n',\n",
              " '\\tरीवां\\n',\n",
              " '\\tसुगनचिड़ी\\n',\n",
              " '\\tसंपर्कता\\n',\n",
              " '\\tजुलानियापुरा\\n',\n",
              " '\\tमणिद्वीप\\n',\n",
              " '\\tपापिनायकनहल्लि\\n',\n",
              " '\\tढक्क\\n',\n",
              " '\\tज्योतीचे\\n',\n",
              " '\\tबनाऊँ\\n',\n",
              " '\\tसम्भालिये\\n',\n",
              " '\\tसन्सक्रीन\\n',\n",
              " '\\tकेएसबीपी\\n',\n",
              " '\\tसमरतुंगा\\n',\n",
              " '\\tप्लेसमेंटको\\n',\n",
              " '\\tलक्षणावली\\n',\n",
              " '\\tएलिंग्टन\\n',\n",
              " '\\tइंजीनियरों\\n',\n",
              " '\\tबाईबल\\n',\n",
              " '\\tसहेज़ता\\n',\n",
              " '\\tफ्लान्डेर्स\\n',\n",
              " '\\tनरसी\\n',\n",
              " '\\tदरबारमृत्युलोक\\n',\n",
              " '\\tटूडो\\n',\n",
              " '\\tगौंस\\n',\n",
              " '\\tविशाखानपट्टनम\\n',\n",
              " '\\tषडयन्त्र\\n',\n",
              " '\\tधेना\\n',\n",
              " '\\tटेन्टेकल\\n',\n",
              " '\\tबकमैन\\n',\n",
              " '\\tप्रबर्धित\\n',\n",
              " '\\tगुणन\\n',\n",
              " '\\tतनासाईमी\\n',\n",
              " '\\tनियास\\n',\n",
              " '\\tगदोली\\n',\n",
              " '\\tसफायन\\n',\n",
              " '\\tसजीबुन\\n',\n",
              " '\\tबेंटसेन\\n',\n",
              " '\\tचानम\\n',\n",
              " '\\tबरतर\\n',\n",
              " '\\tघपड़चोथ\\n',\n",
              " '\\tवेंकटचला\\n',\n",
              " '\\tवैदाइन\\n',\n",
              " '\\tटेम्पर्ले\\n',\n",
              " '\\tअजफल\\n',\n",
              " '\\tजाएगा\\n',\n",
              " '\\tडोटासारा\\n',\n",
              " '\\tसम्हारल\\n',\n",
              " '\\tसघौर\\n',\n",
              " '\\tवृत्तवाहीनीला\\n',\n",
              " '\\tचक्रवाल\\n',\n",
              " '\\tमंजमपट्टी\\n',\n",
              " '\\tचूरा\\n',\n",
              " '\\tमिलचन\\n',\n",
              " '\\tवेदविधि\\n',\n",
              " '\\tपोटेशियन\\n',\n",
              " '\\tद्रहल\\n',\n",
              " '\\tमेसोडर्म\\n',\n",
              " '\\tलखुभाई\\n',\n",
              " '\\tमिथिलांचली\\n',\n",
              " '\\tबहखता\\n',\n",
              " '\\tअलीका\\n',\n",
              " '\\tभमेश्वरी\\n',\n",
              " '\\tइंबारकेशन\\n',\n",
              " '\\tनाहर\\n',\n",
              " '\\tकैबिरिया\\n',\n",
              " '\\tमेरिहामैन\\n',\n",
              " '\\tवाइरस\\n',\n",
              " '\\tइकलेहारा\\n',\n",
              " '\\tडारबॉन्ट\\n',\n",
              " '\\tफेशियन\\n',\n",
              " '\\tपोहचल्याचा\\n',\n",
              " '\\tनवनिधि\\n',\n",
              " '\\tमिनारिया\\n',\n",
              " '\\tमारायच्या\\n',\n",
              " '\\tबॉडेड\\n',\n",
              " '\\tरिश्तेदारों\\n',\n",
              " '\\tसत्गुरों\\n',\n",
              " '\\tअटैची\\n',\n",
              " '\\tकामांशी\\n',\n",
              " '\\tकरजोडा\\n',\n",
              " '\\tहिंदूपुर\\n',\n",
              " '\\tबीहड़ी\\n',\n",
              " '\\tफिलैन्थ्रपिस्ट\\n',\n",
              " '\\tजैकवेल\\n',\n",
              " '\\tचिकेन्स\\n',\n",
              " '\\tअस्थिंचे\\n',\n",
              " '\\tजेरू\\n',\n",
              " '\\tओराडेक्सॉन\\n',\n",
              " '\\tराज्यराणी\\n',\n",
              " '\\tविधालय\\n',\n",
              " '\\tगद्दनें\\n',\n",
              " '\\tनिगलकर\\n',\n",
              " '\\tलाइसेंसेज\\n',\n",
              " '\\tश्रीश्चंद्र\\n',\n",
              " '\\tघराशेजारच्या\\n',\n",
              " '\\tभोटाऊना\\n',\n",
              " '\\tरिदमबाक्स\\n',\n",
              " '\\tसोनापी\\n',\n",
              " '\\tमुदुलीपारा\\n',\n",
              " '\\tकहलाते\\n',\n",
              " '\\tमचानेवाले\\n',\n",
              " '\\tजब्बारहट्टी\\n',\n",
              " '\\tछोटूमिनाना\\n',\n",
              " '\\tकामिनैनी\\n',\n",
              " '\\tब्लाइन\\n',\n",
              " '\\tबनवारीसिंह\\n',\n",
              " '\\tचिकित्सकगण\\n',\n",
              " '\\tसमिरा\\n',\n",
              " '\\tबज्रलाल\\n',\n",
              " '\\tकिरिपा\\n',\n",
              " '\\tविशालने\\n',\n",
              " '\\tहदरीथ\\n',\n",
              " '\\tपरायुत\\n',\n",
              " '\\tलारग्रंथी\\n',\n",
              " '\\tकृषिपुत्र\\n',\n",
              " '\\tवृद्रिध\\n',\n",
              " '\\tसेपिएन्स\\n',\n",
              " '\\tभग्गू\\n',\n",
              " '\\tनेहत्या\\n',\n",
              " '\\tदादांत\\n',\n",
              " '\\tहेरिटेबल\\n',\n",
              " '\\tखबंदा\\n',\n",
              " '\\tशतभी\\n',\n",
              " '\\tमानसखण्ड\\n',\n",
              " '\\tमन्नानम\\n',\n",
              " '\\tमैकलेक\\n',\n",
              " '\\tगांधीजीनी\\n',\n",
              " '\\tचिंदियों\\n',\n",
              " '\\tबिचालै\\n',\n",
              " '\\tकूटनायिक\\n',\n",
              " '\\tचंदीगडप्रमाणे\\n',\n",
              " '\\tसुखास्क्ति\\n',\n",
              " '\\tरिजंपशन\\n',\n",
              " '\\tसागरमाला\\n',\n",
              " '\\tपंचायतचुनाव\\n',\n",
              " '\\tओवजरवेशन\\n',\n",
              " '\\tसतियपुत्रों\\n',\n",
              " '\\tदिनकरजी\\n',\n",
              " '\\tफ्लपी\\n',\n",
              " '\\tखैरागढ़\\n',\n",
              " '\\tअग्रत्वचा\\n',\n",
              " '\\tमोनोज\\n',\n",
              " '\\tहस्तीदंताची\\n',\n",
              " '\\tइकलाब\\n',\n",
              " '\\tडिलेयड\\n',\n",
              " '\\tमसूड़ों\\n',\n",
              " '\\tओपनली\\n',\n",
              " '\\tधोंदुप\\n',\n",
              " '\\tबढ़ाएंगे\\n',\n",
              " '\\tट्रस्ट\\n',\n",
              " '\\tयमानप्पा\\n',\n",
              " '\\tबनांस\\n',\n",
              " '\\tजोसेर\\n',\n",
              " '\\tबालायचाँद\\n',\n",
              " '\\tयूनान\\n',\n",
              " '\\tकैनेनिकल\\n',\n",
              " '\\tम्हिलाओं\\n',\n",
              " '\\tउसापोटी\\n',\n",
              " '\\tएंथ्रासीन\\n',\n",
              " '\\tमूदबिद्री\\n',\n",
              " '\\tघुमाकर\\n',\n",
              " '\\tभारतविदों\\n',\n",
              " '\\tरहस्योपासना\\n',\n",
              " '\\tमजबूरियों\\n',\n",
              " '\\tअपदाब\\n',\n",
              " '\\tगवतापासून\\n',\n",
              " '\\tउकार\\n',\n",
              " '\\tसैफ़ी\\n',\n",
              " '\\tमुरुगप्पन\\n',\n",
              " '\\tबुलवाता\\n',\n",
              " '\\tपरिवर्तत\\n',\n",
              " '\\tचुस्कियाते\\n',\n",
              " '\\tभोग्यं\\n',\n",
              " '\\tभाजीपाल\\n',\n",
              " '\\tइम्यूनोडिफीसिन्सी\\n',\n",
              " '\\tसैल्मोनाइड्स\\n',\n",
              " '\\tभोजबाई\\n',\n",
              " '\\tचत्रिका\\n',\n",
              " '\\tपारिजातहरण\\n',\n",
              " '\\tएनाफाइलेक्सिस\\n',\n",
              " '\\tधसक्याने\\n',\n",
              " '\\tअक्सरहा\\n',\n",
              " '\\tरोस्तोक\\n',\n",
              " '\\tकिछौछवी\\n',\n",
              " '\\tकाट्सा\\n',\n",
              " '\\tमोहावा\\n',\n",
              " '\\tमहाडलकर\\n',\n",
              " '\\tजोरकस\\n',\n",
              " '\\tबुलबुलेदार\\n',\n",
              " '\\tदिग्दर्शनही\\n',\n",
              " '\\tधानोआ\\n',\n",
              " '\\tक्षेत्राधीश\\n',\n",
              " '\\tअनेकरूपता\\n',\n",
              " '\\tबॉटिस्टा\\n',\n",
              " '\\tस्टिलिट\\n',\n",
              " '\\tसोमीदेवी\\n',\n",
              " '\\tकुरन\\n',\n",
              " '\\tपंक्तिबद्ध\\n',\n",
              " '\\tलोंबार्डी\\n',\n",
              " '\\tबहीखात\\n',\n",
              " '\\tमिनिंद\\n',\n",
              " '\\tकलालहटी\\n',\n",
              " '\\tमुकुटपुरा\\n',\n",
              " '\\tदवाबों\\n',\n",
              " '\\tमडक्कोइल\\n',\n",
              " '\\tकॉमसेक्स\\n',\n",
              " '\\tकहियेगा\\n',\n",
              " '\\tशैखावत\\n',\n",
              " '\\tसारंगानी\\n',\n",
              " '\\tलुनेस्टा\\n',\n",
              " '\\tश्रीताल\\n',\n",
              " '\\tकेगांव\\n',\n",
              " '\\tवेस्टइंडियन\\n',\n",
              " '\\tटसन\\n',\n",
              " '\\tखुलजाने\\n',\n",
              " '\\tइफ़्तिरा\\n',\n",
              " '\\tवाश्नेवा\\n',\n",
              " '\\tमोस्टसेरो\\n',\n",
              " '\\tसेप्टम्बर\\n',\n",
              " '\\tआंकड़ों\\n',\n",
              " '\\tअकिलन्देश्वरी\\n',\n",
              " '\\tहाइड्रोक्सिल\\n',\n",
              " '\\tगुलटेकडी\\n',\n",
              " '\\tस्टाइलशीट\\n',\n",
              " '\\tबायोडॉटा\\n',\n",
              " '\\tसक्सन\\n',\n",
              " '\\tनित्यसुरीगण\\n',\n",
              " '\\tब्रजक्षेत्र\\n',\n",
              " '\\tदृप्त\\n',\n",
              " '\\tसमजावे\\n',\n",
              " '\\tशिक्षामंदिर\\n',\n",
              " '\\tगोल्डेम्स\\n',\n",
              " '\\tमैक्डरमट\\n',\n",
              " '\\tफ्यूर\\n',\n",
              " '\\tदूतों\\n',\n",
              " '\\tकुडनू\\n',\n",
              " '\\tरियावन\\n',\n",
              " '\\tतुळजापूरनगरी\\n',\n",
              " '\\tखड़गवास\\n',\n",
              " '\\tतोफिनो\\n',\n",
              " '\\tफेनेला\\n',\n",
              " '\\tबाबूस्टेडियम\\n',\n",
              " '\\tकैलासवाडी\\n',\n",
              " '\\tराजगोपाल\\n',\n",
              " '\\tगुणरंजन\\n',\n",
              " '\\tहजला\\n',\n",
              " '\\tगिमिरे\\n',\n",
              " '\\tमराठवाडयाला\\n',\n",
              " '\\tइग्लू\\n',\n",
              " '\\tलवसूल\\n',\n",
              " '\\tशुगरकडून\\n',\n",
              " '\\tपडिजट्टुमारी\\n',\n",
              " '\\tमहाप्रसादासाठी\\n',\n",
              " '\\tबिटवा\\n',\n",
              " '\\tअभिवेचन\\n',\n",
              " '\\tउन्नमाद\\n',\n",
              " '\\tपैसिंजरमानिकपुर\\n',\n",
              " '\\tमार्टीनी\\n',\n",
              " '\\tनेतृत्वावरच\\n',\n",
              " '\\tचिटकता\\n',\n",
              " '\\tपडलिंग\\n',\n",
              " '\\tपेंचबरूआ\\n',\n",
              " '\\tलक्षाधिक\\n',\n",
              " '\\tकोयल\\n',\n",
              " '\\tकैबटॉप\\n',\n",
              " '\\tयप्रेस\\n',\n",
              " '\\tवृक्षावरण\\n',\n",
              " '\\tस्वेप्ट\\n',\n",
              " '\\tहिन्डालको\\n',\n",
              " '\\tयके\\n',\n",
              " '\\tबाघरा\\n',\n",
              " '\\tम्लोदेनोविच\\n',\n",
              " '\\tस्किपी\\n',\n",
              " '\\tआरजीआर\\n',\n",
              " '\\tहमीनपुर\\n',\n",
              " '\\tक़हिस्तान\\n',\n",
              " '\\tयोकोगावा\\n',\n",
              " '\\tक्वारलिफाइंग\\n',\n",
              " '\\tकमिट्यांच्या\\n',\n",
              " '\\tमैराथंस\\n',\n",
              " '\\tघुसपैठोंको\\n',\n",
              " '\\tनसीहत\\n',\n",
              " '\\tअसामान्यता\\n',\n",
              " '\\tकालगुडे\\n',\n",
              " '\\tकम्पिनस\\n',\n",
              " '\\tकाबूस\\n',\n",
              " '\\tचिकित्सालयोंको\\n',\n",
              " '\\tसौम्यजीत\\n',\n",
              " '\\tनत्थन\\n',\n",
              " '\\tमेनाया\\n',\n",
              " '\\tकैटमी\\n',\n",
              " '\\tधर्मापुरम\\n',\n",
              " '\\tमधुमेहाने\\n',\n",
              " '\\tअंजलीला\\n',\n",
              " '\\tतौसिफचा\\n',\n",
              " '\\tविज्ञाननिष्ठ\\n',\n",
              " ...]"
            ]
          },
          "metadata": {},
          "execution_count": 52
        }
      ]
    },
    {
      "cell_type": "code",
      "source": [
        "a,b = next(iter(test_dataloader))\n"
      ],
      "metadata": {
        "id": "YoZEc82Vqex3"
      },
      "execution_count": null,
      "outputs": []
    },
    {
      "cell_type": "code",
      "source": [
        "for _ in range(50):\n",
        "        # Decode one token at a time\n",
        "      output, decoder_hidden, decoder_cell = model.decoder(decoder_input, decoder_hidden, decoder_cell)\n",
        "      output = F.softmax(output, dim=1)\n",
        "\n",
        "        # Get the index of the predicted token with highest probability\n",
        "      top1 = output.argmax(1)\n",
        "\n",
        "        # Append the predicted token to the translation list\n",
        "      #translation.append(hin_token_map[top1.item()])\n",
        "\n",
        "        # If the predicted token is the end-of-sentence token, stop decoding\n",
        "      #if top1.item() == hin_token_map['\\n']:\n",
        "      #    break\n",
        "\n",
        "        # Otherwise, set the decoder input to the predicted token for the next decoding step\n",
        "        #decoder_input = top1.unsqueeze(0)"
      ],
      "metadata": {
        "colab": {
          "base_uri": "https://localhost:8080/",
          "height": 380
        },
        "id": "I89USgaDpUK4",
        "outputId": "7f224243-a249-457b-b2cd-9aa32cea3caf"
      },
      "execution_count": null,
      "outputs": [
        {
          "output_type": "error",
          "ename": "RuntimeError",
          "evalue": "ignored",
          "traceback": [
            "\u001b[0;31m---------------------------------------------------------------------------\u001b[0m",
            "\u001b[0;31mRuntimeError\u001b[0m                              Traceback (most recent call last)",
            "\u001b[0;32m<ipython-input-77-a73f121f882f>\u001b[0m in \u001b[0;36m<cell line: 1>\u001b[0;34m()\u001b[0m\n\u001b[1;32m      1\u001b[0m \u001b[0;32mfor\u001b[0m \u001b[0m_\u001b[0m \u001b[0;32min\u001b[0m \u001b[0mrange\u001b[0m\u001b[0;34m(\u001b[0m\u001b[0;36m50\u001b[0m\u001b[0;34m)\u001b[0m\u001b[0;34m:\u001b[0m\u001b[0;34m\u001b[0m\u001b[0;34m\u001b[0m\u001b[0m\n\u001b[1;32m      2\u001b[0m         \u001b[0;31m# Decode one token at a time\u001b[0m\u001b[0;34m\u001b[0m\u001b[0;34m\u001b[0m\u001b[0m\n\u001b[0;32m----> 3\u001b[0;31m       \u001b[0moutput\u001b[0m\u001b[0;34m,\u001b[0m \u001b[0mdecoder_hidden\u001b[0m\u001b[0;34m,\u001b[0m \u001b[0mdecoder_cell\u001b[0m \u001b[0;34m=\u001b[0m \u001b[0mmodel\u001b[0m\u001b[0;34m.\u001b[0m\u001b[0mdecoder\u001b[0m\u001b[0;34m(\u001b[0m\u001b[0mdecoder_input\u001b[0m\u001b[0;34m,\u001b[0m \u001b[0mdecoder_hidden\u001b[0m\u001b[0;34m,\u001b[0m \u001b[0mdecoder_cell\u001b[0m\u001b[0;34m)\u001b[0m\u001b[0;34m\u001b[0m\u001b[0;34m\u001b[0m\u001b[0m\n\u001b[0m\u001b[1;32m      4\u001b[0m       \u001b[0moutput\u001b[0m \u001b[0;34m=\u001b[0m \u001b[0mF\u001b[0m\u001b[0;34m.\u001b[0m\u001b[0msoftmax\u001b[0m\u001b[0;34m(\u001b[0m\u001b[0moutput\u001b[0m\u001b[0;34m,\u001b[0m \u001b[0mdim\u001b[0m\u001b[0;34m=\u001b[0m\u001b[0;36m1\u001b[0m\u001b[0;34m)\u001b[0m\u001b[0;34m\u001b[0m\u001b[0;34m\u001b[0m\u001b[0m\n\u001b[1;32m      5\u001b[0m \u001b[0;34m\u001b[0m\u001b[0m\n",
            "\u001b[0;32m/usr/local/lib/python3.10/dist-packages/torch/nn/modules/module.py\u001b[0m in \u001b[0;36m_call_impl\u001b[0;34m(self, *args, **kwargs)\u001b[0m\n\u001b[1;32m   1499\u001b[0m                 \u001b[0;32mor\u001b[0m \u001b[0m_global_backward_pre_hooks\u001b[0m \u001b[0;32mor\u001b[0m \u001b[0m_global_backward_hooks\u001b[0m\u001b[0;34m\u001b[0m\u001b[0;34m\u001b[0m\u001b[0m\n\u001b[1;32m   1500\u001b[0m                 or _global_forward_hooks or _global_forward_pre_hooks):\n\u001b[0;32m-> 1501\u001b[0;31m             \u001b[0;32mreturn\u001b[0m \u001b[0mforward_call\u001b[0m\u001b[0;34m(\u001b[0m\u001b[0;34m*\u001b[0m\u001b[0margs\u001b[0m\u001b[0;34m,\u001b[0m \u001b[0;34m**\u001b[0m\u001b[0mkwargs\u001b[0m\u001b[0;34m)\u001b[0m\u001b[0;34m\u001b[0m\u001b[0;34m\u001b[0m\u001b[0m\n\u001b[0m\u001b[1;32m   1502\u001b[0m         \u001b[0;31m# Do not call functions when jit is used\u001b[0m\u001b[0;34m\u001b[0m\u001b[0;34m\u001b[0m\u001b[0m\n\u001b[1;32m   1503\u001b[0m         \u001b[0mfull_backward_hooks\u001b[0m\u001b[0;34m,\u001b[0m \u001b[0mnon_full_backward_hooks\u001b[0m \u001b[0;34m=\u001b[0m \u001b[0;34m[\u001b[0m\u001b[0;34m]\u001b[0m\u001b[0;34m,\u001b[0m \u001b[0;34m[\u001b[0m\u001b[0;34m]\u001b[0m\u001b[0;34m\u001b[0m\u001b[0;34m\u001b[0m\u001b[0m\n",
            "\u001b[0;32m<ipython-input-17-8948c82165e4>\u001b[0m in \u001b[0;36mforward\u001b[0;34m(self, x, hidden, cell)\u001b[0m\n\u001b[1;32m     38\u001b[0m         \u001b[0mx\u001b[0m \u001b[0;34m=\u001b[0m \u001b[0mx\u001b[0m\u001b[0;34m.\u001b[0m\u001b[0munsqueeze\u001b[0m\u001b[0;34m(\u001b[0m\u001b[0;36m0\u001b[0m\u001b[0;34m)\u001b[0m\u001b[0;34m\u001b[0m\u001b[0;34m\u001b[0m\u001b[0m\n\u001b[1;32m     39\u001b[0m         \u001b[0membedded\u001b[0m \u001b[0;34m=\u001b[0m \u001b[0mself\u001b[0m\u001b[0;34m.\u001b[0m\u001b[0membedding\u001b[0m\u001b[0;34m(\u001b[0m\u001b[0mx\u001b[0m\u001b[0;34m)\u001b[0m\u001b[0;34m\u001b[0m\u001b[0;34m\u001b[0m\u001b[0m\n\u001b[0;32m---> 40\u001b[0;31m         \u001b[0moutput\u001b[0m\u001b[0;34m,\u001b[0m \u001b[0;34m(\u001b[0m\u001b[0mhidden\u001b[0m\u001b[0;34m,\u001b[0m \u001b[0mcell\u001b[0m\u001b[0;34m)\u001b[0m \u001b[0;34m=\u001b[0m \u001b[0mself\u001b[0m\u001b[0;34m.\u001b[0m\u001b[0mrnn\u001b[0m\u001b[0;34m(\u001b[0m\u001b[0membedded\u001b[0m\u001b[0;34m,\u001b[0m \u001b[0;34m(\u001b[0m\u001b[0mhidden\u001b[0m\u001b[0;34m,\u001b[0m \u001b[0mcell\u001b[0m\u001b[0;34m)\u001b[0m\u001b[0;34m)\u001b[0m\u001b[0;34m\u001b[0m\u001b[0;34m\u001b[0m\u001b[0m\n\u001b[0m\u001b[1;32m     41\u001b[0m         \u001b[0moutput\u001b[0m\u001b[0;34m=\u001b[0m \u001b[0mself\u001b[0m\u001b[0;34m.\u001b[0m\u001b[0mfc\u001b[0m\u001b[0;34m(\u001b[0m\u001b[0moutput\u001b[0m\u001b[0;34m)\u001b[0m\u001b[0;34m\u001b[0m\u001b[0;34m\u001b[0m\u001b[0m\n\u001b[1;32m     42\u001b[0m         \u001b[0moutput\u001b[0m \u001b[0;34m=\u001b[0m \u001b[0moutput\u001b[0m\u001b[0;34m.\u001b[0m\u001b[0msqueeze\u001b[0m\u001b[0;34m(\u001b[0m\u001b[0;36m0\u001b[0m\u001b[0;34m)\u001b[0m\u001b[0;34m\u001b[0m\u001b[0;34m\u001b[0m\u001b[0m\n",
            "\u001b[0;32m/usr/local/lib/python3.10/dist-packages/torch/nn/modules/module.py\u001b[0m in \u001b[0;36m_call_impl\u001b[0;34m(self, *args, **kwargs)\u001b[0m\n\u001b[1;32m   1499\u001b[0m                 \u001b[0;32mor\u001b[0m \u001b[0m_global_backward_pre_hooks\u001b[0m \u001b[0;32mor\u001b[0m \u001b[0m_global_backward_hooks\u001b[0m\u001b[0;34m\u001b[0m\u001b[0;34m\u001b[0m\u001b[0m\n\u001b[1;32m   1500\u001b[0m                 or _global_forward_hooks or _global_forward_pre_hooks):\n\u001b[0;32m-> 1501\u001b[0;31m             \u001b[0;32mreturn\u001b[0m \u001b[0mforward_call\u001b[0m\u001b[0;34m(\u001b[0m\u001b[0;34m*\u001b[0m\u001b[0margs\u001b[0m\u001b[0;34m,\u001b[0m \u001b[0;34m**\u001b[0m\u001b[0mkwargs\u001b[0m\u001b[0;34m)\u001b[0m\u001b[0;34m\u001b[0m\u001b[0;34m\u001b[0m\u001b[0m\n\u001b[0m\u001b[1;32m   1502\u001b[0m         \u001b[0;31m# Do not call functions when jit is used\u001b[0m\u001b[0;34m\u001b[0m\u001b[0;34m\u001b[0m\u001b[0m\n\u001b[1;32m   1503\u001b[0m         \u001b[0mfull_backward_hooks\u001b[0m\u001b[0;34m,\u001b[0m \u001b[0mnon_full_backward_hooks\u001b[0m \u001b[0;34m=\u001b[0m \u001b[0;34m[\u001b[0m\u001b[0;34m]\u001b[0m\u001b[0;34m,\u001b[0m \u001b[0;34m[\u001b[0m\u001b[0;34m]\u001b[0m\u001b[0;34m\u001b[0m\u001b[0;34m\u001b[0m\u001b[0m\n",
            "\u001b[0;32m/usr/local/lib/python3.10/dist-packages/torch/nn/modules/rnn.py\u001b[0m in \u001b[0;36mforward\u001b[0;34m(self, input, hx)\u001b[0m\n\u001b[1;32m    808\u001b[0m             \u001b[0mhx\u001b[0m \u001b[0;34m=\u001b[0m \u001b[0mself\u001b[0m\u001b[0;34m.\u001b[0m\u001b[0mpermute_hidden\u001b[0m\u001b[0;34m(\u001b[0m\u001b[0mhx\u001b[0m\u001b[0;34m,\u001b[0m \u001b[0msorted_indices\u001b[0m\u001b[0;34m)\u001b[0m\u001b[0;34m\u001b[0m\u001b[0;34m\u001b[0m\u001b[0m\n\u001b[1;32m    809\u001b[0m \u001b[0;34m\u001b[0m\u001b[0m\n\u001b[0;32m--> 810\u001b[0;31m         \u001b[0mself\u001b[0m\u001b[0;34m.\u001b[0m\u001b[0mcheck_forward_args\u001b[0m\u001b[0;34m(\u001b[0m\u001b[0minput\u001b[0m\u001b[0;34m,\u001b[0m \u001b[0mhx\u001b[0m\u001b[0;34m,\u001b[0m \u001b[0mbatch_sizes\u001b[0m\u001b[0;34m)\u001b[0m\u001b[0;34m\u001b[0m\u001b[0;34m\u001b[0m\u001b[0m\n\u001b[0m\u001b[1;32m    811\u001b[0m         \u001b[0;32mif\u001b[0m \u001b[0mbatch_sizes\u001b[0m \u001b[0;32mis\u001b[0m \u001b[0;32mNone\u001b[0m\u001b[0;34m:\u001b[0m\u001b[0;34m\u001b[0m\u001b[0;34m\u001b[0m\u001b[0m\n\u001b[1;32m    812\u001b[0m             result = _VF.lstm(input, hx, self._flat_weights, self.bias, self.num_layers,\n",
            "\u001b[0;32m/usr/local/lib/python3.10/dist-packages/torch/nn/modules/rnn.py\u001b[0m in \u001b[0;36mcheck_forward_args\u001b[0;34m(self, input, hidden, batch_sizes)\u001b[0m\n\u001b[1;32m    729\u001b[0m                            ):\n\u001b[1;32m    730\u001b[0m         \u001b[0mself\u001b[0m\u001b[0;34m.\u001b[0m\u001b[0mcheck_input\u001b[0m\u001b[0;34m(\u001b[0m\u001b[0minput\u001b[0m\u001b[0;34m,\u001b[0m \u001b[0mbatch_sizes\u001b[0m\u001b[0;34m)\u001b[0m\u001b[0;34m\u001b[0m\u001b[0;34m\u001b[0m\u001b[0m\n\u001b[0;32m--> 731\u001b[0;31m         self.check_hidden_size(hidden[0], self.get_expected_hidden_size(input, batch_sizes),\n\u001b[0m\u001b[1;32m    732\u001b[0m                                'Expected hidden[0] size {}, got {}')\n\u001b[1;32m    733\u001b[0m         self.check_hidden_size(hidden[1], self.get_expected_cell_size(input, batch_sizes),\n",
            "\u001b[0;32m/usr/local/lib/python3.10/dist-packages/torch/nn/modules/rnn.py\u001b[0m in \u001b[0;36mcheck_hidden_size\u001b[0;34m(self, hx, expected_hidden_size, msg)\u001b[0m\n\u001b[1;32m    237\u001b[0m                           msg: str = 'Expected hidden size {}, got {}') -> None:\n\u001b[1;32m    238\u001b[0m         \u001b[0;32mif\u001b[0m \u001b[0mhx\u001b[0m\u001b[0;34m.\u001b[0m\u001b[0msize\u001b[0m\u001b[0;34m(\u001b[0m\u001b[0;34m)\u001b[0m \u001b[0;34m!=\u001b[0m \u001b[0mexpected_hidden_size\u001b[0m\u001b[0;34m:\u001b[0m\u001b[0;34m\u001b[0m\u001b[0;34m\u001b[0m\u001b[0m\n\u001b[0;32m--> 239\u001b[0;31m             \u001b[0;32mraise\u001b[0m \u001b[0mRuntimeError\u001b[0m\u001b[0;34m(\u001b[0m\u001b[0mmsg\u001b[0m\u001b[0;34m.\u001b[0m\u001b[0mformat\u001b[0m\u001b[0;34m(\u001b[0m\u001b[0mexpected_hidden_size\u001b[0m\u001b[0;34m,\u001b[0m \u001b[0mlist\u001b[0m\u001b[0;34m(\u001b[0m\u001b[0mhx\u001b[0m\u001b[0;34m.\u001b[0m\u001b[0msize\u001b[0m\u001b[0;34m(\u001b[0m\u001b[0;34m)\u001b[0m\u001b[0;34m)\u001b[0m\u001b[0;34m)\u001b[0m\u001b[0;34m)\u001b[0m\u001b[0;34m\u001b[0m\u001b[0;34m\u001b[0m\u001b[0m\n\u001b[0m\u001b[1;32m    240\u001b[0m \u001b[0;34m\u001b[0m\u001b[0m\n\u001b[1;32m    241\u001b[0m     \u001b[0;32mdef\u001b[0m \u001b[0m_weights_have_changed\u001b[0m\u001b[0;34m(\u001b[0m\u001b[0mself\u001b[0m\u001b[0;34m)\u001b[0m\u001b[0;34m:\u001b[0m\u001b[0;34m\u001b[0m\u001b[0;34m\u001b[0m\u001b[0m\n",
            "\u001b[0;31mRuntimeError\u001b[0m: Expected hidden[0] size (2, 1, 16), got [2, 11, 16]"
          ]
        }
      ]
    },
    {
      "cell_type": "code",
      "source": [
        "\n",
        "model.eval()\n",
        "with torch.no_grad():\n",
        "    outputs = model(a[:,15:16].long(), b[:,15:16].long(), teacher_forcing_ratio=0)\n",
        "outputs.shape\n",
        "output_idx = outputs[1:].squeeze(1).argmax(1)\n",
        "#' '.join([target.vocab.itos[idx] for idx in output_idx])"
      ],
      "metadata": {
        "id": "DcXRJwj0nso1"
      },
      "execution_count": null,
      "outputs": []
    },
    {
      "cell_type": "code",
      "source": [
        "reverse_hin_map[2]"
      ],
      "metadata": {
        "colab": {
          "base_uri": "https://localhost:8080/",
          "height": 36
        },
        "id": "mYukVr2pwqxu",
        "outputId": "28534c9d-20d9-4bf8-a7b1-4db20ca0f8e5"
      },
      "execution_count": null,
      "outputs": [
        {
          "output_type": "execute_result",
          "data": {
            "text/plain": [
              "'\\n'"
            ],
            "application/vnd.google.colaboratory.intrinsic+json": {
              "type": "string"
            }
          },
          "metadata": {},
          "execution_count": 125
        }
      ]
    },
    {
      "cell_type": "code",
      "source": [
        "word_idx=[]\n",
        "for idx in output_idx:\n",
        "  num=int(idx.numpy())\n",
        "  if num ==2:\n",
        "    break\n",
        "  else:\n",
        "    word_idx.append(reverse_hin_map[num])\n",
        "  "
      ],
      "metadata": {
        "id": "3unBQHerwEiE"
      },
      "execution_count": null,
      "outputs": []
    },
    {
      "cell_type": "code",
      "source": [
        "trainxx[1]"
      ],
      "metadata": {
        "colab": {
          "base_uri": "https://localhost:8080/"
        },
        "id": "dj3v9vA79gJj",
        "outputId": "17fb6cac-d315-4970-aee0-298a3d07de27"
      },
      "execution_count": null,
      "outputs": [
        {
          "output_type": "execute_result",
          "data": {
            "text/plain": [
              "array([ 1., 40., 55., 37., 66., 35., 66., 43., 54.,  2.,  0.,  0.,  0.,\n",
              "        0.,  0.,  0.,  0.,  0.,  0.,  0.,  0.,  0.,  0.,  0.],\n",
              "      dtype=float32)"
            ]
          },
          "metadata": {},
          "execution_count": 146
        }
      ]
    },
    {
      "cell_type": "code",
      "source": [
        "b[:,15:16],output_idx"
      ],
      "metadata": {
        "colab": {
          "base_uri": "https://localhost:8080/"
        },
        "id": "ISbtP9-n9xAb",
        "outputId": "102b4893-d90a-40d7-ff3d-4d42e8f10beb"
      },
      "execution_count": null,
      "outputs": [
        {
          "output_type": "execute_result",
          "data": {
            "text/plain": [
              "(tensor([[ 1.],\n",
              "         [10.],\n",
              "         [36.],\n",
              "         [61.],\n",
              "         [30.],\n",
              "         [52.],\n",
              "         [ 2.],\n",
              "         [ 0.],\n",
              "         [ 0.],\n",
              "         [ 0.],\n",
              "         [ 0.],\n",
              "         [ 0.],\n",
              "         [ 0.],\n",
              "         [ 0.],\n",
              "         [ 0.],\n",
              "         [ 0.],\n",
              "         [ 0.],\n",
              "         [ 0.],\n",
              "         [ 0.],\n",
              "         [ 0.],\n",
              "         [ 0.],\n",
              "         [ 0.],\n",
              "         [ 0.],\n",
              "         [ 0.]]),\n",
              " tensor([10, 36, 61, 35,  2,  2,  2,  2,  2,  2,  2,  2, 23,  2,  2,  2,  2, 23,\n",
              "          2,  2,  2,  2, 23]))"
            ]
          },
          "metadata": {},
          "execution_count": 42
        }
      ]
    },
    {
      "cell_type": "code",
      "source": [],
      "metadata": {
        "id": "HNfMj_pad8Ro"
      },
      "execution_count": null,
      "outputs": []
    },
    {
      "cell_type": "code",
      "source": [
        "\"\".join(word_idx)"
      ],
      "metadata": {
        "colab": {
          "base_uri": "https://localhost:8080/",
          "height": 36
        },
        "id": "oiSqMx17xogJ",
        "outputId": "5afdfa26-7ebd-4ea0-c6eb-73100af1b3ce"
      },
      "execution_count": null,
      "outputs": [
        {
          "output_type": "execute_result",
          "data": {
            "text/plain": [
              "'उधेद'"
            ],
            "application/vnd.google.colaboratory.intrinsic+json": {
              "type": "string"
            }
          },
          "metadata": {},
          "execution_count": 43
        }
      ]
    },
    {
      "cell_type": "code",
      "source": [
        "output_idx = outputs[1:].squeeze(1).argmax(1)\n",
        "' '.join([reverse_hin_map[idx.numpy()] for idx in output_idx])"
      ],
      "metadata": {
        "colab": {
          "base_uri": "https://localhost:8080/",
          "height": 252
        },
        "id": "OrpF4coXujAF",
        "outputId": "da1a0b63-ba03-4a38-954a-c6a56849a589"
      },
      "execution_count": null,
      "outputs": [
        {
          "output_type": "error",
          "ename": "TypeError",
          "evalue": "ignored",
          "traceback": [
            "\u001b[0;31m---------------------------------------------------------------------------\u001b[0m",
            "\u001b[0;31mTypeError\u001b[0m                                 Traceback (most recent call last)",
            "\u001b[0;32m<ipython-input-123-fa5e7f3a915c>\u001b[0m in \u001b[0;36m<cell line: 2>\u001b[0;34m()\u001b[0m\n\u001b[1;32m      1\u001b[0m \u001b[0moutput_idx\u001b[0m \u001b[0;34m=\u001b[0m \u001b[0moutputs\u001b[0m\u001b[0;34m[\u001b[0m\u001b[0;36m1\u001b[0m\u001b[0;34m:\u001b[0m\u001b[0;34m]\u001b[0m\u001b[0;34m.\u001b[0m\u001b[0msqueeze\u001b[0m\u001b[0;34m(\u001b[0m\u001b[0;36m1\u001b[0m\u001b[0;34m)\u001b[0m\u001b[0;34m.\u001b[0m\u001b[0margmax\u001b[0m\u001b[0;34m(\u001b[0m\u001b[0;36m1\u001b[0m\u001b[0;34m)\u001b[0m\u001b[0;34m\u001b[0m\u001b[0;34m\u001b[0m\u001b[0m\n\u001b[0;32m----> 2\u001b[0;31m \u001b[0;34m' '\u001b[0m\u001b[0;34m.\u001b[0m\u001b[0mjoin\u001b[0m\u001b[0;34m(\u001b[0m\u001b[0;34m[\u001b[0m\u001b[0mreverse_hin_map\u001b[0m\u001b[0;34m[\u001b[0m\u001b[0midx\u001b[0m\u001b[0;34m.\u001b[0m\u001b[0mnumpy\u001b[0m\u001b[0;34m(\u001b[0m\u001b[0;34m)\u001b[0m\u001b[0;34m]\u001b[0m \u001b[0;32mfor\u001b[0m \u001b[0midx\u001b[0m \u001b[0;32min\u001b[0m \u001b[0moutput_idx\u001b[0m\u001b[0;34m]\u001b[0m\u001b[0;34m)\u001b[0m\u001b[0;34m\u001b[0m\u001b[0;34m\u001b[0m\u001b[0m\n\u001b[0m",
            "\u001b[0;32m<ipython-input-123-fa5e7f3a915c>\u001b[0m in \u001b[0;36m<listcomp>\u001b[0;34m(.0)\u001b[0m\n\u001b[1;32m      1\u001b[0m \u001b[0moutput_idx\u001b[0m \u001b[0;34m=\u001b[0m \u001b[0moutputs\u001b[0m\u001b[0;34m[\u001b[0m\u001b[0;36m1\u001b[0m\u001b[0;34m:\u001b[0m\u001b[0;34m]\u001b[0m\u001b[0;34m.\u001b[0m\u001b[0msqueeze\u001b[0m\u001b[0;34m(\u001b[0m\u001b[0;36m1\u001b[0m\u001b[0;34m)\u001b[0m\u001b[0;34m.\u001b[0m\u001b[0margmax\u001b[0m\u001b[0;34m(\u001b[0m\u001b[0;36m1\u001b[0m\u001b[0;34m)\u001b[0m\u001b[0;34m\u001b[0m\u001b[0;34m\u001b[0m\u001b[0m\n\u001b[0;32m----> 2\u001b[0;31m \u001b[0;34m' '\u001b[0m\u001b[0;34m.\u001b[0m\u001b[0mjoin\u001b[0m\u001b[0;34m(\u001b[0m\u001b[0;34m[\u001b[0m\u001b[0mreverse_hin_map\u001b[0m\u001b[0;34m[\u001b[0m\u001b[0midx\u001b[0m\u001b[0;34m.\u001b[0m\u001b[0mnumpy\u001b[0m\u001b[0;34m(\u001b[0m\u001b[0;34m)\u001b[0m\u001b[0;34m]\u001b[0m \u001b[0;32mfor\u001b[0m \u001b[0midx\u001b[0m \u001b[0;32min\u001b[0m \u001b[0moutput_idx\u001b[0m\u001b[0;34m]\u001b[0m\u001b[0;34m)\u001b[0m\u001b[0;34m\u001b[0m\u001b[0;34m\u001b[0m\u001b[0m\n\u001b[0m",
            "\u001b[0;31mTypeError\u001b[0m: unhashable type: 'numpy.ndarray'"
          ]
        }
      ]
    },
    {
      "cell_type": "code",
      "source": [
        "outputs[1:].squeeze(1).argmax(1)"
      ],
      "metadata": {
        "colab": {
          "base_uri": "https://localhost:8080/"
        },
        "id": "DA3GlIogskt0",
        "outputId": "3aa57c9e-b587-450f-e7a0-39ff1454b5a8"
      },
      "execution_count": null,
      "outputs": [
        {
          "output_type": "execute_result",
          "data": {
            "text/plain": [
              "tensor([[ 4,  4, 15,  ...,  5, 12,  4],\n",
              "        [ 9,  9, 11,  ...,  0,  6,  9],\n",
              "        [13, 14,  6,  ..., 12, 11, 14],\n",
              "        ...,\n",
              "        [15, 15, 13,  ...,  1,  2, 15],\n",
              "        [15, 15, 13,  ...,  1,  2, 15],\n",
              "        [15, 13, 11,  ..., 15,  2, 13]])"
            ]
          },
          "metadata": {},
          "execution_count": 96
        }
      ]
    },
    {
      "cell_type": "code",
      "source": [
        "model()"
      ],
      "metadata": {
        "colab": {
          "base_uri": "https://localhost:8080/"
        },
        "id": "IzRtut-VnndL",
        "outputId": "f3e580f0-29fe-4882-a6ca-52b632186171"
      },
      "execution_count": null,
      "outputs": [
        {
          "output_type": "stream",
          "name": "stdout",
          "text": [
            "Seq2Seq(\n",
            "  (encoder): Encoder(\n",
            "    (embedding): Embedding(28, 32, padding_idx=0)\n",
            "    (rnn): LSTM(32, 16, batch_first=True)\n",
            "  )\n",
            "  (decoder): Decoder(\n",
            "    (embedding): Embedding(68, 32, padding_idx=0)\n",
            "    (rnn): LSTM(32, 16, batch_first=True)\n",
            "    (fc): Linear(in_features=16, out_features=68, bias=True)\n",
            "  )\n",
            ")\n"
          ]
        }
      ]
    },
    {
      "cell_type": "code",
      "source": [
        "model.encoder"
      ],
      "metadata": {
        "colab": {
          "base_uri": "https://localhost:8080/"
        },
        "id": "Z2-pIQhH_Wkz",
        "outputId": "74d7d667-d9e7-4434-9472-569b8326a4f9"
      },
      "execution_count": null,
      "outputs": [
        {
          "output_type": "execute_result",
          "data": {
            "text/plain": [
              "Encoder(\n",
              "  (embedding): Embedding(28, 32, padding_idx=0)\n",
              "  (rnn): LSTM(32, 16, batch_first=True)\n",
              ")"
            ]
          },
          "metadata": {},
          "execution_count": 120
        }
      ]
    },
    {
      "cell_type": "code",
      "source": [
        "import torch.functional as F"
      ],
      "metadata": {
        "id": "csnMGqLE-V9k"
      },
      "execution_count": null,
      "outputs": []
    },
    {
      "cell_type": "code",
      "source": [
        "def translate_sentence(model, sentence, eng_token_map, hin_token_map, device, max_length=50):\n",
        "    model.eval()\n",
        "\n",
        "    # Convert input sentence to tensor\n",
        "    with torch.no_grad():\n",
        "        input_seq = torch.tensor([eng_token_map[tok] for tok in sentence], dtype=torch.long, device=device).unsqueeze(0)\n",
        "\n",
        "    # Initialize decoder input with SOS_token\n",
        "    sos_idx = hin_token_map['\\t']\n",
        "    decoder_input = torch.tensor([sos_idx], dtype=torch.long, device=device).unsqueeze(0)\n",
        "\n",
        "    # Initialize hidden state and cell state with encoder final states\n",
        "    hidden, cell = model.encoder(input_seq)\n",
        "    decoder_hidden, decoder_cell = hidden, cell\n",
        "\n",
        "    # Initialize translation list to store output tokens\n",
        "    translation = []\n",
        "\n",
        "    # Decode the translation one token at a time\n",
        "    for _ in range(max_length):\n",
        "        # Decode one token at a time\n",
        "        output, decoder_hidden, decoder_cell = model.decoder(decoder_input, decoder_hidden, decoder_cell)\n",
        "        output = F.softmax(output, dim=1)\n",
        "\n",
        "        # Get the index of the predicted token with highest probability\n",
        "        top1 = output.argmax(1)\n",
        "\n",
        "        # Append the predicted token to the translation list\n",
        "        translation.append(hin_token_map[top1.item()])\n",
        "\n",
        "        # If the predicted token is the end-of-sentence token, stop decoding\n",
        "        if top1.item() == hin_token_map['\\n']:\n",
        "            break\n",
        "\n",
        "        # Otherwise, set the decoder input to the predicted token for the next decoding step\n",
        "        decoder_input = top1.unsqueeze(0)\n",
        "\n",
        "    # Convert the translation list to a string and return it\n",
        "    return ' '.join(translation)\n"
      ],
      "metadata": {
        "id": "AW13e8cZ8LX_"
      },
      "execution_count": null,
      "outputs": []
    },
    {
      "cell_type": "code",
      "source": [
        "input_texts[0]"
      ],
      "metadata": {
        "colab": {
          "base_uri": "https://localhost:8080/",
          "height": 36
        },
        "id": "jBQjmE67-tL3",
        "outputId": "6ad098d5-b763-4703-a1b7-826fcf5176ca"
      },
      "execution_count": null,
      "outputs": [
        {
          "output_type": "execute_result",
          "data": {
            "text/plain": [
              "'shastragaar'"
            ],
            "application/vnd.google.colaboratory.intrinsic+json": {
              "type": "string"
            }
          },
          "metadata": {},
          "execution_count": 112
        }
      ]
    },
    {
      "cell_type": "code",
      "source": [
        "hin_token_map"
      ],
      "metadata": {
        "colab": {
          "base_uri": "https://localhost:8080/"
        },
        "id": "8obh15MC-u5C",
        "outputId": "3505f2ec-44b1-45e9-e223-9f0fda4fe63e"
      },
      "execution_count": null,
      "outputs": [
        {
          "output_type": "execute_result",
          "data": {
            "text/plain": [
              "{'\\t': 1,\n",
              " '\\n': 2,\n",
              " 'ँ': 3,\n",
              " 'ं': 4,\n",
              " 'ः': 5,\n",
              " 'अ': 6,\n",
              " 'आ': 7,\n",
              " 'इ': 8,\n",
              " 'ई': 9,\n",
              " 'उ': 10,\n",
              " 'ऊ': 11,\n",
              " 'ऋ': 12,\n",
              " 'ए': 13,\n",
              " 'ऐ': 14,\n",
              " 'ऑ': 15,\n",
              " 'ओ': 16,\n",
              " 'औ': 17,\n",
              " 'क': 18,\n",
              " 'ख': 19,\n",
              " 'ग': 20,\n",
              " 'घ': 21,\n",
              " 'ङ': 22,\n",
              " 'च': 23,\n",
              " 'छ': 24,\n",
              " 'ज': 25,\n",
              " 'झ': 26,\n",
              " 'ञ': 27,\n",
              " 'ट': 28,\n",
              " 'ठ': 29,\n",
              " 'ड': 30,\n",
              " 'ढ': 31,\n",
              " 'ण': 32,\n",
              " 'त': 33,\n",
              " 'थ': 34,\n",
              " 'द': 35,\n",
              " 'ध': 36,\n",
              " 'न': 37,\n",
              " 'प': 38,\n",
              " 'फ': 39,\n",
              " 'ब': 40,\n",
              " 'भ': 41,\n",
              " 'म': 42,\n",
              " 'य': 43,\n",
              " 'र': 44,\n",
              " 'ल': 45,\n",
              " 'ळ': 46,\n",
              " 'व': 47,\n",
              " 'श': 48,\n",
              " 'ष': 49,\n",
              " 'स': 50,\n",
              " 'ह': 51,\n",
              " '़': 52,\n",
              " 'ऽ': 53,\n",
              " 'ा': 54,\n",
              " 'ि': 55,\n",
              " 'ी': 56,\n",
              " 'ु': 57,\n",
              " 'ू': 58,\n",
              " 'ृ': 59,\n",
              " 'ॅ': 60,\n",
              " 'े': 61,\n",
              " 'ै': 62,\n",
              " 'ॉ': 63,\n",
              " 'ो': 64,\n",
              " 'ौ': 65,\n",
              " '्': 66,\n",
              " '<UNK>': 67,\n",
              " '<PAD>': 0}"
            ]
          },
          "metadata": {},
          "execution_count": 116
        }
      ]
    },
    {
      "cell_type": "code",
      "source": [
        "translate_sentence(model,input_texts[0],eng_token_map,hin_token_map,device)"
      ],
      "metadata": {
        "colab": {
          "base_uri": "https://localhost:8080/",
          "height": 796
        },
        "id": "4UAgW9Dz-m8m",
        "outputId": "4059d8c3-3d41-4d03-a9b8-b3e08e7c829d"
      },
      "execution_count": null,
      "outputs": [
        {
          "output_type": "error",
          "ename": "AssertionError",
          "evalue": "ignored",
          "traceback": [
            "\u001b[0;31m---------------------------------------------------------------------------\u001b[0m",
            "\u001b[0;31mAssertionError\u001b[0m                            Traceback (most recent call last)",
            "\u001b[0;32m<ipython-input-61-1ae4e480fe09>\u001b[0m in \u001b[0;36m<cell line: 1>\u001b[0;34m()\u001b[0m\n\u001b[0;32m----> 1\u001b[0;31m \u001b[0mtranslate_sentence\u001b[0m\u001b[0;34m(\u001b[0m\u001b[0mmodel\u001b[0m\u001b[0;34m,\u001b[0m\u001b[0minput_texts\u001b[0m\u001b[0;34m[\u001b[0m\u001b[0;36m0\u001b[0m\u001b[0;34m]\u001b[0m\u001b[0;34m,\u001b[0m\u001b[0meng_token_map\u001b[0m\u001b[0;34m,\u001b[0m\u001b[0mhin_token_map\u001b[0m\u001b[0;34m,\u001b[0m\u001b[0mdevice\u001b[0m\u001b[0;34m)\u001b[0m\u001b[0;34m\u001b[0m\u001b[0;34m\u001b[0m\u001b[0m\n\u001b[0m",
            "\u001b[0;32m<ipython-input-60-51be7a2dc978>\u001b[0m in \u001b[0;36mtranslate_sentence\u001b[0;34m(model, sentence, eng_token_map, hin_token_map, device, max_length)\u001b[0m\n\u001b[1;32m     20\u001b[0m     \u001b[0;32mfor\u001b[0m \u001b[0m_\u001b[0m \u001b[0;32min\u001b[0m \u001b[0mrange\u001b[0m\u001b[0;34m(\u001b[0m\u001b[0mmax_length\u001b[0m\u001b[0;34m)\u001b[0m\u001b[0;34m:\u001b[0m\u001b[0;34m\u001b[0m\u001b[0;34m\u001b[0m\u001b[0m\n\u001b[1;32m     21\u001b[0m         \u001b[0;31m# Decode one token at a time\u001b[0m\u001b[0;34m\u001b[0m\u001b[0;34m\u001b[0m\u001b[0m\n\u001b[0;32m---> 22\u001b[0;31m         \u001b[0moutput\u001b[0m\u001b[0;34m,\u001b[0m \u001b[0mdecoder_hidden\u001b[0m\u001b[0;34m,\u001b[0m \u001b[0mdecoder_cell\u001b[0m \u001b[0;34m=\u001b[0m \u001b[0mmodel\u001b[0m\u001b[0;34m.\u001b[0m\u001b[0mdecoder\u001b[0m\u001b[0;34m(\u001b[0m\u001b[0mdecoder_input\u001b[0m\u001b[0;34m,\u001b[0m \u001b[0mdecoder_hidden\u001b[0m\u001b[0;34m,\u001b[0m \u001b[0mdecoder_cell\u001b[0m\u001b[0;34m)\u001b[0m\u001b[0;34m\u001b[0m\u001b[0;34m\u001b[0m\u001b[0m\n\u001b[0m\u001b[1;32m     23\u001b[0m         \u001b[0moutput\u001b[0m \u001b[0;34m=\u001b[0m \u001b[0mF\u001b[0m\u001b[0;34m.\u001b[0m\u001b[0msoftmax\u001b[0m\u001b[0;34m(\u001b[0m\u001b[0moutput\u001b[0m\u001b[0;34m,\u001b[0m \u001b[0mdim\u001b[0m\u001b[0;34m=\u001b[0m\u001b[0;36m1\u001b[0m\u001b[0;34m)\u001b[0m\u001b[0;34m\u001b[0m\u001b[0;34m\u001b[0m\u001b[0m\n\u001b[1;32m     24\u001b[0m \u001b[0;34m\u001b[0m\u001b[0m\n",
            "\u001b[0;32m/usr/local/lib/python3.10/dist-packages/torch/nn/modules/module.py\u001b[0m in \u001b[0;36m_call_impl\u001b[0;34m(self, *args, **kwargs)\u001b[0m\n\u001b[1;32m   1499\u001b[0m                 \u001b[0;32mor\u001b[0m \u001b[0m_global_backward_pre_hooks\u001b[0m \u001b[0;32mor\u001b[0m \u001b[0m_global_backward_hooks\u001b[0m\u001b[0;34m\u001b[0m\u001b[0;34m\u001b[0m\u001b[0m\n\u001b[1;32m   1500\u001b[0m                 or _global_forward_hooks or _global_forward_pre_hooks):\n\u001b[0;32m-> 1501\u001b[0;31m             \u001b[0;32mreturn\u001b[0m \u001b[0mforward_call\u001b[0m\u001b[0;34m(\u001b[0m\u001b[0;34m*\u001b[0m\u001b[0margs\u001b[0m\u001b[0;34m,\u001b[0m \u001b[0;34m**\u001b[0m\u001b[0mkwargs\u001b[0m\u001b[0;34m)\u001b[0m\u001b[0;34m\u001b[0m\u001b[0;34m\u001b[0m\u001b[0m\n\u001b[0m\u001b[1;32m   1502\u001b[0m         \u001b[0;31m# Do not call functions when jit is used\u001b[0m\u001b[0;34m\u001b[0m\u001b[0;34m\u001b[0m\u001b[0m\n\u001b[1;32m   1503\u001b[0m         \u001b[0mfull_backward_hooks\u001b[0m\u001b[0;34m,\u001b[0m \u001b[0mnon_full_backward_hooks\u001b[0m \u001b[0;34m=\u001b[0m \u001b[0;34m[\u001b[0m\u001b[0;34m]\u001b[0m\u001b[0;34m,\u001b[0m \u001b[0;34m[\u001b[0m\u001b[0;34m]\u001b[0m\u001b[0;34m\u001b[0m\u001b[0;34m\u001b[0m\u001b[0m\n",
            "\u001b[0;32m<ipython-input-17-8948c82165e4>\u001b[0m in \u001b[0;36mforward\u001b[0;34m(self, x, hidden, cell)\u001b[0m\n\u001b[1;32m     38\u001b[0m         \u001b[0mx\u001b[0m \u001b[0;34m=\u001b[0m \u001b[0mx\u001b[0m\u001b[0;34m.\u001b[0m\u001b[0munsqueeze\u001b[0m\u001b[0;34m(\u001b[0m\u001b[0;36m0\u001b[0m\u001b[0;34m)\u001b[0m\u001b[0;34m\u001b[0m\u001b[0;34m\u001b[0m\u001b[0m\n\u001b[1;32m     39\u001b[0m         \u001b[0membedded\u001b[0m \u001b[0;34m=\u001b[0m \u001b[0mself\u001b[0m\u001b[0;34m.\u001b[0m\u001b[0membedding\u001b[0m\u001b[0;34m(\u001b[0m\u001b[0mx\u001b[0m\u001b[0;34m)\u001b[0m\u001b[0;34m\u001b[0m\u001b[0;34m\u001b[0m\u001b[0m\n\u001b[0;32m---> 40\u001b[0;31m         \u001b[0moutput\u001b[0m\u001b[0;34m,\u001b[0m \u001b[0;34m(\u001b[0m\u001b[0mhidden\u001b[0m\u001b[0;34m,\u001b[0m \u001b[0mcell\u001b[0m\u001b[0;34m)\u001b[0m \u001b[0;34m=\u001b[0m \u001b[0mself\u001b[0m\u001b[0;34m.\u001b[0m\u001b[0mrnn\u001b[0m\u001b[0;34m(\u001b[0m\u001b[0membedded\u001b[0m\u001b[0;34m,\u001b[0m \u001b[0;34m(\u001b[0m\u001b[0mhidden\u001b[0m\u001b[0;34m,\u001b[0m \u001b[0mcell\u001b[0m\u001b[0;34m)\u001b[0m\u001b[0;34m)\u001b[0m\u001b[0;34m\u001b[0m\u001b[0;34m\u001b[0m\u001b[0m\n\u001b[0m\u001b[1;32m     41\u001b[0m         \u001b[0moutput\u001b[0m\u001b[0;34m=\u001b[0m \u001b[0mself\u001b[0m\u001b[0;34m.\u001b[0m\u001b[0mfc\u001b[0m\u001b[0;34m(\u001b[0m\u001b[0moutput\u001b[0m\u001b[0;34m)\u001b[0m\u001b[0;34m\u001b[0m\u001b[0;34m\u001b[0m\u001b[0m\n\u001b[1;32m     42\u001b[0m         \u001b[0moutput\u001b[0m \u001b[0;34m=\u001b[0m \u001b[0moutput\u001b[0m\u001b[0;34m.\u001b[0m\u001b[0msqueeze\u001b[0m\u001b[0;34m(\u001b[0m\u001b[0;36m0\u001b[0m\u001b[0;34m)\u001b[0m\u001b[0;34m\u001b[0m\u001b[0;34m\u001b[0m\u001b[0m\n",
            "\u001b[0;32m/usr/local/lib/python3.10/dist-packages/torch/nn/modules/module.py\u001b[0m in \u001b[0;36m_call_impl\u001b[0;34m(self, *args, **kwargs)\u001b[0m\n\u001b[1;32m   1499\u001b[0m                 \u001b[0;32mor\u001b[0m \u001b[0m_global_backward_pre_hooks\u001b[0m \u001b[0;32mor\u001b[0m \u001b[0m_global_backward_hooks\u001b[0m\u001b[0;34m\u001b[0m\u001b[0;34m\u001b[0m\u001b[0m\n\u001b[1;32m   1500\u001b[0m                 or _global_forward_hooks or _global_forward_pre_hooks):\n\u001b[0;32m-> 1501\u001b[0;31m             \u001b[0;32mreturn\u001b[0m \u001b[0mforward_call\u001b[0m\u001b[0;34m(\u001b[0m\u001b[0;34m*\u001b[0m\u001b[0margs\u001b[0m\u001b[0;34m,\u001b[0m \u001b[0;34m**\u001b[0m\u001b[0mkwargs\u001b[0m\u001b[0;34m)\u001b[0m\u001b[0;34m\u001b[0m\u001b[0;34m\u001b[0m\u001b[0m\n\u001b[0m\u001b[1;32m   1502\u001b[0m         \u001b[0;31m# Do not call functions when jit is used\u001b[0m\u001b[0;34m\u001b[0m\u001b[0;34m\u001b[0m\u001b[0m\n\u001b[1;32m   1503\u001b[0m         \u001b[0mfull_backward_hooks\u001b[0m\u001b[0;34m,\u001b[0m \u001b[0mnon_full_backward_hooks\u001b[0m \u001b[0;34m=\u001b[0m \u001b[0;34m[\u001b[0m\u001b[0;34m]\u001b[0m\u001b[0;34m,\u001b[0m \u001b[0;34m[\u001b[0m\u001b[0;34m]\u001b[0m\u001b[0;34m\u001b[0m\u001b[0;34m\u001b[0m\u001b[0m\n",
            "\u001b[0;32m/usr/local/lib/python3.10/dist-packages/torch/nn/modules/rnn.py\u001b[0m in \u001b[0;36mforward\u001b[0;34m(self, input, hx)\u001b[0m\n\u001b[1;32m    771\u001b[0m         \u001b[0;32melse\u001b[0m\u001b[0;34m:\u001b[0m\u001b[0;34m\u001b[0m\u001b[0;34m\u001b[0m\u001b[0m\n\u001b[1;32m    772\u001b[0m             \u001b[0mbatch_sizes\u001b[0m \u001b[0;34m=\u001b[0m \u001b[0;32mNone\u001b[0m\u001b[0;34m\u001b[0m\u001b[0;34m\u001b[0m\u001b[0m\n\u001b[0;32m--> 773\u001b[0;31m             \u001b[0;32massert\u001b[0m \u001b[0;34m(\u001b[0m\u001b[0minput\u001b[0m\u001b[0;34m.\u001b[0m\u001b[0mdim\u001b[0m\u001b[0;34m(\u001b[0m\u001b[0;34m)\u001b[0m \u001b[0;32min\u001b[0m \u001b[0;34m(\u001b[0m\u001b[0;36m2\u001b[0m\u001b[0;34m,\u001b[0m \u001b[0;36m3\u001b[0m\u001b[0;34m)\u001b[0m\u001b[0;34m)\u001b[0m\u001b[0;34m,\u001b[0m \u001b[0;34mf\"LSTM: Expected input to be 2-D or 3-D but received {input.dim()}-D tensor\"\u001b[0m\u001b[0;34m\u001b[0m\u001b[0;34m\u001b[0m\u001b[0m\n\u001b[0m\u001b[1;32m    774\u001b[0m             \u001b[0mis_batched\u001b[0m \u001b[0;34m=\u001b[0m \u001b[0minput\u001b[0m\u001b[0;34m.\u001b[0m\u001b[0mdim\u001b[0m\u001b[0;34m(\u001b[0m\u001b[0;34m)\u001b[0m \u001b[0;34m==\u001b[0m \u001b[0;36m3\u001b[0m\u001b[0;34m\u001b[0m\u001b[0;34m\u001b[0m\u001b[0m\n\u001b[1;32m    775\u001b[0m             \u001b[0mbatch_dim\u001b[0m \u001b[0;34m=\u001b[0m \u001b[0;36m0\u001b[0m \u001b[0;32mif\u001b[0m \u001b[0mself\u001b[0m\u001b[0;34m.\u001b[0m\u001b[0mbatch_first\u001b[0m \u001b[0;32melse\u001b[0m \u001b[0;36m1\u001b[0m\u001b[0;34m\u001b[0m\u001b[0;34m\u001b[0m\u001b[0m\n",
            "\u001b[0;31mAssertionError\u001b[0m: LSTM: Expected input to be 2-D or 3-D but received 4-D tensor"
          ]
        }
      ]
    },
    {
      "cell_type": "code",
      "source": [
        "encoder=Encoder(len(eng_token_map),32,16,2,0.1,'LSTM',True)"
      ],
      "metadata": {
        "id": "hWlrGDib65jR"
      },
      "execution_count": null,
      "outputs": []
    },
    {
      "cell_type": "code",
      "source": [],
      "metadata": {
        "colab": {
          "base_uri": "https://localhost:8080/"
        },
        "id": "6y0NiqXt7aBy",
        "outputId": "28ab001d-fd0a-4ec8-f9d6-5676cd382044"
      },
      "execution_count": null,
      "outputs": [
        {
          "output_type": "execute_result",
          "data": {
            "text/plain": [
              "Encoder(\n",
              "  (embedding): Embedding(28, 32, padding_idx=0)\n",
              "  (rnn): LSTM(32, 16, num_layers=2, batch_first=True, dropout=0.1, bidirectional=True)\n",
              ")"
            ]
          },
          "metadata": {},
          "execution_count": 19
        }
      ]
    },
    {
      "cell_type": "code",
      "source": [
        "a,b,c=pre_process(test)"
      ],
      "metadata": {
        "id": "mPRWYAJXydEY"
      },
      "execution_count": null,
      "outputs": []
    },
    {
      "cell_type": "code",
      "source": [
        "len(c[0][0])"
      ],
      "metadata": {
        "colab": {
          "base_uri": "https://localhost:8080/"
        },
        "id": "r_85pBaX9-WR",
        "outputId": "5d8f21a8-6507-405e-aec4-994fc6764276"
      },
      "execution_count": null,
      "outputs": [
        {
          "output_type": "execute_result",
          "data": {
            "text/plain": [
              "68"
            ]
          },
          "metadata": {},
          "execution_count": 73
        }
      ]
    },
    {
      "cell_type": "code",
      "source": [
        "b[0]"
      ],
      "metadata": {
        "colab": {
          "base_uri": "https://localhost:8080/"
        },
        "id": "5rDJLJqq-BBV",
        "outputId": "b31094dd-0bba-44b9-ce9b-d6e633566941"
      },
      "execution_count": null,
      "outputs": [
        {
          "output_type": "execute_result",
          "data": {
            "text/plain": [
              "array([ 1., 34., 44., 42., 62., 18., 66., 50.,  2.,  0.,  0.,  0.,  0.,\n",
              "        0.,  0.,  0.,  0.,  0.,  0.,  0.,  0.,  0.,  0.,  0.],\n",
              "      dtype=float32)"
            ]
          },
          "metadata": {},
          "execution_count": 72
        }
      ]
    },
    {
      "cell_type": "code",
      "source": [
        "list(target_texts[3])"
      ],
      "metadata": {
        "colab": {
          "base_uri": "https://localhost:8080/"
        },
        "id": "gDowqq_c4N5S",
        "outputId": "10411bb8-f106-4697-bdb5-d506ebb0b597"
      },
      "execution_count": null,
      "outputs": [
        {
          "output_type": "execute_result",
          "data": {
            "text/plain": [
              "['\\t', 'ट', '्', 'व', 'ि', 'ट', 'र', '्', 'स', '\\n']"
            ]
          },
          "metadata": {},
          "execution_count": 47
        }
      ]
    },
    {
      "cell_type": "code",
      "source": [
        "len(c[0][0])"
      ],
      "metadata": {
        "colab": {
          "base_uri": "https://localhost:8080/"
        },
        "id": "57Wlx0H99Jlq",
        "outputId": "33941c87-e4e1-4473-c0c7-7445aecff212"
      },
      "execution_count": null,
      "outputs": [
        {
          "output_type": "execute_result",
          "data": {
            "text/plain": [
              "68"
            ]
          },
          "metadata": {},
          "execution_count": 66
        }
      ]
    },
    {
      "cell_type": "code",
      "source": [
        "b[3]"
      ],
      "metadata": {
        "id": "MidlrNMryfuz",
        "colab": {
          "base_uri": "https://localhost:8080/"
        },
        "outputId": "6fa1d925-5320-4b40-bfd3-341a6f07db12"
      },
      "execution_count": null,
      "outputs": [
        {
          "output_type": "execute_result",
          "data": {
            "text/plain": [
              "array([ 1., 28., 66., 47., 55., 28., 44., 66., 50.,  2.,  0.,  0.,  0.,\n",
              "        0.,  0.,  0.,  0.,  0.,  0.,  0.,  0.,  0.,  0.,  0.],\n",
              "      dtype=float32)"
            ]
          },
          "metadata": {},
          "execution_count": 46
        }
      ]
    },
    {
      "cell_type": "code",
      "source": [],
      "metadata": {
        "id": "CfuigGaBv_to"
      },
      "execution_count": null,
      "outputs": []
    },
    {
      "cell_type": "code",
      "source": [
        "a=torch.tensor(a)"
      ],
      "metadata": {
        "id": "JY1kWsOluYsN"
      },
      "execution_count": null,
      "outputs": []
    },
    {
      "cell_type": "code",
      "source": [
        "a.dtype"
      ],
      "metadata": {
        "colab": {
          "base_uri": "https://localhost:8080/"
        },
        "id": "d7j4764L7Kmn",
        "outputId": "405714f2-257e-4fb7-e0f1-64f1a35ebfce"
      },
      "execution_count": null,
      "outputs": [
        {
          "output_type": "execute_result",
          "data": {
            "text/plain": [
              "torch.float32"
            ]
          },
          "metadata": {},
          "execution_count": 52
        }
      ]
    },
    {
      "cell_type": "code",
      "source": [
        "a,b,c=pre_process(val)"
      ],
      "metadata": {
        "id": "nnRgQbIOuuY2"
      },
      "execution_count": null,
      "outputs": []
    },
    {
      "cell_type": "code",
      "source": [],
      "metadata": {
        "colab": {
          "base_uri": "https://localhost:8080/"
        },
        "id": "8R0nLQgGvg9D",
        "outputId": "cee4f940-efbd-44c8-d870-443da1e8aae5"
      },
      "execution_count": null,
      "outputs": [
        {
          "output_type": "execute_result",
          "data": {
            "text/plain": [
              "67"
            ]
          },
          "metadata": {},
          "execution_count": 98
        }
      ]
    },
    {
      "cell_type": "code",
      "source": [
        "input_texts[0]"
      ],
      "metadata": {
        "colab": {
          "base_uri": "https://localhost:8080/",
          "height": 36
        },
        "id": "ZZCHriWZie2I",
        "outputId": "ea203afe-5c5d-4f9a-ea02-4fba67ecea1d"
      },
      "execution_count": null,
      "outputs": [
        {
          "output_type": "execute_result",
          "data": {
            "text/plain": [
              "'shastragaar'"
            ],
            "application/vnd.google.colaboratory.intrinsic+json": {
              "type": "string"
            }
          },
          "metadata": {},
          "execution_count": 74
        }
      ]
    },
    {
      "cell_type": "code",
      "source": [
        "uncommon_list1 = [x for x in hindi_tokens_train if x not in hindi_tokens_test]\n",
        "uncommon_list2 = [x for x in hindi_tokens_test if x not in hindi_tokens_train]\n",
        "\n",
        "# Print the result\n",
        "print(\"Uncommon elements in list1:\", uncommon_list1)\n",
        "print(\"Uncommon elements in list2:\", uncommon_list2)"
      ],
      "metadata": {
        "colab": {
          "base_uri": "https://localhost:8080/"
        },
        "id": "qswXheYUR4zH",
        "outputId": "7a261203-f0ae-41fc-8d9e-f092c9e607b8"
      },
      "execution_count": null,
      "outputs": [
        {
          "output_type": "stream",
          "name": "stdout",
          "text": [
            "Uncommon elements in list1: ['ङ', 'ळ']\n",
            "Uncommon elements in list2: ['ॊ']\n"
          ]
        }
      ]
    },
    {
      "cell_type": "code",
      "source": [
        "uncommon_elements"
      ],
      "metadata": {
        "colab": {
          "base_uri": "https://localhost:8080/"
        },
        "id": "_l8UZSEaSusN",
        "outputId": "89deff7d-b3ed-41d8-dbda-937378f377c8"
      },
      "execution_count": null,
      "outputs": [
        {
          "output_type": "execute_result",
          "data": {
            "text/plain": [
              "{'ङ', 'ळ', 'ॊ'}"
            ]
          },
          "metadata": {},
          "execution_count": 43
        }
      ]
    },
    {
      "cell_type": "code",
      "source": [],
      "metadata": {
        "id": "E6CrIbbVvy36"
      },
      "execution_count": null,
      "outputs": []
    }
  ]
}