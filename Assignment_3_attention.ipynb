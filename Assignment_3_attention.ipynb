{
  "nbformat": 4,
  "nbformat_minor": 0,
  "metadata": {
    "colab": {
      "provenance": [],
      "gpuType": "T4"
    },
    "kernelspec": {
      "name": "python3",
      "display_name": "Python 3"
    },
    "language_info": {
      "name": "python"
    },
    "accelerator": "GPU",
    "gpuClass": "standard",
    "widgets": {
      "application/vnd.jupyter.widget-state+json": {
        "48140631cf744bc99ec1a3ed49e2a134": {
          "model_module": "@jupyter-widgets/controls",
          "model_name": "VBoxModel",
          "model_module_version": "1.5.0",
          "state": {
            "_dom_classes": [],
            "_model_module": "@jupyter-widgets/controls",
            "_model_module_version": "1.5.0",
            "_model_name": "VBoxModel",
            "_view_count": null,
            "_view_module": "@jupyter-widgets/controls",
            "_view_module_version": "1.5.0",
            "_view_name": "VBoxView",
            "box_style": "",
            "children": [
              "IPY_MODEL_6d986758dcbf410f856b16861fe4b23c",
              "IPY_MODEL_58e51bc656934a378918b5a122bc15f7"
            ],
            "layout": "IPY_MODEL_7fc220442e3f4c3f823a1a7c0e8741db"
          }
        },
        "6d986758dcbf410f856b16861fe4b23c": {
          "model_module": "@jupyter-widgets/controls",
          "model_name": "LabelModel",
          "model_module_version": "1.5.0",
          "state": {
            "_dom_classes": [],
            "_model_module": "@jupyter-widgets/controls",
            "_model_module_version": "1.5.0",
            "_model_name": "LabelModel",
            "_view_count": null,
            "_view_module": "@jupyter-widgets/controls",
            "_view_module_version": "1.5.0",
            "_view_name": "LabelView",
            "description": "",
            "description_tooltip": null,
            "layout": "IPY_MODEL_8f2abba2fd444c83a0afd8efdd8b0124",
            "placeholder": "​",
            "style": "IPY_MODEL_773b9c65f38d4eb6aa4e999905ae1446",
            "value": "0.001 MB of 0.003 MB uploaded (0.000 MB deduped)\r"
          }
        },
        "58e51bc656934a378918b5a122bc15f7": {
          "model_module": "@jupyter-widgets/controls",
          "model_name": "FloatProgressModel",
          "model_module_version": "1.5.0",
          "state": {
            "_dom_classes": [],
            "_model_module": "@jupyter-widgets/controls",
            "_model_module_version": "1.5.0",
            "_model_name": "FloatProgressModel",
            "_view_count": null,
            "_view_module": "@jupyter-widgets/controls",
            "_view_module_version": "1.5.0",
            "_view_name": "ProgressView",
            "bar_style": "",
            "description": "",
            "description_tooltip": null,
            "layout": "IPY_MODEL_ca79bd9cd80346b98f6dcdd56b148191",
            "max": 1,
            "min": 0,
            "orientation": "horizontal",
            "style": "IPY_MODEL_265b564a54ae4c608931c528abd8598c",
            "value": 0.34549168368835714
          }
        },
        "7fc220442e3f4c3f823a1a7c0e8741db": {
          "model_module": "@jupyter-widgets/base",
          "model_name": "LayoutModel",
          "model_module_version": "1.2.0",
          "state": {
            "_model_module": "@jupyter-widgets/base",
            "_model_module_version": "1.2.0",
            "_model_name": "LayoutModel",
            "_view_count": null,
            "_view_module": "@jupyter-widgets/base",
            "_view_module_version": "1.2.0",
            "_view_name": "LayoutView",
            "align_content": null,
            "align_items": null,
            "align_self": null,
            "border": null,
            "bottom": null,
            "display": null,
            "flex": null,
            "flex_flow": null,
            "grid_area": null,
            "grid_auto_columns": null,
            "grid_auto_flow": null,
            "grid_auto_rows": null,
            "grid_column": null,
            "grid_gap": null,
            "grid_row": null,
            "grid_template_areas": null,
            "grid_template_columns": null,
            "grid_template_rows": null,
            "height": null,
            "justify_content": null,
            "justify_items": null,
            "left": null,
            "margin": null,
            "max_height": null,
            "max_width": null,
            "min_height": null,
            "min_width": null,
            "object_fit": null,
            "object_position": null,
            "order": null,
            "overflow": null,
            "overflow_x": null,
            "overflow_y": null,
            "padding": null,
            "right": null,
            "top": null,
            "visibility": null,
            "width": null
          }
        },
        "8f2abba2fd444c83a0afd8efdd8b0124": {
          "model_module": "@jupyter-widgets/base",
          "model_name": "LayoutModel",
          "model_module_version": "1.2.0",
          "state": {
            "_model_module": "@jupyter-widgets/base",
            "_model_module_version": "1.2.0",
            "_model_name": "LayoutModel",
            "_view_count": null,
            "_view_module": "@jupyter-widgets/base",
            "_view_module_version": "1.2.0",
            "_view_name": "LayoutView",
            "align_content": null,
            "align_items": null,
            "align_self": null,
            "border": null,
            "bottom": null,
            "display": null,
            "flex": null,
            "flex_flow": null,
            "grid_area": null,
            "grid_auto_columns": null,
            "grid_auto_flow": null,
            "grid_auto_rows": null,
            "grid_column": null,
            "grid_gap": null,
            "grid_row": null,
            "grid_template_areas": null,
            "grid_template_columns": null,
            "grid_template_rows": null,
            "height": null,
            "justify_content": null,
            "justify_items": null,
            "left": null,
            "margin": null,
            "max_height": null,
            "max_width": null,
            "min_height": null,
            "min_width": null,
            "object_fit": null,
            "object_position": null,
            "order": null,
            "overflow": null,
            "overflow_x": null,
            "overflow_y": null,
            "padding": null,
            "right": null,
            "top": null,
            "visibility": null,
            "width": null
          }
        },
        "773b9c65f38d4eb6aa4e999905ae1446": {
          "model_module": "@jupyter-widgets/controls",
          "model_name": "DescriptionStyleModel",
          "model_module_version": "1.5.0",
          "state": {
            "_model_module": "@jupyter-widgets/controls",
            "_model_module_version": "1.5.0",
            "_model_name": "DescriptionStyleModel",
            "_view_count": null,
            "_view_module": "@jupyter-widgets/base",
            "_view_module_version": "1.2.0",
            "_view_name": "StyleView",
            "description_width": ""
          }
        },
        "ca79bd9cd80346b98f6dcdd56b148191": {
          "model_module": "@jupyter-widgets/base",
          "model_name": "LayoutModel",
          "model_module_version": "1.2.0",
          "state": {
            "_model_module": "@jupyter-widgets/base",
            "_model_module_version": "1.2.0",
            "_model_name": "LayoutModel",
            "_view_count": null,
            "_view_module": "@jupyter-widgets/base",
            "_view_module_version": "1.2.0",
            "_view_name": "LayoutView",
            "align_content": null,
            "align_items": null,
            "align_self": null,
            "border": null,
            "bottom": null,
            "display": null,
            "flex": null,
            "flex_flow": null,
            "grid_area": null,
            "grid_auto_columns": null,
            "grid_auto_flow": null,
            "grid_auto_rows": null,
            "grid_column": null,
            "grid_gap": null,
            "grid_row": null,
            "grid_template_areas": null,
            "grid_template_columns": null,
            "grid_template_rows": null,
            "height": null,
            "justify_content": null,
            "justify_items": null,
            "left": null,
            "margin": null,
            "max_height": null,
            "max_width": null,
            "min_height": null,
            "min_width": null,
            "object_fit": null,
            "object_position": null,
            "order": null,
            "overflow": null,
            "overflow_x": null,
            "overflow_y": null,
            "padding": null,
            "right": null,
            "top": null,
            "visibility": null,
            "width": null
          }
        },
        "265b564a54ae4c608931c528abd8598c": {
          "model_module": "@jupyter-widgets/controls",
          "model_name": "ProgressStyleModel",
          "model_module_version": "1.5.0",
          "state": {
            "_model_module": "@jupyter-widgets/controls",
            "_model_module_version": "1.5.0",
            "_model_name": "ProgressStyleModel",
            "_view_count": null,
            "_view_module": "@jupyter-widgets/base",
            "_view_module_version": "1.2.0",
            "_view_name": "StyleView",
            "bar_color": null,
            "description_width": ""
          }
        },
        "0f49a4b08a8644ffaecb3810d7440364": {
          "model_module": "@jupyter-widgets/controls",
          "model_name": "VBoxModel",
          "model_module_version": "1.5.0",
          "state": {
            "_dom_classes": [],
            "_model_module": "@jupyter-widgets/controls",
            "_model_module_version": "1.5.0",
            "_model_name": "VBoxModel",
            "_view_count": null,
            "_view_module": "@jupyter-widgets/controls",
            "_view_module_version": "1.5.0",
            "_view_name": "VBoxView",
            "box_style": "",
            "children": [
              "IPY_MODEL_aaab74a6bb6343b0af0d0b81ac564686",
              "IPY_MODEL_479a01e65c4540bdabd084aa423ddbbf"
            ],
            "layout": "IPY_MODEL_e9cc3e45e3ae4aaba433591285a3d0e5"
          }
        },
        "aaab74a6bb6343b0af0d0b81ac564686": {
          "model_module": "@jupyter-widgets/controls",
          "model_name": "LabelModel",
          "model_module_version": "1.5.0",
          "state": {
            "_dom_classes": [],
            "_model_module": "@jupyter-widgets/controls",
            "_model_module_version": "1.5.0",
            "_model_name": "LabelModel",
            "_view_count": null,
            "_view_module": "@jupyter-widgets/controls",
            "_view_module_version": "1.5.0",
            "_view_name": "LabelView",
            "description": "",
            "description_tooltip": null,
            "layout": "IPY_MODEL_13af5bee1f9f44f0919da7728df90f58",
            "placeholder": "​",
            "style": "IPY_MODEL_81f21e82a48a4758a13b042573d712d5",
            "value": "0.011 MB of 0.011 MB uploaded (0.000 MB deduped)\r"
          }
        },
        "479a01e65c4540bdabd084aa423ddbbf": {
          "model_module": "@jupyter-widgets/controls",
          "model_name": "FloatProgressModel",
          "model_module_version": "1.5.0",
          "state": {
            "_dom_classes": [],
            "_model_module": "@jupyter-widgets/controls",
            "_model_module_version": "1.5.0",
            "_model_name": "FloatProgressModel",
            "_view_count": null,
            "_view_module": "@jupyter-widgets/controls",
            "_view_module_version": "1.5.0",
            "_view_name": "ProgressView",
            "bar_style": "",
            "description": "",
            "description_tooltip": null,
            "layout": "IPY_MODEL_a9808ec68fc84157b829beb272a635bf",
            "max": 1,
            "min": 0,
            "orientation": "horizontal",
            "style": "IPY_MODEL_771fc7b0dc6b4fdc999c2d8e93e98e4d",
            "value": 0.9763664489515297
          }
        },
        "e9cc3e45e3ae4aaba433591285a3d0e5": {
          "model_module": "@jupyter-widgets/base",
          "model_name": "LayoutModel",
          "model_module_version": "1.2.0",
          "state": {
            "_model_module": "@jupyter-widgets/base",
            "_model_module_version": "1.2.0",
            "_model_name": "LayoutModel",
            "_view_count": null,
            "_view_module": "@jupyter-widgets/base",
            "_view_module_version": "1.2.0",
            "_view_name": "LayoutView",
            "align_content": null,
            "align_items": null,
            "align_self": null,
            "border": null,
            "bottom": null,
            "display": null,
            "flex": null,
            "flex_flow": null,
            "grid_area": null,
            "grid_auto_columns": null,
            "grid_auto_flow": null,
            "grid_auto_rows": null,
            "grid_column": null,
            "grid_gap": null,
            "grid_row": null,
            "grid_template_areas": null,
            "grid_template_columns": null,
            "grid_template_rows": null,
            "height": null,
            "justify_content": null,
            "justify_items": null,
            "left": null,
            "margin": null,
            "max_height": null,
            "max_width": null,
            "min_height": null,
            "min_width": null,
            "object_fit": null,
            "object_position": null,
            "order": null,
            "overflow": null,
            "overflow_x": null,
            "overflow_y": null,
            "padding": null,
            "right": null,
            "top": null,
            "visibility": null,
            "width": null
          }
        },
        "13af5bee1f9f44f0919da7728df90f58": {
          "model_module": "@jupyter-widgets/base",
          "model_name": "LayoutModel",
          "model_module_version": "1.2.0",
          "state": {
            "_model_module": "@jupyter-widgets/base",
            "_model_module_version": "1.2.0",
            "_model_name": "LayoutModel",
            "_view_count": null,
            "_view_module": "@jupyter-widgets/base",
            "_view_module_version": "1.2.0",
            "_view_name": "LayoutView",
            "align_content": null,
            "align_items": null,
            "align_self": null,
            "border": null,
            "bottom": null,
            "display": null,
            "flex": null,
            "flex_flow": null,
            "grid_area": null,
            "grid_auto_columns": null,
            "grid_auto_flow": null,
            "grid_auto_rows": null,
            "grid_column": null,
            "grid_gap": null,
            "grid_row": null,
            "grid_template_areas": null,
            "grid_template_columns": null,
            "grid_template_rows": null,
            "height": null,
            "justify_content": null,
            "justify_items": null,
            "left": null,
            "margin": null,
            "max_height": null,
            "max_width": null,
            "min_height": null,
            "min_width": null,
            "object_fit": null,
            "object_position": null,
            "order": null,
            "overflow": null,
            "overflow_x": null,
            "overflow_y": null,
            "padding": null,
            "right": null,
            "top": null,
            "visibility": null,
            "width": null
          }
        },
        "81f21e82a48a4758a13b042573d712d5": {
          "model_module": "@jupyter-widgets/controls",
          "model_name": "DescriptionStyleModel",
          "model_module_version": "1.5.0",
          "state": {
            "_model_module": "@jupyter-widgets/controls",
            "_model_module_version": "1.5.0",
            "_model_name": "DescriptionStyleModel",
            "_view_count": null,
            "_view_module": "@jupyter-widgets/base",
            "_view_module_version": "1.2.0",
            "_view_name": "StyleView",
            "description_width": ""
          }
        },
        "a9808ec68fc84157b829beb272a635bf": {
          "model_module": "@jupyter-widgets/base",
          "model_name": "LayoutModel",
          "model_module_version": "1.2.0",
          "state": {
            "_model_module": "@jupyter-widgets/base",
            "_model_module_version": "1.2.0",
            "_model_name": "LayoutModel",
            "_view_count": null,
            "_view_module": "@jupyter-widgets/base",
            "_view_module_version": "1.2.0",
            "_view_name": "LayoutView",
            "align_content": null,
            "align_items": null,
            "align_self": null,
            "border": null,
            "bottom": null,
            "display": null,
            "flex": null,
            "flex_flow": null,
            "grid_area": null,
            "grid_auto_columns": null,
            "grid_auto_flow": null,
            "grid_auto_rows": null,
            "grid_column": null,
            "grid_gap": null,
            "grid_row": null,
            "grid_template_areas": null,
            "grid_template_columns": null,
            "grid_template_rows": null,
            "height": null,
            "justify_content": null,
            "justify_items": null,
            "left": null,
            "margin": null,
            "max_height": null,
            "max_width": null,
            "min_height": null,
            "min_width": null,
            "object_fit": null,
            "object_position": null,
            "order": null,
            "overflow": null,
            "overflow_x": null,
            "overflow_y": null,
            "padding": null,
            "right": null,
            "top": null,
            "visibility": null,
            "width": null
          }
        },
        "771fc7b0dc6b4fdc999c2d8e93e98e4d": {
          "model_module": "@jupyter-widgets/controls",
          "model_name": "ProgressStyleModel",
          "model_module_version": "1.5.0",
          "state": {
            "_model_module": "@jupyter-widgets/controls",
            "_model_module_version": "1.5.0",
            "_model_name": "ProgressStyleModel",
            "_view_count": null,
            "_view_module": "@jupyter-widgets/base",
            "_view_module_version": "1.2.0",
            "_view_name": "StyleView",
            "bar_color": null,
            "description_width": ""
          }
        },
        "adf141e3ecda49ee83756f3a6b1b46a3": {
          "model_module": "@jupyter-widgets/controls",
          "model_name": "VBoxModel",
          "model_module_version": "1.5.0",
          "state": {
            "_dom_classes": [],
            "_model_module": "@jupyter-widgets/controls",
            "_model_module_version": "1.5.0",
            "_model_name": "VBoxModel",
            "_view_count": null,
            "_view_module": "@jupyter-widgets/controls",
            "_view_module_version": "1.5.0",
            "_view_name": "VBoxView",
            "box_style": "",
            "children": [
              "IPY_MODEL_ad233f7e50a343969aa027b9c67cb6e9",
              "IPY_MODEL_1ba807a57c0347348af2bbc176ecfa8b"
            ],
            "layout": "IPY_MODEL_877218cf721e49d9bac87ea400bedeb3"
          }
        },
        "ad233f7e50a343969aa027b9c67cb6e9": {
          "model_module": "@jupyter-widgets/controls",
          "model_name": "LabelModel",
          "model_module_version": "1.5.0",
          "state": {
            "_dom_classes": [],
            "_model_module": "@jupyter-widgets/controls",
            "_model_module_version": "1.5.0",
            "_model_name": "LabelModel",
            "_view_count": null,
            "_view_module": "@jupyter-widgets/controls",
            "_view_module_version": "1.5.0",
            "_view_name": "LabelView",
            "description": "",
            "description_tooltip": null,
            "layout": "IPY_MODEL_bb4e0a50ba21415094ac69ce12bf789a",
            "placeholder": "​",
            "style": "IPY_MODEL_c08a56509d9c4a3782599013df1efb36",
            "value": "0.011 MB of 0.011 MB uploaded (0.000 MB deduped)\r"
          }
        },
        "1ba807a57c0347348af2bbc176ecfa8b": {
          "model_module": "@jupyter-widgets/controls",
          "model_name": "FloatProgressModel",
          "model_module_version": "1.5.0",
          "state": {
            "_dom_classes": [],
            "_model_module": "@jupyter-widgets/controls",
            "_model_module_version": "1.5.0",
            "_model_name": "FloatProgressModel",
            "_view_count": null,
            "_view_module": "@jupyter-widgets/controls",
            "_view_module_version": "1.5.0",
            "_view_name": "ProgressView",
            "bar_style": "",
            "description": "",
            "description_tooltip": null,
            "layout": "IPY_MODEL_6f53536ac84b48fb83a05d4282759dd3",
            "max": 1,
            "min": 0,
            "orientation": "horizontal",
            "style": "IPY_MODEL_5f32ae2c9fa64547bf31a7ffaa8246c0",
            "value": 1
          }
        },
        "877218cf721e49d9bac87ea400bedeb3": {
          "model_module": "@jupyter-widgets/base",
          "model_name": "LayoutModel",
          "model_module_version": "1.2.0",
          "state": {
            "_model_module": "@jupyter-widgets/base",
            "_model_module_version": "1.2.0",
            "_model_name": "LayoutModel",
            "_view_count": null,
            "_view_module": "@jupyter-widgets/base",
            "_view_module_version": "1.2.0",
            "_view_name": "LayoutView",
            "align_content": null,
            "align_items": null,
            "align_self": null,
            "border": null,
            "bottom": null,
            "display": null,
            "flex": null,
            "flex_flow": null,
            "grid_area": null,
            "grid_auto_columns": null,
            "grid_auto_flow": null,
            "grid_auto_rows": null,
            "grid_column": null,
            "grid_gap": null,
            "grid_row": null,
            "grid_template_areas": null,
            "grid_template_columns": null,
            "grid_template_rows": null,
            "height": null,
            "justify_content": null,
            "justify_items": null,
            "left": null,
            "margin": null,
            "max_height": null,
            "max_width": null,
            "min_height": null,
            "min_width": null,
            "object_fit": null,
            "object_position": null,
            "order": null,
            "overflow": null,
            "overflow_x": null,
            "overflow_y": null,
            "padding": null,
            "right": null,
            "top": null,
            "visibility": null,
            "width": null
          }
        },
        "bb4e0a50ba21415094ac69ce12bf789a": {
          "model_module": "@jupyter-widgets/base",
          "model_name": "LayoutModel",
          "model_module_version": "1.2.0",
          "state": {
            "_model_module": "@jupyter-widgets/base",
            "_model_module_version": "1.2.0",
            "_model_name": "LayoutModel",
            "_view_count": null,
            "_view_module": "@jupyter-widgets/base",
            "_view_module_version": "1.2.0",
            "_view_name": "LayoutView",
            "align_content": null,
            "align_items": null,
            "align_self": null,
            "border": null,
            "bottom": null,
            "display": null,
            "flex": null,
            "flex_flow": null,
            "grid_area": null,
            "grid_auto_columns": null,
            "grid_auto_flow": null,
            "grid_auto_rows": null,
            "grid_column": null,
            "grid_gap": null,
            "grid_row": null,
            "grid_template_areas": null,
            "grid_template_columns": null,
            "grid_template_rows": null,
            "height": null,
            "justify_content": null,
            "justify_items": null,
            "left": null,
            "margin": null,
            "max_height": null,
            "max_width": null,
            "min_height": null,
            "min_width": null,
            "object_fit": null,
            "object_position": null,
            "order": null,
            "overflow": null,
            "overflow_x": null,
            "overflow_y": null,
            "padding": null,
            "right": null,
            "top": null,
            "visibility": null,
            "width": null
          }
        },
        "c08a56509d9c4a3782599013df1efb36": {
          "model_module": "@jupyter-widgets/controls",
          "model_name": "DescriptionStyleModel",
          "model_module_version": "1.5.0",
          "state": {
            "_model_module": "@jupyter-widgets/controls",
            "_model_module_version": "1.5.0",
            "_model_name": "DescriptionStyleModel",
            "_view_count": null,
            "_view_module": "@jupyter-widgets/base",
            "_view_module_version": "1.2.0",
            "_view_name": "StyleView",
            "description_width": ""
          }
        },
        "6f53536ac84b48fb83a05d4282759dd3": {
          "model_module": "@jupyter-widgets/base",
          "model_name": "LayoutModel",
          "model_module_version": "1.2.0",
          "state": {
            "_model_module": "@jupyter-widgets/base",
            "_model_module_version": "1.2.0",
            "_model_name": "LayoutModel",
            "_view_count": null,
            "_view_module": "@jupyter-widgets/base",
            "_view_module_version": "1.2.0",
            "_view_name": "LayoutView",
            "align_content": null,
            "align_items": null,
            "align_self": null,
            "border": null,
            "bottom": null,
            "display": null,
            "flex": null,
            "flex_flow": null,
            "grid_area": null,
            "grid_auto_columns": null,
            "grid_auto_flow": null,
            "grid_auto_rows": null,
            "grid_column": null,
            "grid_gap": null,
            "grid_row": null,
            "grid_template_areas": null,
            "grid_template_columns": null,
            "grid_template_rows": null,
            "height": null,
            "justify_content": null,
            "justify_items": null,
            "left": null,
            "margin": null,
            "max_height": null,
            "max_width": null,
            "min_height": null,
            "min_width": null,
            "object_fit": null,
            "object_position": null,
            "order": null,
            "overflow": null,
            "overflow_x": null,
            "overflow_y": null,
            "padding": null,
            "right": null,
            "top": null,
            "visibility": null,
            "width": null
          }
        },
        "5f32ae2c9fa64547bf31a7ffaa8246c0": {
          "model_module": "@jupyter-widgets/controls",
          "model_name": "ProgressStyleModel",
          "model_module_version": "1.5.0",
          "state": {
            "_model_module": "@jupyter-widgets/controls",
            "_model_module_version": "1.5.0",
            "_model_name": "ProgressStyleModel",
            "_view_count": null,
            "_view_module": "@jupyter-widgets/base",
            "_view_module_version": "1.2.0",
            "_view_name": "StyleView",
            "bar_color": null,
            "description_width": ""
          }
        },
        "206583a089ca40d086fe6159b049c1b0": {
          "model_module": "@jupyter-widgets/controls",
          "model_name": "VBoxModel",
          "model_module_version": "1.5.0",
          "state": {
            "_dom_classes": [],
            "_model_module": "@jupyter-widgets/controls",
            "_model_module_version": "1.5.0",
            "_model_name": "VBoxModel",
            "_view_count": null,
            "_view_module": "@jupyter-widgets/controls",
            "_view_module_version": "1.5.0",
            "_view_name": "VBoxView",
            "box_style": "",
            "children": [
              "IPY_MODEL_c956cba6d39b45f1b6e44128fca46b5f",
              "IPY_MODEL_65bff82669184f0283259872b32c6bdb"
            ],
            "layout": "IPY_MODEL_085d0b146c144050813d7268c447090d"
          }
        },
        "c956cba6d39b45f1b6e44128fca46b5f": {
          "model_module": "@jupyter-widgets/controls",
          "model_name": "LabelModel",
          "model_module_version": "1.5.0",
          "state": {
            "_dom_classes": [],
            "_model_module": "@jupyter-widgets/controls",
            "_model_module_version": "1.5.0",
            "_model_name": "LabelModel",
            "_view_count": null,
            "_view_module": "@jupyter-widgets/controls",
            "_view_module_version": "1.5.0",
            "_view_name": "LabelView",
            "description": "",
            "description_tooltip": null,
            "layout": "IPY_MODEL_ea712283d1f64b11857464133ce592c3",
            "placeholder": "​",
            "style": "IPY_MODEL_a0abdaac2b784029aa9d6bcaf4bb5c0c",
            "value": "0.011 MB of 0.011 MB uploaded (0.000 MB deduped)\r"
          }
        },
        "65bff82669184f0283259872b32c6bdb": {
          "model_module": "@jupyter-widgets/controls",
          "model_name": "FloatProgressModel",
          "model_module_version": "1.5.0",
          "state": {
            "_dom_classes": [],
            "_model_module": "@jupyter-widgets/controls",
            "_model_module_version": "1.5.0",
            "_model_name": "FloatProgressModel",
            "_view_count": null,
            "_view_module": "@jupyter-widgets/controls",
            "_view_module_version": "1.5.0",
            "_view_name": "ProgressView",
            "bar_style": "",
            "description": "",
            "description_tooltip": null,
            "layout": "IPY_MODEL_1b0785906d28448faee36c74c35599a1",
            "max": 1,
            "min": 0,
            "orientation": "horizontal",
            "style": "IPY_MODEL_37d12e66bdb64583bf73de90ae592f64",
            "value": 0.9766182412103499
          }
        },
        "085d0b146c144050813d7268c447090d": {
          "model_module": "@jupyter-widgets/base",
          "model_name": "LayoutModel",
          "model_module_version": "1.2.0",
          "state": {
            "_model_module": "@jupyter-widgets/base",
            "_model_module_version": "1.2.0",
            "_model_name": "LayoutModel",
            "_view_count": null,
            "_view_module": "@jupyter-widgets/base",
            "_view_module_version": "1.2.0",
            "_view_name": "LayoutView",
            "align_content": null,
            "align_items": null,
            "align_self": null,
            "border": null,
            "bottom": null,
            "display": null,
            "flex": null,
            "flex_flow": null,
            "grid_area": null,
            "grid_auto_columns": null,
            "grid_auto_flow": null,
            "grid_auto_rows": null,
            "grid_column": null,
            "grid_gap": null,
            "grid_row": null,
            "grid_template_areas": null,
            "grid_template_columns": null,
            "grid_template_rows": null,
            "height": null,
            "justify_content": null,
            "justify_items": null,
            "left": null,
            "margin": null,
            "max_height": null,
            "max_width": null,
            "min_height": null,
            "min_width": null,
            "object_fit": null,
            "object_position": null,
            "order": null,
            "overflow": null,
            "overflow_x": null,
            "overflow_y": null,
            "padding": null,
            "right": null,
            "top": null,
            "visibility": null,
            "width": null
          }
        },
        "ea712283d1f64b11857464133ce592c3": {
          "model_module": "@jupyter-widgets/base",
          "model_name": "LayoutModel",
          "model_module_version": "1.2.0",
          "state": {
            "_model_module": "@jupyter-widgets/base",
            "_model_module_version": "1.2.0",
            "_model_name": "LayoutModel",
            "_view_count": null,
            "_view_module": "@jupyter-widgets/base",
            "_view_module_version": "1.2.0",
            "_view_name": "LayoutView",
            "align_content": null,
            "align_items": null,
            "align_self": null,
            "border": null,
            "bottom": null,
            "display": null,
            "flex": null,
            "flex_flow": null,
            "grid_area": null,
            "grid_auto_columns": null,
            "grid_auto_flow": null,
            "grid_auto_rows": null,
            "grid_column": null,
            "grid_gap": null,
            "grid_row": null,
            "grid_template_areas": null,
            "grid_template_columns": null,
            "grid_template_rows": null,
            "height": null,
            "justify_content": null,
            "justify_items": null,
            "left": null,
            "margin": null,
            "max_height": null,
            "max_width": null,
            "min_height": null,
            "min_width": null,
            "object_fit": null,
            "object_position": null,
            "order": null,
            "overflow": null,
            "overflow_x": null,
            "overflow_y": null,
            "padding": null,
            "right": null,
            "top": null,
            "visibility": null,
            "width": null
          }
        },
        "a0abdaac2b784029aa9d6bcaf4bb5c0c": {
          "model_module": "@jupyter-widgets/controls",
          "model_name": "DescriptionStyleModel",
          "model_module_version": "1.5.0",
          "state": {
            "_model_module": "@jupyter-widgets/controls",
            "_model_module_version": "1.5.0",
            "_model_name": "DescriptionStyleModel",
            "_view_count": null,
            "_view_module": "@jupyter-widgets/base",
            "_view_module_version": "1.2.0",
            "_view_name": "StyleView",
            "description_width": ""
          }
        },
        "1b0785906d28448faee36c74c35599a1": {
          "model_module": "@jupyter-widgets/base",
          "model_name": "LayoutModel",
          "model_module_version": "1.2.0",
          "state": {
            "_model_module": "@jupyter-widgets/base",
            "_model_module_version": "1.2.0",
            "_model_name": "LayoutModel",
            "_view_count": null,
            "_view_module": "@jupyter-widgets/base",
            "_view_module_version": "1.2.0",
            "_view_name": "LayoutView",
            "align_content": null,
            "align_items": null,
            "align_self": null,
            "border": null,
            "bottom": null,
            "display": null,
            "flex": null,
            "flex_flow": null,
            "grid_area": null,
            "grid_auto_columns": null,
            "grid_auto_flow": null,
            "grid_auto_rows": null,
            "grid_column": null,
            "grid_gap": null,
            "grid_row": null,
            "grid_template_areas": null,
            "grid_template_columns": null,
            "grid_template_rows": null,
            "height": null,
            "justify_content": null,
            "justify_items": null,
            "left": null,
            "margin": null,
            "max_height": null,
            "max_width": null,
            "min_height": null,
            "min_width": null,
            "object_fit": null,
            "object_position": null,
            "order": null,
            "overflow": null,
            "overflow_x": null,
            "overflow_y": null,
            "padding": null,
            "right": null,
            "top": null,
            "visibility": null,
            "width": null
          }
        },
        "37d12e66bdb64583bf73de90ae592f64": {
          "model_module": "@jupyter-widgets/controls",
          "model_name": "ProgressStyleModel",
          "model_module_version": "1.5.0",
          "state": {
            "_model_module": "@jupyter-widgets/controls",
            "_model_module_version": "1.5.0",
            "_model_name": "ProgressStyleModel",
            "_view_count": null,
            "_view_module": "@jupyter-widgets/base",
            "_view_module_version": "1.2.0",
            "_view_name": "StyleView",
            "bar_color": null,
            "description_width": ""
          }
        },
        "5176dfac1af649f3bf17d3d69e90d4d8": {
          "model_module": "@jupyter-widgets/controls",
          "model_name": "VBoxModel",
          "model_module_version": "1.5.0",
          "state": {
            "_dom_classes": [],
            "_model_module": "@jupyter-widgets/controls",
            "_model_module_version": "1.5.0",
            "_model_name": "VBoxModel",
            "_view_count": null,
            "_view_module": "@jupyter-widgets/controls",
            "_view_module_version": "1.5.0",
            "_view_name": "VBoxView",
            "box_style": "",
            "children": [
              "IPY_MODEL_d2094181d1474bea916822aa65b03b4e",
              "IPY_MODEL_108cb86e7e674698a416b4ecb25e13b6"
            ],
            "layout": "IPY_MODEL_4f073d3d168e4dbf88d88b270af0f36b"
          }
        },
        "d2094181d1474bea916822aa65b03b4e": {
          "model_module": "@jupyter-widgets/controls",
          "model_name": "LabelModel",
          "model_module_version": "1.5.0",
          "state": {
            "_dom_classes": [],
            "_model_module": "@jupyter-widgets/controls",
            "_model_module_version": "1.5.0",
            "_model_name": "LabelModel",
            "_view_count": null,
            "_view_module": "@jupyter-widgets/controls",
            "_view_module_version": "1.5.0",
            "_view_name": "LabelView",
            "description": "",
            "description_tooltip": null,
            "layout": "IPY_MODEL_58d6aa2f868d4909ae98bf8acf323d07",
            "placeholder": "​",
            "style": "IPY_MODEL_d22590aea8114159a2e0331c63778d76",
            "value": "0.010 MB of 0.011 MB uploaded (0.000 MB deduped)\r"
          }
        },
        "108cb86e7e674698a416b4ecb25e13b6": {
          "model_module": "@jupyter-widgets/controls",
          "model_name": "FloatProgressModel",
          "model_module_version": "1.5.0",
          "state": {
            "_dom_classes": [],
            "_model_module": "@jupyter-widgets/controls",
            "_model_module_version": "1.5.0",
            "_model_name": "FloatProgressModel",
            "_view_count": null,
            "_view_module": "@jupyter-widgets/controls",
            "_view_module_version": "1.5.0",
            "_view_name": "ProgressView",
            "bar_style": "",
            "description": "",
            "description_tooltip": null,
            "layout": "IPY_MODEL_b9cef17e94f2428bab42f73bc33285d7",
            "max": 1,
            "min": 0,
            "orientation": "horizontal",
            "style": "IPY_MODEL_d97ef02572b64269b0cc1de09b127de0",
            "value": 0.9752358490566038
          }
        },
        "4f073d3d168e4dbf88d88b270af0f36b": {
          "model_module": "@jupyter-widgets/base",
          "model_name": "LayoutModel",
          "model_module_version": "1.2.0",
          "state": {
            "_model_module": "@jupyter-widgets/base",
            "_model_module_version": "1.2.0",
            "_model_name": "LayoutModel",
            "_view_count": null,
            "_view_module": "@jupyter-widgets/base",
            "_view_module_version": "1.2.0",
            "_view_name": "LayoutView",
            "align_content": null,
            "align_items": null,
            "align_self": null,
            "border": null,
            "bottom": null,
            "display": null,
            "flex": null,
            "flex_flow": null,
            "grid_area": null,
            "grid_auto_columns": null,
            "grid_auto_flow": null,
            "grid_auto_rows": null,
            "grid_column": null,
            "grid_gap": null,
            "grid_row": null,
            "grid_template_areas": null,
            "grid_template_columns": null,
            "grid_template_rows": null,
            "height": null,
            "justify_content": null,
            "justify_items": null,
            "left": null,
            "margin": null,
            "max_height": null,
            "max_width": null,
            "min_height": null,
            "min_width": null,
            "object_fit": null,
            "object_position": null,
            "order": null,
            "overflow": null,
            "overflow_x": null,
            "overflow_y": null,
            "padding": null,
            "right": null,
            "top": null,
            "visibility": null,
            "width": null
          }
        },
        "58d6aa2f868d4909ae98bf8acf323d07": {
          "model_module": "@jupyter-widgets/base",
          "model_name": "LayoutModel",
          "model_module_version": "1.2.0",
          "state": {
            "_model_module": "@jupyter-widgets/base",
            "_model_module_version": "1.2.0",
            "_model_name": "LayoutModel",
            "_view_count": null,
            "_view_module": "@jupyter-widgets/base",
            "_view_module_version": "1.2.0",
            "_view_name": "LayoutView",
            "align_content": null,
            "align_items": null,
            "align_self": null,
            "border": null,
            "bottom": null,
            "display": null,
            "flex": null,
            "flex_flow": null,
            "grid_area": null,
            "grid_auto_columns": null,
            "grid_auto_flow": null,
            "grid_auto_rows": null,
            "grid_column": null,
            "grid_gap": null,
            "grid_row": null,
            "grid_template_areas": null,
            "grid_template_columns": null,
            "grid_template_rows": null,
            "height": null,
            "justify_content": null,
            "justify_items": null,
            "left": null,
            "margin": null,
            "max_height": null,
            "max_width": null,
            "min_height": null,
            "min_width": null,
            "object_fit": null,
            "object_position": null,
            "order": null,
            "overflow": null,
            "overflow_x": null,
            "overflow_y": null,
            "padding": null,
            "right": null,
            "top": null,
            "visibility": null,
            "width": null
          }
        },
        "d22590aea8114159a2e0331c63778d76": {
          "model_module": "@jupyter-widgets/controls",
          "model_name": "DescriptionStyleModel",
          "model_module_version": "1.5.0",
          "state": {
            "_model_module": "@jupyter-widgets/controls",
            "_model_module_version": "1.5.0",
            "_model_name": "DescriptionStyleModel",
            "_view_count": null,
            "_view_module": "@jupyter-widgets/base",
            "_view_module_version": "1.2.0",
            "_view_name": "StyleView",
            "description_width": ""
          }
        },
        "b9cef17e94f2428bab42f73bc33285d7": {
          "model_module": "@jupyter-widgets/base",
          "model_name": "LayoutModel",
          "model_module_version": "1.2.0",
          "state": {
            "_model_module": "@jupyter-widgets/base",
            "_model_module_version": "1.2.0",
            "_model_name": "LayoutModel",
            "_view_count": null,
            "_view_module": "@jupyter-widgets/base",
            "_view_module_version": "1.2.0",
            "_view_name": "LayoutView",
            "align_content": null,
            "align_items": null,
            "align_self": null,
            "border": null,
            "bottom": null,
            "display": null,
            "flex": null,
            "flex_flow": null,
            "grid_area": null,
            "grid_auto_columns": null,
            "grid_auto_flow": null,
            "grid_auto_rows": null,
            "grid_column": null,
            "grid_gap": null,
            "grid_row": null,
            "grid_template_areas": null,
            "grid_template_columns": null,
            "grid_template_rows": null,
            "height": null,
            "justify_content": null,
            "justify_items": null,
            "left": null,
            "margin": null,
            "max_height": null,
            "max_width": null,
            "min_height": null,
            "min_width": null,
            "object_fit": null,
            "object_position": null,
            "order": null,
            "overflow": null,
            "overflow_x": null,
            "overflow_y": null,
            "padding": null,
            "right": null,
            "top": null,
            "visibility": null,
            "width": null
          }
        },
        "d97ef02572b64269b0cc1de09b127de0": {
          "model_module": "@jupyter-widgets/controls",
          "model_name": "ProgressStyleModel",
          "model_module_version": "1.5.0",
          "state": {
            "_model_module": "@jupyter-widgets/controls",
            "_model_module_version": "1.5.0",
            "_model_name": "ProgressStyleModel",
            "_view_count": null,
            "_view_module": "@jupyter-widgets/base",
            "_view_module_version": "1.2.0",
            "_view_name": "StyleView",
            "bar_color": null,
            "description_width": ""
          }
        },
        "1fd20f193c234890af80bdd9174416d0": {
          "model_module": "@jupyter-widgets/controls",
          "model_name": "VBoxModel",
          "model_module_version": "1.5.0",
          "state": {
            "_dom_classes": [],
            "_model_module": "@jupyter-widgets/controls",
            "_model_module_version": "1.5.0",
            "_model_name": "VBoxModel",
            "_view_count": null,
            "_view_module": "@jupyter-widgets/controls",
            "_view_module_version": "1.5.0",
            "_view_name": "VBoxView",
            "box_style": "",
            "children": [
              "IPY_MODEL_1ac9b7770bcb427592a66fbe5fb06584",
              "IPY_MODEL_d5e65a52f54740e29b60835b0c3fc0e7"
            ],
            "layout": "IPY_MODEL_fee7b6e02e054b0fa7eb19c3c97af8a1"
          }
        },
        "1ac9b7770bcb427592a66fbe5fb06584": {
          "model_module": "@jupyter-widgets/controls",
          "model_name": "LabelModel",
          "model_module_version": "1.5.0",
          "state": {
            "_dom_classes": [],
            "_model_module": "@jupyter-widgets/controls",
            "_model_module_version": "1.5.0",
            "_model_name": "LabelModel",
            "_view_count": null,
            "_view_module": "@jupyter-widgets/controls",
            "_view_module_version": "1.5.0",
            "_view_name": "LabelView",
            "description": "",
            "description_tooltip": null,
            "layout": "IPY_MODEL_1e716f30858e44a99f12fe84894842ce",
            "placeholder": "​",
            "style": "IPY_MODEL_a7a59f3eaeb74a21833cbba76804ceff",
            "value": "0.001 MB of 0.001 MB uploaded (0.000 MB deduped)\r"
          }
        },
        "d5e65a52f54740e29b60835b0c3fc0e7": {
          "model_module": "@jupyter-widgets/controls",
          "model_name": "FloatProgressModel",
          "model_module_version": "1.5.0",
          "state": {
            "_dom_classes": [],
            "_model_module": "@jupyter-widgets/controls",
            "_model_module_version": "1.5.0",
            "_model_name": "FloatProgressModel",
            "_view_count": null,
            "_view_module": "@jupyter-widgets/controls",
            "_view_module_version": "1.5.0",
            "_view_name": "ProgressView",
            "bar_style": "",
            "description": "",
            "description_tooltip": null,
            "layout": "IPY_MODEL_e8cd1c90f59e4cf69e15f718059e8cb2",
            "max": 1,
            "min": 0,
            "orientation": "horizontal",
            "style": "IPY_MODEL_3fb9b620ed1644a082f146c74595f4b6",
            "value": 1
          }
        },
        "fee7b6e02e054b0fa7eb19c3c97af8a1": {
          "model_module": "@jupyter-widgets/base",
          "model_name": "LayoutModel",
          "model_module_version": "1.2.0",
          "state": {
            "_model_module": "@jupyter-widgets/base",
            "_model_module_version": "1.2.0",
            "_model_name": "LayoutModel",
            "_view_count": null,
            "_view_module": "@jupyter-widgets/base",
            "_view_module_version": "1.2.0",
            "_view_name": "LayoutView",
            "align_content": null,
            "align_items": null,
            "align_self": null,
            "border": null,
            "bottom": null,
            "display": null,
            "flex": null,
            "flex_flow": null,
            "grid_area": null,
            "grid_auto_columns": null,
            "grid_auto_flow": null,
            "grid_auto_rows": null,
            "grid_column": null,
            "grid_gap": null,
            "grid_row": null,
            "grid_template_areas": null,
            "grid_template_columns": null,
            "grid_template_rows": null,
            "height": null,
            "justify_content": null,
            "justify_items": null,
            "left": null,
            "margin": null,
            "max_height": null,
            "max_width": null,
            "min_height": null,
            "min_width": null,
            "object_fit": null,
            "object_position": null,
            "order": null,
            "overflow": null,
            "overflow_x": null,
            "overflow_y": null,
            "padding": null,
            "right": null,
            "top": null,
            "visibility": null,
            "width": null
          }
        },
        "1e716f30858e44a99f12fe84894842ce": {
          "model_module": "@jupyter-widgets/base",
          "model_name": "LayoutModel",
          "model_module_version": "1.2.0",
          "state": {
            "_model_module": "@jupyter-widgets/base",
            "_model_module_version": "1.2.0",
            "_model_name": "LayoutModel",
            "_view_count": null,
            "_view_module": "@jupyter-widgets/base",
            "_view_module_version": "1.2.0",
            "_view_name": "LayoutView",
            "align_content": null,
            "align_items": null,
            "align_self": null,
            "border": null,
            "bottom": null,
            "display": null,
            "flex": null,
            "flex_flow": null,
            "grid_area": null,
            "grid_auto_columns": null,
            "grid_auto_flow": null,
            "grid_auto_rows": null,
            "grid_column": null,
            "grid_gap": null,
            "grid_row": null,
            "grid_template_areas": null,
            "grid_template_columns": null,
            "grid_template_rows": null,
            "height": null,
            "justify_content": null,
            "justify_items": null,
            "left": null,
            "margin": null,
            "max_height": null,
            "max_width": null,
            "min_height": null,
            "min_width": null,
            "object_fit": null,
            "object_position": null,
            "order": null,
            "overflow": null,
            "overflow_x": null,
            "overflow_y": null,
            "padding": null,
            "right": null,
            "top": null,
            "visibility": null,
            "width": null
          }
        },
        "a7a59f3eaeb74a21833cbba76804ceff": {
          "model_module": "@jupyter-widgets/controls",
          "model_name": "DescriptionStyleModel",
          "model_module_version": "1.5.0",
          "state": {
            "_model_module": "@jupyter-widgets/controls",
            "_model_module_version": "1.5.0",
            "_model_name": "DescriptionStyleModel",
            "_view_count": null,
            "_view_module": "@jupyter-widgets/base",
            "_view_module_version": "1.2.0",
            "_view_name": "StyleView",
            "description_width": ""
          }
        },
        "e8cd1c90f59e4cf69e15f718059e8cb2": {
          "model_module": "@jupyter-widgets/base",
          "model_name": "LayoutModel",
          "model_module_version": "1.2.0",
          "state": {
            "_model_module": "@jupyter-widgets/base",
            "_model_module_version": "1.2.0",
            "_model_name": "LayoutModel",
            "_view_count": null,
            "_view_module": "@jupyter-widgets/base",
            "_view_module_version": "1.2.0",
            "_view_name": "LayoutView",
            "align_content": null,
            "align_items": null,
            "align_self": null,
            "border": null,
            "bottom": null,
            "display": null,
            "flex": null,
            "flex_flow": null,
            "grid_area": null,
            "grid_auto_columns": null,
            "grid_auto_flow": null,
            "grid_auto_rows": null,
            "grid_column": null,
            "grid_gap": null,
            "grid_row": null,
            "grid_template_areas": null,
            "grid_template_columns": null,
            "grid_template_rows": null,
            "height": null,
            "justify_content": null,
            "justify_items": null,
            "left": null,
            "margin": null,
            "max_height": null,
            "max_width": null,
            "min_height": null,
            "min_width": null,
            "object_fit": null,
            "object_position": null,
            "order": null,
            "overflow": null,
            "overflow_x": null,
            "overflow_y": null,
            "padding": null,
            "right": null,
            "top": null,
            "visibility": null,
            "width": null
          }
        },
        "3fb9b620ed1644a082f146c74595f4b6": {
          "model_module": "@jupyter-widgets/controls",
          "model_name": "ProgressStyleModel",
          "model_module_version": "1.5.0",
          "state": {
            "_model_module": "@jupyter-widgets/controls",
            "_model_module_version": "1.5.0",
            "_model_name": "ProgressStyleModel",
            "_view_count": null,
            "_view_module": "@jupyter-widgets/base",
            "_view_module_version": "1.2.0",
            "_view_name": "StyleView",
            "bar_color": null,
            "description_width": ""
          }
        },
        "d9b6f696f84348bb9e411a32f040eca5": {
          "model_module": "@jupyter-widgets/controls",
          "model_name": "VBoxModel",
          "model_module_version": "1.5.0",
          "state": {
            "_dom_classes": [],
            "_model_module": "@jupyter-widgets/controls",
            "_model_module_version": "1.5.0",
            "_model_name": "VBoxModel",
            "_view_count": null,
            "_view_module": "@jupyter-widgets/controls",
            "_view_module_version": "1.5.0",
            "_view_name": "VBoxView",
            "box_style": "",
            "children": [
              "IPY_MODEL_766662c9d8be4c90b4ccd48ee1634947",
              "IPY_MODEL_9004b39589aa429085e8a47612838d66"
            ],
            "layout": "IPY_MODEL_e7b41130132a4f81b3c33082554c0e38"
          }
        },
        "766662c9d8be4c90b4ccd48ee1634947": {
          "model_module": "@jupyter-widgets/controls",
          "model_name": "LabelModel",
          "model_module_version": "1.5.0",
          "state": {
            "_dom_classes": [],
            "_model_module": "@jupyter-widgets/controls",
            "_model_module_version": "1.5.0",
            "_model_name": "LabelModel",
            "_view_count": null,
            "_view_module": "@jupyter-widgets/controls",
            "_view_module_version": "1.5.0",
            "_view_name": "LabelView",
            "description": "",
            "description_tooltip": null,
            "layout": "IPY_MODEL_e5b6ed7ae15844c4a40458a0dab95435",
            "placeholder": "​",
            "style": "IPY_MODEL_648502498b3843e9b4f507375b2c3398",
            "value": "0.010 MB of 0.011 MB uploaded (0.000 MB deduped)\r"
          }
        },
        "9004b39589aa429085e8a47612838d66": {
          "model_module": "@jupyter-widgets/controls",
          "model_name": "FloatProgressModel",
          "model_module_version": "1.5.0",
          "state": {
            "_dom_classes": [],
            "_model_module": "@jupyter-widgets/controls",
            "_model_module_version": "1.5.0",
            "_model_name": "FloatProgressModel",
            "_view_count": null,
            "_view_module": "@jupyter-widgets/controls",
            "_view_module_version": "1.5.0",
            "_view_name": "ProgressView",
            "bar_style": "",
            "description": "",
            "description_tooltip": null,
            "layout": "IPY_MODEL_f2060df4b3be44cb99be050c1d1efa1f",
            "max": 1,
            "min": 0,
            "orientation": "horizontal",
            "style": "IPY_MODEL_e2756f8a2d0e468eba5119e63c13bb03",
            "value": 0.9753265602322206
          }
        },
        "e7b41130132a4f81b3c33082554c0e38": {
          "model_module": "@jupyter-widgets/base",
          "model_name": "LayoutModel",
          "model_module_version": "1.2.0",
          "state": {
            "_model_module": "@jupyter-widgets/base",
            "_model_module_version": "1.2.0",
            "_model_name": "LayoutModel",
            "_view_count": null,
            "_view_module": "@jupyter-widgets/base",
            "_view_module_version": "1.2.0",
            "_view_name": "LayoutView",
            "align_content": null,
            "align_items": null,
            "align_self": null,
            "border": null,
            "bottom": null,
            "display": null,
            "flex": null,
            "flex_flow": null,
            "grid_area": null,
            "grid_auto_columns": null,
            "grid_auto_flow": null,
            "grid_auto_rows": null,
            "grid_column": null,
            "grid_gap": null,
            "grid_row": null,
            "grid_template_areas": null,
            "grid_template_columns": null,
            "grid_template_rows": null,
            "height": null,
            "justify_content": null,
            "justify_items": null,
            "left": null,
            "margin": null,
            "max_height": null,
            "max_width": null,
            "min_height": null,
            "min_width": null,
            "object_fit": null,
            "object_position": null,
            "order": null,
            "overflow": null,
            "overflow_x": null,
            "overflow_y": null,
            "padding": null,
            "right": null,
            "top": null,
            "visibility": null,
            "width": null
          }
        },
        "e5b6ed7ae15844c4a40458a0dab95435": {
          "model_module": "@jupyter-widgets/base",
          "model_name": "LayoutModel",
          "model_module_version": "1.2.0",
          "state": {
            "_model_module": "@jupyter-widgets/base",
            "_model_module_version": "1.2.0",
            "_model_name": "LayoutModel",
            "_view_count": null,
            "_view_module": "@jupyter-widgets/base",
            "_view_module_version": "1.2.0",
            "_view_name": "LayoutView",
            "align_content": null,
            "align_items": null,
            "align_self": null,
            "border": null,
            "bottom": null,
            "display": null,
            "flex": null,
            "flex_flow": null,
            "grid_area": null,
            "grid_auto_columns": null,
            "grid_auto_flow": null,
            "grid_auto_rows": null,
            "grid_column": null,
            "grid_gap": null,
            "grid_row": null,
            "grid_template_areas": null,
            "grid_template_columns": null,
            "grid_template_rows": null,
            "height": null,
            "justify_content": null,
            "justify_items": null,
            "left": null,
            "margin": null,
            "max_height": null,
            "max_width": null,
            "min_height": null,
            "min_width": null,
            "object_fit": null,
            "object_position": null,
            "order": null,
            "overflow": null,
            "overflow_x": null,
            "overflow_y": null,
            "padding": null,
            "right": null,
            "top": null,
            "visibility": null,
            "width": null
          }
        },
        "648502498b3843e9b4f507375b2c3398": {
          "model_module": "@jupyter-widgets/controls",
          "model_name": "DescriptionStyleModel",
          "model_module_version": "1.5.0",
          "state": {
            "_model_module": "@jupyter-widgets/controls",
            "_model_module_version": "1.5.0",
            "_model_name": "DescriptionStyleModel",
            "_view_count": null,
            "_view_module": "@jupyter-widgets/base",
            "_view_module_version": "1.2.0",
            "_view_name": "StyleView",
            "description_width": ""
          }
        },
        "f2060df4b3be44cb99be050c1d1efa1f": {
          "model_module": "@jupyter-widgets/base",
          "model_name": "LayoutModel",
          "model_module_version": "1.2.0",
          "state": {
            "_model_module": "@jupyter-widgets/base",
            "_model_module_version": "1.2.0",
            "_model_name": "LayoutModel",
            "_view_count": null,
            "_view_module": "@jupyter-widgets/base",
            "_view_module_version": "1.2.0",
            "_view_name": "LayoutView",
            "align_content": null,
            "align_items": null,
            "align_self": null,
            "border": null,
            "bottom": null,
            "display": null,
            "flex": null,
            "flex_flow": null,
            "grid_area": null,
            "grid_auto_columns": null,
            "grid_auto_flow": null,
            "grid_auto_rows": null,
            "grid_column": null,
            "grid_gap": null,
            "grid_row": null,
            "grid_template_areas": null,
            "grid_template_columns": null,
            "grid_template_rows": null,
            "height": null,
            "justify_content": null,
            "justify_items": null,
            "left": null,
            "margin": null,
            "max_height": null,
            "max_width": null,
            "min_height": null,
            "min_width": null,
            "object_fit": null,
            "object_position": null,
            "order": null,
            "overflow": null,
            "overflow_x": null,
            "overflow_y": null,
            "padding": null,
            "right": null,
            "top": null,
            "visibility": null,
            "width": null
          }
        },
        "e2756f8a2d0e468eba5119e63c13bb03": {
          "model_module": "@jupyter-widgets/controls",
          "model_name": "ProgressStyleModel",
          "model_module_version": "1.5.0",
          "state": {
            "_model_module": "@jupyter-widgets/controls",
            "_model_module_version": "1.5.0",
            "_model_name": "ProgressStyleModel",
            "_view_count": null,
            "_view_module": "@jupyter-widgets/base",
            "_view_module_version": "1.2.0",
            "_view_name": "StyleView",
            "bar_color": null,
            "description_width": ""
          }
        },
        "2200b386be584486a864b0a431fd40f1": {
          "model_module": "@jupyter-widgets/controls",
          "model_name": "VBoxModel",
          "model_module_version": "1.5.0",
          "state": {
            "_dom_classes": [],
            "_model_module": "@jupyter-widgets/controls",
            "_model_module_version": "1.5.0",
            "_model_name": "VBoxModel",
            "_view_count": null,
            "_view_module": "@jupyter-widgets/controls",
            "_view_module_version": "1.5.0",
            "_view_name": "VBoxView",
            "box_style": "",
            "children": [
              "IPY_MODEL_8d92c6b09d4f4b3f9f0606324c36ca85",
              "IPY_MODEL_d00a279278df40a2bfbceaa3c06d8891"
            ],
            "layout": "IPY_MODEL_7dd8c5967f794418a947be5975d95c08"
          }
        },
        "8d92c6b09d4f4b3f9f0606324c36ca85": {
          "model_module": "@jupyter-widgets/controls",
          "model_name": "LabelModel",
          "model_module_version": "1.5.0",
          "state": {
            "_dom_classes": [],
            "_model_module": "@jupyter-widgets/controls",
            "_model_module_version": "1.5.0",
            "_model_name": "LabelModel",
            "_view_count": null,
            "_view_module": "@jupyter-widgets/controls",
            "_view_module_version": "1.5.0",
            "_view_name": "LabelView",
            "description": "",
            "description_tooltip": null,
            "layout": "IPY_MODEL_c11e5ef0fb7c47fd8edd48a015046c1a",
            "placeholder": "​",
            "style": "IPY_MODEL_c485d1979ad548a6a6e58962ae9ed59d",
            "value": "0.010 MB of 0.010 MB uploaded (0.000 MB deduped)\r"
          }
        },
        "d00a279278df40a2bfbceaa3c06d8891": {
          "model_module": "@jupyter-widgets/controls",
          "model_name": "FloatProgressModel",
          "model_module_version": "1.5.0",
          "state": {
            "_dom_classes": [],
            "_model_module": "@jupyter-widgets/controls",
            "_model_module_version": "1.5.0",
            "_model_name": "FloatProgressModel",
            "_view_count": null,
            "_view_module": "@jupyter-widgets/controls",
            "_view_module_version": "1.5.0",
            "_view_name": "ProgressView",
            "bar_style": "",
            "description": "",
            "description_tooltip": null,
            "layout": "IPY_MODEL_9a79222b828a450b83cb22932c8af95d",
            "max": 1,
            "min": 0,
            "orientation": "horizontal",
            "style": "IPY_MODEL_d9bd1c41381646048d59064d039a4722",
            "value": 1
          }
        },
        "7dd8c5967f794418a947be5975d95c08": {
          "model_module": "@jupyter-widgets/base",
          "model_name": "LayoutModel",
          "model_module_version": "1.2.0",
          "state": {
            "_model_module": "@jupyter-widgets/base",
            "_model_module_version": "1.2.0",
            "_model_name": "LayoutModel",
            "_view_count": null,
            "_view_module": "@jupyter-widgets/base",
            "_view_module_version": "1.2.0",
            "_view_name": "LayoutView",
            "align_content": null,
            "align_items": null,
            "align_self": null,
            "border": null,
            "bottom": null,
            "display": null,
            "flex": null,
            "flex_flow": null,
            "grid_area": null,
            "grid_auto_columns": null,
            "grid_auto_flow": null,
            "grid_auto_rows": null,
            "grid_column": null,
            "grid_gap": null,
            "grid_row": null,
            "grid_template_areas": null,
            "grid_template_columns": null,
            "grid_template_rows": null,
            "height": null,
            "justify_content": null,
            "justify_items": null,
            "left": null,
            "margin": null,
            "max_height": null,
            "max_width": null,
            "min_height": null,
            "min_width": null,
            "object_fit": null,
            "object_position": null,
            "order": null,
            "overflow": null,
            "overflow_x": null,
            "overflow_y": null,
            "padding": null,
            "right": null,
            "top": null,
            "visibility": null,
            "width": null
          }
        },
        "c11e5ef0fb7c47fd8edd48a015046c1a": {
          "model_module": "@jupyter-widgets/base",
          "model_name": "LayoutModel",
          "model_module_version": "1.2.0",
          "state": {
            "_model_module": "@jupyter-widgets/base",
            "_model_module_version": "1.2.0",
            "_model_name": "LayoutModel",
            "_view_count": null,
            "_view_module": "@jupyter-widgets/base",
            "_view_module_version": "1.2.0",
            "_view_name": "LayoutView",
            "align_content": null,
            "align_items": null,
            "align_self": null,
            "border": null,
            "bottom": null,
            "display": null,
            "flex": null,
            "flex_flow": null,
            "grid_area": null,
            "grid_auto_columns": null,
            "grid_auto_flow": null,
            "grid_auto_rows": null,
            "grid_column": null,
            "grid_gap": null,
            "grid_row": null,
            "grid_template_areas": null,
            "grid_template_columns": null,
            "grid_template_rows": null,
            "height": null,
            "justify_content": null,
            "justify_items": null,
            "left": null,
            "margin": null,
            "max_height": null,
            "max_width": null,
            "min_height": null,
            "min_width": null,
            "object_fit": null,
            "object_position": null,
            "order": null,
            "overflow": null,
            "overflow_x": null,
            "overflow_y": null,
            "padding": null,
            "right": null,
            "top": null,
            "visibility": null,
            "width": null
          }
        },
        "c485d1979ad548a6a6e58962ae9ed59d": {
          "model_module": "@jupyter-widgets/controls",
          "model_name": "DescriptionStyleModel",
          "model_module_version": "1.5.0",
          "state": {
            "_model_module": "@jupyter-widgets/controls",
            "_model_module_version": "1.5.0",
            "_model_name": "DescriptionStyleModel",
            "_view_count": null,
            "_view_module": "@jupyter-widgets/base",
            "_view_module_version": "1.2.0",
            "_view_name": "StyleView",
            "description_width": ""
          }
        },
        "9a79222b828a450b83cb22932c8af95d": {
          "model_module": "@jupyter-widgets/base",
          "model_name": "LayoutModel",
          "model_module_version": "1.2.0",
          "state": {
            "_model_module": "@jupyter-widgets/base",
            "_model_module_version": "1.2.0",
            "_model_name": "LayoutModel",
            "_view_count": null,
            "_view_module": "@jupyter-widgets/base",
            "_view_module_version": "1.2.0",
            "_view_name": "LayoutView",
            "align_content": null,
            "align_items": null,
            "align_self": null,
            "border": null,
            "bottom": null,
            "display": null,
            "flex": null,
            "flex_flow": null,
            "grid_area": null,
            "grid_auto_columns": null,
            "grid_auto_flow": null,
            "grid_auto_rows": null,
            "grid_column": null,
            "grid_gap": null,
            "grid_row": null,
            "grid_template_areas": null,
            "grid_template_columns": null,
            "grid_template_rows": null,
            "height": null,
            "justify_content": null,
            "justify_items": null,
            "left": null,
            "margin": null,
            "max_height": null,
            "max_width": null,
            "min_height": null,
            "min_width": null,
            "object_fit": null,
            "object_position": null,
            "order": null,
            "overflow": null,
            "overflow_x": null,
            "overflow_y": null,
            "padding": null,
            "right": null,
            "top": null,
            "visibility": null,
            "width": null
          }
        },
        "d9bd1c41381646048d59064d039a4722": {
          "model_module": "@jupyter-widgets/controls",
          "model_name": "ProgressStyleModel",
          "model_module_version": "1.5.0",
          "state": {
            "_model_module": "@jupyter-widgets/controls",
            "_model_module_version": "1.5.0",
            "_model_name": "ProgressStyleModel",
            "_view_count": null,
            "_view_module": "@jupyter-widgets/base",
            "_view_module_version": "1.2.0",
            "_view_name": "StyleView",
            "bar_color": null,
            "description_width": ""
          }
        },
        "f84485e488084bb99e35254da0f96a28": {
          "model_module": "@jupyter-widgets/controls",
          "model_name": "VBoxModel",
          "model_module_version": "1.5.0",
          "state": {
            "_dom_classes": [],
            "_model_module": "@jupyter-widgets/controls",
            "_model_module_version": "1.5.0",
            "_model_name": "VBoxModel",
            "_view_count": null,
            "_view_module": "@jupyter-widgets/controls",
            "_view_module_version": "1.5.0",
            "_view_name": "VBoxView",
            "box_style": "",
            "children": [
              "IPY_MODEL_30a4414fb1a04c929ccc80c9c4ea3193",
              "IPY_MODEL_b49f7aca8d834014ae1fe161a5915b90"
            ],
            "layout": "IPY_MODEL_56b5e2fa9930442d90d1cb2d140b5d92"
          }
        },
        "30a4414fb1a04c929ccc80c9c4ea3193": {
          "model_module": "@jupyter-widgets/controls",
          "model_name": "LabelModel",
          "model_module_version": "1.5.0",
          "state": {
            "_dom_classes": [],
            "_model_module": "@jupyter-widgets/controls",
            "_model_module_version": "1.5.0",
            "_model_name": "LabelModel",
            "_view_count": null,
            "_view_module": "@jupyter-widgets/controls",
            "_view_module_version": "1.5.0",
            "_view_name": "LabelView",
            "description": "",
            "description_tooltip": null,
            "layout": "IPY_MODEL_b38e441603ec48e8a6e6083e3276c95b",
            "placeholder": "​",
            "style": "IPY_MODEL_d63e8152dae14182b00aeb186ebcde34",
            "value": "0.010 MB of 0.010 MB uploaded (0.000 MB deduped)\r"
          }
        },
        "b49f7aca8d834014ae1fe161a5915b90": {
          "model_module": "@jupyter-widgets/controls",
          "model_name": "FloatProgressModel",
          "model_module_version": "1.5.0",
          "state": {
            "_dom_classes": [],
            "_model_module": "@jupyter-widgets/controls",
            "_model_module_version": "1.5.0",
            "_model_name": "FloatProgressModel",
            "_view_count": null,
            "_view_module": "@jupyter-widgets/controls",
            "_view_module_version": "1.5.0",
            "_view_name": "ProgressView",
            "bar_style": "",
            "description": "",
            "description_tooltip": null,
            "layout": "IPY_MODEL_0218f49faa814f52b1c6fec3188b01ec",
            "max": 1,
            "min": 0,
            "orientation": "horizontal",
            "style": "IPY_MODEL_441b84d6576f45d1b1ffcb966afc3f27",
            "value": 0.9746070133010882
          }
        },
        "56b5e2fa9930442d90d1cb2d140b5d92": {
          "model_module": "@jupyter-widgets/base",
          "model_name": "LayoutModel",
          "model_module_version": "1.2.0",
          "state": {
            "_model_module": "@jupyter-widgets/base",
            "_model_module_version": "1.2.0",
            "_model_name": "LayoutModel",
            "_view_count": null,
            "_view_module": "@jupyter-widgets/base",
            "_view_module_version": "1.2.0",
            "_view_name": "LayoutView",
            "align_content": null,
            "align_items": null,
            "align_self": null,
            "border": null,
            "bottom": null,
            "display": null,
            "flex": null,
            "flex_flow": null,
            "grid_area": null,
            "grid_auto_columns": null,
            "grid_auto_flow": null,
            "grid_auto_rows": null,
            "grid_column": null,
            "grid_gap": null,
            "grid_row": null,
            "grid_template_areas": null,
            "grid_template_columns": null,
            "grid_template_rows": null,
            "height": null,
            "justify_content": null,
            "justify_items": null,
            "left": null,
            "margin": null,
            "max_height": null,
            "max_width": null,
            "min_height": null,
            "min_width": null,
            "object_fit": null,
            "object_position": null,
            "order": null,
            "overflow": null,
            "overflow_x": null,
            "overflow_y": null,
            "padding": null,
            "right": null,
            "top": null,
            "visibility": null,
            "width": null
          }
        },
        "b38e441603ec48e8a6e6083e3276c95b": {
          "model_module": "@jupyter-widgets/base",
          "model_name": "LayoutModel",
          "model_module_version": "1.2.0",
          "state": {
            "_model_module": "@jupyter-widgets/base",
            "_model_module_version": "1.2.0",
            "_model_name": "LayoutModel",
            "_view_count": null,
            "_view_module": "@jupyter-widgets/base",
            "_view_module_version": "1.2.0",
            "_view_name": "LayoutView",
            "align_content": null,
            "align_items": null,
            "align_self": null,
            "border": null,
            "bottom": null,
            "display": null,
            "flex": null,
            "flex_flow": null,
            "grid_area": null,
            "grid_auto_columns": null,
            "grid_auto_flow": null,
            "grid_auto_rows": null,
            "grid_column": null,
            "grid_gap": null,
            "grid_row": null,
            "grid_template_areas": null,
            "grid_template_columns": null,
            "grid_template_rows": null,
            "height": null,
            "justify_content": null,
            "justify_items": null,
            "left": null,
            "margin": null,
            "max_height": null,
            "max_width": null,
            "min_height": null,
            "min_width": null,
            "object_fit": null,
            "object_position": null,
            "order": null,
            "overflow": null,
            "overflow_x": null,
            "overflow_y": null,
            "padding": null,
            "right": null,
            "top": null,
            "visibility": null,
            "width": null
          }
        },
        "d63e8152dae14182b00aeb186ebcde34": {
          "model_module": "@jupyter-widgets/controls",
          "model_name": "DescriptionStyleModel",
          "model_module_version": "1.5.0",
          "state": {
            "_model_module": "@jupyter-widgets/controls",
            "_model_module_version": "1.5.0",
            "_model_name": "DescriptionStyleModel",
            "_view_count": null,
            "_view_module": "@jupyter-widgets/base",
            "_view_module_version": "1.2.0",
            "_view_name": "StyleView",
            "description_width": ""
          }
        },
        "0218f49faa814f52b1c6fec3188b01ec": {
          "model_module": "@jupyter-widgets/base",
          "model_name": "LayoutModel",
          "model_module_version": "1.2.0",
          "state": {
            "_model_module": "@jupyter-widgets/base",
            "_model_module_version": "1.2.0",
            "_model_name": "LayoutModel",
            "_view_count": null,
            "_view_module": "@jupyter-widgets/base",
            "_view_module_version": "1.2.0",
            "_view_name": "LayoutView",
            "align_content": null,
            "align_items": null,
            "align_self": null,
            "border": null,
            "bottom": null,
            "display": null,
            "flex": null,
            "flex_flow": null,
            "grid_area": null,
            "grid_auto_columns": null,
            "grid_auto_flow": null,
            "grid_auto_rows": null,
            "grid_column": null,
            "grid_gap": null,
            "grid_row": null,
            "grid_template_areas": null,
            "grid_template_columns": null,
            "grid_template_rows": null,
            "height": null,
            "justify_content": null,
            "justify_items": null,
            "left": null,
            "margin": null,
            "max_height": null,
            "max_width": null,
            "min_height": null,
            "min_width": null,
            "object_fit": null,
            "object_position": null,
            "order": null,
            "overflow": null,
            "overflow_x": null,
            "overflow_y": null,
            "padding": null,
            "right": null,
            "top": null,
            "visibility": null,
            "width": null
          }
        },
        "441b84d6576f45d1b1ffcb966afc3f27": {
          "model_module": "@jupyter-widgets/controls",
          "model_name": "ProgressStyleModel",
          "model_module_version": "1.5.0",
          "state": {
            "_model_module": "@jupyter-widgets/controls",
            "_model_module_version": "1.5.0",
            "_model_name": "ProgressStyleModel",
            "_view_count": null,
            "_view_module": "@jupyter-widgets/base",
            "_view_module_version": "1.2.0",
            "_view_name": "StyleView",
            "bar_color": null,
            "description_width": ""
          }
        }
      }
    }
  },
  "cells": [
    {
      "cell_type": "code",
      "source": [
        "!pip install wandb"
      ],
      "metadata": {
        "colab": {
          "base_uri": "https://localhost:8080/"
        },
        "id": "Bo4kCU8HrwLK",
        "outputId": "f8e9d68c-7213-442f-b84f-5ed1eb91d4ab"
      },
      "execution_count": null,
      "outputs": [
        {
          "output_type": "stream",
          "name": "stdout",
          "text": [
            "Looking in indexes: https://pypi.org/simple, https://us-python.pkg.dev/colab-wheels/public/simple/\n",
            "Collecting wandb\n",
            "  Downloading wandb-0.15.2-py3-none-any.whl (2.0 MB)\n",
            "\u001b[2K     \u001b[90m━━━━━━━━━━━━━━━━━━━━━━━━━━━━━━━━━━━━━━━━\u001b[0m \u001b[32m2.0/2.0 MB\u001b[0m \u001b[31m46.1 MB/s\u001b[0m eta \u001b[36m0:00:00\u001b[0m\n",
            "\u001b[?25hCollecting GitPython!=3.1.29,>=1.0.0\n",
            "  Downloading GitPython-3.1.31-py3-none-any.whl (184 kB)\n",
            "\u001b[2K     \u001b[90m━━━━━━━━━━━━━━━━━━━━━━━━━━━━━━━━━━━━━━\u001b[0m \u001b[32m184.3/184.3 kB\u001b[0m \u001b[31m19.9 MB/s\u001b[0m eta \u001b[36m0:00:00\u001b[0m\n",
            "\u001b[?25hRequirement already satisfied: appdirs>=1.4.3 in /usr/local/lib/python3.10/dist-packages (from wandb) (1.4.4)\n",
            "Requirement already satisfied: requests<3,>=2.0.0 in /usr/local/lib/python3.10/dist-packages (from wandb) (2.27.1)\n",
            "Collecting pathtools\n",
            "  Downloading pathtools-0.1.2.tar.gz (11 kB)\n",
            "  Preparing metadata (setup.py) ... \u001b[?25l\u001b[?25hdone\n",
            "Collecting setproctitle\n",
            "  Downloading setproctitle-1.3.2-cp310-cp310-manylinux_2_5_x86_64.manylinux1_x86_64.manylinux_2_17_x86_64.manylinux2014_x86_64.whl (30 kB)\n",
            "Requirement already satisfied: PyYAML in /usr/local/lib/python3.10/dist-packages (from wandb) (6.0)\n",
            "Collecting docker-pycreds>=0.4.0\n",
            "  Downloading docker_pycreds-0.4.0-py2.py3-none-any.whl (9.0 kB)\n",
            "Requirement already satisfied: Click!=8.0.0,>=7.0 in /usr/local/lib/python3.10/dist-packages (from wandb) (8.1.3)\n",
            "Requirement already satisfied: psutil>=5.0.0 in /usr/local/lib/python3.10/dist-packages (from wandb) (5.9.5)\n",
            "Requirement already satisfied: protobuf!=4.21.0,<5,>=3.19.0 in /usr/local/lib/python3.10/dist-packages (from wandb) (3.20.3)\n",
            "Collecting sentry-sdk>=1.0.0\n",
            "  Downloading sentry_sdk-1.22.1-py2.py3-none-any.whl (203 kB)\n",
            "\u001b[2K     \u001b[90m━━━━━━━━━━━━━━━━━━━━━━━━━━━━━━━━━━━━━━\u001b[0m \u001b[32m203.1/203.1 kB\u001b[0m \u001b[31m10.4 MB/s\u001b[0m eta \u001b[36m0:00:00\u001b[0m\n",
            "\u001b[?25hRequirement already satisfied: setuptools in /usr/local/lib/python3.10/dist-packages (from wandb) (67.7.2)\n",
            "Requirement already satisfied: six>=1.4.0 in /usr/local/lib/python3.10/dist-packages (from docker-pycreds>=0.4.0->wandb) (1.16.0)\n",
            "Collecting gitdb<5,>=4.0.1\n",
            "  Downloading gitdb-4.0.10-py3-none-any.whl (62 kB)\n",
            "\u001b[2K     \u001b[90m━━━━━━━━━━━━━━━━━━━━━━━━━━━━━━━━━━━━━━━━\u001b[0m \u001b[32m62.7/62.7 kB\u001b[0m \u001b[31m8.5 MB/s\u001b[0m eta \u001b[36m0:00:00\u001b[0m\n",
            "\u001b[?25hRequirement already satisfied: idna<4,>=2.5 in /usr/local/lib/python3.10/dist-packages (from requests<3,>=2.0.0->wandb) (3.4)\n",
            "Requirement already satisfied: certifi>=2017.4.17 in /usr/local/lib/python3.10/dist-packages (from requests<3,>=2.0.0->wandb) (2022.12.7)\n",
            "Requirement already satisfied: charset-normalizer~=2.0.0 in /usr/local/lib/python3.10/dist-packages (from requests<3,>=2.0.0->wandb) (2.0.12)\n",
            "Requirement already satisfied: urllib3<1.27,>=1.21.1 in /usr/local/lib/python3.10/dist-packages (from requests<3,>=2.0.0->wandb) (1.26.15)\n",
            "Collecting smmap<6,>=3.0.1\n",
            "  Downloading smmap-5.0.0-py3-none-any.whl (24 kB)\n",
            "Building wheels for collected packages: pathtools\n",
            "  Building wheel for pathtools (setup.py) ... \u001b[?25l\u001b[?25hdone\n",
            "  Created wheel for pathtools: filename=pathtools-0.1.2-py3-none-any.whl size=8807 sha256=b5d0d92efed87d98625e7d3268384b0ee0fe06499e9450091fd62561a550edd3\n",
            "  Stored in directory: /root/.cache/pip/wheels/e7/f3/22/152153d6eb222ee7a56ff8617d80ee5207207a8c00a7aab794\n",
            "Successfully built pathtools\n",
            "Installing collected packages: pathtools, smmap, setproctitle, sentry-sdk, docker-pycreds, gitdb, GitPython, wandb\n",
            "Successfully installed GitPython-3.1.31 docker-pycreds-0.4.0 gitdb-4.0.10 pathtools-0.1.2 sentry-sdk-1.22.1 setproctitle-1.3.2 smmap-5.0.0 wandb-0.15.2\n"
          ]
        }
      ]
    },
    {
      "cell_type": "code",
      "execution_count": null,
      "metadata": {
        "id": "ics3j36iJnkP"
      },
      "outputs": [],
      "source": [
        "import pandas as pd\n",
        "import torchtext\n",
        "import numpy as np\n",
        "import torch\n",
        "import torch.nn as nn\n",
        "import random\n",
        "import torch.optim as optim\n",
        "from torch.utils.data import Dataset, DataLoader\n",
        "import wandb\n"
      ]
    },
    {
      "cell_type": "code",
      "source": [
        "from google.colab import drive\n",
        "drive.mount('/content/drive')"
      ],
      "metadata": {
        "id": "e7dutNAPKXGm",
        "colab": {
          "base_uri": "https://localhost:8080/"
        },
        "outputId": "b0b093bf-4a09-4981-d83e-5cbb213b4652"
      },
      "execution_count": null,
      "outputs": [
        {
          "output_type": "stream",
          "name": "stdout",
          "text": [
            "Mounted at /content/drive\n"
          ]
        }
      ]
    },
    {
      "cell_type": "code",
      "source": [
        "zip_path = \"/content/drive/MyDrive/aksharantar_sampled.zip\"\n",
        "!cp \"{zip_path}\" .\n",
        "!unzip -q aksharantar_sampled.zip\n",
        "!rm aksharantar_sampled.zip "
      ],
      "metadata": {
        "id": "zqABTx8UR758"
      },
      "execution_count": null,
      "outputs": []
    },
    {
      "cell_type": "code",
      "source": [
        "def get_data(lang):\n",
        "  train_csv=f\"aksharantar_sampled/{lang}/{lang}_train.csv\"\n",
        "  test_csv=f\"aksharantar_sampled/{lang}/{lang}_test.csv\"\n",
        "  val_csv=f\"aksharantar_sampled/{lang}/{lang}_valid.csv\"\n",
        "  \n",
        "  return train_csv,test_csv,val_csv\n",
        "\n"
      ],
      "metadata": {
        "id": "TBMwatTpRChq"
      },
      "execution_count": null,
      "outputs": []
    },
    {
      "cell_type": "code",
      "source": [
        "train,test,val=get_data(\"hin\")"
      ],
      "metadata": {
        "id": "WQnUvhEvU8lb"
      },
      "execution_count": null,
      "outputs": []
    },
    {
      "cell_type": "code",
      "source": [
        "### For train\n",
        "input_texts = []\n",
        "target_texts = []\n",
        "\n",
        "train_df = pd.read_csv(train, header=None, names=[\"1\", \"2\"]).astype(str)\n",
        "\n",
        "# Add all the input and target texts with start sequence and end sequence added to target \n",
        "for index, row in train_df.iterrows():\n",
        "      input_text = row['1']\n",
        "      target_text = row['2']\n",
        "      if target_text == '' or input_text == '':\n",
        "          continue\n",
        "      target_text = \"\\t\" + target_text + \"\\n\"\n",
        "      input_texts.append(input_text)\n",
        "      target_texts.append(target_text)\n",
        "\n",
        "english_tokens = set()\n",
        "hindi_tokens = set()\n",
        "\n",
        "for x,y in zip(input_texts,target_texts):\n",
        "    for ch in x:\n",
        "        english_tokens.add(ch)\n",
        "    for ch in y:\n",
        "        hindi_tokens.add(ch)\n",
        "    \n",
        "english_tokens = sorted(list(english_tokens))\n",
        "hindi_tokens = sorted(list(hindi_tokens))\n",
        "\n",
        "eng_token_map = dict([(ch,i+1) for i,ch in enumerate(english_tokens)])\n",
        "hin_token_map = dict([(ch,i+1) for i,ch in enumerate(hindi_tokens)])\n",
        "\n",
        "eng_token_map[\"<UNK>\"]=len(english_tokens)+1\n",
        "hin_token_map[\"<UNK>\"]=len(hindi_tokens)+1\n",
        "eng_token_map['<PAD>']=0\n",
        "hin_token_map['<PAD>']=0\n",
        "\n",
        "max_eng_len = max([len(i) for i in input_texts])\n",
        "max_hin_len = max([len(i) for i in target_texts])"
      ],
      "metadata": {
        "id": "JiRzLeNWjgJN"
      },
      "execution_count": null,
      "outputs": []
    },
    {
      "cell_type": "code",
      "source": [
        "def pre_process(data):\n",
        "    \n",
        "    input_texts = []\n",
        "    target_texts = []\n",
        "    \n",
        "    df = pd.read_csv(data, header=None, names=[\"1\", \"2\"]).astype(str)\n",
        "\n",
        "    for index, row in df.iterrows():\n",
        "      input_text = row['1']\n",
        "      target_text = row['2']\n",
        "      if target_text == '' or input_text == '':\n",
        "          continue\n",
        "      target_text = \"\\t\" + target_text + \"\\n\"\n",
        "      input_texts.append(input_text)\n",
        "      target_texts.append(target_text)\n",
        "\n",
        "    \n",
        "    a = np.zeros((len(input_texts),max_eng_len+2),dtype=\"float32\")\n",
        "    b = np.zeros((len(target_texts),max_hin_len+2),dtype=\"float32\")\n",
        "    \n",
        "    \n",
        "    for i,(x,y) in enumerate(zip(input_texts,target_texts)):\n",
        "        for j,ch in enumerate(x):\n",
        "            a[i,j] = eng_token_map.get(ch,eng_token_map[\"<UNK>\"])\n",
        "\n",
        "        for j,ch in enumerate(y):\n",
        "            b[i,j] = hin_token_map.get(ch,hin_token_map[\"<UNK>\"])\n",
        "        \n",
        "      \n",
        "    return a,b"
      ],
      "metadata": {
        "id": "D7R6D14QTeog"
      },
      "execution_count": null,
      "outputs": []
    },
    {
      "cell_type": "code",
      "source": [
        "trainx, trainy= pre_process(train)\n",
        "valx, valy= pre_process(val)\n",
        "testx,testy,= pre_process(test)"
      ],
      "metadata": {
        "id": "BFstJB1r0hDa"
      },
      "execution_count": null,
      "outputs": []
    },
    {
      "cell_type": "code",
      "source": [
        "reverse_eng_map = dict([(i,char) for char,i in eng_token_map.items()])\n",
        "reverse_hin_map = dict([(i,char) for char,i in hin_token_map.items()])"
      ],
      "metadata": {
        "id": "QRLNQFIE-Oao"
      },
      "execution_count": null,
      "outputs": []
    },
    {
      "cell_type": "code",
      "source": [
        "\n",
        "class CustomDataset(Dataset):\n",
        "    def __init__(self, input_data, target_data):\n",
        "        self.input_data = input_data\n",
        "        self.target_data = target_data\n",
        "    \n",
        "\n",
        "    def __len__(self):\n",
        "        return len(self.input_data)\n",
        "\n",
        "    def __getitem__(self, idx):\n",
        "        input_seq = self.input_data[idx]\n",
        "        target_seq = self.target_data[idx]\n",
        "\n",
        "        return input_seq, target_seq\n",
        "\n",
        "def custom_collate(batch):\n",
        "    input_seqs, target_seqs= zip(*batch)\n",
        "    input_seqs = torch.from_numpy(np.stack(input_seqs, axis=1))\n",
        "    target_seqs = torch.from_numpy(np.stack(target_seqs, axis=1))\n",
        "\n",
        "    return input_seqs, target_seqs\n",
        "\n",
        "\n",
        "train_dataset = CustomDataset(trainx, trainy)\n",
        "train_dataloader = DataLoader(train_dataset, batch_size=8, shuffle=True, collate_fn=custom_collate)\n",
        "\n",
        "val_dataset = CustomDataset(valx, valy)\n",
        "#val_dataloader = DataLoader(val_dataset, batch_size=8, shuffle=False, collate_fn=custom_collate)\n",
        "\n",
        "test_dataset = CustomDataset(testx, testy)\n",
        "test_dataloader = DataLoader(test_dataset, batch_size=8, shuffle=False, collate_fn=custom_collate)\n",
        "\n"
      ],
      "metadata": {
        "id": "1TgNeOJqxFAW"
      },
      "execution_count": null,
      "outputs": []
    },
    {
      "cell_type": "code",
      "source": [
        "device = 'cuda' if torch.cuda.is_available() else 'cpu'\n",
        "\n",
        "\n",
        "class Encoder(nn.Module):\n",
        "    def __init__(self, input_size, embed_dim, hidden_size, num_layers, dropout,cell_type):\n",
        "        super().__init__()\n",
        "        self.hidden_size = hidden_size\n",
        "        self.embedding = nn.Embedding(input_size, embed_dim,padding_idx=0)\n",
        "        self.dropout = nn.Dropout(dropout)\n",
        "        self.cell_type=cell_type\n",
        "        self.fc=nn.Linear(hidden_size*2,hidden_size) # To connect last layer of encoder to first layer of decoder, used when bidirectional=True\n",
        "                                                     # The hidden_size  of last enocder layer and 1st layer of decoder are same in general\n",
        "        if cell_type==\"LSTM\":\n",
        "            self.rnn=nn.LSTM(embed_dim, hidden_size, num_layers, dropout=dropout,bidirectional=True)\n",
        "            self.cell=nn.Linear(hidden_size*2,hidden_size)\n",
        "        elif cell_type==\"GRU\":\n",
        "            self.rnn=nn.GRU(embed_dim, hidden_size, num_layers, dropout=dropout,bidirectional=True)\n",
        "        else:\n",
        "            self.rnn=nn.RNN(embed_dim, hidden_size, num_layers, dropout=dropout,bidirectional=True)\n",
        "    \n",
        "    def forward(self, x):\n",
        "        embedded = self.dropout(self.embedding(x))\n",
        "\n",
        "        if self.cell_type==\"LSTM\":\n",
        "            output, (hidden, cell) = self.rnn(embedded)\n",
        "            concated = torch.cat((hidden[-2, :, :], hidden[-1, :, :]), dim=1)\n",
        "            hidden = torch.tanh(self.fc(concated))\n",
        "\n",
        "            cell_concat=torch.cat((cell[-2,:,:], cell[-1,:,:]), dim=1)\n",
        "            cell=torch.tanh(self.fc(cell_concat))\n",
        "\n",
        "\n",
        "            return output,hidden,cell\n",
        "        \n",
        "        elif self.cell_type==\"GRU\":\n",
        "            output, hidden = self.rnn(embedded)\n",
        "            concated = torch.cat((hidden[-2, :, :], hidden[-1, :, :]), dim=1)\n",
        "            hidden = torch.tanh(self.fc(concated))\n",
        "\n",
        "            return output, hidden\n",
        "        \n",
        "        else:\n",
        "            output, hidden = self.rnn(embedded)\n",
        "            concated = torch.cat((hidden[-2, :, :], hidden[-1, :, :]), dim=1)\n",
        "            hidden = torch.tanh(self.fc(concated))\n",
        "\n",
        "            return output,hidden\n",
        "\n",
        "class Attention(nn.Module):\n",
        "    def __init__(self,hidden_size):\n",
        "        super().__init__()\n",
        "        self.enc_hidden_size=hidden_size\n",
        "        self.dec_hidden_size=hidden_size\n",
        "\n",
        "        self.fc1 = nn.Linear(self.enc_hidden_size * 2 + self.dec_hidden_size, self.dec_hidden_size)\n",
        "        self.fc2 = nn.Linear(self.dec_hidden_size, 1, bias=False)\n",
        "    \n",
        "    def forward(self,encoder_output,hidden):\n",
        "        \n",
        "        batch_size = encoder_output.shape[1]\n",
        "        source_len = encoder_output.shape[0]\n",
        "        \n",
        "        hidden = hidden.unsqueeze(1).repeat(1, source_len, 1)\n",
        "        \n",
        "        output = encoder_output.permute(1, 0, 2)\n",
        "        \n",
        "\n",
        "        energy = torch.tanh(self.fc1(torch.cat((hidden, output), dim = 2))) \n",
        "        \n",
        "\n",
        "        attention = self.fc2(energy).squeeze(dim=2)\n",
        "        \n",
        "        attention_weight = torch.softmax(attention, dim=1)\n",
        "        \n",
        "        return attention_weight\n",
        "\n",
        "\n",
        "\n",
        "class Decoder(nn.Module):\n",
        "    def __init__(self, output_size, embed_dim, hidden_size, num_layers, dropout,cell_type,attention):\n",
        "        super().__init__()\n",
        "        self.hidden_size = hidden_size\n",
        "        self.cell_type=cell_type\n",
        "        self.embedding = nn.Embedding(output_size, embed_dim,padding_idx=0)\n",
        "        if cell_type==\"LSTM\":\n",
        "          self.rnn = nn.LSTM((hidden_size*2)+embed_dim, hidden_size, num_layers,  dropout=dropout)\n",
        "        elif cell_type==\"GRU\":\n",
        "          self.rnn=nn.GRU((hidden_size*2)+embed_dim,hidden_size,num_layers,dropout=dropout,bidirectional=False)\n",
        "        else:\n",
        "          self.rnn=nn.RNN(hidden_size*2+embed_dim,hidden_size,num_layers,dropout=dropout)\n",
        "\n",
        "        self.fc = nn.Linear(hidden_size, output_size)\n",
        "        self.dropout=nn.Dropout(dropout)\n",
        "        self.attention=attention\n",
        "\n",
        "    def forward(self, x,encoder_output,hidden,cell):\n",
        "        attention = self.attention(encoder_output, hidden).unsqueeze(1)\n",
        "        output = encoder_output.permute(1, 0, 2)\n",
        "        context = torch.bmm(attention, output).permute(1, 0, 2)\n",
        "        x = x.unsqueeze(0)\n",
        "        embedded = self.dropout(self.embedding(x))\n",
        "\n",
        "        rnn_input = torch.cat((embedded, context), dim=2)\n",
        "        if self.cell_type==\"LSTM\":\n",
        "          output,(hidden,cell) = self.rnn(rnn_input,(hidden.unsqueeze(0),cell.unsqueeze(0)))\n",
        "          output= self.fc(output.squeeze(0))\n",
        "          return output, hidden.squeeze(0),cell.squeeze(0)\n",
        "        \n",
        "        elif self.cell_type==\"GRU\":\n",
        "          output,hidden = self.rnn(rnn_input,hidden.unsqueeze(0))\n",
        "          output = output.squeeze(0)\n",
        "          output= self.fc(output)\n",
        "          return output, hidden.squeeze(0)\n",
        "        \n",
        "        else:\n",
        "          output,hidden = self.rnn(rnn_input,hidden.unsqueeze(0))\n",
        "          output = output.squeeze(0)\n",
        "          output= self.fc(output)\n",
        "          return output, hidden.squeeze(0)\n",
        "\n",
        "class Seq2Seq(nn.Module):\n",
        "    def __init__(self, encoder, decoder):\n",
        "        super(Seq2Seq, self).__init__()\n",
        "        self.encoder = encoder\n",
        "        self.decoder = decoder\n",
        "    \n",
        "       \n",
        "    def forward(self, source, target, teacher_forcing_ratio=0.5):\n",
        "        batch_size = source.shape[1]\n",
        "        target_len = target.shape[0]\n",
        "        target_vocab_size = len(hin_token_map)\n",
        "\n",
        "        outputs = torch.zeros(target_len,batch_size, target_vocab_size).to(device)\n",
        "        if self.encoder.cell_type==\"LSTM\":\n",
        "          enc_output ,hidden, cell = self.encoder(source)\n",
        "\n",
        "          x = target[0]\n",
        "\n",
        "          for t in range(1, target_len):\n",
        "              output, hidden, cell = self.decoder(x,enc_output, hidden, cell)\n",
        "              outputs[t] = output\n",
        "              top1 = output.argmax(1)\n",
        "              if random.random() < teacher_forcing_ratio:\n",
        "                  x = target[t]\n",
        "              else:\n",
        "                  x = top1\n",
        "\n",
        "          return outputs\n",
        "        \n",
        "        elif self.encoder.cell_type==\"GRU\":\n",
        "          enc_output,hidden = self.encoder(source)\n",
        "\n",
        "          x = target[0]\n",
        "\n",
        "          for t in range(1, target_len):\n",
        "              output,hidden=self.decoder(x,enc_output,hidden,None)\n",
        "              outputs[t] = output\n",
        "              top1= output.argmax(1)\n",
        "              if random.random() < teacher_forcing_ratio:\n",
        "                  x = target[t]\n",
        "              else:\n",
        "                  x = top1\n",
        "          return outputs\n",
        "        \n",
        "        else:\n",
        "          enc_output,hidden = self.encoder(source)\n",
        "\n",
        "          x = target[0]\n",
        "\n",
        "          for t in range(1, target_len):\n",
        "              output,hidden=self.decoder(x,enc_output,hidden,None)\n",
        "              outputs[t] = output\n",
        "              top1= output.argmax(1)\n",
        "              if random.random() < teacher_forcing_ratio:\n",
        "                  x = target[t]\n",
        "              else:\n",
        "                  x = top1\n",
        "          return outputs\n",
        "\n",
        "\n",
        "def build_model(cell = \"LSTM\",nunits = 64, enc_dec_layers = 1,embed_dim = 128,dropout=0):\n",
        "    att=Attention(nunits)\n",
        "    encoder = Encoder(input_size=len(eng_token_map), embed_dim=embed_dim, hidden_size=nunits, num_layers=enc_dec_layers, dropout=dropout,cell_type=cell)\n",
        "    decoder = Decoder(output_size=len(hin_token_map), embed_dim=embed_dim, hidden_size=nunits, num_layers=enc_dec_layers, dropout=dropout,cell_type=cell,attention=att)\n",
        "    model = Seq2Seq(encoder, decoder)\n",
        "    return model\n"
      ],
      "metadata": {
        "id": "BjtIzuCJ-jI3"
      },
      "execution_count": null,
      "outputs": []
    },
    {
      "cell_type": "code",
      "source": [
        "\n",
        "\n",
        "def train(model, dataloader, criterion, optimizer, device):\n",
        "    model.train()\n",
        "    total_loss = 0.0\n",
        "    total_chars = 0\n",
        "    correct_chars = 0\n",
        "\n",
        "    for i, (input_seq, target_seq) in enumerate(dataloader):\n",
        "        input_seq = input_seq.long().to(device)\n",
        "        target_seq = target_seq.long().to(device)\n",
        "\n",
        "        optimizer.zero_grad()\n",
        "\n",
        "        output = model(input_seq, target_seq)\n",
        "        _, predicted = torch.max(output, dim=2)\n",
        "\n",
        "\n",
        "        for j in range(predicted.shape[1]):\n",
        "              predicted_seq = predicted[:, j]\n",
        "              targets_seq = target_seq[:, j]\n",
        "\n",
        "              # Find the index of the first EOS token in the sequence (for character & word-level accuracy)\n",
        "              eos_idx = (targets_seq == hin_token_map[\"\\n\"]).nonzero()\n",
        "              if eos_idx.numel() > 0:\n",
        "                  eos_idx = eos_idx[0][0]\n",
        "                  predicted_seq = predicted_seq[:eos_idx]\n",
        "                  targets_seq = targets_seq[:eos_idx]\n",
        "        \n",
        "        # reshape for cross-entropy loss\n",
        "        output_flatten = output[1:].view(-1, output.shape[-1])\n",
        "        trg_flatten = target_seq[1:].view(-1)\n",
        "\n",
        "        loss = criterion(output_flatten, trg_flatten)\n",
        "        loss.backward()\n",
        "        optimizer.step()\n",
        "\n",
        "        total_loss += loss.item()\n",
        "\n",
        "        predicted_seq=predicted_seq[1:].view(-1)\n",
        "        targets_seq=targets_seq[1:].view(-1)\n",
        "     \n",
        "        correct_chars += torch.sum(predicted_seq == targets_seq).item()\n",
        "        total_chars += targets_seq.numel()\n",
        "\n",
        "\n",
        "    return total_loss / len(dataloader), correct_chars/total_chars"
      ],
      "metadata": {
        "id": "AjLwzA4ugQ89"
      },
      "execution_count": null,
      "outputs": []
    },
    {
      "cell_type": "code",
      "source": [
        "\n",
        "def evaluate(model, dataloader, criterion, device):\n",
        "    model.eval()\n",
        "    total_loss = 0.0\n",
        "\n",
        "    total_chars = 0\n",
        "    correct_chars = 0\n",
        "\n",
        "    with torch.no_grad():\n",
        "        for i, (input_seq, target_seq) in enumerate(dataloader):\n",
        "            input_seq = input_seq.long().to(device)\n",
        "            target_seq = target_seq.long().to(device)\n",
        "\n",
        "            output = model(input_seq, target_seq,0)\n",
        "            _, predicted = torch.max(output, dim=2)\n",
        "\n",
        "\n",
        "            for j in range(predicted.shape[1]):\n",
        "                predicted_seq = predicted[:, j]\n",
        "                targets_seq = target_seq[:, j]\n",
        "\n",
        "                # Find the index of the first EOS token in the sequence\n",
        "                eos_idx = (targets_seq == hin_token_map[\"\\n\"]).nonzero()\n",
        "                if eos_idx.numel() > 0:\n",
        "                    eos_idx = eos_idx[0][0]\n",
        "                    predicted_seq = predicted_seq[:eos_idx]\n",
        "                    targets_seq = targets_seq[:eos_idx]\n",
        "\n",
        "\n",
        "            # reshape for cross-entropy loss\n",
        "            output_flatten = output[1:].view(-1, output.shape[-1])\n",
        "            trg_flatten = target_seq[1:].view(-1)\n",
        "\n",
        "            loss = criterion(output_flatten, trg_flatten)\n",
        "\n",
        "            total_loss += loss.item()\n",
        "\n",
        "            predicted_seq=predicted_seq[1:].view(-1)\n",
        "            targets_seq=targets_seq[1:].view(-1)\n",
        "     \n",
        "            correct_chars += torch.sum(predicted_seq == targets_seq).item()\n",
        "            total_chars += targets_seq.numel()\n",
        "\n",
        "    return total_loss / len(dataloader), correct_chars/total_chars"
      ],
      "metadata": {
        "id": "rq70mS_2UdgV"
      },
      "execution_count": null,
      "outputs": []
    },
    {
      "cell_type": "code",
      "source": [
        "'''\n",
        "N_EPOCHS = 1\n",
        "best_valid_loss = float('inf')\n",
        "device = torch.device(\"cuda\" if torch.cuda.is_available() else \"cpu\")\n",
        "train_dataloader = DataLoader(train_dataset, batch_size=8, shuffle=True, collate_fn=custom_collate)\n",
        "\n",
        "val_dataloader = DataLoader(val_dataset, batch_size=8, shuffle=False, collate_fn=custom_collate)\n",
        "model=model.to(device)\n",
        "criterion = nn.CrossEntropyLoss(ignore_index=hin_token_map[\"<PAD>\"]) # ignore padding index\n",
        "optimizer = optim.Adam(model.parameters(), lr=1e-3)\n",
        "for epoch in range(N_EPOCHS):    \n",
        "    train_loss,acc = train(model=model, dataloader=train_dataloader, optimizer=optimizer, criterion=criterion,device=device)\n",
        "    valid_loss,ch = evaluate(model, val_dataloader, criterion,device)\n",
        "\n",
        "\n",
        "    if valid_loss < best_valid_loss:\n",
        "        best_valid_loss = valid_loss\n",
        "        torch.save(model.state_dict(), 'tut1-model.pt')\n",
        "\n",
        "    # it's easier to see a change in perplexity between epoch as it's an exponential\n",
        "    # of the loss, hence the scale of the measure is much bigger\n",
        "    print(f'Epoch: {epoch+1}')\n",
        "    print(f'\\tTrain Loss: {train_loss}')\n",
        "    print(f'\\t Val. Loss: {valid_loss}')\n",
        "    print(ch)\n",
        "    print(acc)\n",
        "'''"
      ],
      "metadata": {
        "colab": {
          "base_uri": "https://localhost:8080/"
        },
        "id": "MzKzlqZiZSLh",
        "outputId": "45651da3-6ac0-423d-b268-3d45515e06a5"
      },
      "execution_count": null,
      "outputs": [
        {
          "output_type": "stream",
          "name": "stdout",
          "text": [
            "Epoch: 1\n",
            "\tTrain Loss: 1.255671155047603\n",
            "\t Val. Loss: 1.2807335597462952\n",
            "0.6061717079132295\n",
            "0.6031660262568044\n"
          ]
        }
      ]
    },
    {
      "cell_type": "code",
      "source": [
        "def wandb_sweeps():\n",
        "  config_defaults = {\n",
        "        'cell': \"LSTM\",\n",
        "        'hidden_units': 64,\n",
        "        'embed_dim': 128,\n",
        "        'lr':1e-4,\n",
        "        'dropout':0.1,\n",
        "        'epochs':20,\n",
        "        'batch_size':8\n",
        "  }\n",
        "  \n",
        "  wandb.init(config=config_defaults)\n",
        "\n",
        "  config = wandb.config\n",
        "\n",
        "  \n",
        "  cell=config.cell\n",
        "  hidden_units=config.hidden_units\n",
        "  embed_dim=config.embed_dim\n",
        "  lr=config.lr\n",
        "  epochs=config.epochs\n",
        "  dropout=config.dropout\n",
        "  batch_size=config.batch_size\n",
        "\n",
        "\n",
        "  run_name = f\"cell_{cell}_hunit_{hidden_units}_embed_dim_{embed_dim}_lr_{lr}_ep_{epochs}_dropout_{dropout}_bs{batch_size}\"\n",
        "  print(run_name)\n",
        "\n",
        "  train_dataloader = DataLoader(train_dataset, batch_size=batch_size, shuffle=True, collate_fn=custom_collate)\n",
        "\n",
        "  val_dataloader = DataLoader(val_dataset, batch_size=batch_size, shuffle=False, collate_fn=custom_collate)\n",
        "\n",
        "\n",
        "  model=build_model(cell = cell,nunits = hidden_units, enc_dec_layers =1,embed_dim = embed_dim,dropout=dropout)\n",
        "  \n",
        "  device = 'cuda' if torch.cuda.is_available() else 'cpu'\n",
        "\n",
        "  model=model.to(device)\n",
        "\n",
        "  \n",
        "  criterion = nn.CrossEntropyLoss(ignore_index=hin_token_map[\"<PAD>\"]) # ignore padding index\n",
        "  optimizer = optim.Adam(model.parameters(), lr=lr)\n",
        "\n",
        "  N_EPOCHS = epochs\n",
        " \n",
        "  for epoch in range(N_EPOCHS):    \n",
        "    train_loss,train_acc = train(model=model, dataloader=train_dataloader, optimizer=optimizer, criterion=criterion,device=device)\n",
        "    valid_loss,val_acc = evaluate(model, val_dataloader, criterion,device)\n",
        "    \n",
        "    wandb.log({\"training_acc\": train_acc, \"validation_accuracy\": val_acc, \"training_loss\": train_loss, \"validation_loss\": valid_loss, \"Epoch\": epoch+1})\n",
        "\n",
        "    print('Epoch: {} \\tTraining Loss: {:.6f} \\tValidation Loss: {:.6f} \\tTraining Accuracy: {:.6f} \\tValidation Accuracy: {:.6f}'.format(\n",
        "        epoch+1, train_loss, valid_loss, train_acc, val_acc))\n",
        "  \n",
        "  wandb.run.name = run_name\n",
        "  wandb.run.save()\n",
        "  wandb.run.finish()\n",
        "\n"
      ],
      "metadata": {
        "id": "ee3VJ6cQTWu4"
      },
      "execution_count": null,
      "outputs": []
    },
    {
      "cell_type": "code",
      "source": [
        "sweep_config = {\n",
        "  \"name\": \"Bayesian Sweep(Attention-2)\",\n",
        "  \"method\": \"bayes\",\n",
        "  \"metric\":{\n",
        "  \"name\": \"validation_accuracy\",\n",
        "  \"goal\": \"maximize\"\n",
        "  },\n",
        "  'early_terminate': {\n",
        "        'type':'hyperband',\n",
        "        'min_iter': 8,\n",
        "        's': 2\n",
        "  },\n",
        "  \"parameters\": {\n",
        "        \"cell\": {\n",
        "            \"values\": [ \"LSTM\", \"GRU\", \"RNN\"]\n",
        "        },\n",
        "        \"hidden_units\": {\n",
        "            \"values\": [32,64,256,512]\n",
        "        },\n",
        "        \"embed_dim\": {\n",
        "            \"values\": [64,128,256,512]\n",
        "        }, \n",
        "        \"lr\": {\n",
        "            \"values\": [1e-5,1e-4,1e-3]\n",
        "        },\n",
        "        \"epochs\": {\n",
        "            \"values\": [10,15,20]\n",
        "        },\n",
        "        \"dropout\": {\n",
        "            \"values\": [0,0.1,0.27,0.4]\n",
        "        },\n",
        "        \"batch_size\": {\n",
        "            \"values\": [16,32,64]\n",
        "        }     \n",
        "    }\n",
        "}\n",
        "\n",
        "sweep_id = wandb.sweep(sweep_config,  entity=\"shashwat_mm19b053\", project=\"Assignment-3\")\n",
        "wandb.agent(sweep_id,project='Assignment-3', function=wandb_sweeps, count=90)"
      ],
      "metadata": {
        "colab": {
          "base_uri": "https://localhost:8080/",
          "height": 1000,
          "referenced_widgets": [
            "48140631cf744bc99ec1a3ed49e2a134",
            "6d986758dcbf410f856b16861fe4b23c",
            "58e51bc656934a378918b5a122bc15f7",
            "7fc220442e3f4c3f823a1a7c0e8741db",
            "8f2abba2fd444c83a0afd8efdd8b0124",
            "773b9c65f38d4eb6aa4e999905ae1446",
            "ca79bd9cd80346b98f6dcdd56b148191",
            "265b564a54ae4c608931c528abd8598c",
            "0f49a4b08a8644ffaecb3810d7440364",
            "aaab74a6bb6343b0af0d0b81ac564686",
            "479a01e65c4540bdabd084aa423ddbbf",
            "e9cc3e45e3ae4aaba433591285a3d0e5",
            "13af5bee1f9f44f0919da7728df90f58",
            "81f21e82a48a4758a13b042573d712d5",
            "a9808ec68fc84157b829beb272a635bf",
            "771fc7b0dc6b4fdc999c2d8e93e98e4d",
            "adf141e3ecda49ee83756f3a6b1b46a3",
            "ad233f7e50a343969aa027b9c67cb6e9",
            "1ba807a57c0347348af2bbc176ecfa8b",
            "877218cf721e49d9bac87ea400bedeb3",
            "bb4e0a50ba21415094ac69ce12bf789a",
            "c08a56509d9c4a3782599013df1efb36",
            "6f53536ac84b48fb83a05d4282759dd3",
            "5f32ae2c9fa64547bf31a7ffaa8246c0",
            "206583a089ca40d086fe6159b049c1b0",
            "c956cba6d39b45f1b6e44128fca46b5f",
            "65bff82669184f0283259872b32c6bdb",
            "085d0b146c144050813d7268c447090d",
            "ea712283d1f64b11857464133ce592c3",
            "a0abdaac2b784029aa9d6bcaf4bb5c0c",
            "1b0785906d28448faee36c74c35599a1",
            "37d12e66bdb64583bf73de90ae592f64",
            "5176dfac1af649f3bf17d3d69e90d4d8",
            "d2094181d1474bea916822aa65b03b4e",
            "108cb86e7e674698a416b4ecb25e13b6",
            "4f073d3d168e4dbf88d88b270af0f36b",
            "58d6aa2f868d4909ae98bf8acf323d07",
            "d22590aea8114159a2e0331c63778d76",
            "b9cef17e94f2428bab42f73bc33285d7",
            "d97ef02572b64269b0cc1de09b127de0",
            "1fd20f193c234890af80bdd9174416d0",
            "1ac9b7770bcb427592a66fbe5fb06584",
            "d5e65a52f54740e29b60835b0c3fc0e7",
            "fee7b6e02e054b0fa7eb19c3c97af8a1",
            "1e716f30858e44a99f12fe84894842ce",
            "a7a59f3eaeb74a21833cbba76804ceff",
            "e8cd1c90f59e4cf69e15f718059e8cb2",
            "3fb9b620ed1644a082f146c74595f4b6",
            "d9b6f696f84348bb9e411a32f040eca5",
            "766662c9d8be4c90b4ccd48ee1634947",
            "9004b39589aa429085e8a47612838d66",
            "e7b41130132a4f81b3c33082554c0e38",
            "e5b6ed7ae15844c4a40458a0dab95435",
            "648502498b3843e9b4f507375b2c3398",
            "f2060df4b3be44cb99be050c1d1efa1f",
            "e2756f8a2d0e468eba5119e63c13bb03",
            "2200b386be584486a864b0a431fd40f1",
            "8d92c6b09d4f4b3f9f0606324c36ca85",
            "d00a279278df40a2bfbceaa3c06d8891",
            "7dd8c5967f794418a947be5975d95c08",
            "c11e5ef0fb7c47fd8edd48a015046c1a",
            "c485d1979ad548a6a6e58962ae9ed59d",
            "9a79222b828a450b83cb22932c8af95d",
            "d9bd1c41381646048d59064d039a4722",
            "f84485e488084bb99e35254da0f96a28",
            "30a4414fb1a04c929ccc80c9c4ea3193",
            "b49f7aca8d834014ae1fe161a5915b90",
            "56b5e2fa9930442d90d1cb2d140b5d92",
            "b38e441603ec48e8a6e6083e3276c95b",
            "d63e8152dae14182b00aeb186ebcde34",
            "0218f49faa814f52b1c6fec3188b01ec",
            "441b84d6576f45d1b1ffcb966afc3f27"
          ]
        },
        "id": "eL1gN5V6nyWj",
        "outputId": "c713ec63-b700-4131-d5b1-a3d213d528bc"
      },
      "execution_count": null,
      "outputs": [
        {
          "data": {
            "application/javascript": [
              "\n",
              "        window._wandbApiKey = new Promise((resolve, reject) => {\n",
              "            function loadScript(url) {\n",
              "            return new Promise(function(resolve, reject) {\n",
              "                let newScript = document.createElement(\"script\");\n",
              "                newScript.onerror = reject;\n",
              "                newScript.onload = resolve;\n",
              "                document.body.appendChild(newScript);\n",
              "                newScript.src = url;\n",
              "            });\n",
              "            }\n",
              "            loadScript(\"https://cdn.jsdelivr.net/npm/postmate/build/postmate.min.js\").then(() => {\n",
              "            const iframe = document.createElement('iframe')\n",
              "            iframe.style.cssText = \"width:0;height:0;border:none\"\n",
              "            document.body.appendChild(iframe)\n",
              "            const handshake = new Postmate({\n",
              "                container: iframe,\n",
              "                url: 'https://wandb.ai/authorize'\n",
              "            });\n",
              "            const timeout = setTimeout(() => reject(\"Couldn't auto authenticate\"), 5000)\n",
              "            handshake.then(function(child) {\n",
              "                child.on('authorize', data => {\n",
              "                    clearTimeout(timeout)\n",
              "                    resolve(data)\n",
              "                });\n",
              "            });\n",
              "            })\n",
              "        });\n",
              "    "
            ],
            "text/plain": [
              "<IPython.core.display.Javascript object>"
            ]
          },
          "metadata": {},
          "output_type": "display_data"
        },
        {
          "metadata": {
            "tags": null
          },
          "name": "stderr",
          "output_type": "stream",
          "text": [
            "\u001b[34m\u001b[1mwandb\u001b[0m: Logging into wandb.ai. (Learn how to deploy a W&B server locally: https://wandb.me/wandb-server)\n",
            "\u001b[34m\u001b[1mwandb\u001b[0m: You can find your API key in your browser here: https://wandb.ai/authorize\n",
            "wandb: Paste an API key from your profile and hit enter, or press ctrl+c to quit:\u001b[34m\u001b[1mwandb\u001b[0m: Appending key for api.wandb.ai to your netrc file: /root/.netrc\n"
          ]
        },
        {
          "metadata": {
            "tags": null
          },
          "name": "stdout",
          "output_type": "stream",
          "text": [
            "Create sweep with ID: nye2llmh\n",
            "Sweep URL: https://wandb.ai/shashwat_mm19b053/Assignment-3/sweeps/nye2llmh\n"
          ]
        },
        {
          "metadata": {
            "tags": null
          },
          "name": "stderr",
          "output_type": "stream",
          "text": [
            "\u001b[34m\u001b[1mwandb\u001b[0m: Agent Starting Run: 4st45xvp with config:\n",
            "\u001b[34m\u001b[1mwandb\u001b[0m: \tbatch_size: 32\n",
            "\u001b[34m\u001b[1mwandb\u001b[0m: \tcell: GRU\n",
            "\u001b[34m\u001b[1mwandb\u001b[0m: \tdropout: 0\n",
            "\u001b[34m\u001b[1mwandb\u001b[0m: \tembed_dim: 128\n",
            "\u001b[34m\u001b[1mwandb\u001b[0m: \tepochs: 15\n",
            "\u001b[34m\u001b[1mwandb\u001b[0m: \thidden_units: 64\n",
            "\u001b[34m\u001b[1mwandb\u001b[0m: \tlr: 1e-05\n",
            "\u001b[34m\u001b[1mwandb\u001b[0m: Currently logged in as: \u001b[33mshashwat30-04-2001\u001b[0m (\u001b[33mshashwat_mm19b053\u001b[0m). Use \u001b[1m`wandb login --relogin`\u001b[0m to force relogin\n"
          ]
        },
        {
          "data": {
            "text/html": [
              "Tracking run with wandb version 0.15.2"
            ],
            "text/plain": [
              "<IPython.core.display.HTML object>"
            ]
          },
          "metadata": {},
          "output_type": "display_data"
        },
        {
          "data": {
            "text/html": [
              "Run data is saved locally in <code>/content/wandb/run-20230506_190736-4st45xvp</code>"
            ],
            "text/plain": [
              "<IPython.core.display.HTML object>"
            ]
          },
          "metadata": {},
          "output_type": "display_data"
        },
        {
          "data": {
            "text/html": [
              "Syncing run <strong><a href='https://wandb.ai/shashwat_mm19b053/Assignment-3/runs/4st45xvp' target=\"_blank\">stellar-sweep-1</a></strong> to <a href='https://wandb.ai/shashwat_mm19b053/Assignment-3' target=\"_blank\">Weights & Biases</a> (<a href='https://wandb.me/run' target=\"_blank\">docs</a>)<br/>Sweep page: <a href='https://wandb.ai/shashwat_mm19b053/Assignment-3/sweeps/nye2llmh' target=\"_blank\">https://wandb.ai/shashwat_mm19b053/Assignment-3/sweeps/nye2llmh</a>"
            ],
            "text/plain": [
              "<IPython.core.display.HTML object>"
            ]
          },
          "metadata": {},
          "output_type": "display_data"
        },
        {
          "data": {
            "text/html": [
              " View project at <a href='https://wandb.ai/shashwat_mm19b053/Assignment-3' target=\"_blank\">https://wandb.ai/shashwat_mm19b053/Assignment-3</a>"
            ],
            "text/plain": [
              "<IPython.core.display.HTML object>"
            ]
          },
          "metadata": {},
          "output_type": "display_data"
        },
        {
          "data": {
            "text/html": [
              " View sweep at <a href='https://wandb.ai/shashwat_mm19b053/Assignment-3/sweeps/nye2llmh' target=\"_blank\">https://wandb.ai/shashwat_mm19b053/Assignment-3/sweeps/nye2llmh</a>"
            ],
            "text/plain": [
              "<IPython.core.display.HTML object>"
            ]
          },
          "metadata": {},
          "output_type": "display_data"
        },
        {
          "data": {
            "text/html": [
              " View run at <a href='https://wandb.ai/shashwat_mm19b053/Assignment-3/runs/4st45xvp' target=\"_blank\">https://wandb.ai/shashwat_mm19b053/Assignment-3/runs/4st45xvp</a>"
            ],
            "text/plain": [
              "<IPython.core.display.HTML object>"
            ]
          },
          "metadata": {},
          "output_type": "display_data"
        },
        {
          "metadata": {
            "tags": null
          },
          "name": "stdout",
          "output_type": "stream",
          "text": [
            "cell_GRU_hunit_64_embed_dim_128_lr_1e-05_ep_15_dropout_0_bs32\n",
            "Epoch: 1 \tTraining Loss: 3.860460 \tValidation Loss: 3.468346 \tTraining Accuracy: 0.063607 \tValidation Accuracy: 0.077411\n",
            "Epoch: 2 \tTraining Loss: 3.396635 \tValidation Loss: 3.294442 \tTraining Accuracy: 0.085982 \tValidation Accuracy: 0.130711\n",
            "Epoch: 3 \tTraining Loss: 3.258069 \tValidation Loss: 3.186148 \tTraining Accuracy: 0.120144 \tValidation Accuracy: 0.145939\n",
            "Epoch: 4 \tTraining Loss: 3.148587 \tValidation Loss: 3.078354 \tTraining Accuracy: 0.154182 \tValidation Accuracy: 0.175127\n",
            "Epoch: 5 \tTraining Loss: 3.038423 \tValidation Loss: 2.966929 \tTraining Accuracy: 0.172906 \tValidation Accuracy: 0.197970\n",
            "Epoch: 6 \tTraining Loss: 2.916236 \tValidation Loss: 2.831960 \tTraining Accuracy: 0.204772 \tValidation Accuracy: 0.233503\n",
            "Epoch: 7 \tTraining Loss: 2.769716 \tValidation Loss: 2.677611 \tTraining Accuracy: 0.233109 \tValidation Accuracy: 0.262690\n",
            "Epoch: 8 \tTraining Loss: 2.613509 \tValidation Loss: 2.535446 \tTraining Accuracy: 0.276797 \tValidation Accuracy: 0.282995\n",
            "Epoch: 9 \tTraining Loss: 2.463281 \tValidation Loss: 2.403437 \tTraining Accuracy: 0.303184 \tValidation Accuracy: 0.309645\n",
            "Epoch: 10 \tTraining Loss: 2.324137 \tValidation Loss: 2.286901 \tTraining Accuracy: 0.346904 \tValidation Accuracy: 0.347716\n",
            "Epoch: 11 \tTraining Loss: 2.197368 \tValidation Loss: 2.185726 \tTraining Accuracy: 0.376567 \tValidation Accuracy: 0.357868\n",
            "Epoch: 12 \tTraining Loss: 2.086267 \tValidation Loss: 2.094733 \tTraining Accuracy: 0.404702 \tValidation Accuracy: 0.389594\n",
            "Epoch: 13 \tTraining Loss: 1.984683 \tValidation Loss: 2.014116 \tTraining Accuracy: 0.435667 \tValidation Accuracy: 0.399746\n",
            "Epoch: 14 \tTraining Loss: 1.902183 \tValidation Loss: 1.948253 \tTraining Accuracy: 0.457669 \tValidation Accuracy: 0.416244\n"
          ]
        },
        {
          "metadata": {
            "tags": null
          },
          "name": "stderr",
          "output_type": "stream",
          "text": [
            "\u001b[34m\u001b[1mwandb\u001b[0m: \u001b[33mWARNING\u001b[0m Calling wandb.run.save without any arguments is deprecated.Changes to attributes are automatically persisted.\n"
          ]
        },
        {
          "metadata": {
            "tags": null
          },
          "name": "stdout",
          "output_type": "stream",
          "text": [
            "Epoch: 15 \tTraining Loss: 1.824747 \tValidation Loss: 1.893610 \tTraining Accuracy: 0.474743 \tValidation Accuracy: 0.434010\n"
          ]
        },
        {
          "data": {
            "text/html": [
              "Waiting for W&B process to finish... <strong style=\"color:green\">(success).</strong>"
            ],
            "text/plain": [
              "<IPython.core.display.HTML object>"
            ]
          },
          "metadata": {},
          "output_type": "display_data"
        },
        {
          "data": {
            "text/html": [
              "<style>\n",
              "    table.wandb td:nth-child(1) { padding: 0 10px; text-align: left ; width: auto;} td:nth-child(2) {text-align: left ; width: 100%}\n",
              "    .wandb-row { display: flex; flex-direction: row; flex-wrap: wrap; justify-content: flex-start; width: 100% }\n",
              "    .wandb-col { display: flex; flex-direction: column; flex-basis: 100%; flex: 1; padding: 10px; }\n",
              "    </style>\n",
              "<div class=\"wandb-row\"><div class=\"wandb-col\"><h3>Run history:</h3><br/><table class=\"wandb\"><tr><td>Epoch</td><td>▁▁▂▃▃▃▄▅▅▅▆▇▇▇█</td></tr><tr><td>training_acc</td><td>▁▁▂▃▃▃▄▅▅▆▆▇▇██</td></tr><tr><td>training_loss</td><td>█▆▆▆▅▅▄▄▃▃▂▂▂▁▁</td></tr><tr><td>validation_accuracy</td><td>▁▂▂▃▃▄▅▅▆▆▇▇▇██</td></tr><tr><td>validation_loss</td><td>█▇▇▆▆▅▄▄▃▃▂▂▂▁▁</td></tr></table><br/></div><div class=\"wandb-col\"><h3>Run summary:</h3><br/><table class=\"wandb\"><tr><td>Epoch</td><td>15</td></tr><tr><td>training_acc</td><td>0.47474</td></tr><tr><td>training_loss</td><td>1.82475</td></tr><tr><td>validation_accuracy</td><td>0.43401</td></tr><tr><td>validation_loss</td><td>1.89361</td></tr></table><br/></div></div>"
            ],
            "text/plain": [
              "<IPython.core.display.HTML object>"
            ]
          },
          "metadata": {},
          "output_type": "display_data"
        },
        {
          "data": {
            "text/html": [
              " View run <strong style=\"color:#cdcd00\">stellar-sweep-1</strong> at: <a href='https://wandb.ai/shashwat_mm19b053/Assignment-3/runs/4st45xvp' target=\"_blank\">https://wandb.ai/shashwat_mm19b053/Assignment-3/runs/4st45xvp</a><br/>Synced 5 W&B file(s), 0 media file(s), 0 artifact file(s) and 0 other file(s)"
            ],
            "text/plain": [
              "<IPython.core.display.HTML object>"
            ]
          },
          "metadata": {},
          "output_type": "display_data"
        },
        {
          "data": {
            "text/html": [
              "Find logs at: <code>./wandb/run-20230506_190736-4st45xvp/logs</code>"
            ],
            "text/plain": [
              "<IPython.core.display.HTML object>"
            ]
          },
          "metadata": {},
          "output_type": "display_data"
        },
        {
          "metadata": {
            "tags": null
          },
          "name": "stderr",
          "output_type": "stream",
          "text": [
            "\u001b[34m\u001b[1mwandb\u001b[0m: Agent Starting Run: dpyiobvk with config:\n",
            "\u001b[34m\u001b[1mwandb\u001b[0m: \tbatch_size: 16\n",
            "\u001b[34m\u001b[1mwandb\u001b[0m: \tcell: RNN\n",
            "\u001b[34m\u001b[1mwandb\u001b[0m: \tdropout: 0.4\n",
            "\u001b[34m\u001b[1mwandb\u001b[0m: \tembed_dim: 64\n",
            "\u001b[34m\u001b[1mwandb\u001b[0m: \tepochs: 10\n",
            "\u001b[34m\u001b[1mwandb\u001b[0m: \thidden_units: 32\n",
            "\u001b[34m\u001b[1mwandb\u001b[0m: \tlr: 0.001\n"
          ]
        },
        {
          "data": {
            "text/html": [
              "Tracking run with wandb version 0.15.2"
            ],
            "text/plain": [
              "<IPython.core.display.HTML object>"
            ]
          },
          "metadata": {},
          "output_type": "display_data"
        },
        {
          "data": {
            "text/html": [
              "Run data is saved locally in <code>/content/wandb/run-20230506_192733-dpyiobvk</code>"
            ],
            "text/plain": [
              "<IPython.core.display.HTML object>"
            ]
          },
          "metadata": {},
          "output_type": "display_data"
        },
        {
          "data": {
            "text/html": [
              "Syncing run <strong><a href='https://wandb.ai/shashwat_mm19b053/Assignment-3/runs/dpyiobvk' target=\"_blank\">fragrant-sweep-2</a></strong> to <a href='https://wandb.ai/shashwat_mm19b053/Assignment-3' target=\"_blank\">Weights & Biases</a> (<a href='https://wandb.me/run' target=\"_blank\">docs</a>)<br/>Sweep page: <a href='https://wandb.ai/shashwat_mm19b053/Assignment-3/sweeps/nye2llmh' target=\"_blank\">https://wandb.ai/shashwat_mm19b053/Assignment-3/sweeps/nye2llmh</a>"
            ],
            "text/plain": [
              "<IPython.core.display.HTML object>"
            ]
          },
          "metadata": {},
          "output_type": "display_data"
        },
        {
          "data": {
            "text/html": [
              " View project at <a href='https://wandb.ai/shashwat_mm19b053/Assignment-3' target=\"_blank\">https://wandb.ai/shashwat_mm19b053/Assignment-3</a>"
            ],
            "text/plain": [
              "<IPython.core.display.HTML object>"
            ]
          },
          "metadata": {},
          "output_type": "display_data"
        },
        {
          "data": {
            "text/html": [
              " View sweep at <a href='https://wandb.ai/shashwat_mm19b053/Assignment-3/sweeps/nye2llmh' target=\"_blank\">https://wandb.ai/shashwat_mm19b053/Assignment-3/sweeps/nye2llmh</a>"
            ],
            "text/plain": [
              "<IPython.core.display.HTML object>"
            ]
          },
          "metadata": {},
          "output_type": "display_data"
        },
        {
          "data": {
            "text/html": [
              " View run at <a href='https://wandb.ai/shashwat_mm19b053/Assignment-3/runs/dpyiobvk' target=\"_blank\">https://wandb.ai/shashwat_mm19b053/Assignment-3/runs/dpyiobvk</a>"
            ],
            "text/plain": [
              "<IPython.core.display.HTML object>"
            ]
          },
          "metadata": {},
          "output_type": "display_data"
        },
        {
          "metadata": {
            "tags": null
          },
          "name": "stdout",
          "output_type": "stream",
          "text": [
            "cell_RNN_hunit_32_embed_dim_64_lr_0.001_ep_10_dropout_0.4_bs16\n"
          ]
        },
        {
          "metadata": {
            "tags": null
          },
          "name": "stderr",
          "output_type": "stream",
          "text": [
            "/usr/local/lib/python3.10/dist-packages/torch/nn/modules/rnn.py:71: UserWarning: dropout option adds dropout after all but last recurrent layer, so non-zero dropout expects num_layers greater than 1, but got dropout=0.4 and num_layers=1\n",
            "  warnings.warn(\"dropout option adds dropout after all but last \"\n"
          ]
        },
        {
          "metadata": {
            "tags": null
          },
          "name": "stdout",
          "output_type": "stream",
          "text": [
            "Epoch: 1 \tTraining Loss: 2.561390 \tValidation Loss: 1.974959 \tTraining Accuracy: 0.262576 \tValidation Accuracy: 0.399511\n",
            "Epoch: 2 \tTraining Loss: 1.714503 \tValidation Loss: 1.523039 \tTraining Accuracy: 0.470908 \tValidation Accuracy: 0.533293\n",
            "Epoch: 3 \tTraining Loss: 1.398913 \tValidation Loss: 1.424771 \tTraining Accuracy: 0.560882 \tValidation Accuracy: 0.568723\n",
            "Epoch: 4 \tTraining Loss: 1.268004 \tValidation Loss: 1.362990 \tTraining Accuracy: 0.596957 \tValidation Accuracy: 0.561393\n",
            "Epoch: 5 \tTraining Loss: 1.202272 \tValidation Loss: 1.317747 \tTraining Accuracy: 0.606632 \tValidation Accuracy: 0.596823\n",
            "Epoch: 6 \tTraining Loss: 1.158759 \tValidation Loss: 1.317723 \tTraining Accuracy: 0.621909 \tValidation Accuracy: 0.579719\n",
            "Epoch: 7 \tTraining Loss: 1.119718 \tValidation Loss: 1.287498 \tTraining Accuracy: 0.637416 \tValidation Accuracy: 0.612095\n",
            "Epoch: 8 \tTraining Loss: 1.091918 \tValidation Loss: 1.324655 \tTraining Accuracy: 0.645949 \tValidation Accuracy: 0.588271\n",
            "Epoch: 9 \tTraining Loss: 1.070465 \tValidation Loss: 1.265082 \tTraining Accuracy: 0.644018 \tValidation Accuracy: 0.605376\n",
            "Epoch: 10 \tTraining Loss: 1.050137 \tValidation Loss: 1.256019 \tTraining Accuracy: 0.660168 \tValidation Accuracy: 0.610874\n"
          ]
        },
        {
          "data": {
            "text/html": [
              "Waiting for W&B process to finish... <strong style=\"color:green\">(success).</strong>"
            ],
            "text/plain": [
              "<IPython.core.display.HTML object>"
            ]
          },
          "metadata": {},
          "output_type": "display_data"
        },
        {
          "data": {
            "text/html": [
              "<style>\n",
              "    table.wandb td:nth-child(1) { padding: 0 10px; text-align: left ; width: auto;} td:nth-child(2) {text-align: left ; width: 100%}\n",
              "    .wandb-row { display: flex; flex-direction: row; flex-wrap: wrap; justify-content: flex-start; width: 100% }\n",
              "    .wandb-col { display: flex; flex-direction: column; flex-basis: 100%; flex: 1; padding: 10px; }\n",
              "    </style>\n",
              "<div class=\"wandb-row\"><div class=\"wandb-col\"><h3>Run history:</h3><br/><table class=\"wandb\"><tr><td>Epoch</td><td>▁▂▃▃▄▅▆▆▇█</td></tr><tr><td>training_acc</td><td>▁▅▆▇▇▇████</td></tr><tr><td>training_loss</td><td>█▄▃▂▂▂▁▁▁▁</td></tr><tr><td>validation_accuracy</td><td>▁▅▇▆▇▇█▇██</td></tr><tr><td>validation_loss</td><td>█▄▃▂▂▂▁▂▁▁</td></tr></table><br/></div><div class=\"wandb-col\"><h3>Run summary:</h3><br/><table class=\"wandb\"><tr><td>Epoch</td><td>10</td></tr><tr><td>training_acc</td><td>0.66017</td></tr><tr><td>training_loss</td><td>1.05014</td></tr><tr><td>validation_accuracy</td><td>0.61087</td></tr><tr><td>validation_loss</td><td>1.25602</td></tr></table><br/></div></div>"
            ],
            "text/plain": [
              "<IPython.core.display.HTML object>"
            ]
          },
          "metadata": {},
          "output_type": "display_data"
        },
        {
          "data": {
            "text/html": [
              " View run <strong style=\"color:#cdcd00\">fragrant-sweep-2</strong> at: <a href='https://wandb.ai/shashwat_mm19b053/Assignment-3/runs/dpyiobvk' target=\"_blank\">https://wandb.ai/shashwat_mm19b053/Assignment-3/runs/dpyiobvk</a><br/>Synced 5 W&B file(s), 0 media file(s), 0 artifact file(s) and 0 other file(s)"
            ],
            "text/plain": [
              "<IPython.core.display.HTML object>"
            ]
          },
          "metadata": {},
          "output_type": "display_data"
        },
        {
          "data": {
            "text/html": [
              "Find logs at: <code>./wandb/run-20230506_192733-dpyiobvk/logs</code>"
            ],
            "text/plain": [
              "<IPython.core.display.HTML object>"
            ]
          },
          "metadata": {},
          "output_type": "display_data"
        },
        {
          "metadata": {
            "tags": null
          },
          "name": "stderr",
          "output_type": "stream",
          "text": [
            "\u001b[34m\u001b[1mwandb\u001b[0m: Sweep Agent: Waiting for job.\n",
            "\u001b[34m\u001b[1mwandb\u001b[0m: Job received.\n",
            "\u001b[34m\u001b[1mwandb\u001b[0m: Agent Starting Run: 2x12hy0r with config:\n",
            "\u001b[34m\u001b[1mwandb\u001b[0m: \tbatch_size: 32\n",
            "\u001b[34m\u001b[1mwandb\u001b[0m: \tcell: RNN\n",
            "\u001b[34m\u001b[1mwandb\u001b[0m: \tdropout: 0\n",
            "\u001b[34m\u001b[1mwandb\u001b[0m: \tembed_dim: 128\n",
            "\u001b[34m\u001b[1mwandb\u001b[0m: \tepochs: 10\n",
            "\u001b[34m\u001b[1mwandb\u001b[0m: \thidden_units: 256\n",
            "\u001b[34m\u001b[1mwandb\u001b[0m: \tlr: 0.001\n"
          ]
        },
        {
          "data": {
            "text/html": [
              "Tracking run with wandb version 0.15.2"
            ],
            "text/plain": [
              "<IPython.core.display.HTML object>"
            ]
          },
          "metadata": {},
          "output_type": "display_data"
        },
        {
          "data": {
            "text/html": [
              "Run data is saved locally in <code>/content/wandb/run-20230506_195034-2x12hy0r</code>"
            ],
            "text/plain": [
              "<IPython.core.display.HTML object>"
            ]
          },
          "metadata": {},
          "output_type": "display_data"
        },
        {
          "data": {
            "text/html": [
              "Syncing run <strong><a href='https://wandb.ai/shashwat_mm19b053/Assignment-3/runs/2x12hy0r' target=\"_blank\">neat-sweep-3</a></strong> to <a href='https://wandb.ai/shashwat_mm19b053/Assignment-3' target=\"_blank\">Weights & Biases</a> (<a href='https://wandb.me/run' target=\"_blank\">docs</a>)<br/>Sweep page: <a href='https://wandb.ai/shashwat_mm19b053/Assignment-3/sweeps/nye2llmh' target=\"_blank\">https://wandb.ai/shashwat_mm19b053/Assignment-3/sweeps/nye2llmh</a>"
            ],
            "text/plain": [
              "<IPython.core.display.HTML object>"
            ]
          },
          "metadata": {},
          "output_type": "display_data"
        },
        {
          "data": {
            "text/html": [
              " View project at <a href='https://wandb.ai/shashwat_mm19b053/Assignment-3' target=\"_blank\">https://wandb.ai/shashwat_mm19b053/Assignment-3</a>"
            ],
            "text/plain": [
              "<IPython.core.display.HTML object>"
            ]
          },
          "metadata": {},
          "output_type": "display_data"
        },
        {
          "data": {
            "text/html": [
              " View sweep at <a href='https://wandb.ai/shashwat_mm19b053/Assignment-3/sweeps/nye2llmh' target=\"_blank\">https://wandb.ai/shashwat_mm19b053/Assignment-3/sweeps/nye2llmh</a>"
            ],
            "text/plain": [
              "<IPython.core.display.HTML object>"
            ]
          },
          "metadata": {},
          "output_type": "display_data"
        },
        {
          "data": {
            "text/html": [
              " View run at <a href='https://wandb.ai/shashwat_mm19b053/Assignment-3/runs/2x12hy0r' target=\"_blank\">https://wandb.ai/shashwat_mm19b053/Assignment-3/runs/2x12hy0r</a>"
            ],
            "text/plain": [
              "<IPython.core.display.HTML object>"
            ]
          },
          "metadata": {},
          "output_type": "display_data"
        },
        {
          "metadata": {
            "tags": null
          },
          "name": "stdout",
          "output_type": "stream",
          "text": [
            "cell_RNN_hunit_256_embed_dim_128_lr_0.001_ep_10_dropout_0_bs32\n",
            "Epoch: 1 \tTraining Loss: 1.159396 \tValidation Loss: 1.192392 \tTraining Accuracy: 0.635151 \tValidation Accuracy: 0.667513\n",
            "Epoch: 2 \tTraining Loss: 0.769995 \tValidation Loss: 1.059654 \tTraining Accuracy: 0.748981 \tValidation Accuracy: 0.713198\n",
            "Epoch: 3 \tTraining Loss: 0.689375 \tValidation Loss: 1.058416 \tTraining Accuracy: 0.775897 \tValidation Accuracy: 0.681472\n",
            "Epoch: 4 \tTraining Loss: 0.657787 \tValidation Loss: 1.041740 \tTraining Accuracy: 0.777089 \tValidation Accuracy: 0.729695\n",
            "Epoch: 5 \tTraining Loss: 0.625580 \tValidation Loss: 1.072648 \tTraining Accuracy: 0.783225 \tValidation Accuracy: 0.695431\n",
            "Epoch: 6 \tTraining Loss: 0.612415 \tValidation Loss: 1.029572 \tTraining Accuracy: 0.802425 \tValidation Accuracy: 0.723350\n",
            "Epoch: 7 \tTraining Loss: 0.606474 \tValidation Loss: 1.061513 \tTraining Accuracy: 0.812762 \tValidation Accuracy: 0.691624\n",
            "Epoch: 8 \tTraining Loss: 0.584890 \tValidation Loss: 1.035017 \tTraining Accuracy: 0.814088 \tValidation Accuracy: 0.689086\n",
            "Epoch: 9 \tTraining Loss: 0.577858 \tValidation Loss: 1.046012 \tTraining Accuracy: 0.808182 \tValidation Accuracy: 0.714467\n",
            "Epoch: 10 \tTraining Loss: 0.580044 \tValidation Loss: 1.044592 \tTraining Accuracy: 0.813130 \tValidation Accuracy: 0.708122\n"
          ]
        },
        {
          "data": {
            "text/html": [
              "Waiting for W&B process to finish... <strong style=\"color:green\">(success).</strong>"
            ],
            "text/plain": [
              "<IPython.core.display.HTML object>"
            ]
          },
          "metadata": {},
          "output_type": "display_data"
        },
        {
          "data": {
            "application/vnd.jupyter.widget-view+json": {
              "model_id": "48140631cf744bc99ec1a3ed49e2a134",
              "version_major": 2,
              "version_minor": 0
            },
            "text/plain": [
              "VBox(children=(Label(value='0.001 MB of 0.001 MB uploaded (0.000 MB deduped)\\r'), FloatProgress(value=1.0, max…"
            ]
          },
          "metadata": {},
          "output_type": "display_data"
        },
        {
          "data": {
            "text/html": [
              "<style>\n",
              "    table.wandb td:nth-child(1) { padding: 0 10px; text-align: left ; width: auto;} td:nth-child(2) {text-align: left ; width: 100%}\n",
              "    .wandb-row { display: flex; flex-direction: row; flex-wrap: wrap; justify-content: flex-start; width: 100% }\n",
              "    .wandb-col { display: flex; flex-direction: column; flex-basis: 100%; flex: 1; padding: 10px; }\n",
              "    </style>\n",
              "<div class=\"wandb-row\"><div class=\"wandb-col\"><h3>Run history:</h3><br/><table class=\"wandb\"><tr><td>Epoch</td><td>▁▂▃▃▄▅▆▆▇█</td></tr><tr><td>training_acc</td><td>▁▅▇▇▇█████</td></tr><tr><td>training_loss</td><td>█▃▂▂▂▁▁▁▁▁</td></tr><tr><td>validation_accuracy</td><td>▁▆▃█▄▇▄▃▆▆</td></tr><tr><td>validation_loss</td><td>█▂▂▂▃▁▂▁▂▂</td></tr></table><br/></div><div class=\"wandb-col\"><h3>Run summary:</h3><br/><table class=\"wandb\"><tr><td>Epoch</td><td>10</td></tr><tr><td>training_acc</td><td>0.81313</td></tr><tr><td>training_loss</td><td>0.58004</td></tr><tr><td>validation_accuracy</td><td>0.70812</td></tr><tr><td>validation_loss</td><td>1.04459</td></tr></table><br/></div></div>"
            ],
            "text/plain": [
              "<IPython.core.display.HTML object>"
            ]
          },
          "metadata": {},
          "output_type": "display_data"
        },
        {
          "data": {
            "text/html": [
              " View run <strong style=\"color:#cdcd00\">neat-sweep-3</strong> at: <a href='https://wandb.ai/shashwat_mm19b053/Assignment-3/runs/2x12hy0r' target=\"_blank\">https://wandb.ai/shashwat_mm19b053/Assignment-3/runs/2x12hy0r</a><br/>Synced 5 W&B file(s), 0 media file(s), 0 artifact file(s) and 0 other file(s)"
            ],
            "text/plain": [
              "<IPython.core.display.HTML object>"
            ]
          },
          "metadata": {},
          "output_type": "display_data"
        },
        {
          "data": {
            "text/html": [
              "Find logs at: <code>./wandb/run-20230506_195034-2x12hy0r/logs</code>"
            ],
            "text/plain": [
              "<IPython.core.display.HTML object>"
            ]
          },
          "metadata": {},
          "output_type": "display_data"
        },
        {
          "metadata": {
            "tags": null
          },
          "name": "stderr",
          "output_type": "stream",
          "text": [
            "\u001b[34m\u001b[1mwandb\u001b[0m: Sweep Agent: Waiting for job.\n",
            "\u001b[34m\u001b[1mwandb\u001b[0m: Job received.\n",
            "\u001b[34m\u001b[1mwandb\u001b[0m: Agent Starting Run: cfv7qao0 with config:\n",
            "\u001b[34m\u001b[1mwandb\u001b[0m: \tbatch_size: 32\n",
            "\u001b[34m\u001b[1mwandb\u001b[0m: \tcell: RNN\n",
            "\u001b[34m\u001b[1mwandb\u001b[0m: \tdropout: 0.1\n",
            "\u001b[34m\u001b[1mwandb\u001b[0m: \tembed_dim: 256\n",
            "\u001b[34m\u001b[1mwandb\u001b[0m: \tepochs: 15\n",
            "\u001b[34m\u001b[1mwandb\u001b[0m: \thidden_units: 512\n",
            "\u001b[34m\u001b[1mwandb\u001b[0m: \tlr: 0.001\n"
          ]
        },
        {
          "data": {
            "text/html": [
              "Tracking run with wandb version 0.15.2"
            ],
            "text/plain": [
              "<IPython.core.display.HTML object>"
            ]
          },
          "metadata": {},
          "output_type": "display_data"
        },
        {
          "data": {
            "text/html": [
              "Run data is saved locally in <code>/content/wandb/run-20230506_200342-cfv7qao0</code>"
            ],
            "text/plain": [
              "<IPython.core.display.HTML object>"
            ]
          },
          "metadata": {},
          "output_type": "display_data"
        },
        {
          "data": {
            "text/html": [
              "Syncing run <strong><a href='https://wandb.ai/shashwat_mm19b053/Assignment-3/runs/cfv7qao0' target=\"_blank\">dashing-sweep-4</a></strong> to <a href='https://wandb.ai/shashwat_mm19b053/Assignment-3' target=\"_blank\">Weights & Biases</a> (<a href='https://wandb.me/run' target=\"_blank\">docs</a>)<br/>Sweep page: <a href='https://wandb.ai/shashwat_mm19b053/Assignment-3/sweeps/nye2llmh' target=\"_blank\">https://wandb.ai/shashwat_mm19b053/Assignment-3/sweeps/nye2llmh</a>"
            ],
            "text/plain": [
              "<IPython.core.display.HTML object>"
            ]
          },
          "metadata": {},
          "output_type": "display_data"
        },
        {
          "data": {
            "text/html": [
              " View project at <a href='https://wandb.ai/shashwat_mm19b053/Assignment-3' target=\"_blank\">https://wandb.ai/shashwat_mm19b053/Assignment-3</a>"
            ],
            "text/plain": [
              "<IPython.core.display.HTML object>"
            ]
          },
          "metadata": {},
          "output_type": "display_data"
        },
        {
          "data": {
            "text/html": [
              " View sweep at <a href='https://wandb.ai/shashwat_mm19b053/Assignment-3/sweeps/nye2llmh' target=\"_blank\">https://wandb.ai/shashwat_mm19b053/Assignment-3/sweeps/nye2llmh</a>"
            ],
            "text/plain": [
              "<IPython.core.display.HTML object>"
            ]
          },
          "metadata": {},
          "output_type": "display_data"
        },
        {
          "data": {
            "text/html": [
              " View run at <a href='https://wandb.ai/shashwat_mm19b053/Assignment-3/runs/cfv7qao0' target=\"_blank\">https://wandb.ai/shashwat_mm19b053/Assignment-3/runs/cfv7qao0</a>"
            ],
            "text/plain": [
              "<IPython.core.display.HTML object>"
            ]
          },
          "metadata": {},
          "output_type": "display_data"
        },
        {
          "metadata": {
            "tags": null
          },
          "name": "stdout",
          "output_type": "stream",
          "text": [
            "cell_RNN_hunit_512_embed_dim_256_lr_0.001_ep_15_dropout_0.1_bs32\n"
          ]
        },
        {
          "metadata": {
            "tags": null
          },
          "name": "stderr",
          "output_type": "stream",
          "text": [
            "/usr/local/lib/python3.10/dist-packages/torch/nn/modules/rnn.py:71: UserWarning: dropout option adds dropout after all but last recurrent layer, so non-zero dropout expects num_layers greater than 1, but got dropout=0.1 and num_layers=1\n",
            "  warnings.warn(\"dropout option adds dropout after all but last \"\n"
          ]
        },
        {
          "metadata": {
            "tags": null
          },
          "name": "stdout",
          "output_type": "stream",
          "text": [
            "Epoch: 1 \tTraining Loss: 1.085853 \tValidation Loss: 1.209003 \tTraining Accuracy: 0.651379 \tValidation Accuracy: 0.651015\n",
            "Epoch: 2 \tTraining Loss: 0.778472 \tValidation Loss: 1.133378 \tTraining Accuracy: 0.750140 \tValidation Accuracy: 0.675127\n",
            "Epoch: 3 \tTraining Loss: 0.727403 \tValidation Loss: 1.090561 \tTraining Accuracy: 0.756282 \tValidation Accuracy: 0.690355\n",
            "Epoch: 4 \tTraining Loss: 0.711665 \tValidation Loss: 1.104696 \tTraining Accuracy: 0.766603 \tValidation Accuracy: 0.690355\n",
            "Epoch: 5 \tTraining Loss: 0.697669 \tValidation Loss: 1.120637 \tTraining Accuracy: 0.781491 \tValidation Accuracy: 0.662437\n",
            "Epoch: 6 \tTraining Loss: 0.687441 \tValidation Loss: 1.148506 \tTraining Accuracy: 0.767253 \tValidation Accuracy: 0.695431\n",
            "Epoch: 7 \tTraining Loss: 0.691973 \tValidation Loss: 1.096767 \tTraining Accuracy: 0.778045 \tValidation Accuracy: 0.756345\n",
            "Epoch: 8 \tTraining Loss: 0.672457 \tValidation Loss: 1.060966 \tTraining Accuracy: 0.781255 \tValidation Accuracy: 0.728426\n",
            "Epoch: 9 \tTraining Loss: 0.680394 \tValidation Loss: 1.087704 \tTraining Accuracy: 0.769596 \tValidation Accuracy: 0.703046\n",
            "Epoch: 10 \tTraining Loss: 0.689532 \tValidation Loss: 1.167101 \tTraining Accuracy: 0.772152 \tValidation Accuracy: 0.678934\n",
            "Epoch: 11 \tTraining Loss: 0.689955 \tValidation Loss: 1.153133 \tTraining Accuracy: 0.772034 \tValidation Accuracy: 0.694162\n",
            "Epoch: 12 \tTraining Loss: 0.709547 \tValidation Loss: 1.183546 \tTraining Accuracy: 0.765880 \tValidation Accuracy: 0.664975\n",
            "Epoch: 13 \tTraining Loss: 0.697957 \tValidation Loss: 1.121111 \tTraining Accuracy: 0.766592 \tValidation Accuracy: 0.684010\n",
            "Epoch: 14 \tTraining Loss: 0.698719 \tValidation Loss: 1.123108 \tTraining Accuracy: 0.767052 \tValidation Accuracy: 0.654822\n",
            "Epoch: 15 \tTraining Loss: 0.711451 \tValidation Loss: 1.175058 \tTraining Accuracy: 0.765549 \tValidation Accuracy: 0.635787\n"
          ]
        },
        {
          "data": {
            "text/html": [
              "Waiting for W&B process to finish... <strong style=\"color:green\">(success).</strong>"
            ],
            "text/plain": [
              "<IPython.core.display.HTML object>"
            ]
          },
          "metadata": {},
          "output_type": "display_data"
        },
        {
          "data": {
            "text/html": [
              "<style>\n",
              "    table.wandb td:nth-child(1) { padding: 0 10px; text-align: left ; width: auto;} td:nth-child(2) {text-align: left ; width: 100%}\n",
              "    .wandb-row { display: flex; flex-direction: row; flex-wrap: wrap; justify-content: flex-start; width: 100% }\n",
              "    .wandb-col { display: flex; flex-direction: column; flex-basis: 100%; flex: 1; padding: 10px; }\n",
              "    </style>\n",
              "<div class=\"wandb-row\"><div class=\"wandb-col\"><h3>Run history:</h3><br/><table class=\"wandb\"><tr><td>Epoch</td><td>▁▁▂▃▃▃▄▅▅▅▆▇▇▇█</td></tr><tr><td>training_acc</td><td>▁▆▇▇█▇██▇▇▇▇▇▇▇</td></tr><tr><td>training_loss</td><td>█▃▂▂▁▁▁▁▁▁▁▂▁▁▂</td></tr><tr><td>validation_accuracy</td><td>▂▃▄▄▃▄█▆▅▄▄▃▄▂▁</td></tr><tr><td>validation_loss</td><td>█▄▂▃▄▅▃▁▂▆▅▇▄▄▆</td></tr></table><br/></div><div class=\"wandb-col\"><h3>Run summary:</h3><br/><table class=\"wandb\"><tr><td>Epoch</td><td>15</td></tr><tr><td>training_acc</td><td>0.76555</td></tr><tr><td>training_loss</td><td>0.71145</td></tr><tr><td>validation_accuracy</td><td>0.63579</td></tr><tr><td>validation_loss</td><td>1.17506</td></tr></table><br/></div></div>"
            ],
            "text/plain": [
              "<IPython.core.display.HTML object>"
            ]
          },
          "metadata": {},
          "output_type": "display_data"
        },
        {
          "data": {
            "text/html": [
              " View run <strong style=\"color:#cdcd00\">dashing-sweep-4</strong> at: <a href='https://wandb.ai/shashwat_mm19b053/Assignment-3/runs/cfv7qao0' target=\"_blank\">https://wandb.ai/shashwat_mm19b053/Assignment-3/runs/cfv7qao0</a><br/>Synced 5 W&B file(s), 0 media file(s), 0 artifact file(s) and 0 other file(s)"
            ],
            "text/plain": [
              "<IPython.core.display.HTML object>"
            ]
          },
          "metadata": {},
          "output_type": "display_data"
        },
        {
          "data": {
            "text/html": [
              "Find logs at: <code>./wandb/run-20230506_200342-cfv7qao0/logs</code>"
            ],
            "text/plain": [
              "<IPython.core.display.HTML object>"
            ]
          },
          "metadata": {},
          "output_type": "display_data"
        },
        {
          "metadata": {
            "tags": null
          },
          "name": "stderr",
          "output_type": "stream",
          "text": [
            "\u001b[34m\u001b[1mwandb\u001b[0m: Agent Starting Run: 8y43r72b with config:\n",
            "\u001b[34m\u001b[1mwandb\u001b[0m: \tbatch_size: 32\n",
            "\u001b[34m\u001b[1mwandb\u001b[0m: \tcell: RNN\n",
            "\u001b[34m\u001b[1mwandb\u001b[0m: \tdropout: 0\n",
            "\u001b[34m\u001b[1mwandb\u001b[0m: \tembed_dim: 256\n",
            "\u001b[34m\u001b[1mwandb\u001b[0m: \tepochs: 15\n",
            "\u001b[34m\u001b[1mwandb\u001b[0m: \thidden_units: 512\n",
            "\u001b[34m\u001b[1mwandb\u001b[0m: \tlr: 0.001\n"
          ]
        },
        {
          "data": {
            "text/html": [
              "Tracking run with wandb version 0.15.2"
            ],
            "text/plain": [
              "<IPython.core.display.HTML object>"
            ]
          },
          "metadata": {},
          "output_type": "display_data"
        },
        {
          "data": {
            "text/html": [
              "Run data is saved locally in <code>/content/wandb/run-20230506_202544-8y43r72b</code>"
            ],
            "text/plain": [
              "<IPython.core.display.HTML object>"
            ]
          },
          "metadata": {},
          "output_type": "display_data"
        },
        {
          "data": {
            "text/html": [
              "Syncing run <strong><a href='https://wandb.ai/shashwat_mm19b053/Assignment-3/runs/8y43r72b' target=\"_blank\">cerulean-sweep-5</a></strong> to <a href='https://wandb.ai/shashwat_mm19b053/Assignment-3' target=\"_blank\">Weights & Biases</a> (<a href='https://wandb.me/run' target=\"_blank\">docs</a>)<br/>Sweep page: <a href='https://wandb.ai/shashwat_mm19b053/Assignment-3/sweeps/nye2llmh' target=\"_blank\">https://wandb.ai/shashwat_mm19b053/Assignment-3/sweeps/nye2llmh</a>"
            ],
            "text/plain": [
              "<IPython.core.display.HTML object>"
            ]
          },
          "metadata": {},
          "output_type": "display_data"
        },
        {
          "data": {
            "text/html": [
              " View project at <a href='https://wandb.ai/shashwat_mm19b053/Assignment-3' target=\"_blank\">https://wandb.ai/shashwat_mm19b053/Assignment-3</a>"
            ],
            "text/plain": [
              "<IPython.core.display.HTML object>"
            ]
          },
          "metadata": {},
          "output_type": "display_data"
        },
        {
          "data": {
            "text/html": [
              " View sweep at <a href='https://wandb.ai/shashwat_mm19b053/Assignment-3/sweeps/nye2llmh' target=\"_blank\">https://wandb.ai/shashwat_mm19b053/Assignment-3/sweeps/nye2llmh</a>"
            ],
            "text/plain": [
              "<IPython.core.display.HTML object>"
            ]
          },
          "metadata": {},
          "output_type": "display_data"
        },
        {
          "data": {
            "text/html": [
              " View run at <a href='https://wandb.ai/shashwat_mm19b053/Assignment-3/runs/8y43r72b' target=\"_blank\">https://wandb.ai/shashwat_mm19b053/Assignment-3/runs/8y43r72b</a>"
            ],
            "text/plain": [
              "<IPython.core.display.HTML object>"
            ]
          },
          "metadata": {},
          "output_type": "display_data"
        },
        {
          "metadata": {
            "tags": null
          },
          "name": "stdout",
          "output_type": "stream",
          "text": [
            "cell_RNN_hunit_512_embed_dim_256_lr_0.001_ep_15_dropout_0_bs32\n",
            "Epoch: 1 \tTraining Loss: 1.089634 \tValidation Loss: 1.150008 \tTraining Accuracy: 0.655247 \tValidation Accuracy: 0.591371\n",
            "Epoch: 2 \tTraining Loss: 0.769355 \tValidation Loss: 1.094702 \tTraining Accuracy: 0.738817 \tValidation Accuracy: 0.668782\n",
            "Epoch: 3 \tTraining Loss: 0.726662 \tValidation Loss: 1.062026 \tTraining Accuracy: 0.760340 \tValidation Accuracy: 0.671320\n",
            "Epoch: 4 \tTraining Loss: 0.708856 \tValidation Loss: 1.071072 \tTraining Accuracy: 0.772679 \tValidation Accuracy: 0.680203\n",
            "Epoch: 5 \tTraining Loss: 0.690585 \tValidation Loss: 1.119305 \tTraining Accuracy: 0.774413 \tValidation Accuracy: 0.671320\n",
            "Epoch: 6 \tTraining Loss: 0.702950 \tValidation Loss: 1.116616 \tTraining Accuracy: 0.778033 \tValidation Accuracy: 0.677665\n",
            "Epoch: 7 \tTraining Loss: 0.698444 \tValidation Loss: 1.147791 \tTraining Accuracy: 0.761585 \tValidation Accuracy: 0.684010\n",
            "Epoch: 8 \tTraining Loss: 0.697095 \tValidation Loss: 1.142305 \tTraining Accuracy: 0.766846 \tValidation Accuracy: 0.695431\n",
            "Epoch: 9 \tTraining Loss: 0.680715 \tValidation Loss: 1.120822 \tTraining Accuracy: 0.772735 \tValidation Accuracy: 0.684010\n",
            "Epoch: 10 \tTraining Loss: 0.699199 \tValidation Loss: 1.114783 \tTraining Accuracy: 0.770780 \tValidation Accuracy: 0.680203\n",
            "Epoch: 11 \tTraining Loss: 0.697024 \tValidation Loss: 1.118759 \tTraining Accuracy: 0.762394 \tValidation Accuracy: 0.670051\n",
            "Epoch: 12 \tTraining Loss: 0.694288 \tValidation Loss: 1.120914 \tTraining Accuracy: 0.776969 \tValidation Accuracy: 0.689086\n",
            "Epoch: 13 \tTraining Loss: 0.713879 \tValidation Loss: 1.133419 \tTraining Accuracy: 0.771001 \tValidation Accuracy: 0.662437\n",
            "Epoch: 14 \tTraining Loss: 0.721533 \tValidation Loss: 1.138218 \tTraining Accuracy: 0.752705 \tValidation Accuracy: 0.671320\n",
            "Epoch: 15 \tTraining Loss: 0.733518 \tValidation Loss: 1.106458 \tTraining Accuracy: 0.760211 \tValidation Accuracy: 0.704315\n"
          ]
        },
        {
          "data": {
            "text/html": [
              "Waiting for W&B process to finish... <strong style=\"color:green\">(success).</strong>"
            ],
            "text/plain": [
              "<IPython.core.display.HTML object>"
            ]
          },
          "metadata": {},
          "output_type": "display_data"
        },
        {
          "data": {
            "application/vnd.jupyter.widget-view+json": {
              "model_id": "0f49a4b08a8644ffaecb3810d7440364",
              "version_major": 2,
              "version_minor": 0
            },
            "text/plain": [
              "VBox(children=(Label(value='0.001 MB of 0.001 MB uploaded (0.000 MB deduped)\\r'), FloatProgress(value=1.0, max…"
            ]
          },
          "metadata": {},
          "output_type": "display_data"
        },
        {
          "data": {
            "text/html": [
              "<style>\n",
              "    table.wandb td:nth-child(1) { padding: 0 10px; text-align: left ; width: auto;} td:nth-child(2) {text-align: left ; width: 100%}\n",
              "    .wandb-row { display: flex; flex-direction: row; flex-wrap: wrap; justify-content: flex-start; width: 100% }\n",
              "    .wandb-col { display: flex; flex-direction: column; flex-basis: 100%; flex: 1; padding: 10px; }\n",
              "    </style>\n",
              "<div class=\"wandb-row\"><div class=\"wandb-col\"><h3>Run history:</h3><br/><table class=\"wandb\"><tr><td>Epoch</td><td>▁▁▂▃▃▃▄▅▅▅▆▇▇▇█</td></tr><tr><td>training_acc</td><td>▁▆▇███▇▇██▇██▇▇</td></tr><tr><td>training_loss</td><td>█▃▂▁▁▁▁▁▁▁▁▁▂▂▂</td></tr><tr><td>validation_accuracy</td><td>▁▆▆▇▆▆▇▇▇▇▆▇▅▆█</td></tr><tr><td>validation_loss</td><td>█▄▁▂▆▅█▇▆▅▆▆▇▇▅</td></tr></table><br/></div><div class=\"wandb-col\"><h3>Run summary:</h3><br/><table class=\"wandb\"><tr><td>Epoch</td><td>15</td></tr><tr><td>training_acc</td><td>0.76021</td></tr><tr><td>training_loss</td><td>0.73352</td></tr><tr><td>validation_accuracy</td><td>0.70431</td></tr><tr><td>validation_loss</td><td>1.10646</td></tr></table><br/></div></div>"
            ],
            "text/plain": [
              "<IPython.core.display.HTML object>"
            ]
          },
          "metadata": {},
          "output_type": "display_data"
        },
        {
          "data": {
            "text/html": [
              " View run <strong style=\"color:#cdcd00\">cerulean-sweep-5</strong> at: <a href='https://wandb.ai/shashwat_mm19b053/Assignment-3/runs/8y43r72b' target=\"_blank\">https://wandb.ai/shashwat_mm19b053/Assignment-3/runs/8y43r72b</a><br/>Synced 5 W&B file(s), 0 media file(s), 0 artifact file(s) and 0 other file(s)"
            ],
            "text/plain": [
              "<IPython.core.display.HTML object>"
            ]
          },
          "metadata": {},
          "output_type": "display_data"
        },
        {
          "data": {
            "text/html": [
              "Find logs at: <code>./wandb/run-20230506_202544-8y43r72b/logs</code>"
            ],
            "text/plain": [
              "<IPython.core.display.HTML object>"
            ]
          },
          "metadata": {},
          "output_type": "display_data"
        },
        {
          "metadata": {
            "tags": null
          },
          "name": "stderr",
          "output_type": "stream",
          "text": [
            "\u001b[34m\u001b[1mwandb\u001b[0m: Agent Starting Run: q5c50vab with config:\n",
            "\u001b[34m\u001b[1mwandb\u001b[0m: \tbatch_size: 32\n",
            "\u001b[34m\u001b[1mwandb\u001b[0m: \tcell: RNN\n",
            "\u001b[34m\u001b[1mwandb\u001b[0m: \tdropout: 0\n",
            "\u001b[34m\u001b[1mwandb\u001b[0m: \tembed_dim: 512\n",
            "\u001b[34m\u001b[1mwandb\u001b[0m: \tepochs: 15\n",
            "\u001b[34m\u001b[1mwandb\u001b[0m: \thidden_units: 256\n",
            "\u001b[34m\u001b[1mwandb\u001b[0m: \tlr: 0.001\n"
          ]
        },
        {
          "data": {
            "text/html": [
              "Tracking run with wandb version 0.15.2"
            ],
            "text/plain": [
              "<IPython.core.display.HTML object>"
            ]
          },
          "metadata": {},
          "output_type": "display_data"
        },
        {
          "data": {
            "text/html": [
              "Run data is saved locally in <code>/content/wandb/run-20230506_204717-q5c50vab</code>"
            ],
            "text/plain": [
              "<IPython.core.display.HTML object>"
            ]
          },
          "metadata": {},
          "output_type": "display_data"
        },
        {
          "data": {
            "text/html": [
              "Syncing run <strong><a href='https://wandb.ai/shashwat_mm19b053/Assignment-3/runs/q5c50vab' target=\"_blank\">dazzling-sweep-6</a></strong> to <a href='https://wandb.ai/shashwat_mm19b053/Assignment-3' target=\"_blank\">Weights & Biases</a> (<a href='https://wandb.me/run' target=\"_blank\">docs</a>)<br/>Sweep page: <a href='https://wandb.ai/shashwat_mm19b053/Assignment-3/sweeps/nye2llmh' target=\"_blank\">https://wandb.ai/shashwat_mm19b053/Assignment-3/sweeps/nye2llmh</a>"
            ],
            "text/plain": [
              "<IPython.core.display.HTML object>"
            ]
          },
          "metadata": {},
          "output_type": "display_data"
        },
        {
          "data": {
            "text/html": [
              " View project at <a href='https://wandb.ai/shashwat_mm19b053/Assignment-3' target=\"_blank\">https://wandb.ai/shashwat_mm19b053/Assignment-3</a>"
            ],
            "text/plain": [
              "<IPython.core.display.HTML object>"
            ]
          },
          "metadata": {},
          "output_type": "display_data"
        },
        {
          "data": {
            "text/html": [
              " View sweep at <a href='https://wandb.ai/shashwat_mm19b053/Assignment-3/sweeps/nye2llmh' target=\"_blank\">https://wandb.ai/shashwat_mm19b053/Assignment-3/sweeps/nye2llmh</a>"
            ],
            "text/plain": [
              "<IPython.core.display.HTML object>"
            ]
          },
          "metadata": {},
          "output_type": "display_data"
        },
        {
          "data": {
            "text/html": [
              " View run at <a href='https://wandb.ai/shashwat_mm19b053/Assignment-3/runs/q5c50vab' target=\"_blank\">https://wandb.ai/shashwat_mm19b053/Assignment-3/runs/q5c50vab</a>"
            ],
            "text/plain": [
              "<IPython.core.display.HTML object>"
            ]
          },
          "metadata": {},
          "output_type": "display_data"
        },
        {
          "metadata": {
            "tags": null
          },
          "name": "stdout",
          "output_type": "stream",
          "text": [
            "cell_RNN_hunit_256_embed_dim_512_lr_0.001_ep_15_dropout_0_bs32\n",
            "Epoch: 1 \tTraining Loss: 1.191598 \tValidation Loss: 1.249224 \tTraining Accuracy: 0.628246 \tValidation Accuracy: 0.634518\n",
            "Epoch: 2 \tTraining Loss: 0.886219 \tValidation Loss: 1.198199 \tTraining Accuracy: 0.718081 \tValidation Accuracy: 0.652284\n",
            "Epoch: 3 \tTraining Loss: 0.783658 \tValidation Loss: 1.137431 \tTraining Accuracy: 0.750479 \tValidation Accuracy: 0.656091\n",
            "Epoch: 4 \tTraining Loss: 0.757632 \tValidation Loss: 1.147533 \tTraining Accuracy: 0.755400 \tValidation Accuracy: 0.659898\n",
            "Epoch: 5 \tTraining Loss: 0.742554 \tValidation Loss: 1.165519 \tTraining Accuracy: 0.759322 \tValidation Accuracy: 0.663706\n",
            "Epoch: 6 \tTraining Loss: 0.732595 \tValidation Loss: 1.123817 \tTraining Accuracy: 0.760126 \tValidation Accuracy: 0.668782\n",
            "Epoch: 7 \tTraining Loss: 0.713113 \tValidation Loss: 1.110561 \tTraining Accuracy: 0.760466 \tValidation Accuracy: 0.694162\n",
            "Epoch: 8 \tTraining Loss: 0.701023 \tValidation Loss: 1.134052 \tTraining Accuracy: 0.772625 \tValidation Accuracy: 0.681472\n",
            "Epoch: 9 \tTraining Loss: 0.719673 \tValidation Loss: 1.107179 \tTraining Accuracy: 0.766570 \tValidation Accuracy: 0.684010\n",
            "Epoch: 10 \tTraining Loss: 0.701394 \tValidation Loss: 1.118844 \tTraining Accuracy: 0.768516 \tValidation Accuracy: 0.742386\n",
            "Epoch: 11 \tTraining Loss: 0.723700 \tValidation Loss: 1.142971 \tTraining Accuracy: 0.773429 \tValidation Accuracy: 0.677665\n",
            "Epoch: 12 \tTraining Loss: 0.718006 \tValidation Loss: 1.119392 \tTraining Accuracy: 0.761142 \tValidation Accuracy: 0.718274\n",
            "Epoch: 13 \tTraining Loss: 0.705741 \tValidation Loss: 1.124392 \tTraining Accuracy: 0.766214 \tValidation Accuracy: 0.663706\n",
            "Epoch: 14 \tTraining Loss: 0.698448 \tValidation Loss: 1.127829 \tTraining Accuracy: 0.764795 \tValidation Accuracy: 0.689086\n",
            "Epoch: 15 \tTraining Loss: 0.699622 \tValidation Loss: 1.114661 \tTraining Accuracy: 0.762877 \tValidation Accuracy: 0.714467\n"
          ]
        },
        {
          "data": {
            "text/html": [
              "Waiting for W&B process to finish... <strong style=\"color:green\">(success).</strong>"
            ],
            "text/plain": [
              "<IPython.core.display.HTML object>"
            ]
          },
          "metadata": {},
          "output_type": "display_data"
        },
        {
          "data": {
            "application/vnd.jupyter.widget-view+json": {
              "model_id": "adf141e3ecda49ee83756f3a6b1b46a3",
              "version_major": 2,
              "version_minor": 0
            },
            "text/plain": [
              "VBox(children=(Label(value='0.001 MB of 0.001 MB uploaded (0.000 MB deduped)\\r'), FloatProgress(value=1.0, max…"
            ]
          },
          "metadata": {},
          "output_type": "display_data"
        },
        {
          "data": {
            "text/html": [
              "<style>\n",
              "    table.wandb td:nth-child(1) { padding: 0 10px; text-align: left ; width: auto;} td:nth-child(2) {text-align: left ; width: 100%}\n",
              "    .wandb-row { display: flex; flex-direction: row; flex-wrap: wrap; justify-content: flex-start; width: 100% }\n",
              "    .wandb-col { display: flex; flex-direction: column; flex-basis: 100%; flex: 1; padding: 10px; }\n",
              "    </style>\n",
              "<div class=\"wandb-row\"><div class=\"wandb-col\"><h3>Run history:</h3><br/><table class=\"wandb\"><tr><td>Epoch</td><td>▁▁▂▃▃▃▄▅▅▅▆▇▇▇█</td></tr><tr><td>training_acc</td><td>▁▅▇▇▇▇▇████▇██▇</td></tr><tr><td>training_loss</td><td>█▄▂▂▂▁▁▁▁▁▁▁▁▁▁</td></tr><tr><td>validation_accuracy</td><td>▁▂▂▃▃▃▅▄▄█▄▆▃▅▆</td></tr><tr><td>validation_loss</td><td>█▅▂▃▄▂▁▂▁▂▃▂▂▂▁</td></tr></table><br/></div><div class=\"wandb-col\"><h3>Run summary:</h3><br/><table class=\"wandb\"><tr><td>Epoch</td><td>15</td></tr><tr><td>training_acc</td><td>0.76288</td></tr><tr><td>training_loss</td><td>0.69962</td></tr><tr><td>validation_accuracy</td><td>0.71447</td></tr><tr><td>validation_loss</td><td>1.11466</td></tr></table><br/></div></div>"
            ],
            "text/plain": [
              "<IPython.core.display.HTML object>"
            ]
          },
          "metadata": {},
          "output_type": "display_data"
        },
        {
          "data": {
            "text/html": [
              " View run <strong style=\"color:#cdcd00\">dazzling-sweep-6</strong> at: <a href='https://wandb.ai/shashwat_mm19b053/Assignment-3/runs/q5c50vab' target=\"_blank\">https://wandb.ai/shashwat_mm19b053/Assignment-3/runs/q5c50vab</a><br/>Synced 5 W&B file(s), 0 media file(s), 0 artifact file(s) and 0 other file(s)"
            ],
            "text/plain": [
              "<IPython.core.display.HTML object>"
            ]
          },
          "metadata": {},
          "output_type": "display_data"
        },
        {
          "data": {
            "text/html": [
              "Find logs at: <code>./wandb/run-20230506_204717-q5c50vab/logs</code>"
            ],
            "text/plain": [
              "<IPython.core.display.HTML object>"
            ]
          },
          "metadata": {},
          "output_type": "display_data"
        },
        {
          "metadata": {
            "tags": null
          },
          "name": "stderr",
          "output_type": "stream",
          "text": [
            "\u001b[34m\u001b[1mwandb\u001b[0m: Agent Starting Run: u2cx84lo with config:\n",
            "\u001b[34m\u001b[1mwandb\u001b[0m: \tbatch_size: 64\n",
            "\u001b[34m\u001b[1mwandb\u001b[0m: \tcell: RNN\n",
            "\u001b[34m\u001b[1mwandb\u001b[0m: \tdropout: 0\n",
            "\u001b[34m\u001b[1mwandb\u001b[0m: \tembed_dim: 256\n",
            "\u001b[34m\u001b[1mwandb\u001b[0m: \tepochs: 15\n",
            "\u001b[34m\u001b[1mwandb\u001b[0m: \thidden_units: 512\n",
            "\u001b[34m\u001b[1mwandb\u001b[0m: \tlr: 0.001\n"
          ]
        },
        {
          "data": {
            "text/html": [
              "Tracking run with wandb version 0.15.2"
            ],
            "text/plain": [
              "<IPython.core.display.HTML object>"
            ]
          },
          "metadata": {},
          "output_type": "display_data"
        },
        {
          "data": {
            "text/html": [
              "Run data is saved locally in <code>/content/wandb/run-20230506_210631-u2cx84lo</code>"
            ],
            "text/plain": [
              "<IPython.core.display.HTML object>"
            ]
          },
          "metadata": {},
          "output_type": "display_data"
        },
        {
          "data": {
            "text/html": [
              "Syncing run <strong><a href='https://wandb.ai/shashwat_mm19b053/Assignment-3/runs/u2cx84lo' target=\"_blank\">solar-sweep-7</a></strong> to <a href='https://wandb.ai/shashwat_mm19b053/Assignment-3' target=\"_blank\">Weights & Biases</a> (<a href='https://wandb.me/run' target=\"_blank\">docs</a>)<br/>Sweep page: <a href='https://wandb.ai/shashwat_mm19b053/Assignment-3/sweeps/nye2llmh' target=\"_blank\">https://wandb.ai/shashwat_mm19b053/Assignment-3/sweeps/nye2llmh</a>"
            ],
            "text/plain": [
              "<IPython.core.display.HTML object>"
            ]
          },
          "metadata": {},
          "output_type": "display_data"
        },
        {
          "data": {
            "text/html": [
              " View project at <a href='https://wandb.ai/shashwat_mm19b053/Assignment-3' target=\"_blank\">https://wandb.ai/shashwat_mm19b053/Assignment-3</a>"
            ],
            "text/plain": [
              "<IPython.core.display.HTML object>"
            ]
          },
          "metadata": {},
          "output_type": "display_data"
        },
        {
          "data": {
            "text/html": [
              " View sweep at <a href='https://wandb.ai/shashwat_mm19b053/Assignment-3/sweeps/nye2llmh' target=\"_blank\">https://wandb.ai/shashwat_mm19b053/Assignment-3/sweeps/nye2llmh</a>"
            ],
            "text/plain": [
              "<IPython.core.display.HTML object>"
            ]
          },
          "metadata": {},
          "output_type": "display_data"
        },
        {
          "data": {
            "text/html": [
              " View run at <a href='https://wandb.ai/shashwat_mm19b053/Assignment-3/runs/u2cx84lo' target=\"_blank\">https://wandb.ai/shashwat_mm19b053/Assignment-3/runs/u2cx84lo</a>"
            ],
            "text/plain": [
              "<IPython.core.display.HTML object>"
            ]
          },
          "metadata": {},
          "output_type": "display_data"
        },
        {
          "metadata": {
            "tags": null
          },
          "name": "stdout",
          "output_type": "stream",
          "text": [
            "cell_RNN_hunit_512_embed_dim_256_lr_0.001_ep_15_dropout_0_bs64\n",
            "Epoch: 1 \tTraining Loss: 1.107538 \tValidation Loss: 1.149263 \tTraining Accuracy: 0.652313 \tValidation Accuracy: 0.718593\n",
            "Epoch: 2 \tTraining Loss: 0.720075 \tValidation Loss: 1.132108 \tTraining Accuracy: 0.772239 \tValidation Accuracy: 0.721106\n",
            "Epoch: 3 \tTraining Loss: 0.651126 \tValidation Loss: 1.041750 \tTraining Accuracy: 0.780456 \tValidation Accuracy: 0.680905\n",
            "Epoch: 4 \tTraining Loss: 0.604164 \tValidation Loss: 1.030911 \tTraining Accuracy: 0.808273 \tValidation Accuracy: 0.776382\n",
            "Epoch: 5 \tTraining Loss: 0.592190 \tValidation Loss: 1.109498 \tTraining Accuracy: 0.822410 \tValidation Accuracy: 0.685930\n",
            "Epoch: 6 \tTraining Loss: 0.589408 \tValidation Loss: 1.050847 \tTraining Accuracy: 0.798263 \tValidation Accuracy: 0.706030\n",
            "Epoch: 7 \tTraining Loss: 0.570159 \tValidation Loss: 1.052457 \tTraining Accuracy: 0.810028 \tValidation Accuracy: 0.781407\n",
            "Epoch: 8 \tTraining Loss: 0.561748 \tValidation Loss: 1.014906 \tTraining Accuracy: 0.807366 \tValidation Accuracy: 0.768844\n",
            "Epoch: 9 \tTraining Loss: 0.555596 \tValidation Loss: 1.001837 \tTraining Accuracy: 0.812792 \tValidation Accuracy: 0.771357\n",
            "Epoch: 10 \tTraining Loss: 0.539703 \tValidation Loss: 1.023153 \tTraining Accuracy: 0.816960 \tValidation Accuracy: 0.758794\n",
            "Epoch: 11 \tTraining Loss: 0.548413 \tValidation Loss: 1.035788 \tTraining Accuracy: 0.813690 \tValidation Accuracy: 0.761307\n",
            "Epoch: 12 \tTraining Loss: 0.531751 \tValidation Loss: 1.058039 \tTraining Accuracy: 0.833173 \tValidation Accuracy: 0.738693\n",
            "Epoch: 13 \tTraining Loss: 0.559756 \tValidation Loss: 1.038098 \tTraining Accuracy: 0.825268 \tValidation Accuracy: 0.748744\n",
            "Epoch: 14 \tTraining Loss: 0.548491 \tValidation Loss: 1.046276 \tTraining Accuracy: 0.820602 \tValidation Accuracy: 0.748744\n",
            "Epoch: 15 \tTraining Loss: 0.551866 \tValidation Loss: 1.037808 \tTraining Accuracy: 0.822922 \tValidation Accuracy: 0.758794\n"
          ]
        },
        {
          "data": {
            "text/html": [
              "Waiting for W&B process to finish... <strong style=\"color:green\">(success).</strong>"
            ],
            "text/plain": [
              "<IPython.core.display.HTML object>"
            ]
          },
          "metadata": {},
          "output_type": "display_data"
        },
        {
          "data": {
            "text/html": [
              "<style>\n",
              "    table.wandb td:nth-child(1) { padding: 0 10px; text-align: left ; width: auto;} td:nth-child(2) {text-align: left ; width: 100%}\n",
              "    .wandb-row { display: flex; flex-direction: row; flex-wrap: wrap; justify-content: flex-start; width: 100% }\n",
              "    .wandb-col { display: flex; flex-direction: column; flex-basis: 100%; flex: 1; padding: 10px; }\n",
              "    </style>\n",
              "<div class=\"wandb-row\"><div class=\"wandb-col\"><h3>Run history:</h3><br/><table class=\"wandb\"><tr><td>Epoch</td><td>▁▁▂▃▃▃▄▅▅▅▆▇▇▇█</td></tr><tr><td>training_acc</td><td>▁▆▆▇█▇▇▇▇▇▇████</td></tr><tr><td>training_loss</td><td>█▃▂▂▂▂▁▁▁▁▁▁▁▁▁</td></tr><tr><td>validation_accuracy</td><td>▄▄▁█▁▃█▇▇▆▇▅▆▆▆</td></tr><tr><td>validation_loss</td><td>█▇▃▂▆▃▃▂▁▂▃▄▃▃▃</td></tr></table><br/></div><div class=\"wandb-col\"><h3>Run summary:</h3><br/><table class=\"wandb\"><tr><td>Epoch</td><td>15</td></tr><tr><td>training_acc</td><td>0.82292</td></tr><tr><td>training_loss</td><td>0.55187</td></tr><tr><td>validation_accuracy</td><td>0.75879</td></tr><tr><td>validation_loss</td><td>1.03781</td></tr></table><br/></div></div>"
            ],
            "text/plain": [
              "<IPython.core.display.HTML object>"
            ]
          },
          "metadata": {},
          "output_type": "display_data"
        },
        {
          "data": {
            "text/html": [
              " View run <strong style=\"color:#cdcd00\">solar-sweep-7</strong> at: <a href='https://wandb.ai/shashwat_mm19b053/Assignment-3/runs/u2cx84lo' target=\"_blank\">https://wandb.ai/shashwat_mm19b053/Assignment-3/runs/u2cx84lo</a><br/>Synced 5 W&B file(s), 0 media file(s), 0 artifact file(s) and 0 other file(s)"
            ],
            "text/plain": [
              "<IPython.core.display.HTML object>"
            ]
          },
          "metadata": {},
          "output_type": "display_data"
        },
        {
          "data": {
            "text/html": [
              "Find logs at: <code>./wandb/run-20230506_210631-u2cx84lo/logs</code>"
            ],
            "text/plain": [
              "<IPython.core.display.HTML object>"
            ]
          },
          "metadata": {},
          "output_type": "display_data"
        },
        {
          "metadata": {
            "tags": null
          },
          "name": "stderr",
          "output_type": "stream",
          "text": [
            "\u001b[34m\u001b[1mwandb\u001b[0m: Sweep Agent: Waiting for job.\n",
            "\u001b[34m\u001b[1mwandb\u001b[0m: Job received.\n",
            "\u001b[34m\u001b[1mwandb\u001b[0m: Agent Starting Run: iyc3md54 with config:\n",
            "\u001b[34m\u001b[1mwandb\u001b[0m: \tbatch_size: 64\n",
            "\u001b[34m\u001b[1mwandb\u001b[0m: \tcell: RNN\n",
            "\u001b[34m\u001b[1mwandb\u001b[0m: \tdropout: 0\n",
            "\u001b[34m\u001b[1mwandb\u001b[0m: \tembed_dim: 256\n",
            "\u001b[34m\u001b[1mwandb\u001b[0m: \tepochs: 15\n",
            "\u001b[34m\u001b[1mwandb\u001b[0m: \thidden_units: 512\n",
            "\u001b[34m\u001b[1mwandb\u001b[0m: \tlr: 0.001\n"
          ]
        },
        {
          "data": {
            "text/html": [
              "Tracking run with wandb version 0.15.2"
            ],
            "text/plain": [
              "<IPython.core.display.HTML object>"
            ]
          },
          "metadata": {},
          "output_type": "display_data"
        },
        {
          "data": {
            "text/html": [
              "Run data is saved locally in <code>/content/wandb/run-20230506_212223-iyc3md54</code>"
            ],
            "text/plain": [
              "<IPython.core.display.HTML object>"
            ]
          },
          "metadata": {},
          "output_type": "display_data"
        },
        {
          "data": {
            "text/html": [
              "Syncing run <strong><a href='https://wandb.ai/shashwat_mm19b053/Assignment-3/runs/iyc3md54' target=\"_blank\">lemon-sweep-8</a></strong> to <a href='https://wandb.ai/shashwat_mm19b053/Assignment-3' target=\"_blank\">Weights & Biases</a> (<a href='https://wandb.me/run' target=\"_blank\">docs</a>)<br/>Sweep page: <a href='https://wandb.ai/shashwat_mm19b053/Assignment-3/sweeps/nye2llmh' target=\"_blank\">https://wandb.ai/shashwat_mm19b053/Assignment-3/sweeps/nye2llmh</a>"
            ],
            "text/plain": [
              "<IPython.core.display.HTML object>"
            ]
          },
          "metadata": {},
          "output_type": "display_data"
        },
        {
          "data": {
            "text/html": [
              " View project at <a href='https://wandb.ai/shashwat_mm19b053/Assignment-3' target=\"_blank\">https://wandb.ai/shashwat_mm19b053/Assignment-3</a>"
            ],
            "text/plain": [
              "<IPython.core.display.HTML object>"
            ]
          },
          "metadata": {},
          "output_type": "display_data"
        },
        {
          "data": {
            "text/html": [
              " View sweep at <a href='https://wandb.ai/shashwat_mm19b053/Assignment-3/sweeps/nye2llmh' target=\"_blank\">https://wandb.ai/shashwat_mm19b053/Assignment-3/sweeps/nye2llmh</a>"
            ],
            "text/plain": [
              "<IPython.core.display.HTML object>"
            ]
          },
          "metadata": {},
          "output_type": "display_data"
        },
        {
          "data": {
            "text/html": [
              " View run at <a href='https://wandb.ai/shashwat_mm19b053/Assignment-3/runs/iyc3md54' target=\"_blank\">https://wandb.ai/shashwat_mm19b053/Assignment-3/runs/iyc3md54</a>"
            ],
            "text/plain": [
              "<IPython.core.display.HTML object>"
            ]
          },
          "metadata": {},
          "output_type": "display_data"
        },
        {
          "metadata": {
            "tags": null
          },
          "name": "stdout",
          "output_type": "stream",
          "text": [
            "cell_RNN_hunit_512_embed_dim_256_lr_0.001_ep_15_dropout_0_bs64\n",
            "Epoch: 1 \tTraining Loss: 1.109644 \tValidation Loss: 1.134481 \tTraining Accuracy: 0.651219 \tValidation Accuracy: 0.648241\n",
            "Epoch: 2 \tTraining Loss: 0.724961 \tValidation Loss: 1.075493 \tTraining Accuracy: 0.770492 \tValidation Accuracy: 0.776382\n",
            "Epoch: 3 \tTraining Loss: 0.660323 \tValidation Loss: 1.064166 \tTraining Accuracy: 0.787626 \tValidation Accuracy: 0.748744\n",
            "Epoch: 4 \tTraining Loss: 0.632984 \tValidation Loss: 1.026310 \tTraining Accuracy: 0.786493 \tValidation Accuracy: 0.695980\n",
            "Epoch: 5 \tTraining Loss: 0.599789 \tValidation Loss: 1.027383 \tTraining Accuracy: 0.800412 \tValidation Accuracy: 0.711055\n",
            "Epoch: 6 \tTraining Loss: 0.597051 \tValidation Loss: 1.036207 \tTraining Accuracy: 0.796374 \tValidation Accuracy: 0.716080\n",
            "Epoch: 7 \tTraining Loss: 0.579849 \tValidation Loss: 1.067277 \tTraining Accuracy: 0.804782 \tValidation Accuracy: 0.675879\n",
            "Epoch: 8 \tTraining Loss: 0.570471 \tValidation Loss: 1.040081 \tTraining Accuracy: 0.793307 \tValidation Accuracy: 0.721106\n",
            "Epoch: 9 \tTraining Loss: 0.557747 \tValidation Loss: 1.078158 \tTraining Accuracy: 0.840521 \tValidation Accuracy: 0.698492\n",
            "Epoch: 10 \tTraining Loss: 0.564747 \tValidation Loss: 1.085286 \tTraining Accuracy: 0.816506 \tValidation Accuracy: 0.726131\n",
            "Epoch: 11 \tTraining Loss: 0.582695 \tValidation Loss: 1.047925 \tTraining Accuracy: 0.812661 \tValidation Accuracy: 0.786432\n",
            "Epoch: 12 \tTraining Loss: 0.547360 \tValidation Loss: 1.045478 \tTraining Accuracy: 0.826251 \tValidation Accuracy: 0.758794\n",
            "Epoch: 13 \tTraining Loss: 0.565885 \tValidation Loss: 1.109360 \tTraining Accuracy: 0.813489 \tValidation Accuracy: 0.751256\n",
            "Epoch: 14 \tTraining Loss: 0.572763 \tValidation Loss: 1.053209 \tTraining Accuracy: 0.814706 \tValidation Accuracy: 0.763819\n",
            "Epoch: 15 \tTraining Loss: 0.564816 \tValidation Loss: 1.039365 \tTraining Accuracy: 0.822294 \tValidation Accuracy: 0.763819\n"
          ]
        },
        {
          "data": {
            "text/html": [
              "Waiting for W&B process to finish... <strong style=\"color:green\">(success).</strong>"
            ],
            "text/plain": [
              "<IPython.core.display.HTML object>"
            ]
          },
          "metadata": {},
          "output_type": "display_data"
        },
        {
          "data": {
            "application/vnd.jupyter.widget-view+json": {
              "model_id": "206583a089ca40d086fe6159b049c1b0",
              "version_major": 2,
              "version_minor": 0
            },
            "text/plain": [
              "VBox(children=(Label(value='0.001 MB of 0.001 MB uploaded (0.000 MB deduped)\\r'), FloatProgress(value=1.0, max…"
            ]
          },
          "metadata": {},
          "output_type": "display_data"
        },
        {
          "data": {
            "text/html": [
              "<style>\n",
              "    table.wandb td:nth-child(1) { padding: 0 10px; text-align: left ; width: auto;} td:nth-child(2) {text-align: left ; width: 100%}\n",
              "    .wandb-row { display: flex; flex-direction: row; flex-wrap: wrap; justify-content: flex-start; width: 100% }\n",
              "    .wandb-col { display: flex; flex-direction: column; flex-basis: 100%; flex: 1; padding: 10px; }\n",
              "    </style>\n",
              "<div class=\"wandb-row\"><div class=\"wandb-col\"><h3>Run history:</h3><br/><table class=\"wandb\"><tr><td>Epoch</td><td>▁▁▂▃▃▃▄▅▅▅▆▇▇▇█</td></tr><tr><td>training_acc</td><td>▁▅▆▆▇▆▇▆█▇▇▇▇▇▇</td></tr><tr><td>training_loss</td><td>█▃▂▂▂▂▁▁▁▁▁▁▁▁▁</td></tr><tr><td>validation_accuracy</td><td>▁▇▆▃▄▄▂▅▄▅█▇▆▇▇</td></tr><tr><td>validation_loss</td><td>█▄▃▁▁▂▄▂▄▅▂▂▆▃▂</td></tr></table><br/></div><div class=\"wandb-col\"><h3>Run summary:</h3><br/><table class=\"wandb\"><tr><td>Epoch</td><td>15</td></tr><tr><td>training_acc</td><td>0.82229</td></tr><tr><td>training_loss</td><td>0.56482</td></tr><tr><td>validation_accuracy</td><td>0.76382</td></tr><tr><td>validation_loss</td><td>1.03936</td></tr></table><br/></div></div>"
            ],
            "text/plain": [
              "<IPython.core.display.HTML object>"
            ]
          },
          "metadata": {},
          "output_type": "display_data"
        },
        {
          "data": {
            "text/html": [
              " View run <strong style=\"color:#cdcd00\">lemon-sweep-8</strong> at: <a href='https://wandb.ai/shashwat_mm19b053/Assignment-3/runs/iyc3md54' target=\"_blank\">https://wandb.ai/shashwat_mm19b053/Assignment-3/runs/iyc3md54</a><br/>Synced 5 W&B file(s), 0 media file(s), 0 artifact file(s) and 0 other file(s)"
            ],
            "text/plain": [
              "<IPython.core.display.HTML object>"
            ]
          },
          "metadata": {},
          "output_type": "display_data"
        },
        {
          "data": {
            "text/html": [
              "Find logs at: <code>./wandb/run-20230506_212223-iyc3md54/logs</code>"
            ],
            "text/plain": [
              "<IPython.core.display.HTML object>"
            ]
          },
          "metadata": {},
          "output_type": "display_data"
        },
        {
          "metadata": {
            "tags": null
          },
          "name": "stderr",
          "output_type": "stream",
          "text": [
            "\u001b[34m\u001b[1mwandb\u001b[0m: Agent Starting Run: bb7032we with config:\n",
            "\u001b[34m\u001b[1mwandb\u001b[0m: \tbatch_size: 32\n",
            "\u001b[34m\u001b[1mwandb\u001b[0m: \tcell: GRU\n",
            "\u001b[34m\u001b[1mwandb\u001b[0m: \tdropout: 0\n",
            "\u001b[34m\u001b[1mwandb\u001b[0m: \tembed_dim: 512\n",
            "\u001b[34m\u001b[1mwandb\u001b[0m: \tepochs: 10\n",
            "\u001b[34m\u001b[1mwandb\u001b[0m: \thidden_units: 512\n",
            "\u001b[34m\u001b[1mwandb\u001b[0m: \tlr: 0.001\n"
          ]
        },
        {
          "data": {
            "text/html": [
              "Tracking run with wandb version 0.15.2"
            ],
            "text/plain": [
              "<IPython.core.display.HTML object>"
            ]
          },
          "metadata": {},
          "output_type": "display_data"
        },
        {
          "data": {
            "text/html": [
              "Run data is saved locally in <code>/content/wandb/run-20230506_213802-bb7032we</code>"
            ],
            "text/plain": [
              "<IPython.core.display.HTML object>"
            ]
          },
          "metadata": {},
          "output_type": "display_data"
        },
        {
          "data": {
            "text/html": [
              "Syncing run <strong><a href='https://wandb.ai/shashwat_mm19b053/Assignment-3/runs/bb7032we' target=\"_blank\">deft-sweep-9</a></strong> to <a href='https://wandb.ai/shashwat_mm19b053/Assignment-3' target=\"_blank\">Weights & Biases</a> (<a href='https://wandb.me/run' target=\"_blank\">docs</a>)<br/>Sweep page: <a href='https://wandb.ai/shashwat_mm19b053/Assignment-3/sweeps/nye2llmh' target=\"_blank\">https://wandb.ai/shashwat_mm19b053/Assignment-3/sweeps/nye2llmh</a>"
            ],
            "text/plain": [
              "<IPython.core.display.HTML object>"
            ]
          },
          "metadata": {},
          "output_type": "display_data"
        },
        {
          "data": {
            "text/html": [
              " View project at <a href='https://wandb.ai/shashwat_mm19b053/Assignment-3' target=\"_blank\">https://wandb.ai/shashwat_mm19b053/Assignment-3</a>"
            ],
            "text/plain": [
              "<IPython.core.display.HTML object>"
            ]
          },
          "metadata": {},
          "output_type": "display_data"
        },
        {
          "data": {
            "text/html": [
              " View sweep at <a href='https://wandb.ai/shashwat_mm19b053/Assignment-3/sweeps/nye2llmh' target=\"_blank\">https://wandb.ai/shashwat_mm19b053/Assignment-3/sweeps/nye2llmh</a>"
            ],
            "text/plain": [
              "<IPython.core.display.HTML object>"
            ]
          },
          "metadata": {},
          "output_type": "display_data"
        },
        {
          "data": {
            "text/html": [
              " View run at <a href='https://wandb.ai/shashwat_mm19b053/Assignment-3/runs/bb7032we' target=\"_blank\">https://wandb.ai/shashwat_mm19b053/Assignment-3/runs/bb7032we</a>"
            ],
            "text/plain": [
              "<IPython.core.display.HTML object>"
            ]
          },
          "metadata": {},
          "output_type": "display_data"
        },
        {
          "metadata": {
            "tags": null
          },
          "name": "stdout",
          "output_type": "stream",
          "text": [
            "cell_GRU_hunit_512_embed_dim_512_lr_0.001_ep_10_dropout_0_bs32\n",
            "Epoch: 1 \tTraining Loss: 1.012172 \tValidation Loss: 1.133794 \tTraining Accuracy: 0.669076 \tValidation Accuracy: 0.690355\n",
            "Epoch: 2 \tTraining Loss: 0.729250 \tValidation Loss: 1.109424 \tTraining Accuracy: 0.776932 \tValidation Accuracy: 0.694162\n",
            "Epoch: 3 \tTraining Loss: 0.694884 \tValidation Loss: 1.094721 \tTraining Accuracy: 0.781658 \tValidation Accuracy: 0.685279\n",
            "Epoch: 4 \tTraining Loss: 0.658007 \tValidation Loss: 1.094858 \tTraining Accuracy: 0.785932 \tValidation Accuracy: 0.711929\n",
            "Epoch: 5 \tTraining Loss: 0.643692 \tValidation Loss: 1.101157 \tTraining Accuracy: 0.780026 \tValidation Accuracy: 0.719543\n",
            "Epoch: 6 \tTraining Loss: 0.633124 \tValidation Loss: 1.081398 \tTraining Accuracy: 0.801388 \tValidation Accuracy: 0.685279\n",
            "Epoch: 7 \tTraining Loss: 0.617450 \tValidation Loss: 1.118633 \tTraining Accuracy: 0.794773 \tValidation Accuracy: 0.687817\n",
            "Epoch: 8 \tTraining Loss: 0.618742 \tValidation Loss: 1.110466 \tTraining Accuracy: 0.792282 \tValidation Accuracy: 0.699239\n",
            "Epoch: 9 \tTraining Loss: 0.607318 \tValidation Loss: 1.111526 \tTraining Accuracy: 0.807702 \tValidation Accuracy: 0.695431\n",
            "Epoch: 10 \tTraining Loss: 0.611639 \tValidation Loss: 1.090373 \tTraining Accuracy: 0.804707 \tValidation Accuracy: 0.680203\n"
          ]
        },
        {
          "data": {
            "text/html": [
              "Waiting for W&B process to finish... <strong style=\"color:green\">(success).</strong>"
            ],
            "text/plain": [
              "<IPython.core.display.HTML object>"
            ]
          },
          "metadata": {},
          "output_type": "display_data"
        },
        {
          "data": {
            "application/vnd.jupyter.widget-view+json": {
              "model_id": "5176dfac1af649f3bf17d3d69e90d4d8",
              "version_major": 2,
              "version_minor": 0
            },
            "text/plain": [
              "VBox(children=(Label(value='0.001 MB of 0.011 MB uploaded (0.000 MB deduped)\\r'), FloatProgress(value=0.107311…"
            ]
          },
          "metadata": {},
          "output_type": "display_data"
        },
        {
          "data": {
            "text/html": [
              "<style>\n",
              "    table.wandb td:nth-child(1) { padding: 0 10px; text-align: left ; width: auto;} td:nth-child(2) {text-align: left ; width: 100%}\n",
              "    .wandb-row { display: flex; flex-direction: row; flex-wrap: wrap; justify-content: flex-start; width: 100% }\n",
              "    .wandb-col { display: flex; flex-direction: column; flex-basis: 100%; flex: 1; padding: 10px; }\n",
              "    </style>\n",
              "<div class=\"wandb-row\"><div class=\"wandb-col\"><h3>Run history:</h3><br/><table class=\"wandb\"><tr><td>Epoch</td><td>▁▂▃▃▄▅▆▆▇█</td></tr><tr><td>training_acc</td><td>▁▆▇▇▇█▇▇██</td></tr><tr><td>training_loss</td><td>█▃▃▂▂▁▁▁▁▁</td></tr><tr><td>validation_accuracy</td><td>▃▃▂▇█▂▂▄▄▁</td></tr><tr><td>validation_loss</td><td>█▅▃▃▄▁▆▅▅▂</td></tr></table><br/></div><div class=\"wandb-col\"><h3>Run summary:</h3><br/><table class=\"wandb\"><tr><td>Epoch</td><td>10</td></tr><tr><td>training_acc</td><td>0.80471</td></tr><tr><td>training_loss</td><td>0.61164</td></tr><tr><td>validation_accuracy</td><td>0.6802</td></tr><tr><td>validation_loss</td><td>1.09037</td></tr></table><br/></div></div>"
            ],
            "text/plain": [
              "<IPython.core.display.HTML object>"
            ]
          },
          "metadata": {},
          "output_type": "display_data"
        },
        {
          "data": {
            "text/html": [
              " View run <strong style=\"color:#cdcd00\">deft-sweep-9</strong> at: <a href='https://wandb.ai/shashwat_mm19b053/Assignment-3/runs/bb7032we' target=\"_blank\">https://wandb.ai/shashwat_mm19b053/Assignment-3/runs/bb7032we</a><br/>Synced 5 W&B file(s), 0 media file(s), 0 artifact file(s) and 0 other file(s)"
            ],
            "text/plain": [
              "<IPython.core.display.HTML object>"
            ]
          },
          "metadata": {},
          "output_type": "display_data"
        },
        {
          "data": {
            "text/html": [
              "Find logs at: <code>./wandb/run-20230506_213802-bb7032we/logs</code>"
            ],
            "text/plain": [
              "<IPython.core.display.HTML object>"
            ]
          },
          "metadata": {},
          "output_type": "display_data"
        },
        {
          "metadata": {
            "tags": null
          },
          "name": "stderr",
          "output_type": "stream",
          "text": [
            "\u001b[34m\u001b[1mwandb\u001b[0m: Agent Starting Run: ayp1bdqg with config:\n",
            "\u001b[34m\u001b[1mwandb\u001b[0m: \tbatch_size: 64\n",
            "\u001b[34m\u001b[1mwandb\u001b[0m: \tcell: RNN\n",
            "\u001b[34m\u001b[1mwandb\u001b[0m: \tdropout: 0\n",
            "\u001b[34m\u001b[1mwandb\u001b[0m: \tembed_dim: 512\n",
            "\u001b[34m\u001b[1mwandb\u001b[0m: \tepochs: 10\n",
            "\u001b[34m\u001b[1mwandb\u001b[0m: \thidden_units: 256\n",
            "\u001b[34m\u001b[1mwandb\u001b[0m: \tlr: 0.001\n"
          ]
        },
        {
          "data": {
            "text/html": [
              "Tracking run with wandb version 0.15.2"
            ],
            "text/plain": [
              "<IPython.core.display.HTML object>"
            ]
          },
          "metadata": {},
          "output_type": "display_data"
        },
        {
          "data": {
            "text/html": [
              "Run data is saved locally in <code>/content/wandb/run-20230506_215506-ayp1bdqg</code>"
            ],
            "text/plain": [
              "<IPython.core.display.HTML object>"
            ]
          },
          "metadata": {},
          "output_type": "display_data"
        },
        {
          "data": {
            "text/html": [
              "Syncing run <strong><a href='https://wandb.ai/shashwat_mm19b053/Assignment-3/runs/ayp1bdqg' target=\"_blank\">absurd-sweep-10</a></strong> to <a href='https://wandb.ai/shashwat_mm19b053/Assignment-3' target=\"_blank\">Weights & Biases</a> (<a href='https://wandb.me/run' target=\"_blank\">docs</a>)<br/>Sweep page: <a href='https://wandb.ai/shashwat_mm19b053/Assignment-3/sweeps/nye2llmh' target=\"_blank\">https://wandb.ai/shashwat_mm19b053/Assignment-3/sweeps/nye2llmh</a>"
            ],
            "text/plain": [
              "<IPython.core.display.HTML object>"
            ]
          },
          "metadata": {},
          "output_type": "display_data"
        },
        {
          "data": {
            "text/html": [
              " View project at <a href='https://wandb.ai/shashwat_mm19b053/Assignment-3' target=\"_blank\">https://wandb.ai/shashwat_mm19b053/Assignment-3</a>"
            ],
            "text/plain": [
              "<IPython.core.display.HTML object>"
            ]
          },
          "metadata": {},
          "output_type": "display_data"
        },
        {
          "data": {
            "text/html": [
              " View sweep at <a href='https://wandb.ai/shashwat_mm19b053/Assignment-3/sweeps/nye2llmh' target=\"_blank\">https://wandb.ai/shashwat_mm19b053/Assignment-3/sweeps/nye2llmh</a>"
            ],
            "text/plain": [
              "<IPython.core.display.HTML object>"
            ]
          },
          "metadata": {},
          "output_type": "display_data"
        },
        {
          "data": {
            "text/html": [
              " View run at <a href='https://wandb.ai/shashwat_mm19b053/Assignment-3/runs/ayp1bdqg' target=\"_blank\">https://wandb.ai/shashwat_mm19b053/Assignment-3/runs/ayp1bdqg</a>"
            ],
            "text/plain": [
              "<IPython.core.display.HTML object>"
            ]
          },
          "metadata": {},
          "output_type": "display_data"
        },
        {
          "metadata": {
            "tags": null
          },
          "name": "stdout",
          "output_type": "stream",
          "text": [
            "cell_RNN_hunit_256_embed_dim_512_lr_0.001_ep_10_dropout_0_bs64\n",
            "Epoch: 1 \tTraining Loss: 1.313350 \tValidation Loss: 1.191923 \tTraining Accuracy: 0.578998 \tValidation Accuracy: 0.643216\n",
            "Epoch: 2 \tTraining Loss: 0.819499 \tValidation Loss: 1.152025 \tTraining Accuracy: 0.722521 \tValidation Accuracy: 0.675879\n",
            "Epoch: 3 \tTraining Loss: 0.726920 \tValidation Loss: 1.156545 \tTraining Accuracy: 0.766901 \tValidation Accuracy: 0.738693\n",
            "Epoch: 4 \tTraining Loss: 0.701720 \tValidation Loss: 1.087281 \tTraining Accuracy: 0.766581 \tValidation Accuracy: 0.761307\n",
            "Epoch: 5 \tTraining Loss: 0.666954 \tValidation Loss: 1.041532 \tTraining Accuracy: 0.782106 \tValidation Accuracy: 0.680905\n",
            "Epoch: 6 \tTraining Loss: 0.675224 \tValidation Loss: 1.098095 \tTraining Accuracy: 0.793800 \tValidation Accuracy: 0.746231\n",
            "Epoch: 7 \tTraining Loss: 0.661516 \tValidation Loss: 1.075777 \tTraining Accuracy: 0.778944 \tValidation Accuracy: 0.738693\n",
            "Epoch: 8 \tTraining Loss: 0.718733 \tValidation Loss: 1.107599 \tTraining Accuracy: 0.765278 \tValidation Accuracy: 0.741206\n",
            "Epoch: 9 \tTraining Loss: 0.658113 \tValidation Loss: 1.085381 \tTraining Accuracy: 0.783006 \tValidation Accuracy: 0.773869\n",
            "Epoch: 10 \tTraining Loss: 0.636540 \tValidation Loss: 1.103080 \tTraining Accuracy: 0.802710 \tValidation Accuracy: 0.733668\n"
          ]
        },
        {
          "data": {
            "text/html": [
              "Waiting for W&B process to finish... <strong style=\"color:green\">(success).</strong>"
            ],
            "text/plain": [
              "<IPython.core.display.HTML object>"
            ]
          },
          "metadata": {},
          "output_type": "display_data"
        },
        {
          "data": {
            "application/vnd.jupyter.widget-view+json": {
              "model_id": "1fd20f193c234890af80bdd9174416d0",
              "version_major": 2,
              "version_minor": 0
            },
            "text/plain": [
              "VBox(children=(Label(value='0.001 MB of 0.001 MB uploaded (0.000 MB deduped)\\r'), FloatProgress(value=1.0, max…"
            ]
          },
          "metadata": {},
          "output_type": "display_data"
        },
        {
          "data": {
            "text/html": [
              "<style>\n",
              "    table.wandb td:nth-child(1) { padding: 0 10px; text-align: left ; width: auto;} td:nth-child(2) {text-align: left ; width: 100%}\n",
              "    .wandb-row { display: flex; flex-direction: row; flex-wrap: wrap; justify-content: flex-start; width: 100% }\n",
              "    .wandb-col { display: flex; flex-direction: column; flex-basis: 100%; flex: 1; padding: 10px; }\n",
              "    </style>\n",
              "<div class=\"wandb-row\"><div class=\"wandb-col\"><h3>Run history:</h3><br/><table class=\"wandb\"><tr><td>Epoch</td><td>▁▂▃▃▄▅▆▆▇█</td></tr><tr><td>training_acc</td><td>▁▅▇▇▇█▇▇▇█</td></tr><tr><td>training_loss</td><td>█▃▂▂▁▁▁▂▁▁</td></tr><tr><td>validation_accuracy</td><td>▁▃▆▇▃▇▆▆█▆</td></tr><tr><td>validation_loss</td><td>█▆▆▃▁▄▃▄▃▄</td></tr></table><br/></div><div class=\"wandb-col\"><h3>Run summary:</h3><br/><table class=\"wandb\"><tr><td>Epoch</td><td>10</td></tr><tr><td>training_acc</td><td>0.80271</td></tr><tr><td>training_loss</td><td>0.63654</td></tr><tr><td>validation_accuracy</td><td>0.73367</td></tr><tr><td>validation_loss</td><td>1.10308</td></tr></table><br/></div></div>"
            ],
            "text/plain": [
              "<IPython.core.display.HTML object>"
            ]
          },
          "metadata": {},
          "output_type": "display_data"
        },
        {
          "data": {
            "text/html": [
              " View run <strong style=\"color:#cdcd00\">absurd-sweep-10</strong> at: <a href='https://wandb.ai/shashwat_mm19b053/Assignment-3/runs/ayp1bdqg' target=\"_blank\">https://wandb.ai/shashwat_mm19b053/Assignment-3/runs/ayp1bdqg</a><br/>Synced 5 W&B file(s), 0 media file(s), 0 artifact file(s) and 0 other file(s)"
            ],
            "text/plain": [
              "<IPython.core.display.HTML object>"
            ]
          },
          "metadata": {},
          "output_type": "display_data"
        },
        {
          "data": {
            "text/html": [
              "Find logs at: <code>./wandb/run-20230506_215506-ayp1bdqg/logs</code>"
            ],
            "text/plain": [
              "<IPython.core.display.HTML object>"
            ]
          },
          "metadata": {},
          "output_type": "display_data"
        },
        {
          "metadata": {
            "tags": null
          },
          "name": "stderr",
          "output_type": "stream",
          "text": [
            "\u001b[34m\u001b[1mwandb\u001b[0m: Agent Starting Run: z3o9o4bf with config:\n",
            "\u001b[34m\u001b[1mwandb\u001b[0m: \tbatch_size: 64\n",
            "\u001b[34m\u001b[1mwandb\u001b[0m: \tcell: RNN\n",
            "\u001b[34m\u001b[1mwandb\u001b[0m: \tdropout: 0\n",
            "\u001b[34m\u001b[1mwandb\u001b[0m: \tembed_dim: 256\n",
            "\u001b[34m\u001b[1mwandb\u001b[0m: \tepochs: 10\n",
            "\u001b[34m\u001b[1mwandb\u001b[0m: \thidden_units: 512\n",
            "\u001b[34m\u001b[1mwandb\u001b[0m: \tlr: 0.001\n"
          ]
        },
        {
          "data": {
            "text/html": [
              "Tracking run with wandb version 0.15.2"
            ],
            "text/plain": [
              "<IPython.core.display.HTML object>"
            ]
          },
          "metadata": {},
          "output_type": "display_data"
        },
        {
          "data": {
            "text/html": [
              "Run data is saved locally in <code>/content/wandb/run-20230506_220213-z3o9o4bf</code>"
            ],
            "text/plain": [
              "<IPython.core.display.HTML object>"
            ]
          },
          "metadata": {},
          "output_type": "display_data"
        },
        {
          "data": {
            "text/html": [
              "Syncing run <strong><a href='https://wandb.ai/shashwat_mm19b053/Assignment-3/runs/z3o9o4bf' target=\"_blank\">still-sweep-11</a></strong> to <a href='https://wandb.ai/shashwat_mm19b053/Assignment-3' target=\"_blank\">Weights & Biases</a> (<a href='https://wandb.me/run' target=\"_blank\">docs</a>)<br/>Sweep page: <a href='https://wandb.ai/shashwat_mm19b053/Assignment-3/sweeps/nye2llmh' target=\"_blank\">https://wandb.ai/shashwat_mm19b053/Assignment-3/sweeps/nye2llmh</a>"
            ],
            "text/plain": [
              "<IPython.core.display.HTML object>"
            ]
          },
          "metadata": {},
          "output_type": "display_data"
        },
        {
          "data": {
            "text/html": [
              " View project at <a href='https://wandb.ai/shashwat_mm19b053/Assignment-3' target=\"_blank\">https://wandb.ai/shashwat_mm19b053/Assignment-3</a>"
            ],
            "text/plain": [
              "<IPython.core.display.HTML object>"
            ]
          },
          "metadata": {},
          "output_type": "display_data"
        },
        {
          "data": {
            "text/html": [
              " View sweep at <a href='https://wandb.ai/shashwat_mm19b053/Assignment-3/sweeps/nye2llmh' target=\"_blank\">https://wandb.ai/shashwat_mm19b053/Assignment-3/sweeps/nye2llmh</a>"
            ],
            "text/plain": [
              "<IPython.core.display.HTML object>"
            ]
          },
          "metadata": {},
          "output_type": "display_data"
        },
        {
          "data": {
            "text/html": [
              " View run at <a href='https://wandb.ai/shashwat_mm19b053/Assignment-3/runs/z3o9o4bf' target=\"_blank\">https://wandb.ai/shashwat_mm19b053/Assignment-3/runs/z3o9o4bf</a>"
            ],
            "text/plain": [
              "<IPython.core.display.HTML object>"
            ]
          },
          "metadata": {},
          "output_type": "display_data"
        },
        {
          "metadata": {
            "tags": null
          },
          "name": "stdout",
          "output_type": "stream",
          "text": [
            "cell_RNN_hunit_512_embed_dim_256_lr_0.001_ep_10_dropout_0_bs64\n",
            "Epoch: 1 \tTraining Loss: 1.100503 \tValidation Loss: 1.102970 \tTraining Accuracy: 0.653098 \tValidation Accuracy: 0.698492\n",
            "Epoch: 2 \tTraining Loss: 0.731046 \tValidation Loss: 1.102329 \tTraining Accuracy: 0.738915 \tValidation Accuracy: 0.728643\n",
            "Epoch: 3 \tTraining Loss: 0.657580 \tValidation Loss: 1.086631 \tTraining Accuracy: 0.774434 \tValidation Accuracy: 0.706030\n",
            "Epoch: 4 \tTraining Loss: 0.622514 \tValidation Loss: 1.026309 \tTraining Accuracy: 0.803449 \tValidation Accuracy: 0.721106\n",
            "Epoch: 5 \tTraining Loss: 0.594228 \tValidation Loss: 1.029630 \tTraining Accuracy: 0.794669 \tValidation Accuracy: 0.746231\n",
            "Epoch: 6 \tTraining Loss: 0.576795 \tValidation Loss: 1.086675 \tTraining Accuracy: 0.814499 \tValidation Accuracy: 0.726131\n",
            "Epoch: 7 \tTraining Loss: 0.572848 \tValidation Loss: 1.034687 \tTraining Accuracy: 0.811862 \tValidation Accuracy: 0.738693\n",
            "Epoch: 8 \tTraining Loss: 0.575966 \tValidation Loss: 1.043252 \tTraining Accuracy: 0.809209 \tValidation Accuracy: 0.753769\n",
            "Epoch: 9 \tTraining Loss: 0.558298 \tValidation Loss: 1.049313 \tTraining Accuracy: 0.818315 \tValidation Accuracy: 0.768844\n",
            "Epoch: 10 \tTraining Loss: 0.553060 \tValidation Loss: 1.043584 \tTraining Accuracy: 0.823908 \tValidation Accuracy: 0.768844\n"
          ]
        },
        {
          "data": {
            "text/html": [
              "Waiting for W&B process to finish... <strong style=\"color:green\">(success).</strong>"
            ],
            "text/plain": [
              "<IPython.core.display.HTML object>"
            ]
          },
          "metadata": {},
          "output_type": "display_data"
        },
        {
          "data": {
            "application/vnd.jupyter.widget-view+json": {
              "model_id": "d9b6f696f84348bb9e411a32f040eca5",
              "version_major": 2,
              "version_minor": 0
            },
            "text/plain": [
              "VBox(children=(Label(value='0.001 MB of 0.001 MB uploaded (0.000 MB deduped)\\r'), FloatProgress(value=1.0, max…"
            ]
          },
          "metadata": {},
          "output_type": "display_data"
        },
        {
          "data": {
            "text/html": [
              "<style>\n",
              "    table.wandb td:nth-child(1) { padding: 0 10px; text-align: left ; width: auto;} td:nth-child(2) {text-align: left ; width: 100%}\n",
              "    .wandb-row { display: flex; flex-direction: row; flex-wrap: wrap; justify-content: flex-start; width: 100% }\n",
              "    .wandb-col { display: flex; flex-direction: column; flex-basis: 100%; flex: 1; padding: 10px; }\n",
              "    </style>\n",
              "<div class=\"wandb-row\"><div class=\"wandb-col\"><h3>Run history:</h3><br/><table class=\"wandb\"><tr><td>Epoch</td><td>▁▂▃▃▄▅▆▆▇█</td></tr><tr><td>training_acc</td><td>▁▅▆▇▇██▇██</td></tr><tr><td>training_loss</td><td>█▃▂▂▂▁▁▁▁▁</td></tr><tr><td>validation_accuracy</td><td>▁▄▂▃▆▄▅▆██</td></tr><tr><td>validation_loss</td><td>██▇▁▁▇▂▃▃▃</td></tr></table><br/></div><div class=\"wandb-col\"><h3>Run summary:</h3><br/><table class=\"wandb\"><tr><td>Epoch</td><td>10</td></tr><tr><td>training_acc</td><td>0.82391</td></tr><tr><td>training_loss</td><td>0.55306</td></tr><tr><td>validation_accuracy</td><td>0.76884</td></tr><tr><td>validation_loss</td><td>1.04358</td></tr></table><br/></div></div>"
            ],
            "text/plain": [
              "<IPython.core.display.HTML object>"
            ]
          },
          "metadata": {},
          "output_type": "display_data"
        },
        {
          "data": {
            "text/html": [
              " View run <strong style=\"color:#cdcd00\">still-sweep-11</strong> at: <a href='https://wandb.ai/shashwat_mm19b053/Assignment-3/runs/z3o9o4bf' target=\"_blank\">https://wandb.ai/shashwat_mm19b053/Assignment-3/runs/z3o9o4bf</a><br/>Synced 5 W&B file(s), 0 media file(s), 0 artifact file(s) and 0 other file(s)"
            ],
            "text/plain": [
              "<IPython.core.display.HTML object>"
            ]
          },
          "metadata": {},
          "output_type": "display_data"
        },
        {
          "data": {
            "text/html": [
              "Find logs at: <code>./wandb/run-20230506_220213-z3o9o4bf/logs</code>"
            ],
            "text/plain": [
              "<IPython.core.display.HTML object>"
            ]
          },
          "metadata": {},
          "output_type": "display_data"
        },
        {
          "metadata": {
            "tags": null
          },
          "name": "stderr",
          "output_type": "stream",
          "text": [
            "\u001b[34m\u001b[1mwandb\u001b[0m: Agent Starting Run: mw6v7zh9 with config:\n",
            "\u001b[34m\u001b[1mwandb\u001b[0m: \tbatch_size: 64\n",
            "\u001b[34m\u001b[1mwandb\u001b[0m: \tcell: LSTM\n",
            "\u001b[34m\u001b[1mwandb\u001b[0m: \tdropout: 0.4\n",
            "\u001b[34m\u001b[1mwandb\u001b[0m: \tembed_dim: 128\n",
            "\u001b[34m\u001b[1mwandb\u001b[0m: \tepochs: 10\n",
            "\u001b[34m\u001b[1mwandb\u001b[0m: \thidden_units: 32\n",
            "\u001b[34m\u001b[1mwandb\u001b[0m: \tlr: 0.001\n"
          ]
        },
        {
          "data": {
            "text/html": [
              "Tracking run with wandb version 0.15.2"
            ],
            "text/plain": [
              "<IPython.core.display.HTML object>"
            ]
          },
          "metadata": {},
          "output_type": "display_data"
        },
        {
          "data": {
            "text/html": [
              "Run data is saved locally in <code>/content/wandb/run-20230506_221246-mw6v7zh9</code>"
            ],
            "text/plain": [
              "<IPython.core.display.HTML object>"
            ]
          },
          "metadata": {},
          "output_type": "display_data"
        },
        {
          "data": {
            "text/html": [
              "Syncing run <strong><a href='https://wandb.ai/shashwat_mm19b053/Assignment-3/runs/mw6v7zh9' target=\"_blank\">fast-sweep-12</a></strong> to <a href='https://wandb.ai/shashwat_mm19b053/Assignment-3' target=\"_blank\">Weights & Biases</a> (<a href='https://wandb.me/run' target=\"_blank\">docs</a>)<br/>Sweep page: <a href='https://wandb.ai/shashwat_mm19b053/Assignment-3/sweeps/nye2llmh' target=\"_blank\">https://wandb.ai/shashwat_mm19b053/Assignment-3/sweeps/nye2llmh</a>"
            ],
            "text/plain": [
              "<IPython.core.display.HTML object>"
            ]
          },
          "metadata": {},
          "output_type": "display_data"
        },
        {
          "data": {
            "text/html": [
              " View project at <a href='https://wandb.ai/shashwat_mm19b053/Assignment-3' target=\"_blank\">https://wandb.ai/shashwat_mm19b053/Assignment-3</a>"
            ],
            "text/plain": [
              "<IPython.core.display.HTML object>"
            ]
          },
          "metadata": {},
          "output_type": "display_data"
        },
        {
          "data": {
            "text/html": [
              " View sweep at <a href='https://wandb.ai/shashwat_mm19b053/Assignment-3/sweeps/nye2llmh' target=\"_blank\">https://wandb.ai/shashwat_mm19b053/Assignment-3/sweeps/nye2llmh</a>"
            ],
            "text/plain": [
              "<IPython.core.display.HTML object>"
            ]
          },
          "metadata": {},
          "output_type": "display_data"
        },
        {
          "data": {
            "text/html": [
              " View run at <a href='https://wandb.ai/shashwat_mm19b053/Assignment-3/runs/mw6v7zh9' target=\"_blank\">https://wandb.ai/shashwat_mm19b053/Assignment-3/runs/mw6v7zh9</a>"
            ],
            "text/plain": [
              "<IPython.core.display.HTML object>"
            ]
          },
          "metadata": {},
          "output_type": "display_data"
        },
        {
          "metadata": {
            "tags": null
          },
          "name": "stdout",
          "output_type": "stream",
          "text": [
            "cell_LSTM_hunit_32_embed_dim_128_lr_0.001_ep_10_dropout_0.4_bs64\n",
            "Epoch: 1 \tTraining Loss: 2.858094 \tValidation Loss: 2.351677 \tTraining Accuracy: 0.175787 \tValidation Accuracy: 0.286432\n",
            "Epoch: 2 \tTraining Loss: 1.888144 \tValidation Loss: 1.665515 \tTraining Accuracy: 0.426825 \tValidation Accuracy: 0.562814\n",
            "Epoch: 3 \tTraining Loss: 1.443882 \tValidation Loss: 1.490820 \tTraining Accuracy: 0.555342 \tValidation Accuracy: 0.582915\n",
            "Epoch: 4 \tTraining Loss: 1.277203 \tValidation Loss: 1.407923 \tTraining Accuracy: 0.603027 \tValidation Accuracy: 0.610553\n",
            "Epoch: 5 \tTraining Loss: 1.193755 \tValidation Loss: 1.365309 \tTraining Accuracy: 0.623260 \tValidation Accuracy: 0.603015\n",
            "Epoch: 6 \tTraining Loss: 1.131346 \tValidation Loss: 1.379095 \tTraining Accuracy: 0.637119 \tValidation Accuracy: 0.623116\n",
            "Epoch: 7 \tTraining Loss: 1.076238 \tValidation Loss: 1.330510 \tTraining Accuracy: 0.642144 \tValidation Accuracy: 0.643216\n",
            "Epoch: 8 \tTraining Loss: 1.043620 \tValidation Loss: 1.281754 \tTraining Accuracy: 0.656290 \tValidation Accuracy: 0.711055\n"
          ]
        },
        {
          "data": {
            "text/html": [
              "Waiting for W&B process to finish... <strong style=\"color:red\">(failed 1).</strong> Press Control-C to abort syncing."
            ],
            "text/plain": [
              "<IPython.core.display.HTML object>"
            ]
          },
          "metadata": {},
          "output_type": "display_data"
        },
        {
          "data": {
            "application/vnd.jupyter.widget-view+json": {
              "model_id": "2200b386be584486a864b0a431fd40f1",
              "version_major": 2,
              "version_minor": 0
            },
            "text/plain": [
              "VBox(children=(Label(value='0.001 MB of 0.001 MB uploaded (0.000 MB deduped)\\r'), FloatProgress(value=1.0, max…"
            ]
          },
          "metadata": {},
          "output_type": "display_data"
        },
        {
          "data": {
            "text/html": [
              "<style>\n",
              "    table.wandb td:nth-child(1) { padding: 0 10px; text-align: left ; width: auto;} td:nth-child(2) {text-align: left ; width: 100%}\n",
              "    .wandb-row { display: flex; flex-direction: row; flex-wrap: wrap; justify-content: flex-start; width: 100% }\n",
              "    .wandb-col { display: flex; flex-direction: column; flex-basis: 100%; flex: 1; padding: 10px; }\n",
              "    </style>\n",
              "<div class=\"wandb-row\"><div class=\"wandb-col\"><h3>Run history:</h3><br/><table class=\"wandb\"><tr><td>Epoch</td><td>▁▂▃▄▅▆▇█</td></tr><tr><td>training_acc</td><td>▁▅▇▇████</td></tr><tr><td>training_loss</td><td>█▄▃▂▂▁▁▁</td></tr><tr><td>validation_accuracy</td><td>▁▆▆▆▆▇▇█</td></tr><tr><td>validation_loss</td><td>█▄▂▂▂▂▁▁</td></tr></table><br/></div><div class=\"wandb-col\"><h3>Run summary:</h3><br/><table class=\"wandb\"><tr><td>Epoch</td><td>8</td></tr><tr><td>training_acc</td><td>0.65629</td></tr><tr><td>training_loss</td><td>1.04362</td></tr><tr><td>validation_accuracy</td><td>0.71106</td></tr><tr><td>validation_loss</td><td>1.28175</td></tr></table><br/></div></div>"
            ],
            "text/plain": [
              "<IPython.core.display.HTML object>"
            ]
          },
          "metadata": {},
          "output_type": "display_data"
        },
        {
          "data": {
            "text/html": [
              " View run <strong style=\"color:#cdcd00\">fast-sweep-12</strong> at: <a href='https://wandb.ai/shashwat_mm19b053/Assignment-3/runs/mw6v7zh9' target=\"_blank\">https://wandb.ai/shashwat_mm19b053/Assignment-3/runs/mw6v7zh9</a><br/>Synced 5 W&B file(s), 0 media file(s), 0 artifact file(s) and 0 other file(s)"
            ],
            "text/plain": [
              "<IPython.core.display.HTML object>"
            ]
          },
          "metadata": {},
          "output_type": "display_data"
        },
        {
          "data": {
            "text/html": [
              "Find logs at: <code>./wandb/run-20230506_221246-mw6v7zh9/logs</code>"
            ],
            "text/plain": [
              "<IPython.core.display.HTML object>"
            ]
          },
          "metadata": {},
          "output_type": "display_data"
        },
        {
          "metadata": {
            "tags": null
          },
          "name": "stderr",
          "output_type": "stream",
          "text": [
            "\u001b[34m\u001b[1mwandb\u001b[0m: Agent Starting Run: z4jrleg6 with config:\n",
            "\u001b[34m\u001b[1mwandb\u001b[0m: \tbatch_size: 16\n",
            "\u001b[34m\u001b[1mwandb\u001b[0m: \tcell: RNN\n",
            "\u001b[34m\u001b[1mwandb\u001b[0m: \tdropout: 0.1\n",
            "\u001b[34m\u001b[1mwandb\u001b[0m: \tembed_dim: 512\n",
            "\u001b[34m\u001b[1mwandb\u001b[0m: \tepochs: 10\n",
            "\u001b[34m\u001b[1mwandb\u001b[0m: \thidden_units: 256\n",
            "\u001b[34m\u001b[1mwandb\u001b[0m: \tlr: 0.001\n"
          ]
        },
        {
          "data": {
            "text/html": [
              "Tracking run with wandb version 0.15.2"
            ],
            "text/plain": [
              "<IPython.core.display.HTML object>"
            ]
          },
          "metadata": {},
          "output_type": "display_data"
        },
        {
          "data": {
            "text/html": [
              "Run data is saved locally in <code>/content/wandb/run-20230506_221919-z4jrleg6</code>"
            ],
            "text/plain": [
              "<IPython.core.display.HTML object>"
            ]
          },
          "metadata": {},
          "output_type": "display_data"
        },
        {
          "data": {
            "text/html": [
              "Syncing run <strong><a href='https://wandb.ai/shashwat_mm19b053/Assignment-3/runs/z4jrleg6' target=\"_blank\">revived-sweep-13</a></strong> to <a href='https://wandb.ai/shashwat_mm19b053/Assignment-3' target=\"_blank\">Weights & Biases</a> (<a href='https://wandb.me/run' target=\"_blank\">docs</a>)<br/>Sweep page: <a href='https://wandb.ai/shashwat_mm19b053/Assignment-3/sweeps/nye2llmh' target=\"_blank\">https://wandb.ai/shashwat_mm19b053/Assignment-3/sweeps/nye2llmh</a>"
            ],
            "text/plain": [
              "<IPython.core.display.HTML object>"
            ]
          },
          "metadata": {},
          "output_type": "display_data"
        },
        {
          "data": {
            "text/html": [
              " View project at <a href='https://wandb.ai/shashwat_mm19b053/Assignment-3' target=\"_blank\">https://wandb.ai/shashwat_mm19b053/Assignment-3</a>"
            ],
            "text/plain": [
              "<IPython.core.display.HTML object>"
            ]
          },
          "metadata": {},
          "output_type": "display_data"
        },
        {
          "data": {
            "text/html": [
              " View sweep at <a href='https://wandb.ai/shashwat_mm19b053/Assignment-3/sweeps/nye2llmh' target=\"_blank\">https://wandb.ai/shashwat_mm19b053/Assignment-3/sweeps/nye2llmh</a>"
            ],
            "text/plain": [
              "<IPython.core.display.HTML object>"
            ]
          },
          "metadata": {},
          "output_type": "display_data"
        },
        {
          "data": {
            "text/html": [
              " View run at <a href='https://wandb.ai/shashwat_mm19b053/Assignment-3/runs/z4jrleg6' target=\"_blank\">https://wandb.ai/shashwat_mm19b053/Assignment-3/runs/z4jrleg6</a>"
            ],
            "text/plain": [
              "<IPython.core.display.HTML object>"
            ]
          },
          "metadata": {},
          "output_type": "display_data"
        },
        {
          "output_type": "stream",
          "name": "stdout",
          "text": [
            "cell_RNN_hunit_256_embed_dim_512_lr_0.001_ep_10_dropout_0.1_bs16\n",
            "Epoch: 1 \tTraining Loss: 1.201627 \tValidation Loss: 1.253540 \tTraining Accuracy: 0.618664 \tValidation Accuracy: 0.604154\n",
            "Epoch: 2 \tTraining Loss: 0.903923 \tValidation Loss: 1.238772 \tTraining Accuracy: 0.715586 \tValidation Accuracy: 0.658522\n",
            "Epoch: 3 \tTraining Loss: 0.858060 \tValidation Loss: 1.208083 \tTraining Accuracy: 0.725331 \tValidation Accuracy: 0.667074\n",
            "Epoch: 4 \tTraining Loss: 0.832422 \tValidation Loss: 1.202487 \tTraining Accuracy: 0.722774 \tValidation Accuracy: 0.649359\n",
            "Epoch: 5 \tTraining Loss: 0.834355 \tValidation Loss: 1.185279 \tTraining Accuracy: 0.728511 \tValidation Accuracy: 0.689676\n",
            "Epoch: 6 \tTraining Loss: 0.817950 \tValidation Loss: 1.213070 \tTraining Accuracy: 0.737501 \tValidation Accuracy: 0.657911\n",
            "Epoch: 7 \tTraining Loss: 0.816852 \tValidation Loss: 1.184437 \tTraining Accuracy: 0.737647 \tValidation Accuracy: 0.651802\n",
            "Epoch: 8 \tTraining Loss: 0.815896 \tValidation Loss: 1.191342 \tTraining Accuracy: 0.730189 \tValidation Accuracy: 0.663409\n"
          ]
        },
        {
          "output_type": "display_data",
          "data": {
            "text/plain": [
              "<IPython.core.display.HTML object>"
            ],
            "text/html": [
              "Waiting for W&B process to finish... <strong style=\"color:red\">(failed 1).</strong> Press Control-C to abort syncing."
            ]
          },
          "metadata": {}
        },
        {
          "output_type": "display_data",
          "data": {
            "text/plain": [
              "VBox(children=(Label(value='0.001 MB of 0.001 MB uploaded (0.000 MB deduped)\\r'), FloatProgress(value=1.0, max…"
            ],
            "application/vnd.jupyter.widget-view+json": {
              "version_major": 2,
              "version_minor": 0,
              "model_id": "f84485e488084bb99e35254da0f96a28"
            }
          },
          "metadata": {}
        },
        {
          "output_type": "display_data",
          "data": {
            "text/plain": [
              "<IPython.core.display.HTML object>"
            ],
            "text/html": [
              "<style>\n",
              "    table.wandb td:nth-child(1) { padding: 0 10px; text-align: left ; width: auto;} td:nth-child(2) {text-align: left ; width: 100%}\n",
              "    .wandb-row { display: flex; flex-direction: row; flex-wrap: wrap; justify-content: flex-start; width: 100% }\n",
              "    .wandb-col { display: flex; flex-direction: column; flex-basis: 100%; flex: 1; padding: 10px; }\n",
              "    </style>\n",
              "<div class=\"wandb-row\"><div class=\"wandb-col\"><h3>Run history:</h3><br/><table class=\"wandb\"><tr><td>Epoch</td><td>▁▂▃▄▅▆▇█</td></tr><tr><td>training_acc</td><td>▁▇▇▇▇███</td></tr><tr><td>training_loss</td><td>█▃▂▁▁▁▁▁</td></tr><tr><td>validation_accuracy</td><td>▁▅▆▅█▅▅▆</td></tr><tr><td>validation_loss</td><td>█▇▃▃▁▄▁▂</td></tr></table><br/></div><div class=\"wandb-col\"><h3>Run summary:</h3><br/><table class=\"wandb\"><tr><td>Epoch</td><td>8</td></tr><tr><td>training_acc</td><td>0.73019</td></tr><tr><td>training_loss</td><td>0.8159</td></tr><tr><td>validation_accuracy</td><td>0.66341</td></tr><tr><td>validation_loss</td><td>1.19134</td></tr></table><br/></div></div>"
            ]
          },
          "metadata": {}
        },
        {
          "output_type": "display_data",
          "data": {
            "text/plain": [
              "<IPython.core.display.HTML object>"
            ],
            "text/html": [
              " View run <strong style=\"color:#cdcd00\">revived-sweep-13</strong> at: <a href='https://wandb.ai/shashwat_mm19b053/Assignment-3/runs/z4jrleg6' target=\"_blank\">https://wandb.ai/shashwat_mm19b053/Assignment-3/runs/z4jrleg6</a><br/>Synced 5 W&B file(s), 0 media file(s), 0 artifact file(s) and 0 other file(s)"
            ]
          },
          "metadata": {}
        },
        {
          "output_type": "display_data",
          "data": {
            "text/plain": [
              "<IPython.core.display.HTML object>"
            ],
            "text/html": [
              "Find logs at: <code>./wandb/run-20230506_221919-z4jrleg6/logs</code>"
            ]
          },
          "metadata": {}
        },
        {
          "output_type": "stream",
          "name": "stderr",
          "text": [
            "\u001b[34m\u001b[1mwandb\u001b[0m: Agent Starting Run: k4j6vw0a with config:\n",
            "\u001b[34m\u001b[1mwandb\u001b[0m: \tbatch_size: 64\n",
            "\u001b[34m\u001b[1mwandb\u001b[0m: \tcell: RNN\n",
            "\u001b[34m\u001b[1mwandb\u001b[0m: \tdropout: 0\n",
            "\u001b[34m\u001b[1mwandb\u001b[0m: \tembed_dim: 64\n",
            "\u001b[34m\u001b[1mwandb\u001b[0m: \tepochs: 10\n",
            "\u001b[34m\u001b[1mwandb\u001b[0m: \thidden_units: 512\n",
            "\u001b[34m\u001b[1mwandb\u001b[0m: \tlr: 0.001\n"
          ]
        },
        {
          "output_type": "display_data",
          "data": {
            "text/plain": [
              "<IPython.core.display.HTML object>"
            ],
            "text/html": [
              "Tracking run with wandb version 0.15.2"
            ]
          },
          "metadata": {}
        },
        {
          "output_type": "display_data",
          "data": {
            "text/plain": [
              "<IPython.core.display.HTML object>"
            ],
            "text/html": [
              "Run data is saved locally in <code>/content/wandb/run-20230506_224018-k4j6vw0a</code>"
            ]
          },
          "metadata": {}
        },
        {
          "output_type": "display_data",
          "data": {
            "text/plain": [
              "<IPython.core.display.HTML object>"
            ],
            "text/html": [
              "Syncing run <strong><a href='https://wandb.ai/shashwat_mm19b053/Assignment-3/runs/k4j6vw0a' target=\"_blank\">quiet-sweep-14</a></strong> to <a href='https://wandb.ai/shashwat_mm19b053/Assignment-3' target=\"_blank\">Weights & Biases</a> (<a href='https://wandb.me/run' target=\"_blank\">docs</a>)<br/>Sweep page: <a href='https://wandb.ai/shashwat_mm19b053/Assignment-3/sweeps/nye2llmh' target=\"_blank\">https://wandb.ai/shashwat_mm19b053/Assignment-3/sweeps/nye2llmh</a>"
            ]
          },
          "metadata": {}
        },
        {
          "output_type": "display_data",
          "data": {
            "text/plain": [
              "<IPython.core.display.HTML object>"
            ],
            "text/html": [
              " View project at <a href='https://wandb.ai/shashwat_mm19b053/Assignment-3' target=\"_blank\">https://wandb.ai/shashwat_mm19b053/Assignment-3</a>"
            ]
          },
          "metadata": {}
        },
        {
          "output_type": "display_data",
          "data": {
            "text/plain": [
              "<IPython.core.display.HTML object>"
            ],
            "text/html": [
              " View sweep at <a href='https://wandb.ai/shashwat_mm19b053/Assignment-3/sweeps/nye2llmh' target=\"_blank\">https://wandb.ai/shashwat_mm19b053/Assignment-3/sweeps/nye2llmh</a>"
            ]
          },
          "metadata": {}
        },
        {
          "output_type": "display_data",
          "data": {
            "text/plain": [
              "<IPython.core.display.HTML object>"
            ],
            "text/html": [
              " View run at <a href='https://wandb.ai/shashwat_mm19b053/Assignment-3/runs/k4j6vw0a' target=\"_blank\">https://wandb.ai/shashwat_mm19b053/Assignment-3/runs/k4j6vw0a</a>"
            ]
          },
          "metadata": {}
        },
        {
          "output_type": "stream",
          "name": "stdout",
          "text": [
            "cell_RNN_hunit_512_embed_dim_64_lr_0.001_ep_10_dropout_0_bs64\n",
            "Epoch: 1 \tTraining Loss: 1.220765 \tValidation Loss: 1.136023 \tTraining Accuracy: 0.602679 \tValidation Accuracy: 0.658291\n",
            "Epoch: 2 \tTraining Loss: 0.768781 \tValidation Loss: 1.068848 \tTraining Accuracy: 0.751602 \tValidation Accuracy: 0.731156\n",
            "Epoch: 3 \tTraining Loss: 0.676342 \tValidation Loss: 1.077979 \tTraining Accuracy: 0.773467 \tValidation Accuracy: 0.728643\n",
            "Epoch: 4 \tTraining Loss: 0.664326 \tValidation Loss: 1.210407 \tTraining Accuracy: 0.786248 \tValidation Accuracy: 0.711055\n",
            "Epoch: 5 \tTraining Loss: 0.649038 \tValidation Loss: 1.035979 \tTraining Accuracy: 0.790268 \tValidation Accuracy: 0.791457\n",
            "Epoch: 6 \tTraining Loss: 0.590124 \tValidation Loss: 1.026062 \tTraining Accuracy: 0.793137 \tValidation Accuracy: 0.798995\n",
            "Epoch: 7 \tTraining Loss: 0.561013 \tValidation Loss: 1.046804 \tTraining Accuracy: 0.791874 \tValidation Accuracy: 0.736181\n",
            "Epoch: 8 \tTraining Loss: 0.570950 \tValidation Loss: 1.039801 \tTraining Accuracy: 0.811880 \tValidation Accuracy: 0.781407\n",
            "Epoch: 9 \tTraining Loss: 0.558597 \tValidation Loss: 1.028370 \tTraining Accuracy: 0.825443 \tValidation Accuracy: 0.761307\n",
            "Epoch: 10 \tTraining Loss: 0.538946 \tValidation Loss: 1.038140 \tTraining Accuracy: 0.830986 \tValidation Accuracy: 0.778894\n"
          ]
        },
        {
          "output_type": "display_data",
          "data": {
            "text/plain": [
              "<IPython.core.display.HTML object>"
            ],
            "text/html": [
              "Waiting for W&B process to finish... <strong style=\"color:green\">(success).</strong>"
            ]
          },
          "metadata": {}
        },
        {
          "output_type": "display_data",
          "data": {
            "text/plain": [
              "<IPython.core.display.HTML object>"
            ],
            "text/html": [
              "<style>\n",
              "    table.wandb td:nth-child(1) { padding: 0 10px; text-align: left ; width: auto;} td:nth-child(2) {text-align: left ; width: 100%}\n",
              "    .wandb-row { display: flex; flex-direction: row; flex-wrap: wrap; justify-content: flex-start; width: 100% }\n",
              "    .wandb-col { display: flex; flex-direction: column; flex-basis: 100%; flex: 1; padding: 10px; }\n",
              "    </style>\n",
              "<div class=\"wandb-row\"><div class=\"wandb-col\"><h3>Run history:</h3><br/><table class=\"wandb\"><tr><td>Epoch</td><td>▁▂▃▃▄▅▆▆▇█</td></tr><tr><td>training_acc</td><td>▁▆▆▇▇▇▇▇██</td></tr><tr><td>training_loss</td><td>█▃▂▂▂▂▁▁▁▁</td></tr><tr><td>validation_accuracy</td><td>▁▅▅▄██▅▇▆▇</td></tr><tr><td>validation_loss</td><td>▅▃▃█▁▁▂▂▁▁</td></tr></table><br/></div><div class=\"wandb-col\"><h3>Run summary:</h3><br/><table class=\"wandb\"><tr><td>Epoch</td><td>10</td></tr><tr><td>training_acc</td><td>0.83099</td></tr><tr><td>training_loss</td><td>0.53895</td></tr><tr><td>validation_accuracy</td><td>0.77889</td></tr><tr><td>validation_loss</td><td>1.03814</td></tr></table><br/></div></div>"
            ]
          },
          "metadata": {}
        },
        {
          "output_type": "display_data",
          "data": {
            "text/plain": [
              "<IPython.core.display.HTML object>"
            ],
            "text/html": [
              " View run <strong style=\"color:#cdcd00\">quiet-sweep-14</strong> at: <a href='https://wandb.ai/shashwat_mm19b053/Assignment-3/runs/k4j6vw0a' target=\"_blank\">https://wandb.ai/shashwat_mm19b053/Assignment-3/runs/k4j6vw0a</a><br/>Synced 5 W&B file(s), 0 media file(s), 0 artifact file(s) and 0 other file(s)"
            ]
          },
          "metadata": {}
        },
        {
          "output_type": "display_data",
          "data": {
            "text/plain": [
              "<IPython.core.display.HTML object>"
            ],
            "text/html": [
              "Find logs at: <code>./wandb/run-20230506_224018-k4j6vw0a/logs</code>"
            ]
          },
          "metadata": {}
        },
        {
          "output_type": "stream",
          "name": "stderr",
          "text": [
            "\u001b[34m\u001b[1mwandb\u001b[0m: Agent Starting Run: ctn3e9oy with config:\n",
            "\u001b[34m\u001b[1mwandb\u001b[0m: \tbatch_size: 64\n",
            "\u001b[34m\u001b[1mwandb\u001b[0m: \tcell: RNN\n",
            "\u001b[34m\u001b[1mwandb\u001b[0m: \tdropout: 0\n",
            "\u001b[34m\u001b[1mwandb\u001b[0m: \tembed_dim: 128\n",
            "\u001b[34m\u001b[1mwandb\u001b[0m: \tepochs: 10\n",
            "\u001b[34m\u001b[1mwandb\u001b[0m: \thidden_units: 512\n",
            "\u001b[34m\u001b[1mwandb\u001b[0m: \tlr: 0.001\n"
          ]
        },
        {
          "output_type": "display_data",
          "data": {
            "text/plain": [
              "<IPython.core.display.HTML object>"
            ],
            "text/html": [
              "Tracking run with wandb version 0.15.2"
            ]
          },
          "metadata": {}
        },
        {
          "output_type": "display_data",
          "data": {
            "text/plain": [
              "<IPython.core.display.HTML object>"
            ],
            "text/html": [
              "Run data is saved locally in <code>/content/wandb/run-20230506_225042-ctn3e9oy</code>"
            ]
          },
          "metadata": {}
        },
        {
          "output_type": "display_data",
          "data": {
            "text/plain": [
              "<IPython.core.display.HTML object>"
            ],
            "text/html": [
              "Syncing run <strong><a href='https://wandb.ai/shashwat_mm19b053/Assignment-3/runs/ctn3e9oy' target=\"_blank\">fine-sweep-15</a></strong> to <a href='https://wandb.ai/shashwat_mm19b053/Assignment-3' target=\"_blank\">Weights & Biases</a> (<a href='https://wandb.me/run' target=\"_blank\">docs</a>)<br/>Sweep page: <a href='https://wandb.ai/shashwat_mm19b053/Assignment-3/sweeps/nye2llmh' target=\"_blank\">https://wandb.ai/shashwat_mm19b053/Assignment-3/sweeps/nye2llmh</a>"
            ]
          },
          "metadata": {}
        },
        {
          "output_type": "display_data",
          "data": {
            "text/plain": [
              "<IPython.core.display.HTML object>"
            ],
            "text/html": [
              " View project at <a href='https://wandb.ai/shashwat_mm19b053/Assignment-3' target=\"_blank\">https://wandb.ai/shashwat_mm19b053/Assignment-3</a>"
            ]
          },
          "metadata": {}
        },
        {
          "output_type": "display_data",
          "data": {
            "text/plain": [
              "<IPython.core.display.HTML object>"
            ],
            "text/html": [
              " View sweep at <a href='https://wandb.ai/shashwat_mm19b053/Assignment-3/sweeps/nye2llmh' target=\"_blank\">https://wandb.ai/shashwat_mm19b053/Assignment-3/sweeps/nye2llmh</a>"
            ]
          },
          "metadata": {}
        },
        {
          "output_type": "display_data",
          "data": {
            "text/plain": [
              "<IPython.core.display.HTML object>"
            ],
            "text/html": [
              " View run at <a href='https://wandb.ai/shashwat_mm19b053/Assignment-3/runs/ctn3e9oy' target=\"_blank\">https://wandb.ai/shashwat_mm19b053/Assignment-3/runs/ctn3e9oy</a>"
            ]
          },
          "metadata": {}
        },
        {
          "output_type": "stream",
          "name": "stdout",
          "text": [
            "cell_RNN_hunit_512_embed_dim_128_lr_0.001_ep_10_dropout_0_bs64\n"
          ]
        }
      ]
    }
  ]
}